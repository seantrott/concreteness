{
 "cells": [
  {
   "cell_type": "markdown",
   "metadata": {},
   "source": [
    "## Does word onset impact concreteness judgments?"
   ]
  },
  {
   "cell_type": "markdown",
   "metadata": {},
   "source": [
    "The **concreteness** of a word is the \"degree to which a concept denoted by that word refers to a perceptible entity\" [Brysbaert et al, 2014](https://biblio.ugent.be/publication/5774089/file/5774125.pdf). Concreteness is known to correlate with word *imageability* and *age of acquisition* (the typical age at which children learn that word0.\n",
    "\n",
    "Concreteness judgments are usually obtained in psycholinguistics experiments using a (1-7) presented to participants. \n",
    "\n",
    "Semantic dimensions of words, such as *concreteness*, are generally assumed to be independent of word *forms*. But [Reilly et al (2007)](https://onlinelibrary.wiley.com/doi/pdf/10.1080/03640210709336988) showed that formal properties of words, such as length and number of morphemes, correlate with concreteness judgments. A later experiment  ([Reilly et al, 2012](https://journals.plos.org/plosone/article?id=10.1371/journal.pone.0042286)) showed that English speakers are sensitive to these properties; manipulating the length, number of morphemes, etc., of nonwords systematically affected concreteness judgments among participants.\n",
    "\n",
    "However, it is unknown whether **phonetic** or **orthographic** properties of words also correlate systematically with concreteness judgments. This exploratory analysis asks whether orthographic properties––specifically, the *onset character* of a word––are systematically predictive of concreteness.\n",
    "\n"
   ]
  },
  {
   "cell_type": "markdown",
   "metadata": {},
   "source": [
    "## Read in data"
   ]
  },
  {
   "cell_type": "code",
   "execution_count": 2,
   "metadata": {},
   "outputs": [],
   "source": [
    "import numpy as np\n",
    "import pandas as pd \n",
    "from nlp_utilities.compling import CorpusUtilities\n",
    "\n",
    "from src.utils import get_concreteness_for_word"
   ]
  },
  {
   "cell_type": "code",
   "execution_count": 3,
   "metadata": {},
   "outputs": [],
   "source": [
    "# Set global variables\n",
    "DATA_PATH = \"data/raw/mrc_concreteness.csv\"\n",
    "CHARACTER_INDEX\t= 0"
   ]
  },
  {
   "cell_type": "code",
   "execution_count": 4,
   "metadata": {},
   "outputs": [
    {
     "data": {
      "text/plain": [
       "4293"
      ]
     },
     "execution_count": 4,
     "metadata": {},
     "output_type": "execute_result"
    }
   ],
   "source": [
    "# Get data\n",
    "df = pd.read_csv(DATA_PATH, sep=\"\\t\")\n",
    "df['word'] = [w.lower() for w in df.Word]\n",
    "len(df['word'])"
   ]
  },
  {
   "cell_type": "code",
   "execution_count": 5,
   "metadata": {},
   "outputs": [
    {
     "data": {
      "text/plain": [
       "array([[<matplotlib.axes._subplots.AxesSubplot object at 0x1a1f0ae128>]],\n",
       "      dtype=object)"
      ]
     },
     "execution_count": 5,
     "metadata": {},
     "output_type": "execute_result"
    }
   ],
   "source": [
    "# Rescale concreteness\n",
    "df['Concreteness'] = df['Concreteness'] / 100\n",
    "df.hist(column='Concreteness')"
   ]
  },
  {
   "cell_type": "markdown",
   "metadata": {},
   "source": [
    "## Get minimal sets"
   ]
  },
  {
   "cell_type": "code",
   "execution_count": 6,
   "metadata": {},
   "outputs": [
    {
     "name": "stderr",
     "output_type": "stream",
     "text": [
      "100%|██████████| 4293/4293 [01:29<00:00, 47.71it/s] \n"
     ]
    }
   ],
   "source": [
    "# Get minimal sets\n",
    "minimal_sets = CorpusUtilities.get_minimal_orthographic_sets(df['word'], index=CHARACTER_INDEX)"
   ]
  },
  {
   "cell_type": "code",
   "execution_count": 82,
   "metadata": {},
   "outputs": [
    {
     "data": {
      "text/plain": [
       "413"
      ]
     },
     "execution_count": 82,
     "metadata": {},
     "output_type": "execute_result"
    }
   ],
   "source": [
    "len(minimal_sets)"
   ]
  },
  {
   "cell_type": "code",
   "execution_count": 83,
   "metadata": {},
   "outputs": [
    {
     "data": {
      "text/plain": [
       "3.0895883777239708"
      ]
     },
     "execution_count": 83,
     "metadata": {},
     "output_type": "execute_result"
    }
   ],
   "source": [
    "np.mean([len(ms) for ms in minimal_sets])"
   ]
  },
  {
   "cell_type": "markdown",
   "metadata": {},
   "source": [
    "## Calculate impact on concreteness for each letter"
   ]
  },
  {
   "cell_type": "code",
   "execution_count": 84,
   "metadata": {},
   "outputs": [],
   "source": [
    "letter_to_impact = []\n",
    "for set_index, ms in enumerate(minimal_sets):\n",
    "\tletters = [w[CHARACTER_INDEX] for w in ms]\n",
    "\tby_word_cnc = get_concreteness_for_word(ms, df)\n",
    "\tmean_cnc = np.mean(by_word_cnc)\n",
    "\tfor index, letter in enumerate(letters):\n",
    "\t\tto_add = [letter, by_word_cnc[index] - mean_cnc, mean_cnc, ms[index], set_index]\n",
    "\t\tletter_to_impact.append(to_add)\n"
   ]
  },
  {
   "cell_type": "markdown",
   "metadata": {},
   "source": [
    "### Make dataframe"
   ]
  },
  {
   "cell_type": "code",
   "execution_count": 85,
   "metadata": {},
   "outputs": [],
   "source": [
    "COLUMNS = ['letter', 'concreteness_impact', 'set_mean', 'original_word', 'set_index']\n",
    "final_df = pd.DataFrame(letter_to_impact, columns=COLUMNS)"
   ]
  },
  {
   "cell_type": "markdown",
   "metadata": {},
   "source": [
    "## Visualization and Analysis"
   ]
  },
  {
   "cell_type": "code",
   "execution_count": 86,
   "metadata": {},
   "outputs": [
    {
     "data": {
      "text/plain": [
       "Text(0,0.5,'Count')"
      ]
     },
     "execution_count": 86,
     "metadata": {},
     "output_type": "execute_result"
    },
    {
     "data": {
      "image/png": "[encoded data removed]",
      "text/plain": [
       "<Figure size 432x288 with 1 Axes>"
      ]
     },
     "metadata": {},
     "output_type": "display_data"
    }
   ],
   "source": [
    "import matplotlib.pyplot as plt\n",
    "final_df.hist(column=\"concreteness_impact\")\n",
    "plt.xlabel(\"Concreteness impact\")\n",
    "plt.title(\"Distribution of concreteness impacts\")\n",
    "plt.ylabel(\"Count\")"
   ]
  },
  {
   "cell_type": "code",
   "execution_count": 87,
   "metadata": {},
   "outputs": [],
   "source": [
    "import statsmodels.formula.api as sm"
   ]
  },
  {
   "cell_type": "code",
   "execution_count": 88,
   "metadata": {},
   "outputs": [],
   "source": [
    "result = sm.ols(formula=\"concreteness_impact ~ letter\", data=final_df).fit()"
   ]
  },
  {
   "cell_type": "code",
   "execution_count": 89,
   "metadata": {},
   "outputs": [
    {
     "data": {
      "text/html": [
       "<table class=\"simpletable\">\n",
       "<caption>OLS Regression Results</caption>\n",
       "<tr>\n",
       "  <th>Dep. Variable:</th>    <td>concreteness_impact</td> <th>  R-squared:         </th> <td>   0.032</td>\n",
       "</tr>\n",
       "<tr>\n",
       "  <th>Model:</th>                    <td>OLS</td>         <th>  Adj. R-squared:    </th> <td>   0.014</td>\n",
       "</tr>\n",
       "<tr>\n",
       "  <th>Method:</th>              <td>Least Squares</td>    <th>  F-statistic:       </th> <td>   1.751</td>\n",
       "</tr>\n",
       "<tr>\n",
       "  <th>Date:</th>              <td>Sun, 09 Sep 2018</td>   <th>  Prob (F-statistic):</th>  <td>0.0140</td> \n",
       "</tr>\n",
       "<tr>\n",
       "  <th>Time:</th>                  <td>21:46:38</td>       <th>  Log-Likelihood:    </th> <td> -1706.8</td>\n",
       "</tr>\n",
       "<tr>\n",
       "  <th>No. Observations:</th>       <td>  1276</td>        <th>  AIC:               </th> <td>   3464.</td>\n",
       "</tr>\n",
       "<tr>\n",
       "  <th>Df Residuals:</th>           <td>  1251</td>        <th>  BIC:               </th> <td>   3592.</td>\n",
       "</tr>\n",
       "<tr>\n",
       "  <th>Df Model:</th>               <td>    24</td>        <th>                     </th>     <td> </td>   \n",
       "</tr>\n",
       "<tr>\n",
       "  <th>Covariance Type:</th>       <td>nonrobust</td>      <th>                     </th>     <td> </td>   \n",
       "</tr>\n",
       "</table>\n",
       "<table class=\"simpletable\">\n",
       "<tr>\n",
       "       <td></td>          <th>coef</th>     <th>std err</th>      <th>t</th>      <th>P>|t|</th>  <th>[0.025</th>    <th>0.975]</th>  \n",
       "</tr>\n",
       "<tr>\n",
       "  <th>Intercept</th>   <td>   -0.4700</td> <td>    0.240</td> <td>   -1.955</td> <td> 0.051</td> <td>   -0.942</td> <td>    0.002</td>\n",
       "</tr>\n",
       "<tr>\n",
       "  <th>letter[T.b]</th> <td>    0.6738</td> <td>    0.257</td> <td>    2.626</td> <td> 0.009</td> <td>    0.170</td> <td>    1.177</td>\n",
       "</tr>\n",
       "<tr>\n",
       "  <th>letter[T.c]</th> <td>    0.7614</td> <td>    0.258</td> <td>    2.946</td> <td> 0.003</td> <td>    0.254</td> <td>    1.269</td>\n",
       "</tr>\n",
       "<tr>\n",
       "  <th>letter[T.d]</th> <td>    0.5310</td> <td>    0.267</td> <td>    1.991</td> <td> 0.047</td> <td>    0.008</td> <td>    1.054</td>\n",
       "</tr>\n",
       "<tr>\n",
       "  <th>letter[T.e]</th> <td>    0.4763</td> <td>    0.346</td> <td>    1.377</td> <td> 0.169</td> <td>   -0.202</td> <td>    1.155</td>\n",
       "</tr>\n",
       "<tr>\n",
       "  <th>letter[T.f]</th> <td>    0.3549</td> <td>    0.260</td> <td>    1.365</td> <td> 0.173</td> <td>   -0.155</td> <td>    0.865</td>\n",
       "</tr>\n",
       "<tr>\n",
       "  <th>letter[T.g]</th> <td>    0.4002</td> <td>    0.271</td> <td>    1.479</td> <td> 0.140</td> <td>   -0.131</td> <td>    0.931</td>\n",
       "</tr>\n",
       "<tr>\n",
       "  <th>letter[T.h]</th> <td>    0.5266</td> <td>    0.263</td> <td>    2.004</td> <td> 0.045</td> <td>    0.011</td> <td>    1.042</td>\n",
       "</tr>\n",
       "<tr>\n",
       "  <th>letter[T.i]</th> <td>    0.7200</td> <td>    0.450</td> <td>    1.601</td> <td> 0.110</td> <td>   -0.162</td> <td>    1.602</td>\n",
       "</tr>\n",
       "<tr>\n",
       "  <th>letter[T.j]</th> <td>    0.3586</td> <td>    0.304</td> <td>    1.179</td> <td> 0.239</td> <td>   -0.238</td> <td>    0.955</td>\n",
       "</tr>\n",
       "<tr>\n",
       "  <th>letter[T.k]</th> <td>    0.6122</td> <td>    0.325</td> <td>    1.881</td> <td> 0.060</td> <td>   -0.026</td> <td>    1.251</td>\n",
       "</tr>\n",
       "<tr>\n",
       "  <th>letter[T.l]</th> <td>    0.4371</td> <td>    0.262</td> <td>    1.667</td> <td> 0.096</td> <td>   -0.077</td> <td>    0.952</td>\n",
       "</tr>\n",
       "<tr>\n",
       "  <th>letter[T.m]</th> <td>    0.4017</td> <td>    0.260</td> <td>    1.546</td> <td> 0.122</td> <td>   -0.108</td> <td>    0.911</td>\n",
       "</tr>\n",
       "<tr>\n",
       "  <th>letter[T.n]</th> <td>    0.2043</td> <td>    0.285</td> <td>    0.717</td> <td> 0.474</td> <td>   -0.355</td> <td>    0.763</td>\n",
       "</tr>\n",
       "<tr>\n",
       "  <th>letter[T.o]</th> <td>    0.4681</td> <td>    0.340</td> <td>    1.377</td> <td> 0.169</td> <td>   -0.199</td> <td>    1.135</td>\n",
       "</tr>\n",
       "<tr>\n",
       "  <th>letter[T.p]</th> <td>    0.6555</td> <td>    0.258</td> <td>    2.539</td> <td> 0.011</td> <td>    0.149</td> <td>    1.162</td>\n",
       "</tr>\n",
       "<tr>\n",
       "  <th>letter[T.q]</th> <td>    0.9700</td> <td>    0.701</td> <td>    1.384</td> <td> 0.167</td> <td>   -0.405</td> <td>    2.345</td>\n",
       "</tr>\n",
       "<tr>\n",
       "  <th>letter[T.r]</th> <td>    0.4543</td> <td>    0.262</td> <td>    1.736</td> <td> 0.083</td> <td>   -0.059</td> <td>    0.968</td>\n",
       "</tr>\n",
       "<tr>\n",
       "  <th>letter[T.s]</th> <td>    0.2369</td> <td>    0.259</td> <td>    0.916</td> <td> 0.360</td> <td>   -0.271</td> <td>    0.744</td>\n",
       "</tr>\n",
       "<tr>\n",
       "  <th>letter[T.t]</th> <td>    0.4791</td> <td>    0.259</td> <td>    1.849</td> <td> 0.065</td> <td>   -0.029</td> <td>    0.987</td>\n",
       "</tr>\n",
       "<tr>\n",
       "  <th>letter[T.u]</th> <td>    0.2200</td> <td>    0.524</td> <td>    0.420</td> <td> 0.675</td> <td>   -0.808</td> <td>    1.248</td>\n",
       "</tr>\n",
       "<tr>\n",
       "  <th>letter[T.v]</th> <td>    0.6514</td> <td>    0.312</td> <td>    2.089</td> <td> 0.037</td> <td>    0.040</td> <td>    1.263</td>\n",
       "</tr>\n",
       "<tr>\n",
       "  <th>letter[T.w]</th> <td>    0.2417</td> <td>    0.263</td> <td>    0.919</td> <td> 0.358</td> <td>   -0.274</td> <td>    0.758</td>\n",
       "</tr>\n",
       "<tr>\n",
       "  <th>letter[T.y]</th> <td>    0.2984</td> <td>    0.353</td> <td>    0.846</td> <td> 0.398</td> <td>   -0.394</td> <td>    0.991</td>\n",
       "</tr>\n",
       "<tr>\n",
       "  <th>letter[T.z]</th> <td>    0.4541</td> <td>    0.524</td> <td>    0.867</td> <td> 0.386</td> <td>   -0.574</td> <td>    1.482</td>\n",
       "</tr>\n",
       "</table>\n",
       "<table class=\"simpletable\">\n",
       "<tr>\n",
       "  <th>Omnibus:</th>       <td> 7.132</td> <th>  Durbin-Watson:     </th> <td>   2.489</td>\n",
       "</tr>\n",
       "<tr>\n",
       "  <th>Prob(Omnibus):</th> <td> 0.028</td> <th>  Jarque-Bera (JB):  </th> <td>   5.346</td>\n",
       "</tr>\n",
       "<tr>\n",
       "  <th>Skew:</th>          <td>-0.011</td> <th>  Prob(JB):          </th> <td>  0.0690</td>\n",
       "</tr>\n",
       "<tr>\n",
       "  <th>Kurtosis:</th>      <td> 2.684</td> <th>  Cond. No.          </th> <td>    48.6</td>\n",
       "</tr>\n",
       "</table><br/><br/>Warnings:<br/>[1] Standard Errors assume that the covariance matrix of the errors is correctly specified."
      ],
      "text/plain": [
       "<class 'statsmodels.iolib.summary.Summary'>\n",
       "\"\"\"\n",
       "                             OLS Regression Results                            \n",
       "===============================================================================\n",
       "Dep. Variable:     concreteness_impact   R-squared:                       0.032\n",
       "Model:                             OLS   Adj. R-squared:                  0.014\n",
       "Method:                  Least Squares   F-statistic:                     1.751\n",
       "Date:                 Sun, 09 Sep 2018   Prob (F-statistic):             0.0140\n",
       "Time:                         21:46:38   Log-Likelihood:                -1706.8\n",
       "No. Observations:                 1276   AIC:                             3464.\n",
       "Df Residuals:                     1251   BIC:                             3592.\n",
       "Df Model:                           24                                         \n",
       "Covariance Type:             nonrobust                                         \n",
       "===============================================================================\n",
       "                  coef    std err          t      P>|t|      [0.025      0.975]\n",
       "-------------------------------------------------------------------------------\n",
       "Intercept      -0.4700      0.240     -1.955      0.051      -0.942       0.002\n",
       "letter[T.b]     0.6738      0.257      2.626      0.009       0.170       1.177\n",
       "letter[T.c]     0.7614      0.258      2.946      0.003       0.254       1.269\n",
       "letter[T.d]     0.5310      0.267      1.991      0.047       0.008       1.054\n",
       "letter[T.e]     0.4763      0.346      1.377      0.169      -0.202       1.155\n",
       "letter[T.f]     0.3549      0.260      1.365      0.173      -0.155       0.865\n",
       "letter[T.g]     0.4002      0.271      1.479      0.140      -0.131       0.931\n",
       "letter[T.h]     0.5266      0.263      2.004      0.045       0.011       1.042\n",
       "letter[T.i]     0.7200      0.450      1.601      0.110      -0.162       1.602\n",
       "letter[T.j]     0.3586      0.304      1.179      0.239      -0.238       0.955\n",
       "letter[T.k]     0.6122      0.325      1.881      0.060      -0.026       1.251\n",
       "letter[T.l]     0.4371      0.262      1.667      0.096      -0.077       0.952\n",
       "letter[T.m]     0.4017      0.260      1.546      0.122      -0.108       0.911\n",
       "letter[T.n]     0.2043      0.285      0.717      0.474      -0.355       0.763\n",
       "letter[T.o]     0.4681      0.340      1.377      0.169      -0.199       1.135\n",
       "letter[T.p]     0.6555      0.258      2.539      0.011       0.149       1.162\n",
       "letter[T.q]     0.9700      0.701      1.384      0.167      -0.405       2.345\n",
       "letter[T.r]     0.4543      0.262      1.736      0.083      -0.059       0.968\n",
       "letter[T.s]     0.2369      0.259      0.916      0.360      -0.271       0.744\n",
       "letter[T.t]     0.4791      0.259      1.849      0.065      -0.029       0.987\n",
       "letter[T.u]     0.2200      0.524      0.420      0.675      -0.808       1.248\n",
       "letter[T.v]     0.6514      0.312      2.089      0.037       0.040       1.263\n",
       "letter[T.w]     0.2417      0.263      0.919      0.358      -0.274       0.758\n",
       "letter[T.y]     0.2984      0.353      0.846      0.398      -0.394       0.991\n",
       "letter[T.z]     0.4541      0.524      0.867      0.386      -0.574       1.482\n",
       "==============================================================================\n",
       "Omnibus:                        7.132   Durbin-Watson:                   2.489\n",
       "Prob(Omnibus):                  0.028   Jarque-Bera (JB):                5.346\n",
       "Skew:                          -0.011   Prob(JB):                       0.0690\n",
       "Kurtosis:                       2.684   Cond. No.                         48.6\n",
       "==============================================================================\n",
       "\n",
       "Warnings:\n",
       "[1] Standard Errors assume that the covariance matrix of the errors is correctly specified.\n",
       "\"\"\""
      ]
     },
     "execution_count": 89,
     "metadata": {},
     "output_type": "execute_result"
    }
   ],
   "source": [
    "result.summary()"
   ]
  },
  {
   "cell_type": "code",
   "execution_count": 90,
   "metadata": {},
   "outputs": [
    {
     "name": "stdout",
     "output_type": "stream",
     "text": [
      "The true R^2 value is 0.032494240626368964\n"
     ]
    }
   ],
   "source": [
    "true_rsquare = result.rsquared\n",
    "print(\"The true R^2 value is {r2}\".format(r2=true_rsquare))"
   ]
  },
  {
   "cell_type": "markdown",
   "metadata": {},
   "source": [
    "### Permutation test"
   ]
  },
  {
   "cell_type": "markdown",
   "metadata": {},
   "source": [
    "How unlikely is the R^2 value we observe?"
   ]
  },
  {
   "cell_type": "code",
   "execution_count": 95,
   "metadata": {},
   "outputs": [],
   "source": [
    "NUM_SHUFFLES = 1000"
   ]
  },
  {
   "cell_type": "code",
   "execution_count": 96,
   "metadata": {},
   "outputs": [],
   "source": [
    "shuffled_rsquares = []\n",
    "for shuffle in range(NUM_SHUFFLES):\n",
    "    new_df = final_df.copy()\n",
    "    new_df['shuffled_letter'] = np.random.permutation(new_df['letter'])\n",
    "    new_result = sm.ols(formula=\"concreteness_impact ~ shuffled_letter\", data=new_df).fit()\n",
    "    shuffled_rsquares.append(new_result.rsquared)"
   ]
  },
  {
   "cell_type": "code",
   "execution_count": 97,
   "metadata": {},
   "outputs": [
    {
     "data": {
      "text/plain": [
       "<matplotlib.lines.Line2D at 0x1a21aa7c88>"
      ]
     },
     "execution_count": 97,
     "metadata": {},
     "output_type": "execute_result"
    },
    {
     "data": {
      "image/png": "[encoded data removed]",
      "text/plain": [
       "<Figure size 432x288 with 1 Axes>"
      ]
     },
     "metadata": {},
     "output_type": "display_data"
    }
   ],
   "source": [
    "plt.hist(shuffled_rsquares)\n",
    "plt.axvline(x=true_rsquare, linestyle=\"dotted\")"
   ]
  },
  {
   "cell_type": "code",
   "execution_count": 98,
   "metadata": {},
   "outputs": [
    {
     "name": "stdout",
     "output_type": "stream",
     "text": [
      "p=0.017\n"
     ]
    }
   ],
   "source": [
    "p_real = len([r for r in shuffled_rsquares if r >= true_rsquare]) / len(shuffled_rsquares)\n",
    "print(\"p={p}\".format(p=p_real))"
   ]
  },
  {
   "cell_type": "markdown",
   "metadata": {},
   "source": [
    "## Visualization"
   ]
  },
  {
   "cell_type": "code",
   "execution_count": 99,
   "metadata": {},
   "outputs": [],
   "source": [
    "import seaborn as sn"
   ]
  },
  {
   "cell_type": "code",
   "execution_count": 100,
   "metadata": {},
   "outputs": [
    {
     "data": {
      "text/plain": [
       "<matplotlib.lines.Line2D at 0x1a21e64e80>"
      ]
     },
     "execution_count": 100,
     "metadata": {},
     "output_type": "execute_result"
    },
    {
     "data": {
      "image/png": "[encoded data removed]",
      "text/plain": [
       "<Figure size 432x288 with 1 Axes>"
      ]
     },
     "metadata": {},
     "output_type": "display_data"
    }
   ],
   "source": [
    "ax = sn.boxplot(data=final_df, x=\"letter\", y=\"concreteness_impact\")\n",
    "ax.set(xlabel=\"Letter\", ylabel=\"Concreteness impact\")\n",
    "ax.axhline(y=0, linestyle=\"dotted\")"
   ]
  },
  {
   "cell_type": "code",
   "execution_count": 101,
   "metadata": {},
   "outputs": [
    {
     "data": {
      "image/png": "[encoded data removed]",
      "text/plain": [
       "<Figure size 432x288 with 1 Axes>"
      ]
     },
     "metadata": {},
     "output_type": "display_data"
    }
   ],
   "source": [
    "ax = sn.barplot(data=final_df, x=\"letter\", y=\"concreteness_impact\")"
   ]
  },
  {
   "cell_type": "code",
   "execution_count": 102,
   "metadata": {},
   "outputs": [],
   "source": [
    "final_df['is_vowel'] = final_df['letter'].apply(lambda x: x in [\"a\", \"e\", \"i\", \"o\", \"u\", \"y\"])"
   ]
  },
  {
   "cell_type": "code",
   "execution_count": 103,
   "metadata": {},
   "outputs": [
    {
     "data": {
      "text/plain": [
       "<matplotlib.axes._subplots.AxesSubplot at 0x1a21e8e400>"
      ]
     },
     "execution_count": 103,
     "metadata": {},
     "output_type": "execute_result"
    },
    {
     "data": {
      "image/png": "[encoded data removed]",
      "text/plain": [
       "<Figure size 432x288 with 1 Axes>"
      ]
     },
     "metadata": {},
     "output_type": "display_data"
    }
   ],
   "source": [
    "sn.boxplot(data=final_df, x=\"is_vowel\", y=\"concreteness_impact\")"
   ]
  },
  {
   "cell_type": "markdown",
   "metadata": {},
   "source": [
    "## Saving processed data"
   ]
  },
  {
   "cell_type": "code",
   "execution_count": 104,
   "metadata": {},
   "outputs": [],
   "source": [
    "final_df.to_csv(\"data/processed/concreteness_impacts.csv\")"
   ]
  },
  {
   "cell_type": "code",
   "execution_count": null,
   "metadata": {},
   "outputs": [],
   "source": []
  }
 ],
 "metadata": {
  "kernelspec": {
   "display_name": "Python 3",
   "language": "python",
   "name": "python3"
  },
  "language_info": {
   "codemirror_mode": {
    "name": "ipython",
    "version": 3
   },
   "file_extension": ".py",
   "mimetype": "text/x-python",
   "name": "python",
   "nbconvert_exporter": "python",
   "pygments_lexer": "ipython3",
   "version": "3.6.5"
  }
 },
 "nbformat": 4,
 "nbformat_minor": 2
}
