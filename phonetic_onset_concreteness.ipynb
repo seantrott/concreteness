{
 "cells": [
  {
   "cell_type": "markdown",
   "metadata": {},
   "source": [
    "# Systematic impacts of word onsets on word concreteness\n",
    "\n",
    "Do the sounds in a word impact its meaning? \n",
    "\n",
    "In [another notebook](http://localhost:8888/notebooks/concreteness_impacts.ipynb), I showed that the first character of a word *can* have predictable effects on its concreteness. Here, I repeat this analysis, but with phonetic representations of words (using [PhonDISC](http://groups.linguistics.northwestern.edu/speech_comm_group/documents/CELEX/Phonetic%20codes%20for%20CELEX.pdf)). "
   ]
  },
  {
   "cell_type": "code",
   "execution_count": 1,
   "metadata": {},
   "outputs": [],
   "source": [
    "# Plotting\n",
    "import matplotlib.pyplot as plt\n",
    "import seaborn as sn\n",
    "\n",
    "# Operations\n",
    "import numpy as np\n",
    "import pandas as pd \n",
    "import statsmodels.formula.api as sm\n",
    "from tqdm import tqdm\n",
    "import scipy.stats as ss\n",
    "\n",
    "# Custom imports\n",
    "from nlp_utilities.compling import CorpusUtilities\n",
    "from src.utils import get_concreteness_for_word\n",
    "\n",
    "\n"
   ]
  },
  {
   "cell_type": "markdown",
   "metadata": {},
   "source": [
    "## With MRC "
   ]
  },
  {
   "cell_type": "code",
   "execution_count": 2,
   "metadata": {},
   "outputs": [
    {
     "name": "stdout",
     "output_type": "stream",
     "text": [
      "Number of words left in MRC: 4293\n",
      "Number of words in CELEX: 46133\n",
      "Number of words in both MRC and CELEX: 4136\n",
      "Number of words left: 3947\n"
     ]
    }
   ],
   "source": [
    "# Set global variables\n",
    "DATA_PATH = \"data/raw/mrc_concreteness.csv\"\n",
    "CHARACTER_INDEX\t= 0\n",
    "\n",
    "# Get data\n",
    "df = pd.read_csv(DATA_PATH, sep=\"\\t\")\n",
    "df['Word'] = df['Word'].str.lower()\n",
    "\n",
    "# Rescale concreteness\n",
    "df['Concreteness'] = df['Concreteness'] / 100\n",
    "\n",
    "# Drop duplicates\n",
    "df = df.drop_duplicates(subset=\"Word\")\n",
    "print(\"Number of words left in MRC: {num}\".format(num=len(df)))\n",
    "\n",
    "# Merge with celex\n",
    "df_celex = pd.read_csv(\"data/raw/celex_all.csv\", sep = \"\\\\\")\n",
    "df_celex = df_celex.drop_duplicates(subset='Word')\n",
    "print(\"Number of words in CELEX: {num}\".format(num=len(df_celex)))\n",
    "\n",
    "# Merge together to get phonetic representations\n",
    "df_merged = df_celex.merge(df, on=\"Word\")\n",
    "print(\"Number of words in both MRC and CELEX: {num}\".format(num=len(df_merged)))\n",
    "\n",
    "# Drop duplicate phonetic representations (homophones)\n",
    "df_merged = df_merged.drop_duplicates(subset = 'PhonDISC')\n",
    "print(\"Number of words left: {num}\".format(num=len(df_merged)))\n",
    "\n"
   ]
  },
  {
   "cell_type": "code",
   "execution_count": 3,
   "metadata": {},
   "outputs": [
    {
     "name": "stdout",
     "output_type": "stream",
     "text": [
      "Number of words left: 2984\n"
     ]
    },
    {
     "data": {
      "text/html": [
       "<div>\n",
       "<style scoped>\n",
       "    .dataframe tbody tr th:only-of-type {\n",
       "        vertical-align: middle;\n",
       "    }\n",
       "\n",
       "    .dataframe tbody tr th {\n",
       "        vertical-align: top;\n",
       "    }\n",
       "\n",
       "    .dataframe thead th {\n",
       "        text-align: right;\n",
       "    }\n",
       "</style>\n",
       "<table border=\"1\" class=\"dataframe\">\n",
       "  <thead>\n",
       "    <tr style=\"text-align: right;\">\n",
       "      <th></th>\n",
       "      <th>Word</th>\n",
       "      <th>CobLog</th>\n",
       "      <th>CompCnt</th>\n",
       "      <th>PhonDISC</th>\n",
       "      <th>Class</th>\n",
       "      <th>SylCnt</th>\n",
       "      <th>Concreteness</th>\n",
       "    </tr>\n",
       "  </thead>\n",
       "  <tbody>\n",
       "    <tr>\n",
       "      <th>0</th>\n",
       "      <td>a</td>\n",
       "      <td>4.36</td>\n",
       "      <td>1</td>\n",
       "      <td>1</td>\n",
       "      <td>ART</td>\n",
       "      <td>1</td>\n",
       "      <td>2.01</td>\n",
       "    </tr>\n",
       "    <tr>\n",
       "      <th>4</th>\n",
       "      <td>abbess</td>\n",
       "      <td>0.48</td>\n",
       "      <td>0</td>\n",
       "      <td>{bEs</td>\n",
       "      <td>N</td>\n",
       "      <td>2</td>\n",
       "      <td>4.01</td>\n",
       "    </tr>\n",
       "    <tr>\n",
       "      <th>6</th>\n",
       "      <td>abdomen</td>\n",
       "      <td>0.78</td>\n",
       "      <td>0</td>\n",
       "      <td>{bd@mEn</td>\n",
       "      <td>N</td>\n",
       "      <td>3</td>\n",
       "      <td>5.86</td>\n",
       "    </tr>\n",
       "    <tr>\n",
       "      <th>8</th>\n",
       "      <td>aberration</td>\n",
       "      <td>0.48</td>\n",
       "      <td>0</td>\n",
       "      <td>{b@r1SH</td>\n",
       "      <td>N</td>\n",
       "      <td>4</td>\n",
       "      <td>3.30</td>\n",
       "    </tr>\n",
       "    <tr>\n",
       "      <th>9</th>\n",
       "      <td>abhor</td>\n",
       "      <td>0.30</td>\n",
       "      <td>0</td>\n",
       "      <td>@bh$R</td>\n",
       "      <td>V</td>\n",
       "      <td>2</td>\n",
       "      <td>3.20</td>\n",
       "    </tr>\n",
       "  </tbody>\n",
       "</table>\n",
       "</div>"
      ],
      "text/plain": [
       "         Word  CobLog  CompCnt PhonDISC Class  SylCnt  Concreteness\n",
       "0           a    4.36        1        1   ART       1          2.01\n",
       "4      abbess    0.48        0     {bEs     N       2          4.01\n",
       "6     abdomen    0.78        0  {bd@mEn     N       3          5.86\n",
       "8  aberration    0.48        0  {b@r1SH     N       4          3.30\n",
       "9       abhor    0.30        0    @bh$R     V       2          3.20"
      ]
     },
     "execution_count": 3,
     "metadata": {},
     "output_type": "execute_result"
    }
   ],
   "source": [
    "# Take out multimorphemic words\n",
    "df_merged = df_merged[df_merged['CompCnt'] <= 1]\n",
    "print(\"Number of words left: {num}\".format(num=len(df_merged)))\n",
    "\n",
    "df_merged.head(5)"
   ]
  },
  {
   "cell_type": "code",
   "execution_count": 4,
   "metadata": {},
   "outputs": [
    {
     "name": "stderr",
     "output_type": "stream",
     "text": [
      "  0%|          | 12/2984 [00:00<00:26, 113.90it/s]"
     ]
    },
    {
     "name": "stdout",
     "output_type": "stream",
     "text": [
      "Getting minimal sets...\n"
     ]
    },
    {
     "name": "stderr",
     "output_type": "stream",
     "text": [
      "100%|██████████| 2984/2984 [00:54<00:00, 54.33it/s] "
     ]
    },
    {
     "name": "stdout",
     "output_type": "stream",
     "text": [
      "Number of minimal sets: 380\n"
     ]
    },
    {
     "name": "stderr",
     "output_type": "stream",
     "text": [
      "\n"
     ]
    }
   ],
   "source": [
    "# Get minimal sets\n",
    "print(\"Getting minimal sets...\")\n",
    "minimal_sets = CorpusUtilities.get_minimal_orthographic_sets(df_merged['PhonDISC'], index=CHARACTER_INDEX)\n",
    "print(\"Number of minimal sets: {num}\".format(num=len(minimal_sets)))\n"
   ]
  },
  {
   "cell_type": "code",
   "execution_count": 29,
   "metadata": {},
   "outputs": [
    {
     "name": "stdout",
     "output_type": "stream",
     "text": [
      "Mean set length: 3.4657894736842105\n",
      "SD set length: 2.2410965732015016\n",
      "Min set length: 2\n",
      "Max set length: 14\n",
      "Total words: 1317\n"
     ]
    }
   ],
   "source": [
    "lengths = np.array([len(s) for s in minimal_sets])\n",
    "mean_length = np.mean(lengths)\n",
    "print(\"Mean set length: {m}\".format(m=mean_length))\n",
    "print(\"SD set length: {m}\".format(m=np.std(lengths)))\n",
    "print(\"Min set length: {m}\".format(m=min(lengths)))\n",
    "print(\"Max set length: {m}\".format(m=max(lengths)))\n",
    "print(\"Total words: {m}\".format(m=sum(lengths)))"
   ]
  },
  {
   "cell_type": "code",
   "execution_count": 10,
   "metadata": {},
   "outputs": [
    {
     "name": "stdout",
     "output_type": "stream",
     "text": [
      "2.0951848268995863\n"
     ]
    },
    {
     "data": {
      "text/plain": [
       "(array([260.,  40.,  25.,  18.,  13.,  13.,   1.,   3.,   5.,   2.]),\n",
       " array([ 2. ,  3.2,  4.4,  5.6,  6.8,  8. ,  9.2, 10.4, 11.6, 12.8, 14. ]),\n",
       " <a list of 10 Patch objects>)"
      ]
     },
     "execution_count": 10,
     "metadata": {},
     "output_type": "execute_result"
    },
    {
     "data": {
      "image/png": "[encoded data removed]",
      "text/plain": [
       "<Figure size 432x288 with 1 Axes>"
      ]
     },
     "metadata": {},
     "output_type": "display_data"
    }
   ],
   "source": [
    "print(ss.skew(lengths))\n",
    "plt.hist(lengths)"
   ]
  },
  {
   "cell_type": "code",
   "execution_count": 11,
   "metadata": {},
   "outputs": [
    {
     "name": "stderr",
     "output_type": "stream",
     "text": [
      "100%|██████████| 380/380 [00:01<00:00, 219.79it/s]\n"
     ]
    }
   ],
   "source": [
    "# Calculate onset impact\n",
    "onset_to_impact = []\n",
    "for set_index, ms in tqdm(list(enumerate(minimal_sets))):\n",
    "    letters = [w[CHARACTER_INDEX] for w in ms]\n",
    "    by_word_cnc = get_concreteness_for_word(ms, df_merged, column='PhonDISC')\n",
    "    mean_cnc = np.mean(by_word_cnc)\n",
    "    set_size = len(ms)\n",
    "    for index, onset in enumerate(letters):\n",
    "        to_add = [onset, by_word_cnc[index] - mean_cnc, mean_cnc, ms[index], set_index, set_size, len(ms[index])]\n",
    "        onset_to_impact.append(to_add)\n",
    "\n",
    "COLUMNS = ['onset', 'concreteness_impact', 'set_mean', 'original_word', 'set_index', 'set_size', 'word_length']\n",
    "final_df = pd.DataFrame(onset_to_impact, columns=COLUMNS)\n",
    "\n"
   ]
  },
  {
   "cell_type": "markdown",
   "metadata": {},
   "source": [
    "## Characterizing concreteness impact distribution"
   ]
  },
  {
   "cell_type": "code",
   "execution_count": 21,
   "metadata": {},
   "outputs": [
    {
     "data": {
      "text/plain": [
       "Text(0,0.5,'Count')"
      ]
     },
     "execution_count": 21,
     "metadata": {},
     "output_type": "execute_result"
    },
    {
     "data": {
      "image/png": "[encoded data removed]",
      "text/plain": [
       "<Figure size 432x288 with 1 Axes>"
      ]
     },
     "metadata": {},
     "output_type": "display_data"
    }
   ],
   "source": [
    "final_df.hist(column='concreteness_impact')\n",
    "plt.title(\"Distribution of concreteness impacts\")\n",
    "plt.xlabel(\"Concreteness impact score\")\n",
    "plt.ylabel(\"Count\")"
   ]
  },
  {
   "cell_type": "code",
   "execution_count": 26,
   "metadata": {},
   "outputs": [
    {
     "name": "stdout",
     "output_type": "stream",
     "text": [
      "Skew: -0.16197136812176385\n",
      "Mean: 5.057963665718253e-17\n",
      "SD: 0.9680721805730579\n"
     ]
    }
   ],
   "source": [
    "print(\"Skew: {s}\".format(s=ss.stats.skew(final_df['concreteness_impact'])))\n",
    "print(\"Mean: {m}\".format(m=np.mean(final_df['concreteness_impact'])))\n",
    "print(\"SD: {sd}\".format(sd=np.std(final_df['concreteness_impact'])))\n"
   ]
  },
  {
   "cell_type": "markdown",
   "metadata": {},
   "source": [
    "## Analysis\n",
    "\n",
    "Now we look at whether particular onsets have systematic impacts on the concreteness of the words in which they appear."
   ]
  },
  {
   "cell_type": "code",
   "execution_count": 30,
   "metadata": {},
   "outputs": [
    {
     "data": {
      "text/html": [
       "<table class=\"simpletable\">\n",
       "<caption>OLS Regression Results</caption>\n",
       "<tr>\n",
       "  <th>Dep. Variable:</th>    <td>concreteness_impact</td> <th>  R-squared:         </th> <td>   0.083</td>\n",
       "</tr>\n",
       "<tr>\n",
       "  <th>Model:</th>                    <td>OLS</td>         <th>  Adj. R-squared:    </th> <td>   0.053</td>\n",
       "</tr>\n",
       "<tr>\n",
       "  <th>Method:</th>              <td>Least Squares</td>    <th>  F-statistic:       </th> <td>   2.804</td>\n",
       "</tr>\n",
       "<tr>\n",
       "  <th>Date:</th>              <td>Thu, 31 Jan 2019</td>   <th>  Prob (F-statistic):</th> <td>1.79e-08</td>\n",
       "</tr>\n",
       "<tr>\n",
       "  <th>Time:</th>                  <td>15:23:02</td>       <th>  Log-Likelihood:    </th> <td> -1769.2</td>\n",
       "</tr>\n",
       "<tr>\n",
       "  <th>No. Observations:</th>       <td>  1317</td>        <th>  AIC:               </th> <td>   3622.</td>\n",
       "</tr>\n",
       "<tr>\n",
       "  <th>Df Residuals:</th>           <td>  1275</td>        <th>  BIC:               </th> <td>   3840.</td>\n",
       "</tr>\n",
       "<tr>\n",
       "  <th>Df Model:</th>               <td>    41</td>        <th>                     </th>     <td> </td>   \n",
       "</tr>\n",
       "<tr>\n",
       "  <th>Covariance Type:</th>       <td>nonrobust</td>      <th>                     </th>     <td> </td>   \n",
       "</tr>\n",
       "</table>\n",
       "<table class=\"simpletable\">\n",
       "<tr>\n",
       "       <td></td>          <th>coef</th>     <th>std err</th>      <th>t</th>      <th>P>|t|</th>  <th>[0.025</th>    <th>0.975]</th>  \n",
       "</tr>\n",
       "<tr>\n",
       "  <th>Intercept</th>   <td>   -0.0633</td> <td>    0.412</td> <td>   -0.154</td> <td> 0.878</td> <td>   -0.871</td> <td>    0.744</td>\n",
       "</tr>\n",
       "<tr>\n",
       "  <th>onset[T.$]</th>  <td>   -0.2980</td> <td>    0.527</td> <td>   -0.566</td> <td> 0.572</td> <td>   -1.331</td> <td>    0.735</td>\n",
       "</tr>\n",
       "<tr>\n",
       "  <th>onset[T.1]</th>  <td>   -0.2731</td> <td>    0.488</td> <td>   -0.560</td> <td> 0.576</td> <td>   -1.230</td> <td>    0.684</td>\n",
       "</tr>\n",
       "<tr>\n",
       "  <th>onset[T.2]</th>  <td>    1.2069</td> <td>    0.591</td> <td>    2.043</td> <td> 0.041</td> <td>    0.048</td> <td>    2.366</td>\n",
       "</tr>\n",
       "<tr>\n",
       "  <th>onset[T.3]</th>  <td>    0.7898</td> <td>    0.650</td> <td>    1.214</td> <td> 0.225</td> <td>   -0.486</td> <td>    2.066</td>\n",
       "</tr>\n",
       "<tr>\n",
       "  <th>onset[T.4]</th>  <td>    0.9179</td> <td>    0.758</td> <td>    1.210</td> <td> 0.226</td> <td>   -0.570</td> <td>    2.406</td>\n",
       "</tr>\n",
       "<tr>\n",
       "  <th>onset[T.5]</th>  <td>    0.2016</td> <td>    0.475</td> <td>    0.424</td> <td> 0.672</td> <td>   -0.731</td> <td>    1.134</td>\n",
       "</tr>\n",
       "<tr>\n",
       "  <th>onset[T.6]</th>  <td>    0.1462</td> <td>    0.756</td> <td>    0.193</td> <td> 0.847</td> <td>   -1.338</td> <td>    1.630</td>\n",
       "</tr>\n",
       "<tr>\n",
       "  <th>onset[T.7]</th>  <td>    1.7581</td> <td>    1.007</td> <td>    1.745</td> <td> 0.081</td> <td>   -0.218</td> <td>    3.735</td>\n",
       "</tr>\n",
       "<tr>\n",
       "  <th>onset[T.8]</th>  <td>    0.5381</td> <td>    1.007</td> <td>    0.534</td> <td> 0.593</td> <td>   -1.438</td> <td>    2.515</td>\n",
       "</tr>\n",
       "<tr>\n",
       "  <th>onset[T.@]</th>  <td>   -0.9669</td> <td>    0.757</td> <td>   -1.277</td> <td> 0.202</td> <td>   -2.453</td> <td>    0.519</td>\n",
       "</tr>\n",
       "<tr>\n",
       "  <th>onset[T.D]</th>  <td>   -1.8805</td> <td>    0.467</td> <td>   -4.026</td> <td> 0.000</td> <td>   -2.797</td> <td>   -0.964</td>\n",
       "</tr>\n",
       "<tr>\n",
       "  <th>onset[T.E]</th>  <td>    0.2179</td> <td>    0.595</td> <td>    0.366</td> <td> 0.714</td> <td>   -0.949</td> <td>    1.384</td>\n",
       "</tr>\n",
       "<tr>\n",
       "  <th>onset[T.I]</th>  <td>   -0.0349</td> <td>    0.554</td> <td>   -0.063</td> <td> 0.950</td> <td>   -1.122</td> <td>    1.052</td>\n",
       "</tr>\n",
       "<tr>\n",
       "  <th>onset[T.J]</th>  <td>    0.6394</td> <td>    0.416</td> <td>    1.537</td> <td> 0.124</td> <td>   -0.177</td> <td>    1.455</td>\n",
       "</tr>\n",
       "<tr>\n",
       "  <th>onset[T.Q]</th>  <td>    0.5535</td> <td>    0.591</td> <td>    0.936</td> <td> 0.349</td> <td>   -0.607</td> <td>    1.714</td>\n",
       "</tr>\n",
       "<tr>\n",
       "  <th>onset[T.S]</th>  <td>    0.3969</td> <td>    0.404</td> <td>    0.982</td> <td> 0.326</td> <td>   -0.396</td> <td>    1.190</td>\n",
       "</tr>\n",
       "<tr>\n",
       "  <th>onset[T.T]</th>  <td>   -0.1966</td> <td>    0.409</td> <td>   -0.480</td> <td> 0.631</td> <td>   -0.999</td> <td>    0.606</td>\n",
       "</tr>\n",
       "<tr>\n",
       "  <th>onset[T.V]</th>  <td>   -0.0598</td> <td>    0.527</td> <td>   -0.114</td> <td> 0.910</td> <td>   -1.094</td> <td>    0.974</td>\n",
       "</tr>\n",
       "<tr>\n",
       "  <th>onset[T._]</th>  <td>    0.2215</td> <td>    0.401</td> <td>    0.552</td> <td> 0.581</td> <td>   -0.565</td> <td>    1.008</td>\n",
       "</tr>\n",
       "<tr>\n",
       "  <th>onset[T.b]</th>  <td>    0.3874</td> <td>    0.374</td> <td>    1.036</td> <td> 0.300</td> <td>   -0.346</td> <td>    1.121</td>\n",
       "</tr>\n",
       "<tr>\n",
       "  <th>onset[T.d]</th>  <td>    0.2517</td> <td>    0.381</td> <td>    0.661</td> <td> 0.508</td> <td>   -0.495</td> <td>    0.998</td>\n",
       "</tr>\n",
       "<tr>\n",
       "  <th>onset[T.f]</th>  <td>    0.1309</td> <td>    0.375</td> <td>    0.349</td> <td> 0.727</td> <td>   -0.605</td> <td>    0.867</td>\n",
       "</tr>\n",
       "<tr>\n",
       "  <th>onset[T.g]</th>  <td>    0.2558</td> <td>    0.386</td> <td>    0.663</td> <td> 0.508</td> <td>   -0.501</td> <td>    1.013</td>\n",
       "</tr>\n",
       "<tr>\n",
       "  <th>onset[T.h]</th>  <td>    0.1169</td> <td>    0.377</td> <td>    0.310</td> <td> 0.757</td> <td>   -0.624</td> <td>    0.857</td>\n",
       "</tr>\n",
       "<tr>\n",
       "  <th>onset[T.i]</th>  <td>    0.2025</td> <td>    0.525</td> <td>    0.386</td> <td> 0.700</td> <td>   -0.827</td> <td>    1.232</td>\n",
       "</tr>\n",
       "<tr>\n",
       "  <th>onset[T.j]</th>  <td>    0.0699</td> <td>    0.442</td> <td>    0.158</td> <td> 0.875</td> <td>   -0.798</td> <td>    0.938</td>\n",
       "</tr>\n",
       "<tr>\n",
       "  <th>onset[T.k]</th>  <td>    0.5119</td> <td>    0.373</td> <td>    1.372</td> <td> 0.170</td> <td>   -0.220</td> <td>    1.244</td>\n",
       "</tr>\n",
       "<tr>\n",
       "  <th>onset[T.l]</th>  <td>    0.0724</td> <td>    0.377</td> <td>    0.192</td> <td> 0.848</td> <td>   -0.668</td> <td>    0.813</td>\n",
       "</tr>\n",
       "<tr>\n",
       "  <th>onset[T.m]</th>  <td>   -0.0326</td> <td>    0.379</td> <td>   -0.086</td> <td> 0.931</td> <td>   -0.776</td> <td>    0.711</td>\n",
       "</tr>\n",
       "<tr>\n",
       "  <th>onset[T.n]</th>  <td>   -0.0908</td> <td>    0.388</td> <td>   -0.234</td> <td> 0.815</td> <td>   -0.852</td> <td>    0.670</td>\n",
       "</tr>\n",
       "<tr>\n",
       "  <th>onset[T.p]</th>  <td>    0.3430</td> <td>    0.375</td> <td>    0.915</td> <td> 0.360</td> <td>   -0.392</td> <td>    1.078</td>\n",
       "</tr>\n",
       "<tr>\n",
       "  <th>onset[T.r]</th>  <td>    0.2041</td> <td>    0.377</td> <td>    0.541</td> <td> 0.589</td> <td>   -0.536</td> <td>    0.944</td>\n",
       "</tr>\n",
       "<tr>\n",
       "  <th>onset[T.s]</th>  <td>    0.1394</td> <td>    0.376</td> <td>    0.371</td> <td> 0.711</td> <td>   -0.598</td> <td>    0.877</td>\n",
       "</tr>\n",
       "<tr>\n",
       "  <th>onset[T.t]</th>  <td>    0.2711</td> <td>    0.377</td> <td>    0.720</td> <td> 0.472</td> <td>   -0.468</td> <td>    1.010</td>\n",
       "</tr>\n",
       "<tr>\n",
       "  <th>onset[T.v]</th>  <td>    0.0723</td> <td>    0.415</td> <td>    0.174</td> <td> 0.862</td> <td>   -0.741</td> <td>    0.886</td>\n",
       "</tr>\n",
       "<tr>\n",
       "  <th>onset[T.w]</th>  <td>   -0.1156</td> <td>    0.379</td> <td>   -0.305</td> <td> 0.761</td> <td>   -0.860</td> <td>    0.629</td>\n",
       "</tr>\n",
       "<tr>\n",
       "  <th>onset[T.z]</th>  <td>   -0.0422</td> <td>    0.594</td> <td>   -0.071</td> <td> 0.943</td> <td>   -1.208</td> <td>    1.124</td>\n",
       "</tr>\n",
       "<tr>\n",
       "  <th>onset[T.{]</th>  <td>    0.1020</td> <td>    0.444</td> <td>    0.230</td> <td> 0.818</td> <td>   -0.768</td> <td>    0.972</td>\n",
       "</tr>\n",
       "<tr>\n",
       "  <th>set_mean</th>    <td>   -0.0197</td> <td>    0.040</td> <td>   -0.489</td> <td> 0.625</td> <td>   -0.099</td> <td>    0.059</td>\n",
       "</tr>\n",
       "<tr>\n",
       "  <th>set_size</th>    <td>    0.0025</td> <td>    0.010</td> <td>    0.253</td> <td> 0.801</td> <td>   -0.017</td> <td>    0.022</td>\n",
       "</tr>\n",
       "<tr>\n",
       "  <th>word_length</th> <td>   -0.0113</td> <td>    0.038</td> <td>   -0.296</td> <td> 0.767</td> <td>   -0.086</td> <td>    0.063</td>\n",
       "</tr>\n",
       "</table>\n",
       "<table class=\"simpletable\">\n",
       "<tr>\n",
       "  <th>Omnibus:</th>       <td>29.296</td> <th>  Durbin-Watson:     </th> <td>   2.481</td>\n",
       "</tr>\n",
       "<tr>\n",
       "  <th>Prob(Omnibus):</th> <td> 0.000</td> <th>  Jarque-Bera (JB):  </th> <td>  17.003</td>\n",
       "</tr>\n",
       "<tr>\n",
       "  <th>Skew:</th>          <td>-0.100</td> <th>  Prob(JB):          </th> <td>0.000203</td>\n",
       "</tr>\n",
       "<tr>\n",
       "  <th>Kurtosis:</th>      <td> 2.480</td> <th>  Cond. No.          </th> <td>    691.</td>\n",
       "</tr>\n",
       "</table><br/><br/>Warnings:<br/>[1] Standard Errors assume that the covariance matrix of the errors is correctly specified."
      ],
      "text/plain": [
       "<class 'statsmodels.iolib.summary.Summary'>\n",
       "\"\"\"\n",
       "                             OLS Regression Results                            \n",
       "===============================================================================\n",
       "Dep. Variable:     concreteness_impact   R-squared:                       0.083\n",
       "Model:                             OLS   Adj. R-squared:                  0.053\n",
       "Method:                  Least Squares   F-statistic:                     2.804\n",
       "Date:                 Thu, 31 Jan 2019   Prob (F-statistic):           1.79e-08\n",
       "Time:                         15:23:02   Log-Likelihood:                -1769.2\n",
       "No. Observations:                 1317   AIC:                             3622.\n",
       "Df Residuals:                     1275   BIC:                             3840.\n",
       "Df Model:                           41                                         \n",
       "Covariance Type:             nonrobust                                         \n",
       "===============================================================================\n",
       "                  coef    std err          t      P>|t|      [0.025      0.975]\n",
       "-------------------------------------------------------------------------------\n",
       "Intercept      -0.0633      0.412     -0.154      0.878      -0.871       0.744\n",
       "onset[T.$]     -0.2980      0.527     -0.566      0.572      -1.331       0.735\n",
       "onset[T.1]     -0.2731      0.488     -0.560      0.576      -1.230       0.684\n",
       "onset[T.2]      1.2069      0.591      2.043      0.041       0.048       2.366\n",
       "onset[T.3]      0.7898      0.650      1.214      0.225      -0.486       2.066\n",
       "onset[T.4]      0.9179      0.758      1.210      0.226      -0.570       2.406\n",
       "onset[T.5]      0.2016      0.475      0.424      0.672      -0.731       1.134\n",
       "onset[T.6]      0.1462      0.756      0.193      0.847      -1.338       1.630\n",
       "onset[T.7]      1.7581      1.007      1.745      0.081      -0.218       3.735\n",
       "onset[T.8]      0.5381      1.007      0.534      0.593      -1.438       2.515\n",
       "onset[T.@]     -0.9669      0.757     -1.277      0.202      -2.453       0.519\n",
       "onset[T.D]     -1.8805      0.467     -4.026      0.000      -2.797      -0.964\n",
       "onset[T.E]      0.2179      0.595      0.366      0.714      -0.949       1.384\n",
       "onset[T.I]     -0.0349      0.554     -0.063      0.950      -1.122       1.052\n",
       "onset[T.J]      0.6394      0.416      1.537      0.124      -0.177       1.455\n",
       "onset[T.Q]      0.5535      0.591      0.936      0.349      -0.607       1.714\n",
       "onset[T.S]      0.3969      0.404      0.982      0.326      -0.396       1.190\n",
       "onset[T.T]     -0.1966      0.409     -0.480      0.631      -0.999       0.606\n",
       "onset[T.V]     -0.0598      0.527     -0.114      0.910      -1.094       0.974\n",
       "onset[T._]      0.2215      0.401      0.552      0.581      -0.565       1.008\n",
       "onset[T.b]      0.3874      0.374      1.036      0.300      -0.346       1.121\n",
       "onset[T.d]      0.2517      0.381      0.661      0.508      -0.495       0.998\n",
       "onset[T.f]      0.1309      0.375      0.349      0.727      -0.605       0.867\n",
       "onset[T.g]      0.2558      0.386      0.663      0.508      -0.501       1.013\n",
       "onset[T.h]      0.1169      0.377      0.310      0.757      -0.624       0.857\n",
       "onset[T.i]      0.2025      0.525      0.386      0.700      -0.827       1.232\n",
       "onset[T.j]      0.0699      0.442      0.158      0.875      -0.798       0.938\n",
       "onset[T.k]      0.5119      0.373      1.372      0.170      -0.220       1.244\n",
       "onset[T.l]      0.0724      0.377      0.192      0.848      -0.668       0.813\n",
       "onset[T.m]     -0.0326      0.379     -0.086      0.931      -0.776       0.711\n",
       "onset[T.n]     -0.0908      0.388     -0.234      0.815      -0.852       0.670\n",
       "onset[T.p]      0.3430      0.375      0.915      0.360      -0.392       1.078\n",
       "onset[T.r]      0.2041      0.377      0.541      0.589      -0.536       0.944\n",
       "onset[T.s]      0.1394      0.376      0.371      0.711      -0.598       0.877\n",
       "onset[T.t]      0.2711      0.377      0.720      0.472      -0.468       1.010\n",
       "onset[T.v]      0.0723      0.415      0.174      0.862      -0.741       0.886\n",
       "onset[T.w]     -0.1156      0.379     -0.305      0.761      -0.860       0.629\n",
       "onset[T.z]     -0.0422      0.594     -0.071      0.943      -1.208       1.124\n",
       "onset[T.{]      0.1020      0.444      0.230      0.818      -0.768       0.972\n",
       "set_mean       -0.0197      0.040     -0.489      0.625      -0.099       0.059\n",
       "set_size        0.0025      0.010      0.253      0.801      -0.017       0.022\n",
       "word_length    -0.0113      0.038     -0.296      0.767      -0.086       0.063\n",
       "==============================================================================\n",
       "Omnibus:                       29.296   Durbin-Watson:                   2.481\n",
       "Prob(Omnibus):                  0.000   Jarque-Bera (JB):               17.003\n",
       "Skew:                          -0.100   Prob(JB):                     0.000203\n",
       "Kurtosis:                       2.480   Cond. No.                         691.\n",
       "==============================================================================\n",
       "\n",
       "Warnings:\n",
       "[1] Standard Errors assume that the covariance matrix of the errors is correctly specified.\n",
       "\"\"\""
      ]
     },
     "execution_count": 30,
     "metadata": {},
     "output_type": "execute_result"
    }
   ],
   "source": [
    "result = sm.ols(formula=\"concreteness_impact ~ onset + set_mean + set_size + word_length\", data=final_df).fit()\n",
    "result.summary()"
   ]
  },
  {
   "cell_type": "code",
   "execution_count": 10,
   "metadata": {},
   "outputs": [
    {
     "name": "stderr",
     "output_type": "stream",
     "text": [
      "100%|██████████| 1000/1000 [00:22<00:00, 48.57it/s]\n"
     ]
    }
   ],
   "source": [
    "\n",
    "### Shuffling\n",
    "shuffled_rsquares = []\n",
    "true_rsquare = result.rsquared\n",
    "\n",
    "NUM_SHUFFLES = 1000\n",
    "\n",
    "for shuffle in tqdm(range(NUM_SHUFFLES)):\n",
    "    new_df = final_df.copy()\n",
    "    new_df['shuffled_onset'] = np.random.permutation(new_df['onset'])\n",
    "    new_result = sm.ols(formula=\"concreteness_impact ~ shuffled_onset + set_mean + set_size + word_length\", data=new_df).fit()\n",
    "    shuffled_rsquares.append(new_result.rsquared)"
   ]
  },
  {
   "cell_type": "code",
   "execution_count": 11,
   "metadata": {},
   "outputs": [
    {
     "name": "stdout",
     "output_type": "stream",
     "text": [
      "p=0.0\n"
     ]
    }
   ],
   "source": [
    "p_real = len([r for r in shuffled_rsquares if r >= true_rsquare]) / len(shuffled_rsquares)\n",
    "print(\"p={p}\".format(p=p_real))"
   ]
  },
  {
   "cell_type": "code",
   "execution_count": 13,
   "metadata": {},
   "outputs": [
    {
     "name": "stdout",
     "output_type": "stream",
     "text": [
      "0.028967157230341784\n",
      "0.006557978614663443\n"
     ]
    }
   ],
   "source": [
    "shuffled_rsquares_np = np.array(shuffled_rsquares)\n",
    "print(np.mean(shuffled_rsquares_np))\n",
    "print(np.std(shuffled_rsquares_np))"
   ]
  },
  {
   "cell_type": "code",
   "execution_count": 14,
   "metadata": {},
   "outputs": [
    {
     "data": {
      "text/plain": [
       "Text(0.5,1,'Concreteness impact: Real R^2 vs. random shuffles')"
      ]
     },
     "execution_count": 14,
     "metadata": {},
     "output_type": "execute_result"
    },
    {
     "data": {
      "image/png": "[encoded data removed]",
      "text/plain": [
       "<Figure size 432x288 with 1 Axes>"
      ]
     },
     "metadata": {},
     "output_type": "display_data"
    }
   ],
   "source": [
    "plt.hist(shuffled_rsquares)\n",
    "plt.axvline(x=true_rsquare, linestyle=\"dotted\")\n",
    "plt.xlabel(\"Distribution of R^2 values\")\n",
    "plt.title(\"Concreteness impact: Real R^2 vs. random shuffles\")"
   ]
  },
  {
   "cell_type": "code",
   "execution_count": 15,
   "metadata": {},
   "outputs": [
    {
     "data": {
      "text/plain": [
       "<matplotlib.lines.Line2D at 0x1a25d0df60>"
      ]
     },
     "execution_count": 15,
     "metadata": {},
     "output_type": "execute_result"
    },
    {
     "data": {
      "image/png": "[encoded data removed]",
      "text/plain": [
       "<Figure size 432x288 with 1 Axes>"
      ]
     },
     "metadata": {},
     "output_type": "display_data"
    }
   ],
   "source": [
    "ax = sn.boxplot(data=final_df, x=\"onset\", y=\"concreteness_impact\")\n",
    "ax.set(xlabel=\"Onset phone\", ylabel=\"Concreteness impact\")\n",
    "ax.axhline(y=0, linestyle=\"dotted\")"
   ]
  },
  {
   "cell_type": "markdown",
   "metadata": {},
   "source": [
    "## Discussion and exploration\n",
    "\n",
    "Based on these results, it seems like:\n",
    "\n",
    "First, there is more structure in mappings between phonetic onsets and word concreteness than one would expect by chance, one we control for characteristics about the rest of the word.\n",
    "\n",
    "Certain onsets exhibit particularly strong effects, such as: \n",
    "- **/D/** (the onset in *they*) has a consistently *negative* impact on concreteness.\n",
    "- **/2/** (the onset in *aisle* or *eye*) has a consistently *positive* impact on concreteness.\n",
    "\n",
    "Other onsets show trends, but not strongly significant trends."
   ]
  },
  {
   "cell_type": "code",
   "execution_count": 4,
   "metadata": {},
   "outputs": [],
   "source": [
    "df_merged['initial'] = df_merged['PhonDISC'].apply(lambda x: x[0])"
   ]
  },
  {
   "cell_type": "code",
   "execution_count": 5,
   "metadata": {},
   "outputs": [
    {
     "data": {
      "text/html": [
       "<div>\n",
       "<style scoped>\n",
       "    .dataframe tbody tr th:only-of-type {\n",
       "        vertical-align: middle;\n",
       "    }\n",
       "\n",
       "    .dataframe tbody tr th {\n",
       "        vertical-align: top;\n",
       "    }\n",
       "\n",
       "    .dataframe thead th {\n",
       "        text-align: right;\n",
       "    }\n",
       "</style>\n",
       "<table border=\"1\" class=\"dataframe\">\n",
       "  <thead>\n",
       "    <tr style=\"text-align: right;\">\n",
       "      <th></th>\n",
       "      <th>Word</th>\n",
       "      <th>CobLog</th>\n",
       "      <th>CompCnt</th>\n",
       "      <th>PhonDISC</th>\n",
       "      <th>Class</th>\n",
       "      <th>SylCnt</th>\n",
       "      <th>Concreteness</th>\n",
       "      <th>initial</th>\n",
       "    </tr>\n",
       "  </thead>\n",
       "  <tbody>\n",
       "    <tr>\n",
       "      <th>3701</th>\n",
       "      <td>those</td>\n",
       "      <td>2.95</td>\n",
       "      <td>1</td>\n",
       "      <td>D5z</td>\n",
       "      <td>PRON</td>\n",
       "      <td>1</td>\n",
       "      <td>2.54</td>\n",
       "      <td>D</td>\n",
       "    </tr>\n",
       "    <tr>\n",
       "      <th>3676</th>\n",
       "      <td>their</td>\n",
       "      <td>3.46</td>\n",
       "      <td>1</td>\n",
       "      <td>D8</td>\n",
       "      <td>PRON</td>\n",
       "      <td>1</td>\n",
       "      <td>2.57</td>\n",
       "      <td>D</td>\n",
       "    </tr>\n",
       "    <tr>\n",
       "      <th>3677</th>\n",
       "      <td>them</td>\n",
       "      <td>3.37</td>\n",
       "      <td>1</td>\n",
       "      <td>DEm</td>\n",
       "      <td>PRON</td>\n",
       "      <td>1</td>\n",
       "      <td>3.44</td>\n",
       "      <td>D</td>\n",
       "    </tr>\n",
       "    <tr>\n",
       "      <th>3670</th>\n",
       "      <td>than</td>\n",
       "      <td>2.72</td>\n",
       "      <td>1</td>\n",
       "      <td>D{n</td>\n",
       "      <td>C</td>\n",
       "      <td>1</td>\n",
       "      <td>1.88</td>\n",
       "      <td>D</td>\n",
       "    </tr>\n",
       "    <tr>\n",
       "      <th>3697</th>\n",
       "      <td>this</td>\n",
       "      <td>0.00</td>\n",
       "      <td>1</td>\n",
       "      <td>DIs</td>\n",
       "      <td>ADV</td>\n",
       "      <td>1</td>\n",
       "      <td>2.40</td>\n",
       "      <td>D</td>\n",
       "    </tr>\n",
       "  </tbody>\n",
       "</table>\n",
       "</div>"
      ],
      "text/plain": [
       "       Word  CobLog  CompCnt PhonDISC Class  SylCnt  Concreteness initial\n",
       "3701  those    2.95        1      D5z  PRON       1          2.54       D\n",
       "3676  their    3.46        1       D8  PRON       1          2.57       D\n",
       "3677   them    3.37        1      DEm  PRON       1          3.44       D\n",
       "3670   than    2.72        1      D{n     C       1          1.88       D\n",
       "3697   this    0.00        1      DIs   ADV       1          2.40       D"
      ]
     },
     "execution_count": 5,
     "metadata": {},
     "output_type": "execute_result"
    }
   ],
   "source": [
    "df_merged[df_merged['initial'] == \"D\"].sample(5)"
   ]
  },
  {
   "cell_type": "code",
   "execution_count": 6,
   "metadata": {
    "scrolled": true
   },
   "outputs": [
    {
     "data": {
      "text/html": [
       "<div>\n",
       "<style scoped>\n",
       "    .dataframe tbody tr th:only-of-type {\n",
       "        vertical-align: middle;\n",
       "    }\n",
       "\n",
       "    .dataframe tbody tr th {\n",
       "        vertical-align: top;\n",
       "    }\n",
       "\n",
       "    .dataframe thead th {\n",
       "        text-align: right;\n",
       "    }\n",
       "</style>\n",
       "<table border=\"1\" class=\"dataframe\">\n",
       "  <thead>\n",
       "    <tr style=\"text-align: right;\">\n",
       "      <th></th>\n",
       "      <th>Word</th>\n",
       "      <th>CobLog</th>\n",
       "      <th>CompCnt</th>\n",
       "      <th>PhonDISC</th>\n",
       "      <th>Class</th>\n",
       "      <th>SylCnt</th>\n",
       "      <th>Concreteness</th>\n",
       "      <th>initial</th>\n",
       "    </tr>\n",
       "  </thead>\n",
       "  <tbody>\n",
       "    <tr>\n",
       "      <th>83</th>\n",
       "      <td>aisle</td>\n",
       "      <td>1.00</td>\n",
       "      <td>1</td>\n",
       "      <td>2l</td>\n",
       "      <td>N</td>\n",
       "      <td>1</td>\n",
       "      <td>5.09</td>\n",
       "      <td>2</td>\n",
       "    </tr>\n",
       "    <tr>\n",
       "      <th>1264</th>\n",
       "      <td>eye</td>\n",
       "      <td>2.72</td>\n",
       "      <td>1</td>\n",
       "      <td>2</td>\n",
       "      <td>N</td>\n",
       "      <td>1</td>\n",
       "      <td>6.34</td>\n",
       "      <td>2</td>\n",
       "    </tr>\n",
       "    <tr>\n",
       "      <th>1265</th>\n",
       "      <td>eyrie</td>\n",
       "      <td>0.00</td>\n",
       "      <td>0</td>\n",
       "      <td>2@rI</td>\n",
       "      <td>N</td>\n",
       "      <td>3</td>\n",
       "      <td>5.29</td>\n",
       "      <td>2</td>\n",
       "    </tr>\n",
       "    <tr>\n",
       "      <th>1784</th>\n",
       "      <td>ice</td>\n",
       "      <td>1.72</td>\n",
       "      <td>1</td>\n",
       "      <td>2s</td>\n",
       "      <td>N</td>\n",
       "      <td>1</td>\n",
       "      <td>6.21</td>\n",
       "      <td>2</td>\n",
       "    </tr>\n",
       "    <tr>\n",
       "      <th>1785</th>\n",
       "      <td>icicle</td>\n",
       "      <td>0.00</td>\n",
       "      <td>0</td>\n",
       "      <td>2sIkP</td>\n",
       "      <td>N</td>\n",
       "      <td>3</td>\n",
       "      <td>5.69</td>\n",
       "      <td>2</td>\n",
       "    </tr>\n",
       "  </tbody>\n",
       "</table>\n",
       "</div>"
      ],
      "text/plain": [
       "        Word  CobLog  CompCnt PhonDISC Class  SylCnt  Concreteness initial\n",
       "83     aisle    1.00        1       2l     N       1          5.09       2\n",
       "1264     eye    2.72        1        2     N       1          6.34       2\n",
       "1265   eyrie    0.00        0     2@rI     N       3          5.29       2\n",
       "1784     ice    1.72        1       2s     N       1          6.21       2\n",
       "1785  icicle    0.00        0    2sIkP     N       3          5.69       2"
      ]
     },
     "execution_count": 6,
     "metadata": {},
     "output_type": "execute_result"
    }
   ],
   "source": [
    "df_merged[df_merged['initial'] == \"2\"].head(5)"
   ]
  },
  {
   "cell_type": "markdown",
   "metadata": {},
   "source": [
    "## Follow-up: What about without controlling for the rest of the word?\n",
    "\n",
    "Above, we saw the results when controlling for the rest of the word. What if we don't do this, and just measure *word concreteness* as a function of *onset phone*, while still adding as covariates information about the word length?"
   ]
  },
  {
   "cell_type": "code",
   "execution_count": 4,
   "metadata": {},
   "outputs": [],
   "source": [
    "df_merged['initial'] = df_merged['PhonDISC'].apply(lambda x: x[0])\n",
    "df_merged['word_length'] = len(df_merged['PhonDISC'])"
   ]
  },
  {
   "cell_type": "code",
   "execution_count": 6,
   "metadata": {
    "scrolled": true
   },
   "outputs": [
    {
     "data": {
      "text/html": [
       "<table class=\"simpletable\">\n",
       "<caption>OLS Regression Results</caption>\n",
       "<tr>\n",
       "  <th>Dep. Variable:</th>      <td>Concreteness</td>   <th>  R-squared:         </th> <td>   0.082</td>\n",
       "</tr>\n",
       "<tr>\n",
       "  <th>Model:</th>                   <td>OLS</td>       <th>  Adj. R-squared:    </th> <td>   0.070</td>\n",
       "</tr>\n",
       "<tr>\n",
       "  <th>Method:</th>             <td>Least Squares</td>  <th>  F-statistic:       </th> <td>   6.613</td>\n",
       "</tr>\n",
       "<tr>\n",
       "  <th>Date:</th>             <td>Thu, 31 Jan 2019</td> <th>  Prob (F-statistic):</th> <td>4.29e-33</td>\n",
       "</tr>\n",
       "<tr>\n",
       "  <th>Time:</th>                 <td>15:35:27</td>     <th>  Log-Likelihood:    </th> <td> -4594.3</td>\n",
       "</tr>\n",
       "<tr>\n",
       "  <th>No. Observations:</th>      <td>  2984</td>      <th>  AIC:               </th> <td>   9271.</td>\n",
       "</tr>\n",
       "<tr>\n",
       "  <th>Df Residuals:</th>          <td>  2943</td>      <th>  BIC:               </th> <td>   9517.</td>\n",
       "</tr>\n",
       "<tr>\n",
       "  <th>Df Model:</th>              <td>    40</td>      <th>                     </th>     <td> </td>   \n",
       "</tr>\n",
       "<tr>\n",
       "  <th>Covariance Type:</th>      <td>nonrobust</td>    <th>                     </th>     <td> </td>   \n",
       "</tr>\n",
       "</table>\n",
       "<table class=\"simpletable\">\n",
       "<tr>\n",
       "        <td></td>          <th>coef</th>     <th>std err</th>      <th>t</th>      <th>P>|t|</th>  <th>[0.025</th>    <th>0.975]</th>  \n",
       "</tr>\n",
       "<tr>\n",
       "  <th>Intercept</th>    <td>    4.4903</td> <td>    0.308</td> <td>   14.567</td> <td> 0.000</td> <td>    3.886</td> <td>    5.095</td>\n",
       "</tr>\n",
       "<tr>\n",
       "  <th>initial[T.$]</th> <td>   -0.0924</td> <td>    0.400</td> <td>   -0.231</td> <td> 0.817</td> <td>   -0.877</td> <td>    0.692</td>\n",
       "</tr>\n",
       "<tr>\n",
       "  <th>initial[T.1]</th> <td>   -0.3185</td> <td>    0.410</td> <td>   -0.777</td> <td> 0.437</td> <td>   -1.122</td> <td>    0.486</td>\n",
       "</tr>\n",
       "<tr>\n",
       "  <th>initial[T.2]</th> <td>    0.4957</td> <td>    0.410</td> <td>    1.208</td> <td> 0.227</td> <td>   -0.309</td> <td>    1.300</td>\n",
       "</tr>\n",
       "<tr>\n",
       "  <th>initial[T.3]</th> <td>    0.4683</td> <td>    0.592</td> <td>    0.791</td> <td> 0.429</td> <td>   -0.693</td> <td>    1.629</td>\n",
       "</tr>\n",
       "<tr>\n",
       "  <th>initial[T.4]</th> <td>    1.4132</td> <td>    0.859</td> <td>    1.645</td> <td> 0.100</td> <td>   -0.271</td> <td>    3.097</td>\n",
       "</tr>\n",
       "<tr>\n",
       "  <th>initial[T.5]</th> <td>   -0.2110</td> <td>    0.396</td> <td>   -0.533</td> <td> 0.594</td> <td>   -0.987</td> <td>    0.565</td>\n",
       "</tr>\n",
       "<tr>\n",
       "  <th>initial[T.6]</th> <td>   -0.4633</td> <td>    0.526</td> <td>   -0.881</td> <td> 0.378</td> <td>   -1.495</td> <td>    0.568</td>\n",
       "</tr>\n",
       "<tr>\n",
       "  <th>initial[T.7]</th> <td>    0.3182</td> <td>    0.859</td> <td>    0.371</td> <td> 0.711</td> <td>   -1.366</td> <td>    2.002</td>\n",
       "</tr>\n",
       "<tr>\n",
       "  <th>initial[T.8]</th> <td>    0.3880</td> <td>    0.723</td> <td>    0.537</td> <td> 0.591</td> <td>   -1.029</td> <td>    1.805</td>\n",
       "</tr>\n",
       "<tr>\n",
       "  <th>initial[T.@]</th> <td>   -0.7793</td> <td>    0.345</td> <td>   -2.261</td> <td> 0.024</td> <td>   -1.455</td> <td>   -0.103</td>\n",
       "</tr>\n",
       "<tr>\n",
       "  <th>initial[T.D]</th> <td>   -1.9588</td> <td>    0.448</td> <td>   -4.376</td> <td> 0.000</td> <td>   -2.836</td> <td>   -1.081</td>\n",
       "</tr>\n",
       "<tr>\n",
       "  <th>initial[T.E]</th> <td>   -0.2658</td> <td>    0.352</td> <td>   -0.755</td> <td> 0.450</td> <td>   -0.956</td> <td>    0.424</td>\n",
       "</tr>\n",
       "<tr>\n",
       "  <th>initial[T.I]</th> <td>   -0.5518</td> <td>    0.332</td> <td>   -1.662</td> <td> 0.097</td> <td>   -1.203</td> <td>    0.099</td>\n",
       "</tr>\n",
       "<tr>\n",
       "  <th>initial[T.J]</th> <td>    0.7396</td> <td>    0.359</td> <td>    2.058</td> <td> 0.040</td> <td>    0.035</td> <td>    1.444</td>\n",
       "</tr>\n",
       "<tr>\n",
       "  <th>initial[T.Q]</th> <td>   -0.1565</td> <td>    0.400</td> <td>   -0.391</td> <td> 0.696</td> <td>   -0.941</td> <td>    0.628</td>\n",
       "</tr>\n",
       "<tr>\n",
       "  <th>initial[T.S]</th> <td>    0.6869</td> <td>    0.353</td> <td>    1.945</td> <td> 0.052</td> <td>   -0.006</td> <td>    1.379</td>\n",
       "</tr>\n",
       "<tr>\n",
       "  <th>initial[T.T]</th> <td>   -0.1029</td> <td>    0.375</td> <td>   -0.275</td> <td> 0.784</td> <td>   -0.838</td> <td>    0.632</td>\n",
       "</tr>\n",
       "<tr>\n",
       "  <th>initial[T.V]</th> <td>   -0.2120</td> <td>    0.400</td> <td>   -0.530</td> <td> 0.596</td> <td>   -0.997</td> <td>    0.573</td>\n",
       "</tr>\n",
       "<tr>\n",
       "  <th>initial[T._]</th> <td>    0.2540</td> <td>    0.343</td> <td>    0.741</td> <td> 0.459</td> <td>   -0.418</td> <td>    0.926</td>\n",
       "</tr>\n",
       "<tr>\n",
       "  <th>initial[T.b]</th> <td>    0.6531</td> <td>    0.315</td> <td>    2.076</td> <td> 0.038</td> <td>    0.036</td> <td>    1.270</td>\n",
       "</tr>\n",
       "<tr>\n",
       "  <th>initial[T.d]</th> <td>    0.0357</td> <td>    0.318</td> <td>    0.112</td> <td> 0.911</td> <td>   -0.588</td> <td>    0.660</td>\n",
       "</tr>\n",
       "<tr>\n",
       "  <th>initial[T.f]</th> <td>    0.0769</td> <td>    0.316</td> <td>    0.243</td> <td> 0.808</td> <td>   -0.543</td> <td>    0.696</td>\n",
       "</tr>\n",
       "<tr>\n",
       "  <th>initial[T.g]</th> <td>    0.3339</td> <td>    0.325</td> <td>    1.027</td> <td> 0.305</td> <td>   -0.304</td> <td>    0.972</td>\n",
       "</tr>\n",
       "<tr>\n",
       "  <th>initial[T.h]</th> <td>    0.2836</td> <td>    0.322</td> <td>    0.882</td> <td> 0.378</td> <td>   -0.347</td> <td>    0.914</td>\n",
       "</tr>\n",
       "<tr>\n",
       "  <th>initial[T.i]</th> <td>   -0.0584</td> <td>    0.429</td> <td>   -0.136</td> <td> 0.892</td> <td>   -0.900</td> <td>    0.784</td>\n",
       "</tr>\n",
       "<tr>\n",
       "  <th>initial[T.j]</th> <td>   -0.1828</td> <td>    0.379</td> <td>   -0.482</td> <td> 0.630</td> <td>   -0.926</td> <td>    0.561</td>\n",
       "</tr>\n",
       "<tr>\n",
       "  <th>initial[T.k]</th> <td>    0.5278</td> <td>    0.312</td> <td>    1.694</td> <td> 0.090</td> <td>   -0.083</td> <td>    1.139</td>\n",
       "</tr>\n",
       "<tr>\n",
       "  <th>initial[T.l]</th> <td>    0.2439</td> <td>    0.322</td> <td>    0.759</td> <td> 0.448</td> <td>   -0.386</td> <td>    0.874</td>\n",
       "</tr>\n",
       "<tr>\n",
       "  <th>initial[T.m]</th> <td>    0.3156</td> <td>    0.316</td> <td>    1.000</td> <td> 0.317</td> <td>   -0.303</td> <td>    0.934</td>\n",
       "</tr>\n",
       "<tr>\n",
       "  <th>initial[T.n]</th> <td>    0.1056</td> <td>    0.333</td> <td>    0.317</td> <td> 0.751</td> <td>   -0.548</td> <td>    0.759</td>\n",
       "</tr>\n",
       "<tr>\n",
       "  <th>initial[T.p]</th> <td>    0.3387</td> <td>    0.313</td> <td>    1.083</td> <td> 0.279</td> <td>   -0.274</td> <td>    0.952</td>\n",
       "</tr>\n",
       "<tr>\n",
       "  <th>initial[T.q]</th> <td>    0.4367</td> <td>    1.176</td> <td>    0.371</td> <td> 0.711</td> <td>   -1.870</td> <td>    2.743</td>\n",
       "</tr>\n",
       "<tr>\n",
       "  <th>initial[T.r]</th> <td>    0.0559</td> <td>    0.317</td> <td>    0.177</td> <td> 0.860</td> <td>   -0.565</td> <td>    0.677</td>\n",
       "</tr>\n",
       "<tr>\n",
       "  <th>initial[T.s]</th> <td>    0.3351</td> <td>    0.310</td> <td>    1.082</td> <td> 0.279</td> <td>   -0.272</td> <td>    0.942</td>\n",
       "</tr>\n",
       "<tr>\n",
       "  <th>initial[T.t]</th> <td>    0.3941</td> <td>    0.318</td> <td>    1.241</td> <td> 0.215</td> <td>   -0.229</td> <td>    1.017</td>\n",
       "</tr>\n",
       "<tr>\n",
       "  <th>initial[T.v]</th> <td>    0.1604</td> <td>    0.341</td> <td>    0.471</td> <td> 0.638</td> <td>   -0.508</td> <td>    0.829</td>\n",
       "</tr>\n",
       "<tr>\n",
       "  <th>initial[T.w]</th> <td>    0.1340</td> <td>    0.324</td> <td>    0.413</td> <td> 0.679</td> <td>   -0.502</td> <td>    0.770</td>\n",
       "</tr>\n",
       "<tr>\n",
       "  <th>initial[T.z]</th> <td>   -0.3171</td> <td>    0.554</td> <td>   -0.572</td> <td> 0.567</td> <td>   -1.404</td> <td>    0.770</td>\n",
       "</tr>\n",
       "<tr>\n",
       "  <th>initial[T.{]</th> <td>    0.1072</td> <td>    0.333</td> <td>    0.322</td> <td> 0.747</td> <td>   -0.545</td> <td>    0.760</td>\n",
       "</tr>\n",
       "<tr>\n",
       "  <th>SylCnt</th>       <td>   -0.0890</td> <td>    0.029</td> <td>   -3.113</td> <td> 0.002</td> <td>   -0.145</td> <td>   -0.033</td>\n",
       "</tr>\n",
       "</table>\n",
       "<table class=\"simpletable\">\n",
       "<tr>\n",
       "  <th>Omnibus:</th>       <td>962.734</td> <th>  Durbin-Watson:     </th> <td>   1.883</td>\n",
       "</tr>\n",
       "<tr>\n",
       "  <th>Prob(Omnibus):</th> <td> 0.000</td>  <th>  Jarque-Bera (JB):  </th> <td> 162.281</td>\n",
       "</tr>\n",
       "<tr>\n",
       "  <th>Skew:</th>          <td>-0.211</td>  <th>  Prob(JB):          </th> <td>5.77e-36</td>\n",
       "</tr>\n",
       "<tr>\n",
       "  <th>Kurtosis:</th>      <td> 1.939</td>  <th>  Cond. No.          </th> <td>    196.</td>\n",
       "</tr>\n",
       "</table><br/><br/>Warnings:<br/>[1] Standard Errors assume that the covariance matrix of the errors is correctly specified."
      ],
      "text/plain": [
       "<class 'statsmodels.iolib.summary.Summary'>\n",
       "\"\"\"\n",
       "                            OLS Regression Results                            \n",
       "==============================================================================\n",
       "Dep. Variable:           Concreteness   R-squared:                       0.082\n",
       "Model:                            OLS   Adj. R-squared:                  0.070\n",
       "Method:                 Least Squares   F-statistic:                     6.613\n",
       "Date:                Thu, 31 Jan 2019   Prob (F-statistic):           4.29e-33\n",
       "Time:                        15:35:27   Log-Likelihood:                -4594.3\n",
       "No. Observations:                2984   AIC:                             9271.\n",
       "Df Residuals:                    2943   BIC:                             9517.\n",
       "Df Model:                          40                                         \n",
       "Covariance Type:            nonrobust                                         \n",
       "================================================================================\n",
       "                   coef    std err          t      P>|t|      [0.025      0.975]\n",
       "--------------------------------------------------------------------------------\n",
       "Intercept        4.4903      0.308     14.567      0.000       3.886       5.095\n",
       "initial[T.$]    -0.0924      0.400     -0.231      0.817      -0.877       0.692\n",
       "initial[T.1]    -0.3185      0.410     -0.777      0.437      -1.122       0.486\n",
       "initial[T.2]     0.4957      0.410      1.208      0.227      -0.309       1.300\n",
       "initial[T.3]     0.4683      0.592      0.791      0.429      -0.693       1.629\n",
       "initial[T.4]     1.4132      0.859      1.645      0.100      -0.271       3.097\n",
       "initial[T.5]    -0.2110      0.396     -0.533      0.594      -0.987       0.565\n",
       "initial[T.6]    -0.4633      0.526     -0.881      0.378      -1.495       0.568\n",
       "initial[T.7]     0.3182      0.859      0.371      0.711      -1.366       2.002\n",
       "initial[T.8]     0.3880      0.723      0.537      0.591      -1.029       1.805\n",
       "initial[T.@]    -0.7793      0.345     -2.261      0.024      -1.455      -0.103\n",
       "initial[T.D]    -1.9588      0.448     -4.376      0.000      -2.836      -1.081\n",
       "initial[T.E]    -0.2658      0.352     -0.755      0.450      -0.956       0.424\n",
       "initial[T.I]    -0.5518      0.332     -1.662      0.097      -1.203       0.099\n",
       "initial[T.J]     0.7396      0.359      2.058      0.040       0.035       1.444\n",
       "initial[T.Q]    -0.1565      0.400     -0.391      0.696      -0.941       0.628\n",
       "initial[T.S]     0.6869      0.353      1.945      0.052      -0.006       1.379\n",
       "initial[T.T]    -0.1029      0.375     -0.275      0.784      -0.838       0.632\n",
       "initial[T.V]    -0.2120      0.400     -0.530      0.596      -0.997       0.573\n",
       "initial[T._]     0.2540      0.343      0.741      0.459      -0.418       0.926\n",
       "initial[T.b]     0.6531      0.315      2.076      0.038       0.036       1.270\n",
       "initial[T.d]     0.0357      0.318      0.112      0.911      -0.588       0.660\n",
       "initial[T.f]     0.0769      0.316      0.243      0.808      -0.543       0.696\n",
       "initial[T.g]     0.3339      0.325      1.027      0.305      -0.304       0.972\n",
       "initial[T.h]     0.2836      0.322      0.882      0.378      -0.347       0.914\n",
       "initial[T.i]    -0.0584      0.429     -0.136      0.892      -0.900       0.784\n",
       "initial[T.j]    -0.1828      0.379     -0.482      0.630      -0.926       0.561\n",
       "initial[T.k]     0.5278      0.312      1.694      0.090      -0.083       1.139\n",
       "initial[T.l]     0.2439      0.322      0.759      0.448      -0.386       0.874\n",
       "initial[T.m]     0.3156      0.316      1.000      0.317      -0.303       0.934\n",
       "initial[T.n]     0.1056      0.333      0.317      0.751      -0.548       0.759\n",
       "initial[T.p]     0.3387      0.313      1.083      0.279      -0.274       0.952\n",
       "initial[T.q]     0.4367      1.176      0.371      0.711      -1.870       2.743\n",
       "initial[T.r]     0.0559      0.317      0.177      0.860      -0.565       0.677\n",
       "initial[T.s]     0.3351      0.310      1.082      0.279      -0.272       0.942\n",
       "initial[T.t]     0.3941      0.318      1.241      0.215      -0.229       1.017\n",
       "initial[T.v]     0.1604      0.341      0.471      0.638      -0.508       0.829\n",
       "initial[T.w]     0.1340      0.324      0.413      0.679      -0.502       0.770\n",
       "initial[T.z]    -0.3171      0.554     -0.572      0.567      -1.404       0.770\n",
       "initial[T.{]     0.1072      0.333      0.322      0.747      -0.545       0.760\n",
       "SylCnt          -0.0890      0.029     -3.113      0.002      -0.145      -0.033\n",
       "==============================================================================\n",
       "Omnibus:                      962.734   Durbin-Watson:                   1.883\n",
       "Prob(Omnibus):                  0.000   Jarque-Bera (JB):              162.281\n",
       "Skew:                          -0.211   Prob(JB):                     5.77e-36\n",
       "Kurtosis:                       1.939   Cond. No.                         196.\n",
       "==============================================================================\n",
       "\n",
       "Warnings:\n",
       "[1] Standard Errors assume that the covariance matrix of the errors is correctly specified.\n",
       "\"\"\""
      ]
     },
     "execution_count": 6,
     "metadata": {},
     "output_type": "execute_result"
    }
   ],
   "source": [
    "result = sm.ols(formula=\"Concreteness ~ initial + SylCnt\", data=df_merged).fit()\n",
    "result.summary()\n"
   ]
  },
  {
   "cell_type": "code",
   "execution_count": 20,
   "metadata": {},
   "outputs": [
    {
     "data": {
      "text/plain": [
       "0.08246693683217432"
      ]
     },
     "execution_count": 20,
     "metadata": {},
     "output_type": "execute_result"
    }
   ],
   "source": [
    "result.rsquared"
   ]
  },
  {
   "cell_type": "code",
   "execution_count": 21,
   "metadata": {},
   "outputs": [
    {
     "name": "stderr",
     "output_type": "stream",
     "text": [
      "100%|██████████| 1000/1000 [00:35<00:00, 28.40it/s]\n"
     ]
    }
   ],
   "source": [
    "\n",
    "### Shuffling\n",
    "shuffled_rsquares = []\n",
    "true_rsquare = result.rsquared\n",
    "\n",
    "NUM_SHUFFLES = 1000\n",
    "\n",
    "for shuffle in tqdm(range(NUM_SHUFFLES)):\n",
    "    new_df = df_merged.copy()\n",
    "    new_df['shuffled_onset'] = np.random.permutation(new_df['initial'])\n",
    "    new_result = sm.ols(formula=\"Concreteness ~ shuffled_onset + SylCnt\", data=new_df).fit()\n",
    "    shuffled_rsquares.append(new_result.rsquared)"
   ]
  },
  {
   "cell_type": "code",
   "execution_count": 22,
   "metadata": {},
   "outputs": [
    {
     "name": "stdout",
     "output_type": "stream",
     "text": [
      "p=0.0\n"
     ]
    }
   ],
   "source": [
    "p_real = len([r for r in shuffled_rsquares if r >= true_rsquare]) / len(shuffled_rsquares)\n",
    "print(\"p={p}\".format(p=p_real))"
   ]
  },
  {
   "cell_type": "code",
   "execution_count": 23,
   "metadata": {},
   "outputs": [
    {
     "name": "stdout",
     "output_type": "stream",
     "text": [
      "0.023814784995915658\n",
      "0.0028667959317629802\n"
     ]
    }
   ],
   "source": [
    "shuffled_rsquares_np = np.array(shuffled_rsquares)\n",
    "print(np.mean(shuffled_rsquares_np))\n",
    "print(np.std(shuffled_rsquares_np))"
   ]
  },
  {
   "cell_type": "code",
   "execution_count": 24,
   "metadata": {},
   "outputs": [
    {
     "data": {
      "text/plain": [
       "Text(0.5,1,'Real R^2 vs. distribution from random permutations')"
      ]
     },
     "execution_count": 24,
     "metadata": {},
     "output_type": "execute_result"
    },
    {
     "data": {
      "image/png": "[encoded data removed]",
      "text/plain": [
       "<Figure size 432x288 with 1 Axes>"
      ]
     },
     "metadata": {},
     "output_type": "display_data"
    }
   ],
   "source": [
    "plt.hist(shuffled_rsquares)\n",
    "plt.axvline(x=true_rsquare, linestyle=\"dotted\")\n",
    "plt.xlabel(\"Distribution of R^2 values\")\n",
    "plt.title(\"Real R^2 vs. distribution from random permutations\")"
   ]
  },
  {
   "cell_type": "code",
   "execution_count": 25,
   "metadata": {},
   "outputs": [
    {
     "data": {
      "text/plain": [
       "<matplotlib.lines.Line2D at 0x1a28a33f28>"
      ]
     },
     "execution_count": 25,
     "metadata": {},
     "output_type": "execute_result"
    },
    {
     "data": {
      "image/png": "[encoded data removed]",
      "text/plain": [
       "<Figure size 432x288 with 1 Axes>"
      ]
     },
     "metadata": {},
     "output_type": "display_data"
    }
   ],
   "source": [
    "# Rescale\n",
    "df_merged['Concreteness_normalized'] = df_merged['Concreteness'] - np.mean(df_merged['Concreteness'])\n",
    "\n",
    "ax = sn.boxplot(data=df_merged, x=\"initial\", y=\"Concreteness_normalized\")\n",
    "ax.set(xlabel=\"Onset phone\", ylabel=\"Normalized concreteness (to mean of all words)\")\n",
    "ax.axhline(y=0, linestyle=\"dotted\")"
   ]
  },
  {
   "cell_type": "markdown",
   "metadata": {},
   "source": [
    "### Follow-up discussion"
   ]
  },
  {
   "cell_type": "markdown",
   "metadata": {},
   "source": [
    "In the follow-up analysis, we didn't control for features about the rest of the word, and instead asked whether words that begin with particular sounds have systematic differences in their overall concreteness. (Whereas before, we asked whether the same *onset sound* has systematic *impacts* on word concreteness, once we control for the  rest of the word.)\n",
    "\n",
    "Reassuringly, we see the same trend for **/D/**, which again has a consistent and **strong** negative impact on concreteness. We don't see the same trend for **/2/**, though it's unclear whether this is because it's a null relationship or because there are confounding factors (when we don't control for the rest of the word). Critically, the visualization above is comparing the concreteness of words beginning with a given sound to the *mean* concreteness of all words.\n",
    "\n",
    "But we also see systematic patterns for a few others:\n",
    "- Words beginning with **/@/** (e.g. the sound in *away* or *accuser*) are more likely to be **less concrete**.\n",
    "- Words beginning with **/I/** (e.g. the sound in *exertion* or *exclusion*) are more likely to be **less concrete**.\n",
    "- Words beginning with **/b/** (e.g. the sound in *body* or *badge*) are slightly more likely to be **more concrete**.\n",
    "- Words beginning with **/J/** (e.g. *ch-* in cheek) and **/S/** (e.g. \"sh\" in \"shovel\") are more concrete.\n",
    "- Words beginning with **/k/** are weakly more concrete."
   ]
  },
  {
   "cell_type": "code",
   "execution_count": 26,
   "metadata": {},
   "outputs": [
    {
     "data": {
      "text/html": [
       "<div>\n",
       "<style scoped>\n",
       "    .dataframe tbody tr th:only-of-type {\n",
       "        vertical-align: middle;\n",
       "    }\n",
       "\n",
       "    .dataframe tbody tr th {\n",
       "        vertical-align: top;\n",
       "    }\n",
       "\n",
       "    .dataframe thead th {\n",
       "        text-align: right;\n",
       "    }\n",
       "</style>\n",
       "<table border=\"1\" class=\"dataframe\">\n",
       "  <thead>\n",
       "    <tr style=\"text-align: right;\">\n",
       "      <th></th>\n",
       "      <th>Word</th>\n",
       "      <th>CobLog</th>\n",
       "      <th>CompCnt</th>\n",
       "      <th>PhonDISC</th>\n",
       "      <th>Class</th>\n",
       "      <th>SylCnt</th>\n",
       "      <th>Concreteness</th>\n",
       "      <th>initial</th>\n",
       "      <th>word_length</th>\n",
       "      <th>Concreteness_normalized</th>\n",
       "    </tr>\n",
       "  </thead>\n",
       "  <tbody>\n",
       "    <tr>\n",
       "      <th>89</th>\n",
       "      <td>alert</td>\n",
       "      <td>0.60</td>\n",
       "      <td>1</td>\n",
       "      <td>@l3t</td>\n",
       "      <td>N</td>\n",
       "      <td>2</td>\n",
       "      <td>4.00</td>\n",
       "      <td>@</td>\n",
       "      <td>2984</td>\n",
       "      <td>-0.566712</td>\n",
       "    </tr>\n",
       "    <tr>\n",
       "      <th>2504</th>\n",
       "      <td>offend</td>\n",
       "      <td>1.23</td>\n",
       "      <td>0</td>\n",
       "      <td>@fEnd</td>\n",
       "      <td>V</td>\n",
       "      <td>2</td>\n",
       "      <td>3.21</td>\n",
       "      <td>@</td>\n",
       "      <td>2984</td>\n",
       "      <td>-1.356712</td>\n",
       "    </tr>\n",
       "    <tr>\n",
       "      <th>122</th>\n",
       "      <td>amour</td>\n",
       "      <td>0.00</td>\n",
       "      <td>0</td>\n",
       "      <td>@m9R</td>\n",
       "      <td>N</td>\n",
       "      <td>2</td>\n",
       "      <td>3.08</td>\n",
       "      <td>@</td>\n",
       "      <td>2984</td>\n",
       "      <td>-1.486712</td>\n",
       "    </tr>\n",
       "    <tr>\n",
       "      <th>20</th>\n",
       "      <td>abyss</td>\n",
       "      <td>0.60</td>\n",
       "      <td>0</td>\n",
       "      <td>@bIs</td>\n",
       "      <td>N</td>\n",
       "      <td>2</td>\n",
       "      <td>4.50</td>\n",
       "      <td>@</td>\n",
       "      <td>2984</td>\n",
       "      <td>-0.066712</td>\n",
       "    </tr>\n",
       "    <tr>\n",
       "      <th>21</th>\n",
       "      <td>academy</td>\n",
       "      <td>1.04</td>\n",
       "      <td>0</td>\n",
       "      <td>@k{d@mI</td>\n",
       "      <td>N</td>\n",
       "      <td>4</td>\n",
       "      <td>4.99</td>\n",
       "      <td>@</td>\n",
       "      <td>2984</td>\n",
       "      <td>0.423288</td>\n",
       "    </tr>\n",
       "  </tbody>\n",
       "</table>\n",
       "</div>"
      ],
      "text/plain": [
       "         Word  CobLog  CompCnt PhonDISC Class  SylCnt  Concreteness initial  \\\n",
       "89      alert    0.60        1     @l3t     N       2          4.00       @   \n",
       "2504   offend    1.23        0    @fEnd     V       2          3.21       @   \n",
       "122     amour    0.00        0     @m9R     N       2          3.08       @   \n",
       "20      abyss    0.60        0     @bIs     N       2          4.50       @   \n",
       "21    academy    1.04        0  @k{d@mI     N       4          4.99       @   \n",
       "\n",
       "      word_length  Concreteness_normalized  \n",
       "89           2984                -0.566712  \n",
       "2504         2984                -1.356712  \n",
       "122          2984                -1.486712  \n",
       "20           2984                -0.066712  \n",
       "21           2984                 0.423288  "
      ]
     },
     "execution_count": 26,
     "metadata": {},
     "output_type": "execute_result"
    }
   ],
   "source": [
    "df_merged[df_merged['initial'] == \"@\"].sample(5)"
   ]
  },
  {
   "cell_type": "code",
   "execution_count": 27,
   "metadata": {},
   "outputs": [
    {
     "data": {
      "text/html": [
       "<div>\n",
       "<style scoped>\n",
       "    .dataframe tbody tr th:only-of-type {\n",
       "        vertical-align: middle;\n",
       "    }\n",
       "\n",
       "    .dataframe tbody tr th {\n",
       "        vertical-align: top;\n",
       "    }\n",
       "\n",
       "    .dataframe thead th {\n",
       "        text-align: right;\n",
       "    }\n",
       "</style>\n",
       "<table border=\"1\" class=\"dataframe\">\n",
       "  <thead>\n",
       "    <tr style=\"text-align: right;\">\n",
       "      <th></th>\n",
       "      <th>Word</th>\n",
       "      <th>CobLog</th>\n",
       "      <th>CompCnt</th>\n",
       "      <th>PhonDISC</th>\n",
       "      <th>Class</th>\n",
       "      <th>SylCnt</th>\n",
       "      <th>Concreteness</th>\n",
       "      <th>initial</th>\n",
       "      <th>word_length</th>\n",
       "      <th>Concreteness_normalized</th>\n",
       "    </tr>\n",
       "  </thead>\n",
       "  <tbody>\n",
       "    <tr>\n",
       "      <th>1883</th>\n",
       "      <td>insolent</td>\n",
       "      <td>0.30</td>\n",
       "      <td>0</td>\n",
       "      <td>Ins@l@nt</td>\n",
       "      <td>A</td>\n",
       "      <td>3</td>\n",
       "      <td>3.11</td>\n",
       "      <td>I</td>\n",
       "      <td>2984</td>\n",
       "      <td>-1.456712</td>\n",
       "    </tr>\n",
       "    <tr>\n",
       "      <th>1810</th>\n",
       "      <td>impetus</td>\n",
       "      <td>0.70</td>\n",
       "      <td>1</td>\n",
       "      <td>ImpIt@s</td>\n",
       "      <td>N</td>\n",
       "      <td>3</td>\n",
       "      <td>2.78</td>\n",
       "      <td>I</td>\n",
       "      <td>2984</td>\n",
       "      <td>-1.786712</td>\n",
       "    </tr>\n",
       "    <tr>\n",
       "      <th>1831</th>\n",
       "      <td>incident</td>\n",
       "      <td>1.56</td>\n",
       "      <td>1</td>\n",
       "      <td>InsId@nt</td>\n",
       "      <td>N</td>\n",
       "      <td>3</td>\n",
       "      <td>3.40</td>\n",
       "      <td>I</td>\n",
       "      <td>2984</td>\n",
       "      <td>-1.166712</td>\n",
       "    </tr>\n",
       "    <tr>\n",
       "      <th>1829</th>\n",
       "      <td>incense</td>\n",
       "      <td>0.60</td>\n",
       "      <td>1</td>\n",
       "      <td>InsEns</td>\n",
       "      <td>N</td>\n",
       "      <td>2</td>\n",
       "      <td>4.99</td>\n",
       "      <td>I</td>\n",
       "      <td>2984</td>\n",
       "      <td>0.423288</td>\n",
       "    </tr>\n",
       "    <tr>\n",
       "      <th>1225</th>\n",
       "      <td>evangelist</td>\n",
       "      <td>0.00</td>\n",
       "      <td>0</td>\n",
       "      <td>Iv{n_@lIst</td>\n",
       "      <td>N</td>\n",
       "      <td>4</td>\n",
       "      <td>5.00</td>\n",
       "      <td>I</td>\n",
       "      <td>2984</td>\n",
       "      <td>0.433288</td>\n",
       "    </tr>\n",
       "  </tbody>\n",
       "</table>\n",
       "</div>"
      ],
      "text/plain": [
       "            Word  CobLog  CompCnt    PhonDISC Class  SylCnt  Concreteness  \\\n",
       "1883    insolent    0.30        0    Ins@l@nt     A       3          3.11   \n",
       "1810     impetus    0.70        1     ImpIt@s     N       3          2.78   \n",
       "1831    incident    1.56        1    InsId@nt     N       3          3.40   \n",
       "1829     incense    0.60        1      InsEns     N       2          4.99   \n",
       "1225  evangelist    0.00        0  Iv{n_@lIst     N       4          5.00   \n",
       "\n",
       "     initial  word_length  Concreteness_normalized  \n",
       "1883       I         2984                -1.456712  \n",
       "1810       I         2984                -1.786712  \n",
       "1831       I         2984                -1.166712  \n",
       "1829       I         2984                 0.423288  \n",
       "1225       I         2984                 0.433288  "
      ]
     },
     "execution_count": 27,
     "metadata": {},
     "output_type": "execute_result"
    }
   ],
   "source": [
    "df_merged[df_merged['initial'] == \"I\"].sample(5)"
   ]
  },
  {
   "cell_type": "code",
   "execution_count": 28,
   "metadata": {},
   "outputs": [
    {
     "data": {
      "text/html": [
       "<div>\n",
       "<style scoped>\n",
       "    .dataframe tbody tr th:only-of-type {\n",
       "        vertical-align: middle;\n",
       "    }\n",
       "\n",
       "    .dataframe tbody tr th {\n",
       "        vertical-align: top;\n",
       "    }\n",
       "\n",
       "    .dataframe thead th {\n",
       "        text-align: right;\n",
       "    }\n",
       "</style>\n",
       "<table border=\"1\" class=\"dataframe\">\n",
       "  <thead>\n",
       "    <tr style=\"text-align: right;\">\n",
       "      <th></th>\n",
       "      <th>Word</th>\n",
       "      <th>CobLog</th>\n",
       "      <th>CompCnt</th>\n",
       "      <th>PhonDISC</th>\n",
       "      <th>Class</th>\n",
       "      <th>SylCnt</th>\n",
       "      <th>Concreteness</th>\n",
       "      <th>initial</th>\n",
       "      <th>word_length</th>\n",
       "      <th>Concreteness_normalized</th>\n",
       "    </tr>\n",
       "  </thead>\n",
       "  <tbody>\n",
       "    <tr>\n",
       "      <th>364</th>\n",
       "      <td>black</td>\n",
       "      <td>1.77</td>\n",
       "      <td>1</td>\n",
       "      <td>bl{k</td>\n",
       "      <td>N</td>\n",
       "      <td>1</td>\n",
       "      <td>4.70</td>\n",
       "      <td>b</td>\n",
       "      <td>2984</td>\n",
       "      <td>0.133288</td>\n",
       "    </tr>\n",
       "    <tr>\n",
       "      <th>444</th>\n",
       "      <td>brief</td>\n",
       "      <td>0.60</td>\n",
       "      <td>1</td>\n",
       "      <td>brif</td>\n",
       "      <td>N</td>\n",
       "      <td>1</td>\n",
       "      <td>3.61</td>\n",
       "      <td>b</td>\n",
       "      <td>2984</td>\n",
       "      <td>-0.956712</td>\n",
       "    </tr>\n",
       "    <tr>\n",
       "      <th>498</th>\n",
       "      <td>buy</td>\n",
       "      <td>0.00</td>\n",
       "      <td>1</td>\n",
       "      <td>b2</td>\n",
       "      <td>N</td>\n",
       "      <td>1</td>\n",
       "      <td>3.70</td>\n",
       "      <td>b</td>\n",
       "      <td>2984</td>\n",
       "      <td>-0.866712</td>\n",
       "    </tr>\n",
       "    <tr>\n",
       "      <th>431</th>\n",
       "      <td>brat</td>\n",
       "      <td>0.30</td>\n",
       "      <td>1</td>\n",
       "      <td>br{t</td>\n",
       "      <td>N</td>\n",
       "      <td>1</td>\n",
       "      <td>5.01</td>\n",
       "      <td>b</td>\n",
       "      <td>2984</td>\n",
       "      <td>0.443288</td>\n",
       "    </tr>\n",
       "    <tr>\n",
       "      <th>253</th>\n",
       "      <td>bag</td>\n",
       "      <td>1.90</td>\n",
       "      <td>1</td>\n",
       "      <td>b{g</td>\n",
       "      <td>N</td>\n",
       "      <td>1</td>\n",
       "      <td>6.03</td>\n",
       "      <td>b</td>\n",
       "      <td>2984</td>\n",
       "      <td>1.463288</td>\n",
       "    </tr>\n",
       "  </tbody>\n",
       "</table>\n",
       "</div>"
      ],
      "text/plain": [
       "      Word  CobLog  CompCnt PhonDISC Class  SylCnt  Concreteness initial  \\\n",
       "364  black    1.77        1     bl{k     N       1          4.70       b   \n",
       "444  brief    0.60        1     brif     N       1          3.61       b   \n",
       "498    buy    0.00        1       b2     N       1          3.70       b   \n",
       "431   brat    0.30        1     br{t     N       1          5.01       b   \n",
       "253    bag    1.90        1      b{g     N       1          6.03       b   \n",
       "\n",
       "     word_length  Concreteness_normalized  \n",
       "364         2984                 0.133288  \n",
       "444         2984                -0.956712  \n",
       "498         2984                -0.866712  \n",
       "431         2984                 0.443288  \n",
       "253         2984                 1.463288  "
      ]
     },
     "execution_count": 28,
     "metadata": {},
     "output_type": "execute_result"
    }
   ],
   "source": [
    "df_merged[df_merged['initial'] == \"b\"].sample(5)"
   ]
  },
  {
   "cell_type": "code",
   "execution_count": 29,
   "metadata": {},
   "outputs": [
    {
     "data": {
      "text/html": [
       "<div>\n",
       "<style scoped>\n",
       "    .dataframe tbody tr th:only-of-type {\n",
       "        vertical-align: middle;\n",
       "    }\n",
       "\n",
       "    .dataframe tbody tr th {\n",
       "        vertical-align: top;\n",
       "    }\n",
       "\n",
       "    .dataframe thead th {\n",
       "        text-align: right;\n",
       "    }\n",
       "</style>\n",
       "<table border=\"1\" class=\"dataframe\">\n",
       "  <thead>\n",
       "    <tr style=\"text-align: right;\">\n",
       "      <th></th>\n",
       "      <th>Word</th>\n",
       "      <th>CobLog</th>\n",
       "      <th>CompCnt</th>\n",
       "      <th>PhonDISC</th>\n",
       "      <th>Class</th>\n",
       "      <th>SylCnt</th>\n",
       "      <th>Concreteness</th>\n",
       "      <th>initial</th>\n",
       "      <th>word_length</th>\n",
       "      <th>Concreteness_normalized</th>\n",
       "    </tr>\n",
       "  </thead>\n",
       "  <tbody>\n",
       "    <tr>\n",
       "      <th>623</th>\n",
       "      <td>child</td>\n",
       "      <td>3.03</td>\n",
       "      <td>1</td>\n",
       "      <td>J2ld</td>\n",
       "      <td>N</td>\n",
       "      <td>1</td>\n",
       "      <td>5.81</td>\n",
       "      <td>J</td>\n",
       "      <td>2984</td>\n",
       "      <td>1.243288</td>\n",
       "    </tr>\n",
       "    <tr>\n",
       "      <th>628</th>\n",
       "      <td>chinchilla</td>\n",
       "      <td>0.00</td>\n",
       "      <td>1</td>\n",
       "      <td>JInJIl@</td>\n",
       "      <td>N</td>\n",
       "      <td>3</td>\n",
       "      <td>5.58</td>\n",
       "      <td>J</td>\n",
       "      <td>2984</td>\n",
       "      <td>1.013288</td>\n",
       "    </tr>\n",
       "    <tr>\n",
       "      <th>618</th>\n",
       "      <td>chestnut</td>\n",
       "      <td>0.70</td>\n",
       "      <td>0</td>\n",
       "      <td>JEsnVt</td>\n",
       "      <td>N</td>\n",
       "      <td>2</td>\n",
       "      <td>6.00</td>\n",
       "      <td>J</td>\n",
       "      <td>2984</td>\n",
       "      <td>1.433288</td>\n",
       "    </tr>\n",
       "    <tr>\n",
       "      <th>637</th>\n",
       "      <td>chop</td>\n",
       "      <td>0.70</td>\n",
       "      <td>1</td>\n",
       "      <td>JQp</td>\n",
       "      <td>N</td>\n",
       "      <td>1</td>\n",
       "      <td>5.55</td>\n",
       "      <td>J</td>\n",
       "      <td>2984</td>\n",
       "      <td>0.983288</td>\n",
       "    </tr>\n",
       "    <tr>\n",
       "      <th>619</th>\n",
       "      <td>chew</td>\n",
       "      <td>0.00</td>\n",
       "      <td>1</td>\n",
       "      <td>Ju</td>\n",
       "      <td>N</td>\n",
       "      <td>1</td>\n",
       "      <td>4.42</td>\n",
       "      <td>J</td>\n",
       "      <td>2984</td>\n",
       "      <td>-0.146712</td>\n",
       "    </tr>\n",
       "  </tbody>\n",
       "</table>\n",
       "</div>"
      ],
      "text/plain": [
       "           Word  CobLog  CompCnt PhonDISC Class  SylCnt  Concreteness initial  \\\n",
       "623       child    3.03        1     J2ld     N       1          5.81       J   \n",
       "628  chinchilla    0.00        1  JInJIl@     N       3          5.58       J   \n",
       "618    chestnut    0.70        0   JEsnVt     N       2          6.00       J   \n",
       "637        chop    0.70        1      JQp     N       1          5.55       J   \n",
       "619        chew    0.00        1       Ju     N       1          4.42       J   \n",
       "\n",
       "     word_length  Concreteness_normalized  \n",
       "623         2984                 1.243288  \n",
       "628         2984                 1.013288  \n",
       "618         2984                 1.433288  \n",
       "637         2984                 0.983288  \n",
       "619         2984                -0.146712  "
      ]
     },
     "execution_count": 29,
     "metadata": {},
     "output_type": "execute_result"
    }
   ],
   "source": [
    "df_merged[df_merged['initial'] == \"J\"].sample(5)"
   ]
  },
  {
   "cell_type": "code",
   "execution_count": 30,
   "metadata": {},
   "outputs": [
    {
     "data": {
      "text/html": [
       "<div>\n",
       "<style scoped>\n",
       "    .dataframe tbody tr th:only-of-type {\n",
       "        vertical-align: middle;\n",
       "    }\n",
       "\n",
       "    .dataframe tbody tr th {\n",
       "        vertical-align: top;\n",
       "    }\n",
       "\n",
       "    .dataframe thead th {\n",
       "        text-align: right;\n",
       "    }\n",
       "</style>\n",
       "<table border=\"1\" class=\"dataframe\">\n",
       "  <thead>\n",
       "    <tr style=\"text-align: right;\">\n",
       "      <th></th>\n",
       "      <th>Word</th>\n",
       "      <th>CobLog</th>\n",
       "      <th>CompCnt</th>\n",
       "      <th>PhonDISC</th>\n",
       "      <th>Class</th>\n",
       "      <th>SylCnt</th>\n",
       "      <th>Concreteness</th>\n",
       "      <th>initial</th>\n",
       "      <th>word_length</th>\n",
       "      <th>Concreteness_normalized</th>\n",
       "    </tr>\n",
       "  </thead>\n",
       "  <tbody>\n",
       "    <tr>\n",
       "      <th>3296</th>\n",
       "      <td>shovel</td>\n",
       "      <td>0.60</td>\n",
       "      <td>1</td>\n",
       "      <td>SVvP</td>\n",
       "      <td>N</td>\n",
       "      <td>2</td>\n",
       "      <td>5.81</td>\n",
       "      <td>S</td>\n",
       "      <td>2984</td>\n",
       "      <td>1.243288</td>\n",
       "    </tr>\n",
       "    <tr>\n",
       "      <th>594</th>\n",
       "      <td>chamois</td>\n",
       "      <td>0.00</td>\n",
       "      <td>0</td>\n",
       "      <td>S{mw#</td>\n",
       "      <td>N</td>\n",
       "      <td>2</td>\n",
       "      <td>4.88</td>\n",
       "      <td>S</td>\n",
       "      <td>2984</td>\n",
       "      <td>0.313288</td>\n",
       "    </tr>\n",
       "    <tr>\n",
       "      <th>3269</th>\n",
       "      <td>she</td>\n",
       "      <td>3.62</td>\n",
       "      <td>1</td>\n",
       "      <td>Si</td>\n",
       "      <td>PRON</td>\n",
       "      <td>1</td>\n",
       "      <td>4.06</td>\n",
       "      <td>S</td>\n",
       "      <td>2984</td>\n",
       "      <td>-0.506712</td>\n",
       "    </tr>\n",
       "    <tr>\n",
       "      <th>3266</th>\n",
       "      <td>shape</td>\n",
       "      <td>1.90</td>\n",
       "      <td>1</td>\n",
       "      <td>S1p</td>\n",
       "      <td>N</td>\n",
       "      <td>1</td>\n",
       "      <td>4.52</td>\n",
       "      <td>S</td>\n",
       "      <td>2984</td>\n",
       "      <td>-0.046712</td>\n",
       "    </tr>\n",
       "    <tr>\n",
       "      <th>3283</th>\n",
       "      <td>shiver</td>\n",
       "      <td>0.48</td>\n",
       "      <td>1</td>\n",
       "      <td>SIv@R</td>\n",
       "      <td>N</td>\n",
       "      <td>2</td>\n",
       "      <td>4.55</td>\n",
       "      <td>S</td>\n",
       "      <td>2984</td>\n",
       "      <td>-0.016712</td>\n",
       "    </tr>\n",
       "  </tbody>\n",
       "</table>\n",
       "</div>"
      ],
      "text/plain": [
       "         Word  CobLog  CompCnt PhonDISC Class  SylCnt  Concreteness initial  \\\n",
       "3296   shovel    0.60        1     SVvP     N       2          5.81       S   \n",
       "594   chamois    0.00        0    S{mw#     N       2          4.88       S   \n",
       "3269      she    3.62        1       Si  PRON       1          4.06       S   \n",
       "3266    shape    1.90        1      S1p     N       1          4.52       S   \n",
       "3283   shiver    0.48        1    SIv@R     N       2          4.55       S   \n",
       "\n",
       "      word_length  Concreteness_normalized  \n",
       "3296         2984                 1.243288  \n",
       "594          2984                 0.313288  \n",
       "3269         2984                -0.506712  \n",
       "3266         2984                -0.046712  \n",
       "3283         2984                -0.016712  "
      ]
     },
     "execution_count": 30,
     "metadata": {},
     "output_type": "execute_result"
    }
   ],
   "source": [
    "df_merged[df_merged['initial'] == \"S\"].sample(5)"
   ]
  }
 ],
 "metadata": {
  "kernelspec": {
   "display_name": "Python 3",
   "language": "python",
   "name": "python3"
  },
  "language_info": {
   "codemirror_mode": {
    "name": "ipython",
    "version": 3
   },
   "file_extension": ".py",
   "mimetype": "text/x-python",
   "name": "python",
   "nbconvert_exporter": "python",
   "pygments_lexer": "ipython3",
   "version": "3.7.1"
  }
 },
 "nbformat": 4,
 "nbformat_minor": 2
}
