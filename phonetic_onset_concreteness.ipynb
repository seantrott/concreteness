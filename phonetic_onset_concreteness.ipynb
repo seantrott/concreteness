{
 "cells": [
  {
   "cell_type": "markdown",
   "metadata": {},
   "source": [
    "# Systematic impacts of word onsets on word concreteness\n",
    "\n",
    "Do the sounds in a word impact its meaning? \n",
    "\n",
    "In [another notebook](http://localhost:8888/notebooks/concreteness_impacts.ipynb), I showed that the first character of a word *can* have predictable effects on its concreteness. Here, I repeat this analysis, but with phonetic representations of words (using [PhonDISC](http://groups.linguistics.northwestern.edu/speech_comm_group/documents/CELEX/Phonetic%20codes%20for%20CELEX.pdf)). "
   ]
  },
  {
   "cell_type": "code",
   "execution_count": 2,
   "metadata": {},
   "outputs": [],
   "source": [
    "# Plotting\n",
    "import matplotlib.pyplot as plt\n",
    "import seaborn as sn\n",
    "\n",
    "# Operations\n",
    "import numpy as np\n",
    "import pandas as pd \n",
    "import statsmodels.formula.api as sm\n",
    "from tqdm import tqdm\n",
    "\n",
    "# Custom imports\n",
    "from nlp_utilities.compling import CorpusUtilities\n",
    "from src.utils import get_concreteness_for_word\n",
    "\n",
    "\n"
   ]
  },
  {
   "cell_type": "code",
   "execution_count": 3,
   "metadata": {},
   "outputs": [
    {
     "name": "stderr",
     "output_type": "stream",
     "text": [
      "\r",
      "  0%|          | 0/3947 [00:00<?, ?it/s]"
     ]
    },
    {
     "name": "stdout",
     "output_type": "stream",
     "text": [
      "Number of words left in MRC: 4293\n",
      "Number of words in CELEX: 46133\n",
      "Number of words in both MRC and CELEX: 4136\n",
      "Number of words left: 3947\n",
      "Getting minimal sets...\n"
     ]
    },
    {
     "name": "stderr",
     "output_type": "stream",
     "text": [
      "100%|██████████| 3947/3947 [01:25<00:00, 45.93it/s] \n"
     ]
    }
   ],
   "source": [
    "# Set global variables\n",
    "DATA_PATH = \"data/raw/mrc_concreteness.csv\"\n",
    "CHARACTER_INDEX\t= 0\n",
    "\n",
    "# Get data\n",
    "df = pd.read_csv(DATA_PATH, sep=\"\\t\")\n",
    "df['Word'] = df['Word'].str.lower()\n",
    "\n",
    "# Rescale concreteness\n",
    "df['Concreteness'] = df['Concreteness'] / 100\n",
    "\n",
    "# Drop duplicates\n",
    "df = df.drop_duplicates(subset=\"Word\")\n",
    "print(\"Number of words left in MRC: {num}\".format(num=len(df)))\n",
    "\n",
    "# Merge with celex\n",
    "df_celex = pd.read_csv(\"data/raw/celex_all.csv\", sep = \"\\\\\")\n",
    "df_celex = df_celex.drop_duplicates(subset='Word')\n",
    "print(\"Number of words in CELEX: {num}\".format(num=len(df_celex)))\n",
    "\n",
    "# Merge together to get phonetic representations\n",
    "df_merged = df_celex.merge(df, on=\"Word\")\n",
    "print(\"Number of words in both MRC and CELEX: {num}\".format(num=len(df_merged)))\n",
    "\n",
    "# Drop duplicate phonetic representations (homophones)\n",
    "df_merged = df_merged.drop_duplicates(subset = 'PhonDISC')\n",
    "print(\"Number of words left: {num}\".format(num=len(df_merged)))\n",
    "\n",
    "# Get minimal sets\n",
    "print(\"Getting minimal sets...\")\n",
    "minimal_sets = CorpusUtilities.get_minimal_orthographic_sets(df_merged['PhonDISC'], index=CHARACTER_INDEX)\n",
    "print(\"Number of minimal sets: {num}\".format(num=len(minimal_sets)))"
   ]
  },
  {
   "cell_type": "code",
   "execution_count": 4,
   "metadata": {},
   "outputs": [
    {
     "name": "stderr",
     "output_type": "stream",
     "text": [
      "100%|██████████| 412/412 [00:01<00:00, 219.61it/s]\n"
     ]
    }
   ],
   "source": [
    "# Calculate onset impact\n",
    "onset_to_impact = []\n",
    "for set_index, ms in tqdm(list(enumerate(minimal_sets))):\n",
    "\tletters = [w[CHARACTER_INDEX] for w in ms]\n",
    "\tby_word_cnc = get_concreteness_for_word(ms, df_merged, column='PhonDISC')\n",
    "\tmean_cnc = np.mean(by_word_cnc)\n",
    "\tfor index, onset in enumerate(letters):\n",
    "\t\tto_add = [onset, by_word_cnc[index] - mean_cnc, mean_cnc, ms[index], set_index]\n",
    "\t\tonset_to_impact.append(to_add)\n",
    "\n",
    "COLUMNS = ['onset', 'concreteness_impact', 'set_mean', 'original_word', 'set_index']\n",
    "final_df = pd.DataFrame(onset_to_impact, columns=COLUMNS)\n",
    "\n"
   ]
  },
  {
   "cell_type": "markdown",
   "metadata": {},
   "source": [
    "## Analysis\n",
    "\n",
    "Now we look at whether particular onsets have systematic impacts on the concreteness of the words in which they appear."
   ]
  },
  {
   "cell_type": "code",
   "execution_count": 5,
   "metadata": {},
   "outputs": [
    {
     "data": {
      "text/html": [
       "<table class=\"simpletable\">\n",
       "<caption>OLS Regression Results</caption>\n",
       "<tr>\n",
       "  <th>Dep. Variable:</th>    <td>concreteness_impact</td> <th>  R-squared:         </th> <td>   0.077</td>\n",
       "</tr>\n",
       "<tr>\n",
       "  <th>Model:</th>                    <td>OLS</td>         <th>  Adj. R-squared:    </th> <td>   0.051</td>\n",
       "</tr>\n",
       "<tr>\n",
       "  <th>Method:</th>              <td>Least Squares</td>    <th>  F-statistic:       </th> <td>   2.984</td>\n",
       "</tr>\n",
       "<tr>\n",
       "  <th>Date:</th>              <td>Tue, 13 Nov 2018</td>   <th>  Prob (F-statistic):</th> <td>5.67e-09</td>\n",
       "</tr>\n",
       "<tr>\n",
       "  <th>Time:</th>                  <td>13:51:27</td>       <th>  Log-Likelihood:    </th> <td> -1851.9</td>\n",
       "</tr>\n",
       "<tr>\n",
       "  <th>No. Observations:</th>       <td>  1391</td>        <th>  AIC:               </th> <td>   3782.</td>\n",
       "</tr>\n",
       "<tr>\n",
       "  <th>Df Residuals:</th>           <td>  1352</td>        <th>  BIC:               </th> <td>   3986.</td>\n",
       "</tr>\n",
       "<tr>\n",
       "  <th>Df Model:</th>               <td>    38</td>        <th>                     </th>     <td> </td>   \n",
       "</tr>\n",
       "<tr>\n",
       "  <th>Covariance Type:</th>       <td>nonrobust</td>      <th>                     </th>     <td> </td>   \n",
       "</tr>\n",
       "</table>\n",
       "<table class=\"simpletable\">\n",
       "<tr>\n",
       "       <td></td>         <th>coef</th>     <th>std err</th>      <th>t</th>      <th>P>|t|</th>  <th>[0.025</th>    <th>0.975]</th>  \n",
       "</tr>\n",
       "<tr>\n",
       "  <th>Intercept</th>  <td>   -0.1653</td> <td>    0.351</td> <td>   -0.471</td> <td> 0.638</td> <td>   -0.854</td> <td>    0.524</td>\n",
       "</tr>\n",
       "<tr>\n",
       "  <th>onset[T.$]</th> <td>   -0.2640</td> <td>    0.497</td> <td>   -0.531</td> <td> 0.595</td> <td>   -1.238</td> <td>    0.710</td>\n",
       "</tr>\n",
       "<tr>\n",
       "  <th>onset[T.1]</th> <td>   -0.2689</td> <td>    0.481</td> <td>   -0.559</td> <td> 0.576</td> <td>   -1.212</td> <td>    0.675</td>\n",
       "</tr>\n",
       "<tr>\n",
       "  <th>onset[T.2]</th> <td>    1.2057</td> <td>    0.582</td> <td>    2.070</td> <td> 0.039</td> <td>    0.063</td> <td>    2.348</td>\n",
       "</tr>\n",
       "<tr>\n",
       "  <th>onset[T.3]</th> <td>    0.7997</td> <td>    0.641</td> <td>    1.247</td> <td> 0.213</td> <td>   -0.458</td> <td>    2.058</td>\n",
       "</tr>\n",
       "<tr>\n",
       "  <th>onset[T.4]</th> <td>    0.8924</td> <td>    0.745</td> <td>    1.198</td> <td> 0.231</td> <td>   -0.569</td> <td>    2.354</td>\n",
       "</tr>\n",
       "<tr>\n",
       "  <th>onset[T.5]</th> <td>    0.4027</td> <td>    0.449</td> <td>    0.896</td> <td> 0.370</td> <td>   -0.479</td> <td>    1.284</td>\n",
       "</tr>\n",
       "<tr>\n",
       "  <th>onset[T.6]</th> <td>    0.1581</td> <td>    0.745</td> <td>    0.212</td> <td> 0.832</td> <td>   -1.304</td> <td>    1.620</td>\n",
       "</tr>\n",
       "<tr>\n",
       "  <th>onset[T.7]</th> <td>    0.8615</td> <td>    0.745</td> <td>    1.156</td> <td> 0.248</td> <td>   -0.600</td> <td>    2.323</td>\n",
       "</tr>\n",
       "<tr>\n",
       "  <th>onset[T.8]</th> <td>    0.4465</td> <td>    0.745</td> <td>    0.599</td> <td> 0.549</td> <td>   -1.015</td> <td>    1.908</td>\n",
       "</tr>\n",
       "<tr>\n",
       "  <th>onset[T.@]</th> <td>   -0.7464</td> <td>    0.641</td> <td>   -1.164</td> <td> 0.245</td> <td>   -2.004</td> <td>    0.512</td>\n",
       "</tr>\n",
       "<tr>\n",
       "  <th>onset[T.D]</th> <td>   -1.8833</td> <td>    0.458</td> <td>   -4.112</td> <td> 0.000</td> <td>   -2.782</td> <td>   -0.985</td>\n",
       "</tr>\n",
       "<tr>\n",
       "  <th>onset[T.E]</th> <td>    0.2090</td> <td>    0.582</td> <td>    0.359</td> <td> 0.720</td> <td>   -0.934</td> <td>    1.352</td>\n",
       "</tr>\n",
       "<tr>\n",
       "  <th>onset[T.I]</th> <td>    0.1090</td> <td>    0.517</td> <td>    0.211</td> <td> 0.833</td> <td>   -0.905</td> <td>    1.123</td>\n",
       "</tr>\n",
       "<tr>\n",
       "  <th>onset[T.J]</th> <td>    0.5574</td> <td>    0.403</td> <td>    1.382</td> <td> 0.167</td> <td>   -0.234</td> <td>    1.349</td>\n",
       "</tr>\n",
       "<tr>\n",
       "  <th>onset[T.Q]</th> <td>    0.2631</td> <td>    0.544</td> <td>    0.483</td> <td> 0.629</td> <td>   -0.804</td> <td>    1.331</td>\n",
       "</tr>\n",
       "<tr>\n",
       "  <th>onset[T.S]</th> <td>    0.3283</td> <td>    0.387</td> <td>    0.849</td> <td> 0.396</td> <td>   -0.430</td> <td>    1.087</td>\n",
       "</tr>\n",
       "<tr>\n",
       "  <th>onset[T.T]</th> <td>   -0.1874</td> <td>    0.397</td> <td>   -0.472</td> <td> 0.637</td> <td>   -0.967</td> <td>    0.592</td>\n",
       "</tr>\n",
       "<tr>\n",
       "  <th>onset[T.V]</th> <td>   -0.0931</td> <td>    0.517</td> <td>   -0.180</td> <td> 0.857</td> <td>   -1.107</td> <td>    0.921</td>\n",
       "</tr>\n",
       "<tr>\n",
       "  <th>onset[T._]</th> <td>    0.1834</td> <td>    0.388</td> <td>    0.473</td> <td> 0.636</td> <td>   -0.577</td> <td>    0.944</td>\n",
       "</tr>\n",
       "<tr>\n",
       "  <th>onset[T.b]</th> <td>    0.3475</td> <td>    0.363</td> <td>    0.959</td> <td> 0.338</td> <td>   -0.364</td> <td>    1.059</td>\n",
       "</tr>\n",
       "<tr>\n",
       "  <th>onset[T.d]</th> <td>    0.2132</td> <td>    0.368</td> <td>    0.579</td> <td> 0.563</td> <td>   -0.509</td> <td>    0.936</td>\n",
       "</tr>\n",
       "<tr>\n",
       "  <th>onset[T.f]</th> <td>    0.1168</td> <td>    0.364</td> <td>    0.320</td> <td> 0.749</td> <td>   -0.598</td> <td>    0.832</td>\n",
       "</tr>\n",
       "<tr>\n",
       "  <th>onset[T.g]</th> <td>    0.2187</td> <td>    0.375</td> <td>    0.584</td> <td> 0.559</td> <td>   -0.516</td> <td>    0.954</td>\n",
       "</tr>\n",
       "<tr>\n",
       "  <th>onset[T.h]</th> <td>    0.1072</td> <td>    0.367</td> <td>    0.292</td> <td> 0.770</td> <td>   -0.613</td> <td>    0.827</td>\n",
       "</tr>\n",
       "<tr>\n",
       "  <th>onset[T.i]</th> <td>    0.2051</td> <td>    0.517</td> <td>    0.397</td> <td> 0.692</td> <td>   -0.809</td> <td>    1.219</td>\n",
       "</tr>\n",
       "<tr>\n",
       "  <th>onset[T.j]</th> <td>    0.0740</td> <td>    0.430</td> <td>    0.172</td> <td> 0.863</td> <td>   -0.770</td> <td>    0.918</td>\n",
       "</tr>\n",
       "<tr>\n",
       "  <th>onset[T.k]</th> <td>    0.4917</td> <td>    0.362</td> <td>    1.358</td> <td> 0.175</td> <td>   -0.219</td> <td>    1.202</td>\n",
       "</tr>\n",
       "<tr>\n",
       "  <th>onset[T.l]</th> <td>    0.0892</td> <td>    0.366</td> <td>    0.244</td> <td> 0.808</td> <td>   -0.629</td> <td>    0.807</td>\n",
       "</tr>\n",
       "<tr>\n",
       "  <th>onset[T.m]</th> <td>   -0.0614</td> <td>    0.367</td> <td>   -0.167</td> <td> 0.867</td> <td>   -0.781</td> <td>    0.658</td>\n",
       "</tr>\n",
       "<tr>\n",
       "  <th>onset[T.n]</th> <td>   -0.1024</td> <td>    0.377</td> <td>   -0.272</td> <td> 0.786</td> <td>   -0.842</td> <td>    0.637</td>\n",
       "</tr>\n",
       "<tr>\n",
       "  <th>onset[T.p]</th> <td>    0.3279</td> <td>    0.364</td> <td>    0.902</td> <td> 0.367</td> <td>   -0.386</td> <td>    1.041</td>\n",
       "</tr>\n",
       "<tr>\n",
       "  <th>onset[T.r]</th> <td>    0.2091</td> <td>    0.366</td> <td>    0.572</td> <td> 0.568</td> <td>   -0.509</td> <td>    0.927</td>\n",
       "</tr>\n",
       "<tr>\n",
       "  <th>onset[T.s]</th> <td>    0.1434</td> <td>    0.364</td> <td>    0.393</td> <td> 0.694</td> <td>   -0.571</td> <td>    0.858</td>\n",
       "</tr>\n",
       "<tr>\n",
       "  <th>onset[T.t]</th> <td>    0.2503</td> <td>    0.366</td> <td>    0.684</td> <td> 0.494</td> <td>   -0.468</td> <td>    0.969</td>\n",
       "</tr>\n",
       "<tr>\n",
       "  <th>onset[T.v]</th> <td>    0.0609</td> <td>    0.401</td> <td>    0.152</td> <td> 0.879</td> <td>   -0.726</td> <td>    0.848</td>\n",
       "</tr>\n",
       "<tr>\n",
       "  <th>onset[T.w]</th> <td>   -0.1247</td> <td>    0.368</td> <td>   -0.339</td> <td> 0.735</td> <td>   -0.847</td> <td>    0.598</td>\n",
       "</tr>\n",
       "<tr>\n",
       "  <th>onset[T.z]</th> <td>   -0.0389</td> <td>    0.582</td> <td>   -0.067</td> <td> 0.947</td> <td>   -1.182</td> <td>    1.104</td>\n",
       "</tr>\n",
       "<tr>\n",
       "  <th>onset[T.{]</th> <td>    0.0046</td> <td>    0.430</td> <td>    0.011</td> <td> 0.991</td> <td>   -0.839</td> <td>    0.848</td>\n",
       "</tr>\n",
       "</table>\n",
       "<table class=\"simpletable\">\n",
       "<tr>\n",
       "  <th>Omnibus:</th>       <td>25.073</td> <th>  Durbin-Watson:     </th> <td>   2.437</td>\n",
       "</tr>\n",
       "<tr>\n",
       "  <th>Prob(Omnibus):</th> <td> 0.000</td> <th>  Jarque-Bera (JB):  </th> <td>  15.040</td>\n",
       "</tr>\n",
       "<tr>\n",
       "  <th>Skew:</th>          <td>-0.078</td> <th>  Prob(JB):          </th> <td>0.000542</td>\n",
       "</tr>\n",
       "<tr>\n",
       "  <th>Kurtosis:</th>      <td> 2.515</td> <th>  Cond. No.          </th> <td>    91.4</td>\n",
       "</tr>\n",
       "</table><br/><br/>Warnings:<br/>[1] Standard Errors assume that the covariance matrix of the errors is correctly specified."
      ],
      "text/plain": [
       "<class 'statsmodels.iolib.summary.Summary'>\n",
       "\"\"\"\n",
       "                             OLS Regression Results                            \n",
       "===============================================================================\n",
       "Dep. Variable:     concreteness_impact   R-squared:                       0.077\n",
       "Model:                             OLS   Adj. R-squared:                  0.051\n",
       "Method:                  Least Squares   F-statistic:                     2.984\n",
       "Date:                 Tue, 13 Nov 2018   Prob (F-statistic):           5.67e-09\n",
       "Time:                         13:51:27   Log-Likelihood:                -1851.9\n",
       "No. Observations:                 1391   AIC:                             3782.\n",
       "Df Residuals:                     1352   BIC:                             3986.\n",
       "Df Model:                           38                                         \n",
       "Covariance Type:             nonrobust                                         \n",
       "==============================================================================\n",
       "                 coef    std err          t      P>|t|      [0.025      0.975]\n",
       "------------------------------------------------------------------------------\n",
       "Intercept     -0.1653      0.351     -0.471      0.638      -0.854       0.524\n",
       "onset[T.$]    -0.2640      0.497     -0.531      0.595      -1.238       0.710\n",
       "onset[T.1]    -0.2689      0.481     -0.559      0.576      -1.212       0.675\n",
       "onset[T.2]     1.2057      0.582      2.070      0.039       0.063       2.348\n",
       "onset[T.3]     0.7997      0.641      1.247      0.213      -0.458       2.058\n",
       "onset[T.4]     0.8924      0.745      1.198      0.231      -0.569       2.354\n",
       "onset[T.5]     0.4027      0.449      0.896      0.370      -0.479       1.284\n",
       "onset[T.6]     0.1581      0.745      0.212      0.832      -1.304       1.620\n",
       "onset[T.7]     0.8615      0.745      1.156      0.248      -0.600       2.323\n",
       "onset[T.8]     0.4465      0.745      0.599      0.549      -1.015       1.908\n",
       "onset[T.@]    -0.7464      0.641     -1.164      0.245      -2.004       0.512\n",
       "onset[T.D]    -1.8833      0.458     -4.112      0.000      -2.782      -0.985\n",
       "onset[T.E]     0.2090      0.582      0.359      0.720      -0.934       1.352\n",
       "onset[T.I]     0.1090      0.517      0.211      0.833      -0.905       1.123\n",
       "onset[T.J]     0.5574      0.403      1.382      0.167      -0.234       1.349\n",
       "onset[T.Q]     0.2631      0.544      0.483      0.629      -0.804       1.331\n",
       "onset[T.S]     0.3283      0.387      0.849      0.396      -0.430       1.087\n",
       "onset[T.T]    -0.1874      0.397     -0.472      0.637      -0.967       0.592\n",
       "onset[T.V]    -0.0931      0.517     -0.180      0.857      -1.107       0.921\n",
       "onset[T._]     0.1834      0.388      0.473      0.636      -0.577       0.944\n",
       "onset[T.b]     0.3475      0.363      0.959      0.338      -0.364       1.059\n",
       "onset[T.d]     0.2132      0.368      0.579      0.563      -0.509       0.936\n",
       "onset[T.f]     0.1168      0.364      0.320      0.749      -0.598       0.832\n",
       "onset[T.g]     0.2187      0.375      0.584      0.559      -0.516       0.954\n",
       "onset[T.h]     0.1072      0.367      0.292      0.770      -0.613       0.827\n",
       "onset[T.i]     0.2051      0.517      0.397      0.692      -0.809       1.219\n",
       "onset[T.j]     0.0740      0.430      0.172      0.863      -0.770       0.918\n",
       "onset[T.k]     0.4917      0.362      1.358      0.175      -0.219       1.202\n",
       "onset[T.l]     0.0892      0.366      0.244      0.808      -0.629       0.807\n",
       "onset[T.m]    -0.0614      0.367     -0.167      0.867      -0.781       0.658\n",
       "onset[T.n]    -0.1024      0.377     -0.272      0.786      -0.842       0.637\n",
       "onset[T.p]     0.3279      0.364      0.902      0.367      -0.386       1.041\n",
       "onset[T.r]     0.2091      0.366      0.572      0.568      -0.509       0.927\n",
       "onset[T.s]     0.1434      0.364      0.393      0.694      -0.571       0.858\n",
       "onset[T.t]     0.2503      0.366      0.684      0.494      -0.468       0.969\n",
       "onset[T.v]     0.0609      0.401      0.152      0.879      -0.726       0.848\n",
       "onset[T.w]    -0.1247      0.368     -0.339      0.735      -0.847       0.598\n",
       "onset[T.z]    -0.0389      0.582     -0.067      0.947      -1.182       1.104\n",
       "onset[T.{]     0.0046      0.430      0.011      0.991      -0.839       0.848\n",
       "==============================================================================\n",
       "Omnibus:                       25.073   Durbin-Watson:                   2.437\n",
       "Prob(Omnibus):                  0.000   Jarque-Bera (JB):               15.040\n",
       "Skew:                          -0.078   Prob(JB):                     0.000542\n",
       "Kurtosis:                       2.515   Cond. No.                         91.4\n",
       "==============================================================================\n",
       "\n",
       "Warnings:\n",
       "[1] Standard Errors assume that the covariance matrix of the errors is correctly specified.\n",
       "\"\"\""
      ]
     },
     "execution_count": 5,
     "metadata": {},
     "output_type": "execute_result"
    }
   ],
   "source": [
    "result = sm.ols(formula=\"concreteness_impact ~ onset\", data=final_df).fit()\n",
    "result.summary()\n"
   ]
  },
  {
   "cell_type": "code",
   "execution_count": 6,
   "metadata": {},
   "outputs": [
    {
     "name": "stderr",
     "output_type": "stream",
     "text": [
      "100%|██████████| 1000/1000 [00:17<00:00, 55.67it/s]\n"
     ]
    }
   ],
   "source": [
    "\n",
    "### Shuffling\n",
    "shuffled_rsquares = []\n",
    "true_rsquare = result.rsquared\n",
    "\n",
    "NUM_SHUFFLES = 1000\n",
    "\n",
    "for shuffle in tqdm(range(NUM_SHUFFLES)):\n",
    "    new_df = final_df.copy()\n",
    "    new_df['shuffled_onset'] = np.random.permutation(new_df['onset'])\n",
    "    new_result = sm.ols(formula=\"concreteness_impact ~ shuffled_onset\", data=new_df).fit()\n",
    "    shuffled_rsquares.append(new_result.rsquared)"
   ]
  },
  {
   "cell_type": "code",
   "execution_count": 7,
   "metadata": {},
   "outputs": [
    {
     "name": "stdout",
     "output_type": "stream",
     "text": [
      "p=0.0\n"
     ]
    }
   ],
   "source": [
    "p_real = len([r for r in shuffled_rsquares if r >= true_rsquare]) / len(shuffled_rsquares)\n",
    "print(\"p={p}\".format(p=p_real))"
   ]
  },
  {
   "cell_type": "code",
   "execution_count": 9,
   "metadata": {},
   "outputs": [
    {
     "data": {
      "text/plain": [
       "Text(0.5,1,'Real R^2 vs. distribution from random permutations')"
      ]
     },
     "execution_count": 9,
     "metadata": {},
     "output_type": "execute_result"
    },
    {
     "data": {
      "image/png": "[encoded data removed]",
      "text/plain": [
       "<Figure size 432x288 with 1 Axes>"
      ]
     },
     "metadata": {},
     "output_type": "display_data"
    }
   ],
   "source": [
    "plt.hist(shuffled_rsquares)\n",
    "plt.axvline(x=true_rsquare, linestyle=\"dotted\")\n",
    "plt.xlabel(\"Distribution of R^2 values\")\n",
    "plt.title(\"Real R^2 vs. distribution from random permutations\")"
   ]
  },
  {
   "cell_type": "code",
   "execution_count": 10,
   "metadata": {},
   "outputs": [
    {
     "data": {
      "text/plain": [
       "<matplotlib.lines.Line2D at 0x1a25858c50>"
      ]
     },
     "execution_count": 10,
     "metadata": {},
     "output_type": "execute_result"
    },
    {
     "data": {
      "image/png": "[encoded data removed]",
      "text/plain": [
       "<Figure size 432x288 with 1 Axes>"
      ]
     },
     "metadata": {},
     "output_type": "display_data"
    }
   ],
   "source": [
    "ax = sn.boxplot(data=final_df, x=\"onset\", y=\"concreteness_impact\")\n",
    "ax.set(xlabel=\"Onset phone\", ylabel=\"Concreteness impact\")\n",
    "ax.axhline(y=0, linestyle=\"dotted\")"
   ]
  },
  {
   "cell_type": "markdown",
   "metadata": {},
   "source": [
    "## Discussion and exploration)\n",
    "\n",
    "Based on these results, it seems like:\n",
    "\n",
    "First, there is more structure in mappings between phonetic onsets and word concreteness than one would expect by chance, one we control for characteristics about the rest of the word.\n",
    "\n",
    "Certain onsets exhibit particularly strong effects, such as: \n",
    "- **/D/** (the onset in *they*) has a consistently *negative* impact on concreteness.\n",
    "- **/2/** (the onset in *aisle* or *eye*) has a consistently *positive* impact on concreteness."
   ]
  },
  {
   "cell_type": "code",
   "execution_count": 21,
   "metadata": {},
   "outputs": [],
   "source": [
    "df_merged['initial'] = df_merged['PhonDISC'].apply(lambda x: x[0])"
   ]
  },
  {
   "cell_type": "code",
   "execution_count": 29,
   "metadata": {},
   "outputs": [
    {
     "data": {
      "text/html": [
       "<div>\n",
       "<style scoped>\n",
       "    .dataframe tbody tr th:only-of-type {\n",
       "        vertical-align: middle;\n",
       "    }\n",
       "\n",
       "    .dataframe tbody tr th {\n",
       "        vertical-align: top;\n",
       "    }\n",
       "\n",
       "    .dataframe thead th {\n",
       "        text-align: right;\n",
       "    }\n",
       "</style>\n",
       "<table border=\"1\" class=\"dataframe\">\n",
       "  <thead>\n",
       "    <tr style=\"text-align: right;\">\n",
       "      <th></th>\n",
       "      <th>Word</th>\n",
       "      <th>CobLog</th>\n",
       "      <th>CompCnt</th>\n",
       "      <th>PhonDISC</th>\n",
       "      <th>Class</th>\n",
       "      <th>SylCnt</th>\n",
       "      <th>Concreteness</th>\n",
       "      <th>initial</th>\n",
       "    </tr>\n",
       "  </thead>\n",
       "  <tbody>\n",
       "    <tr>\n",
       "      <th>3672</th>\n",
       "      <td>that</td>\n",
       "      <td>0.00</td>\n",
       "      <td>1</td>\n",
       "      <td>D{t</td>\n",
       "      <td>ADV</td>\n",
       "      <td>1</td>\n",
       "      <td>2.32</td>\n",
       "      <td>D</td>\n",
       "    </tr>\n",
       "    <tr>\n",
       "      <th>3701</th>\n",
       "      <td>those</td>\n",
       "      <td>2.95</td>\n",
       "      <td>1</td>\n",
       "      <td>D5z</td>\n",
       "      <td>PRON</td>\n",
       "      <td>1</td>\n",
       "      <td>2.54</td>\n",
       "      <td>D</td>\n",
       "    </tr>\n",
       "    <tr>\n",
       "      <th>3679</th>\n",
       "      <td>then</td>\n",
       "      <td>3.27</td>\n",
       "      <td>1</td>\n",
       "      <td>DEn</td>\n",
       "      <td>ADV</td>\n",
       "      <td>1</td>\n",
       "      <td>1.90</td>\n",
       "      <td>D</td>\n",
       "    </tr>\n",
       "    <tr>\n",
       "      <th>3716</th>\n",
       "      <td>thus</td>\n",
       "      <td>2.25</td>\n",
       "      <td>1</td>\n",
       "      <td>DVs</td>\n",
       "      <td>ADV</td>\n",
       "      <td>1</td>\n",
       "      <td>1.97</td>\n",
       "      <td>D</td>\n",
       "    </tr>\n",
       "    <tr>\n",
       "      <th>3677</th>\n",
       "      <td>them</td>\n",
       "      <td>3.37</td>\n",
       "      <td>1</td>\n",
       "      <td>DEm</td>\n",
       "      <td>PRON</td>\n",
       "      <td>1</td>\n",
       "      <td>3.44</td>\n",
       "      <td>D</td>\n",
       "    </tr>\n",
       "  </tbody>\n",
       "</table>\n",
       "</div>"
      ],
      "text/plain": [
       "       Word  CobLog  CompCnt PhonDISC Class  SylCnt  Concreteness initial\n",
       "3672   that    0.00        1      D{t   ADV       1          2.32       D\n",
       "3701  those    2.95        1      D5z  PRON       1          2.54       D\n",
       "3679   then    3.27        1      DEn   ADV       1          1.90       D\n",
       "3716   thus    2.25        1      DVs   ADV       1          1.97       D\n",
       "3677   them    3.37        1      DEm  PRON       1          3.44       D"
      ]
     },
     "execution_count": 29,
     "metadata": {},
     "output_type": "execute_result"
    }
   ],
   "source": [
    "df_merged[df_merged['initial'] == \"D\"].sample(5)"
   ]
  },
  {
   "cell_type": "code",
   "execution_count": 24,
   "metadata": {},
   "outputs": [
    {
     "data": {
      "text/html": [
       "<div>\n",
       "<style scoped>\n",
       "    .dataframe tbody tr th:only-of-type {\n",
       "        vertical-align: middle;\n",
       "    }\n",
       "\n",
       "    .dataframe tbody tr th {\n",
       "        vertical-align: top;\n",
       "    }\n",
       "\n",
       "    .dataframe thead th {\n",
       "        text-align: right;\n",
       "    }\n",
       "</style>\n",
       "<table border=\"1\" class=\"dataframe\">\n",
       "  <thead>\n",
       "    <tr style=\"text-align: right;\">\n",
       "      <th></th>\n",
       "      <th>Word</th>\n",
       "      <th>CobLog</th>\n",
       "      <th>CompCnt</th>\n",
       "      <th>PhonDISC</th>\n",
       "      <th>Class</th>\n",
       "      <th>SylCnt</th>\n",
       "      <th>Concreteness</th>\n",
       "      <th>initial</th>\n",
       "    </tr>\n",
       "  </thead>\n",
       "  <tbody>\n",
       "    <tr>\n",
       "      <th>83</th>\n",
       "      <td>aisle</td>\n",
       "      <td>1.00</td>\n",
       "      <td>1</td>\n",
       "      <td>2l</td>\n",
       "      <td>N</td>\n",
       "      <td>1</td>\n",
       "      <td>5.09</td>\n",
       "      <td>2</td>\n",
       "    </tr>\n",
       "    <tr>\n",
       "      <th>1264</th>\n",
       "      <td>eye</td>\n",
       "      <td>2.72</td>\n",
       "      <td>1</td>\n",
       "      <td>2</td>\n",
       "      <td>N</td>\n",
       "      <td>1</td>\n",
       "      <td>6.34</td>\n",
       "      <td>2</td>\n",
       "    </tr>\n",
       "    <tr>\n",
       "      <th>1265</th>\n",
       "      <td>eyrie</td>\n",
       "      <td>0.00</td>\n",
       "      <td>0</td>\n",
       "      <td>2@rI</td>\n",
       "      <td>N</td>\n",
       "      <td>3</td>\n",
       "      <td>5.29</td>\n",
       "      <td>2</td>\n",
       "    </tr>\n",
       "    <tr>\n",
       "      <th>1784</th>\n",
       "      <td>ice</td>\n",
       "      <td>1.72</td>\n",
       "      <td>1</td>\n",
       "      <td>2s</td>\n",
       "      <td>N</td>\n",
       "      <td>1</td>\n",
       "      <td>6.21</td>\n",
       "      <td>2</td>\n",
       "    </tr>\n",
       "    <tr>\n",
       "      <th>1785</th>\n",
       "      <td>icicle</td>\n",
       "      <td>0.00</td>\n",
       "      <td>0</td>\n",
       "      <td>2sIkP</td>\n",
       "      <td>N</td>\n",
       "      <td>3</td>\n",
       "      <td>5.69</td>\n",
       "      <td>2</td>\n",
       "    </tr>\n",
       "  </tbody>\n",
       "</table>\n",
       "</div>"
      ],
      "text/plain": [
       "        Word  CobLog  CompCnt PhonDISC Class  SylCnt  Concreteness initial\n",
       "83     aisle    1.00        1       2l     N       1          5.09       2\n",
       "1264     eye    2.72        1        2     N       1          6.34       2\n",
       "1265   eyrie    0.00        0     2@rI     N       3          5.29       2\n",
       "1784     ice    1.72        1       2s     N       1          6.21       2\n",
       "1785  icicle    0.00        0    2sIkP     N       3          5.69       2"
      ]
     },
     "execution_count": 24,
     "metadata": {},
     "output_type": "execute_result"
    }
   ],
   "source": [
    "df_merged[df_merged['initial'] == \"2\"].head(5)"
   ]
  },
  {
   "cell_type": "code",
   "execution_count": null,
   "metadata": {},
   "outputs": [],
   "source": []
  }
 ],
 "metadata": {
  "kernelspec": {
   "display_name": "Python 3",
   "language": "python",
   "name": "python3"
  },
  "language_info": {
   "codemirror_mode": {
    "name": "ipython",
    "version": 3
   },
   "file_extension": ".py",
   "mimetype": "text/x-python",
   "name": "python",
   "nbconvert_exporter": "python",
   "pygments_lexer": "ipython3",
   "version": "3.6.5"
  }
 },
 "nbformat": 4,
 "nbformat_minor": 2
}
