{
 "cells": [
  {
   "cell_type": "code",
   "execution_count": 1,
   "metadata": {},
   "outputs": [],
   "source": [
    "# Plotting\n",
    "import matplotlib.pyplot as plt\n",
    "import seaborn as sn\n",
    "\n",
    "# Operations\n",
    "import numpy as np\n",
    "import pandas as pd \n",
    "import statsmodels.formula.api as sm\n",
    "from tqdm import tqdm\n",
    "import scipy.stats as ss\n",
    "\n",
    "# Custom imports\n",
    "from nlp_utilities.compling import CorpusUtilities\n",
    "from src.utils import get_concreteness_for_word"
   ]
  },
  {
   "cell_type": "code",
   "execution_count": 4,
   "metadata": {},
   "outputs": [],
   "source": [
    "%matplotlib inline\n",
    "%config InlineBackend.figure_format = 'retina'  # makes figs nicer!"
   ]
  },
  {
   "cell_type": "code",
   "execution_count": 30,
   "metadata": {},
   "outputs": [],
   "source": [
    "# Set global variables\n",
    "DATA_PATH = \"data/raw/AoA_ratings_Kuperman_et_al_BRM.csv\"\n",
    "CHARACTER_INDEX\t= 0\n",
    "# Get data\n",
    "df = pd.read_csv(DATA_PATH)\n",
    "df['AoA_mean'] = df['Rating.Mean']"
   ]
  },
  {
   "cell_type": "code",
   "execution_count": 31,
   "metadata": {},
   "outputs": [
    {
     "data": {
      "text/html": [
       "<div>\n",
       "<style scoped>\n",
       "    .dataframe tbody tr th:only-of-type {\n",
       "        vertical-align: middle;\n",
       "    }\n",
       "\n",
       "    .dataframe tbody tr th {\n",
       "        vertical-align: top;\n",
       "    }\n",
       "\n",
       "    .dataframe thead th {\n",
       "        text-align: right;\n",
       "    }\n",
       "</style>\n",
       "<table border=\"1\" class=\"dataframe\">\n",
       "  <thead>\n",
       "    <tr style=\"text-align: right;\">\n",
       "      <th></th>\n",
       "      <th>Word</th>\n",
       "      <th>OccurTotal</th>\n",
       "      <th>OccurNum</th>\n",
       "      <th>Freq_pm</th>\n",
       "      <th>Rating.Mean</th>\n",
       "      <th>Rating.SD</th>\n",
       "      <th>Dunno</th>\n",
       "      <th>AoA_mean</th>\n",
       "    </tr>\n",
       "  </thead>\n",
       "  <tbody>\n",
       "    <tr>\n",
       "      <th>0</th>\n",
       "      <td>a</td>\n",
       "      <td>22.0</td>\n",
       "      <td>22.0</td>\n",
       "      <td>20415.27</td>\n",
       "      <td>2.89</td>\n",
       "      <td>1.21</td>\n",
       "      <td>1.00</td>\n",
       "      <td>2.89</td>\n",
       "    </tr>\n",
       "    <tr>\n",
       "      <th>1</th>\n",
       "      <td>aardvark</td>\n",
       "      <td>18.0</td>\n",
       "      <td>18.0</td>\n",
       "      <td>0.41</td>\n",
       "      <td>9.89</td>\n",
       "      <td>3.66</td>\n",
       "      <td>1.00</td>\n",
       "      <td>9.89</td>\n",
       "    </tr>\n",
       "    <tr>\n",
       "      <th>2</th>\n",
       "      <td>abacus</td>\n",
       "      <td>20.0</td>\n",
       "      <td>13.0</td>\n",
       "      <td>0.24</td>\n",
       "      <td>8.69</td>\n",
       "      <td>3.77</td>\n",
       "      <td>0.65</td>\n",
       "      <td>8.69</td>\n",
       "    </tr>\n",
       "    <tr>\n",
       "      <th>3</th>\n",
       "      <td>abalone</td>\n",
       "      <td>18.0</td>\n",
       "      <td>13.0</td>\n",
       "      <td>0.51</td>\n",
       "      <td>12.23</td>\n",
       "      <td>3.54</td>\n",
       "      <td>0.72</td>\n",
       "      <td>12.23</td>\n",
       "    </tr>\n",
       "    <tr>\n",
       "      <th>4</th>\n",
       "      <td>abandon</td>\n",
       "      <td>19.0</td>\n",
       "      <td>19.0</td>\n",
       "      <td>8.10</td>\n",
       "      <td>8.32</td>\n",
       "      <td>2.75</td>\n",
       "      <td>1.00</td>\n",
       "      <td>8.32</td>\n",
       "    </tr>\n",
       "  </tbody>\n",
       "</table>\n",
       "</div>"
      ],
      "text/plain": [
       "       Word  OccurTotal  OccurNum   Freq_pm  Rating.Mean  Rating.SD  Dunno  \\\n",
       "0         a        22.0      22.0  20415.27         2.89       1.21   1.00   \n",
       "1  aardvark        18.0      18.0      0.41         9.89       3.66   1.00   \n",
       "2    abacus        20.0      13.0      0.24         8.69       3.77   0.65   \n",
       "3   abalone        18.0      13.0      0.51        12.23       3.54   0.72   \n",
       "4   abandon        19.0      19.0      8.10         8.32       2.75   1.00   \n",
       "\n",
       "   AoA_mean  \n",
       "0      2.89  \n",
       "1      9.89  \n",
       "2      8.69  \n",
       "3     12.23  \n",
       "4      8.32  "
      ]
     },
     "execution_count": 31,
     "metadata": {},
     "output_type": "execute_result"
    }
   ],
   "source": [
    "df.head(5)"
   ]
  },
  {
   "cell_type": "code",
   "execution_count": 32,
   "metadata": {},
   "outputs": [
    {
     "name": "stdout",
     "output_type": "stream",
     "text": [
      "Number of words in dataset: 31318\n",
      "Number of words left in dataset: 31124\n",
      "Number of words left in dataset: 30367\n",
      "Number of words left in dataset: 30367\n",
      "Number of words in CELEX: 46133\n",
      "Number of words in both Brysbaert and CELEX: 22690\n"
     ]
    }
   ],
   "source": [
    "print(\"Number of words in dataset: {num}\".format(num=len(df)))\n",
    "\n",
    "# Drop duplicates\n",
    "df = df.drop_duplicates(subset=\"Word\")\n",
    "print(\"Number of words left in dataset: {num}\".format(num=len(df)))\n",
    "\n",
    "# Drop NA\n",
    "df = df.dropna()\n",
    "print(\"Number of words left in dataset: {num}\".format(num=len(df)))\n",
    "\n",
    "# Drop NA rows\n",
    "df = df.drop_duplicates(subset=\"Word\")\n",
    "print(\"Number of words left in dataset: {num}\".format(num=len(df)))\n",
    "\n",
    "# Load celex\n",
    "df_celex = pd.read_csv(\"data/raw/celex_all.csv\", sep = \"\\\\\")\n",
    "df_celex = df_celex.drop_duplicates(subset='Word')\n",
    "print(\"Number of words in CELEX: {num}\".format(num=len(df_celex)))\n",
    "\n",
    "# Merge together to get phonetic representations\n",
    "df_merged = df_celex.merge(df, on=\"Word\")\n",
    "print(\"Number of words in both Brysbaert and CELEX: {num}\".format(num=len(df_merged)))"
   ]
  },
  {
   "cell_type": "code",
   "execution_count": 33,
   "metadata": {},
   "outputs": [
    {
     "name": "stdout",
     "output_type": "stream",
     "text": [
      "Number of words left: 22354\n"
     ]
    }
   ],
   "source": [
    "# Drop duplicate phonetic representations (homophones)\n",
    "df_merged = df_merged.drop_duplicates(subset = 'PhonDISC')\n",
    "print(\"Number of words left: {num}\".format(num=len(df_merged)))"
   ]
  },
  {
   "cell_type": "code",
   "execution_count": 34,
   "metadata": {},
   "outputs": [
    {
     "data": {
      "text/html": [
       "<div>\n",
       "<style scoped>\n",
       "    .dataframe tbody tr th:only-of-type {\n",
       "        vertical-align: middle;\n",
       "    }\n",
       "\n",
       "    .dataframe tbody tr th {\n",
       "        vertical-align: top;\n",
       "    }\n",
       "\n",
       "    .dataframe thead th {\n",
       "        text-align: right;\n",
       "    }\n",
       "</style>\n",
       "<table border=\"1\" class=\"dataframe\">\n",
       "  <thead>\n",
       "    <tr style=\"text-align: right;\">\n",
       "      <th></th>\n",
       "      <th>Word</th>\n",
       "      <th>CobLog</th>\n",
       "      <th>CompCnt</th>\n",
       "      <th>PhonDISC</th>\n",
       "      <th>Class</th>\n",
       "      <th>SylCnt</th>\n",
       "      <th>OccurTotal</th>\n",
       "      <th>OccurNum</th>\n",
       "      <th>Freq_pm</th>\n",
       "      <th>Rating.Mean</th>\n",
       "      <th>Rating.SD</th>\n",
       "      <th>Dunno</th>\n",
       "      <th>AoA_mean</th>\n",
       "    </tr>\n",
       "  </thead>\n",
       "  <tbody>\n",
       "    <tr>\n",
       "      <th>0</th>\n",
       "      <td>a</td>\n",
       "      <td>4.36</td>\n",
       "      <td>1</td>\n",
       "      <td>1</td>\n",
       "      <td>ART</td>\n",
       "      <td>1</td>\n",
       "      <td>22.0</td>\n",
       "      <td>22.0</td>\n",
       "      <td>20415.27</td>\n",
       "      <td>2.89</td>\n",
       "      <td>1.21</td>\n",
       "      <td>1.00</td>\n",
       "      <td>2.89</td>\n",
       "    </tr>\n",
       "    <tr>\n",
       "      <th>1</th>\n",
       "      <td>abacus</td>\n",
       "      <td>0.00</td>\n",
       "      <td>0</td>\n",
       "      <td>{b@k@s</td>\n",
       "      <td>N</td>\n",
       "      <td>3</td>\n",
       "      <td>20.0</td>\n",
       "      <td>13.0</td>\n",
       "      <td>0.24</td>\n",
       "      <td>8.69</td>\n",
       "      <td>3.77</td>\n",
       "      <td>0.65</td>\n",
       "      <td>8.69</td>\n",
       "    </tr>\n",
       "    <tr>\n",
       "      <th>2</th>\n",
       "      <td>abandon</td>\n",
       "      <td>0.30</td>\n",
       "      <td>1</td>\n",
       "      <td>@b{nd@n</td>\n",
       "      <td>N</td>\n",
       "      <td>3</td>\n",
       "      <td>19.0</td>\n",
       "      <td>19.0</td>\n",
       "      <td>8.10</td>\n",
       "      <td>8.32</td>\n",
       "      <td>2.75</td>\n",
       "      <td>1.00</td>\n",
       "      <td>8.32</td>\n",
       "    </tr>\n",
       "    <tr>\n",
       "      <th>3</th>\n",
       "      <td>abandonment</td>\n",
       "      <td>0.70</td>\n",
       "      <td>2</td>\n",
       "      <td>@b{nd@nm@nt</td>\n",
       "      <td>N</td>\n",
       "      <td>4</td>\n",
       "      <td>22.0</td>\n",
       "      <td>22.0</td>\n",
       "      <td>0.96</td>\n",
       "      <td>10.27</td>\n",
       "      <td>2.57</td>\n",
       "      <td>1.00</td>\n",
       "      <td>10.27</td>\n",
       "    </tr>\n",
       "    <tr>\n",
       "      <th>4</th>\n",
       "      <td>abase</td>\n",
       "      <td>0.00</td>\n",
       "      <td>0</td>\n",
       "      <td>@b1s</td>\n",
       "      <td>V</td>\n",
       "      <td>2</td>\n",
       "      <td>19.0</td>\n",
       "      <td>14.0</td>\n",
       "      <td>0.06</td>\n",
       "      <td>14.57</td>\n",
       "      <td>4.29</td>\n",
       "      <td>0.74</td>\n",
       "      <td>14.57</td>\n",
       "    </tr>\n",
       "  </tbody>\n",
       "</table>\n",
       "</div>"
      ],
      "text/plain": [
       "          Word  CobLog  CompCnt     PhonDISC Class  SylCnt  OccurTotal  \\\n",
       "0            a    4.36        1            1   ART       1        22.0   \n",
       "1       abacus    0.00        0       {b@k@s     N       3        20.0   \n",
       "2      abandon    0.30        1      @b{nd@n     N       3        19.0   \n",
       "3  abandonment    0.70        2  @b{nd@nm@nt     N       4        22.0   \n",
       "4        abase    0.00        0         @b1s     V       2        19.0   \n",
       "\n",
       "   OccurNum   Freq_pm  Rating.Mean  Rating.SD  Dunno  AoA_mean  \n",
       "0      22.0  20415.27         2.89       1.21   1.00      2.89  \n",
       "1      13.0      0.24         8.69       3.77   0.65      8.69  \n",
       "2      19.0      8.10         8.32       2.75   1.00      8.32  \n",
       "3      22.0      0.96        10.27       2.57   1.00     10.27  \n",
       "4      14.0      0.06        14.57       4.29   0.74     14.57  "
      ]
     },
     "execution_count": 34,
     "metadata": {},
     "output_type": "execute_result"
    }
   ],
   "source": [
    "df_merged.head(5)"
   ]
  },
  {
   "cell_type": "markdown",
   "metadata": {},
   "source": [
    "## Analysis 1: `AoA ~ Onset phone`\n",
    "\n",
    "First, we analyze `AoA ~ Onset phone` for monosyllabic words only, adding as covariates several other variables known to predict concreteness:\n",
    "\n",
    "- Word length (number of phones)\n",
    "- Grammatical class  \n",
    "- Word frequency  \n",
    "\n",
    "We then compare the R^2 of a model with the real **onset_phone** labels to the distribution of R^2 values obtained by shuffling **onset_phone**, but keeping the other covariates stable."
   ]
  },
  {
   "cell_type": "code",
   "execution_count": 35,
   "metadata": {},
   "outputs": [
    {
     "name": "stdout",
     "output_type": "stream",
     "text": [
      "Number of words left: 11130\n"
     ]
    }
   ],
   "source": [
    "df_monosyllabic = df_merged[df_merged['CompCnt']<=1]\n",
    "print(\"Number of words left: {num}\".format(num=len(df_monosyllabic)))"
   ]
  },
  {
   "cell_type": "code",
   "execution_count": 36,
   "metadata": {},
   "outputs": [
    {
     "name": "stderr",
     "output_type": "stream",
     "text": [
      "/Users/seantrott/anaconda3/lib/python3.7/site-packages/ipykernel_launcher.py:1: SettingWithCopyWarning: \n",
      "A value is trying to be set on a copy of a slice from a DataFrame.\n",
      "Try using .loc[row_indexer,col_indexer] = value instead\n",
      "\n",
      "See the caveats in the documentation: http://pandas.pydata.org/pandas-docs/stable/indexing.html#indexing-view-versus-copy\n",
      "  \"\"\"Entry point for launching an IPython kernel.\n",
      "/Users/seantrott/anaconda3/lib/python3.7/site-packages/ipykernel_launcher.py:2: SettingWithCopyWarning: \n",
      "A value is trying to be set on a copy of a slice from a DataFrame.\n",
      "Try using .loc[row_indexer,col_indexer] = value instead\n",
      "\n",
      "See the caveats in the documentation: http://pandas.pydata.org/pandas-docs/stable/indexing.html#indexing-view-versus-copy\n",
      "  \n"
     ]
    }
   ],
   "source": [
    "df_monosyllabic['onset'] = df_monosyllabic['PhonDISC'].apply(lambda x: x[0])\n",
    "df_monosyllabic['word_length'] = df_monosyllabic['PhonDISC'].apply(lambda x: len(x))"
   ]
  },
  {
   "cell_type": "code",
   "execution_count": 156,
   "metadata": {
    "scrolled": false
   },
   "outputs": [
    {
     "data": {
      "text/html": [
       "<table class=\"simpletable\">\n",
       "<caption>OLS Regression Results</caption>\n",
       "<tr>\n",
       "  <th>Dep. Variable:</th>        <td>AoA_mean</td>     <th>  R-squared:         </th> <td>   0.429</td> \n",
       "</tr>\n",
       "<tr>\n",
       "  <th>Model:</th>                   <td>OLS</td>       <th>  Adj. R-squared:    </th> <td>   0.426</td> \n",
       "</tr>\n",
       "<tr>\n",
       "  <th>Method:</th>             <td>Least Squares</td>  <th>  F-statistic:       </th> <td>   160.1</td> \n",
       "</tr>\n",
       "<tr>\n",
       "  <th>Date:</th>             <td>Sat, 18 Jan 2020</td> <th>  Prob (F-statistic):</th>  <td>  0.00</td>  \n",
       "</tr>\n",
       "<tr>\n",
       "  <th>Time:</th>                 <td>15:45:59</td>     <th>  Log-Likelihood:    </th> <td> -25954.</td> \n",
       "</tr>\n",
       "<tr>\n",
       "  <th>No. Observations:</th>      <td> 11128</td>      <th>  AIC:               </th> <td>5.201e+04</td>\n",
       "</tr>\n",
       "<tr>\n",
       "  <th>Df Residuals:</th>          <td> 11075</td>      <th>  BIC:               </th> <td>5.240e+04</td>\n",
       "</tr>\n",
       "<tr>\n",
       "  <th>Df Model:</th>              <td>    52</td>      <th>                     </th>     <td> </td>    \n",
       "</tr>\n",
       "<tr>\n",
       "  <th>Covariance Type:</th>      <td>nonrobust</td>    <th>                     </th>     <td> </td>    \n",
       "</tr>\n",
       "</table>\n",
       "<table class=\"simpletable\">\n",
       "<tr>\n",
       "        <td></td>           <th>coef</th>     <th>std err</th>      <th>t</th>      <th>P>|t|</th>  <th>[0.025</th>    <th>0.975]</th>  \n",
       "</tr>\n",
       "<tr>\n",
       "  <th>Intercept</th>     <td>   10.7582</td> <td>    0.354</td> <td>   30.431</td> <td> 0.000</td> <td>   10.065</td> <td>   11.451</td>\n",
       "</tr>\n",
       "<tr>\n",
       "  <th>onset[T.$]</th>    <td>   -0.4809</td> <td>    0.449</td> <td>   -1.071</td> <td> 0.284</td> <td>   -1.361</td> <td>    0.399</td>\n",
       "</tr>\n",
       "<tr>\n",
       "  <th>onset[T.1]</th>    <td>   -0.8110</td> <td>    0.527</td> <td>   -1.538</td> <td> 0.124</td> <td>   -1.845</td> <td>    0.223</td>\n",
       "</tr>\n",
       "<tr>\n",
       "  <th>onset[T.2]</th>    <td>   -0.9639</td> <td>    0.540</td> <td>   -1.784</td> <td> 0.074</td> <td>   -2.023</td> <td>    0.095</td>\n",
       "</tr>\n",
       "<tr>\n",
       "  <th>onset[T.3]</th>    <td>    0.9859</td> <td>    0.729</td> <td>    1.353</td> <td> 0.176</td> <td>   -0.442</td> <td>    2.414</td>\n",
       "</tr>\n",
       "<tr>\n",
       "  <th>onset[T.4]</th>    <td>   -3.4321</td> <td>    1.294</td> <td>   -2.652</td> <td> 0.008</td> <td>   -5.969</td> <td>   -0.895</td>\n",
       "</tr>\n",
       "<tr>\n",
       "  <th>onset[T.5]</th>    <td>   -1.0039</td> <td>    0.460</td> <td>   -2.185</td> <td> 0.029</td> <td>   -1.905</td> <td>   -0.103</td>\n",
       "</tr>\n",
       "<tr>\n",
       "  <th>onset[T.6]</th>    <td>   -1.5192</td> <td>    0.611</td> <td>   -2.485</td> <td> 0.013</td> <td>   -2.718</td> <td>   -0.321</td>\n",
       "</tr>\n",
       "<tr>\n",
       "  <th>onset[T.7]</th>    <td>   -0.2836</td> <td>    1.482</td> <td>   -0.191</td> <td> 0.848</td> <td>   -3.189</td> <td>    2.621</td>\n",
       "</tr>\n",
       "<tr>\n",
       "  <th>onset[T.8]</th>    <td>    0.0382</td> <td>    1.075</td> <td>    0.036</td> <td> 0.972</td> <td>   -2.068</td> <td>    2.145</td>\n",
       "</tr>\n",
       "<tr>\n",
       "  <th>onset[T.@]</th>    <td>   -0.3505</td> <td>    0.368</td> <td>   -0.952</td> <td> 0.341</td> <td>   -1.072</td> <td>    0.371</td>\n",
       "</tr>\n",
       "<tr>\n",
       "  <th>onset[T.D]</th>    <td>   -0.2580</td> <td>    0.790</td> <td>   -0.327</td> <td> 0.744</td> <td>   -1.806</td> <td>    1.290</td>\n",
       "</tr>\n",
       "<tr>\n",
       "  <th>onset[T.E]</th>    <td>   -0.2622</td> <td>    0.390</td> <td>   -0.672</td> <td> 0.501</td> <td>   -1.027</td> <td>    0.502</td>\n",
       "</tr>\n",
       "<tr>\n",
       "  <th>onset[T.I]</th>    <td>   -0.8058</td> <td>    0.357</td> <td>   -2.260</td> <td> 0.024</td> <td>   -1.505</td> <td>   -0.107</td>\n",
       "</tr>\n",
       "<tr>\n",
       "  <th>onset[T.J]</th>    <td>   -1.8531</td> <td>    0.413</td> <td>   -4.488</td> <td> 0.000</td> <td>   -2.662</td> <td>   -1.044</td>\n",
       "</tr>\n",
       "<tr>\n",
       "  <th>onset[T.Q]</th>    <td>   -0.4827</td> <td>    0.425</td> <td>   -1.137</td> <td> 0.256</td> <td>   -1.315</td> <td>    0.350</td>\n",
       "</tr>\n",
       "<tr>\n",
       "  <th>onset[T.S]</th>    <td>   -1.2204</td> <td>    0.395</td> <td>   -3.090</td> <td> 0.002</td> <td>   -1.995</td> <td>   -0.446</td>\n",
       "</tr>\n",
       "<tr>\n",
       "  <th>onset[T.T]</th>    <td>   -1.3286</td> <td>    0.444</td> <td>   -2.994</td> <td> 0.003</td> <td>   -2.198</td> <td>   -0.459</td>\n",
       "</tr>\n",
       "<tr>\n",
       "  <th>onset[T.U]</th>    <td>    0.5441</td> <td>    1.799</td> <td>    0.302</td> <td> 0.762</td> <td>   -2.982</td> <td>    4.070</td>\n",
       "</tr>\n",
       "<tr>\n",
       "  <th>onset[T.V]</th>    <td>   -2.4752</td> <td>    0.465</td> <td>   -5.320</td> <td> 0.000</td> <td>   -3.387</td> <td>   -1.563</td>\n",
       "</tr>\n",
       "<tr>\n",
       "  <th>onset[T.Z]</th>    <td>    1.9824</td> <td>    1.482</td> <td>    1.338</td> <td> 0.181</td> <td>   -0.922</td> <td>    4.887</td>\n",
       "</tr>\n",
       "<tr>\n",
       "  <th>onset[T._]</th>    <td>   -1.5142</td> <td>    0.386</td> <td>   -3.926</td> <td> 0.000</td> <td>   -2.270</td> <td>   -0.758</td>\n",
       "</tr>\n",
       "<tr>\n",
       "  <th>onset[T.b]</th>    <td>   -1.5165</td> <td>    0.351</td> <td>   -4.323</td> <td> 0.000</td> <td>   -2.204</td> <td>   -0.829</td>\n",
       "</tr>\n",
       "<tr>\n",
       "  <th>onset[T.d]</th>    <td>   -1.0906</td> <td>    0.351</td> <td>   -3.103</td> <td> 0.002</td> <td>   -1.780</td> <td>   -0.402</td>\n",
       "</tr>\n",
       "<tr>\n",
       "  <th>onset[T.f]</th>    <td>   -1.1445</td> <td>    0.354</td> <td>   -3.232</td> <td> 0.001</td> <td>   -1.839</td> <td>   -0.450</td>\n",
       "</tr>\n",
       "<tr>\n",
       "  <th>onset[T.g]</th>    <td>   -1.2698</td> <td>    0.362</td> <td>   -3.508</td> <td> 0.000</td> <td>   -1.979</td> <td>   -0.560</td>\n",
       "</tr>\n",
       "<tr>\n",
       "  <th>onset[T.h]</th>    <td>   -1.3837</td> <td>    0.361</td> <td>   -3.830</td> <td> 0.000</td> <td>   -2.092</td> <td>   -0.676</td>\n",
       "</tr>\n",
       "<tr>\n",
       "  <th>onset[T.i]</th>    <td>   -0.2369</td> <td>    0.574</td> <td>   -0.413</td> <td> 0.680</td> <td>   -1.362</td> <td>    0.888</td>\n",
       "</tr>\n",
       "<tr>\n",
       "  <th>onset[T.j]</th>    <td>   -1.2329</td> <td>    0.455</td> <td>   -2.711</td> <td> 0.007</td> <td>   -2.124</td> <td>   -0.341</td>\n",
       "</tr>\n",
       "<tr>\n",
       "  <th>onset[T.k]</th>    <td>   -1.1957</td> <td>    0.345</td> <td>   -3.464</td> <td> 0.001</td> <td>   -1.872</td> <td>   -0.519</td>\n",
       "</tr>\n",
       "<tr>\n",
       "  <th>onset[T.l]</th>    <td>   -0.9146</td> <td>    0.362</td> <td>   -2.528</td> <td> 0.011</td> <td>   -1.624</td> <td>   -0.205</td>\n",
       "</tr>\n",
       "<tr>\n",
       "  <th>onset[T.m]</th>    <td>   -1.1079</td> <td>    0.352</td> <td>   -3.149</td> <td> 0.002</td> <td>   -1.797</td> <td>   -0.418</td>\n",
       "</tr>\n",
       "<tr>\n",
       "  <th>onset[T.n]</th>    <td>   -1.2703</td> <td>    0.375</td> <td>   -3.388</td> <td> 0.001</td> <td>   -2.005</td> <td>   -0.535</td>\n",
       "</tr>\n",
       "<tr>\n",
       "  <th>onset[T.p]</th>    <td>   -1.0569</td> <td>    0.347</td> <td>   -3.049</td> <td> 0.002</td> <td>   -1.736</td> <td>   -0.377</td>\n",
       "</tr>\n",
       "<tr>\n",
       "  <th>onset[T.q]</th>    <td>    1.2224</td> <td>    1.482</td> <td>    0.825</td> <td> 0.409</td> <td>   -1.682</td> <td>    4.127</td>\n",
       "</tr>\n",
       "<tr>\n",
       "  <th>onset[T.r]</th>    <td>   -1.0930</td> <td>    0.353</td> <td>   -3.096</td> <td> 0.002</td> <td>   -1.785</td> <td>   -0.401</td>\n",
       "</tr>\n",
       "<tr>\n",
       "  <th>onset[T.s]</th>    <td>   -1.5311</td> <td>    0.344</td> <td>   -4.449</td> <td> 0.000</td> <td>   -2.206</td> <td>   -0.857</td>\n",
       "</tr>\n",
       "<tr>\n",
       "  <th>onset[T.t]</th>    <td>   -1.3687</td> <td>    0.353</td> <td>   -3.876</td> <td> 0.000</td> <td>   -2.061</td> <td>   -0.677</td>\n",
       "</tr>\n",
       "<tr>\n",
       "  <th>onset[T.u]</th>    <td>    0.5406</td> <td>    1.294</td> <td>    0.418</td> <td> 0.676</td> <td>   -1.997</td> <td>    3.078</td>\n",
       "</tr>\n",
       "<tr>\n",
       "  <th>onset[T.v]</th>    <td>   -0.3101</td> <td>    0.377</td> <td>   -0.822</td> <td> 0.411</td> <td>   -1.050</td> <td>    0.430</td>\n",
       "</tr>\n",
       "<tr>\n",
       "  <th>onset[T.w]</th>    <td>   -1.9386</td> <td>    0.377</td> <td>   -5.146</td> <td> 0.000</td> <td>   -2.677</td> <td>   -1.200</td>\n",
       "</tr>\n",
       "<tr>\n",
       "  <th>onset[T.z]</th>    <td>   -1.3468</td> <td>    0.568</td> <td>   -2.373</td> <td> 0.018</td> <td>   -2.459</td> <td>   -0.234</td>\n",
       "</tr>\n",
       "<tr>\n",
       "  <th>onset[T.{]</th>    <td>   -0.3486</td> <td>    0.370</td> <td>   -0.943</td> <td> 0.346</td> <td>   -1.074</td> <td>    0.376</td>\n",
       "</tr>\n",
       "<tr>\n",
       "  <th>Class[T.ADV]</th>  <td>   -0.8553</td> <td>    0.285</td> <td>   -3.006</td> <td> 0.003</td> <td>   -1.413</td> <td>   -0.298</td>\n",
       "</tr>\n",
       "<tr>\n",
       "  <th>Class[T.ART]</th>  <td>    3.2094</td> <td>    2.536</td> <td>    1.266</td> <td> 0.206</td> <td>   -1.761</td> <td>    8.180</td>\n",
       "</tr>\n",
       "<tr>\n",
       "  <th>Class[T.C]</th>    <td>    1.9980</td> <td>    0.844</td> <td>    2.367</td> <td> 0.018</td> <td>    0.343</td> <td>    3.653</td>\n",
       "</tr>\n",
       "<tr>\n",
       "  <th>Class[T.I]</th>    <td>   -2.8364</td> <td>    0.507</td> <td>   -5.597</td> <td> 0.000</td> <td>   -3.830</td> <td>   -1.843</td>\n",
       "</tr>\n",
       "<tr>\n",
       "  <th>Class[T.N]</th>    <td>   -0.6803</td> <td>    0.075</td> <td>   -9.085</td> <td> 0.000</td> <td>   -0.827</td> <td>   -0.533</td>\n",
       "</tr>\n",
       "<tr>\n",
       "  <th>Class[T.PREP]</th> <td>    1.2211</td> <td>    0.653</td> <td>    1.870</td> <td> 0.062</td> <td>   -0.059</td> <td>    2.501</td>\n",
       "</tr>\n",
       "<tr>\n",
       "  <th>Class[T.PRON]</th> <td>    1.7763</td> <td>    0.514</td> <td>    3.453</td> <td> 0.001</td> <td>    0.768</td> <td>    2.785</td>\n",
       "</tr>\n",
       "<tr>\n",
       "  <th>Class[T.V]</th>    <td>   -0.0433</td> <td>    0.097</td> <td>   -0.448</td> <td> 0.655</td> <td>   -0.233</td> <td>    0.146</td>\n",
       "</tr>\n",
       "<tr>\n",
       "  <th>word_length</th>   <td>    0.4657</td> <td>    0.013</td> <td>   35.796</td> <td> 0.000</td> <td>    0.440</td> <td>    0.491</td>\n",
       "</tr>\n",
       "<tr>\n",
       "  <th>CobLog</th>        <td>   -2.4616</td> <td>    0.037</td> <td>  -66.057</td> <td> 0.000</td> <td>   -2.535</td> <td>   -2.389</td>\n",
       "</tr>\n",
       "</table>\n",
       "<table class=\"simpletable\">\n",
       "<tr>\n",
       "  <th>Omnibus:</th>       <td>53.404</td> <th>  Durbin-Watson:     </th> <td>   1.840</td>\n",
       "</tr>\n",
       "<tr>\n",
       "  <th>Prob(Omnibus):</th> <td> 0.000</td> <th>  Jarque-Bera (JB):  </th> <td>  54.123</td>\n",
       "</tr>\n",
       "<tr>\n",
       "  <th>Skew:</th>          <td>-0.170</td> <th>  Prob(JB):          </th> <td>1.77e-12</td>\n",
       "</tr>\n",
       "<tr>\n",
       "  <th>Kurtosis:</th>      <td> 2.976</td> <th>  Cond. No.          </th> <td>    648.</td>\n",
       "</tr>\n",
       "</table><br/><br/>Warnings:<br/>[1] Standard Errors assume that the covariance matrix of the errors is correctly specified."
      ],
      "text/plain": [
       "<class 'statsmodels.iolib.summary.Summary'>\n",
       "\"\"\"\n",
       "                            OLS Regression Results                            \n",
       "==============================================================================\n",
       "Dep. Variable:               AoA_mean   R-squared:                       0.429\n",
       "Model:                            OLS   Adj. R-squared:                  0.426\n",
       "Method:                 Least Squares   F-statistic:                     160.1\n",
       "Date:                Sat, 18 Jan 2020   Prob (F-statistic):               0.00\n",
       "Time:                        15:45:59   Log-Likelihood:                -25954.\n",
       "No. Observations:               11128   AIC:                         5.201e+04\n",
       "Df Residuals:                   11075   BIC:                         5.240e+04\n",
       "Df Model:                          52                                         \n",
       "Covariance Type:            nonrobust                                         \n",
       "=================================================================================\n",
       "                    coef    std err          t      P>|t|      [0.025      0.975]\n",
       "---------------------------------------------------------------------------------\n",
       "Intercept        10.7582      0.354     30.431      0.000      10.065      11.451\n",
       "onset[T.$]       -0.4809      0.449     -1.071      0.284      -1.361       0.399\n",
       "onset[T.1]       -0.8110      0.527     -1.538      0.124      -1.845       0.223\n",
       "onset[T.2]       -0.9639      0.540     -1.784      0.074      -2.023       0.095\n",
       "onset[T.3]        0.9859      0.729      1.353      0.176      -0.442       2.414\n",
       "onset[T.4]       -3.4321      1.294     -2.652      0.008      -5.969      -0.895\n",
       "onset[T.5]       -1.0039      0.460     -2.185      0.029      -1.905      -0.103\n",
       "onset[T.6]       -1.5192      0.611     -2.485      0.013      -2.718      -0.321\n",
       "onset[T.7]       -0.2836      1.482     -0.191      0.848      -3.189       2.621\n",
       "onset[T.8]        0.0382      1.075      0.036      0.972      -2.068       2.145\n",
       "onset[T.@]       -0.3505      0.368     -0.952      0.341      -1.072       0.371\n",
       "onset[T.D]       -0.2580      0.790     -0.327      0.744      -1.806       1.290\n",
       "onset[T.E]       -0.2622      0.390     -0.672      0.501      -1.027       0.502\n",
       "onset[T.I]       -0.8058      0.357     -2.260      0.024      -1.505      -0.107\n",
       "onset[T.J]       -1.8531      0.413     -4.488      0.000      -2.662      -1.044\n",
       "onset[T.Q]       -0.4827      0.425     -1.137      0.256      -1.315       0.350\n",
       "onset[T.S]       -1.2204      0.395     -3.090      0.002      -1.995      -0.446\n",
       "onset[T.T]       -1.3286      0.444     -2.994      0.003      -2.198      -0.459\n",
       "onset[T.U]        0.5441      1.799      0.302      0.762      -2.982       4.070\n",
       "onset[T.V]       -2.4752      0.465     -5.320      0.000      -3.387      -1.563\n",
       "onset[T.Z]        1.9824      1.482      1.338      0.181      -0.922       4.887\n",
       "onset[T._]       -1.5142      0.386     -3.926      0.000      -2.270      -0.758\n",
       "onset[T.b]       -1.5165      0.351     -4.323      0.000      -2.204      -0.829\n",
       "onset[T.d]       -1.0906      0.351     -3.103      0.002      -1.780      -0.402\n",
       "onset[T.f]       -1.1445      0.354     -3.232      0.001      -1.839      -0.450\n",
       "onset[T.g]       -1.2698      0.362     -3.508      0.000      -1.979      -0.560\n",
       "onset[T.h]       -1.3837      0.361     -3.830      0.000      -2.092      -0.676\n",
       "onset[T.i]       -0.2369      0.574     -0.413      0.680      -1.362       0.888\n",
       "onset[T.j]       -1.2329      0.455     -2.711      0.007      -2.124      -0.341\n",
       "onset[T.k]       -1.1957      0.345     -3.464      0.001      -1.872      -0.519\n",
       "onset[T.l]       -0.9146      0.362     -2.528      0.011      -1.624      -0.205\n",
       "onset[T.m]       -1.1079      0.352     -3.149      0.002      -1.797      -0.418\n",
       "onset[T.n]       -1.2703      0.375     -3.388      0.001      -2.005      -0.535\n",
       "onset[T.p]       -1.0569      0.347     -3.049      0.002      -1.736      -0.377\n",
       "onset[T.q]        1.2224      1.482      0.825      0.409      -1.682       4.127\n",
       "onset[T.r]       -1.0930      0.353     -3.096      0.002      -1.785      -0.401\n",
       "onset[T.s]       -1.5311      0.344     -4.449      0.000      -2.206      -0.857\n",
       "onset[T.t]       -1.3687      0.353     -3.876      0.000      -2.061      -0.677\n",
       "onset[T.u]        0.5406      1.294      0.418      0.676      -1.997       3.078\n",
       "onset[T.v]       -0.3101      0.377     -0.822      0.411      -1.050       0.430\n",
       "onset[T.w]       -1.9386      0.377     -5.146      0.000      -2.677      -1.200\n",
       "onset[T.z]       -1.3468      0.568     -2.373      0.018      -2.459      -0.234\n",
       "onset[T.{]       -0.3486      0.370     -0.943      0.346      -1.074       0.376\n",
       "Class[T.ADV]     -0.8553      0.285     -3.006      0.003      -1.413      -0.298\n",
       "Class[T.ART]      3.2094      2.536      1.266      0.206      -1.761       8.180\n",
       "Class[T.C]        1.9980      0.844      2.367      0.018       0.343       3.653\n",
       "Class[T.I]       -2.8364      0.507     -5.597      0.000      -3.830      -1.843\n",
       "Class[T.N]       -0.6803      0.075     -9.085      0.000      -0.827      -0.533\n",
       "Class[T.PREP]     1.2211      0.653      1.870      0.062      -0.059       2.501\n",
       "Class[T.PRON]     1.7763      0.514      3.453      0.001       0.768       2.785\n",
       "Class[T.V]       -0.0433      0.097     -0.448      0.655      -0.233       0.146\n",
       "word_length       0.4657      0.013     35.796      0.000       0.440       0.491\n",
       "CobLog           -2.4616      0.037    -66.057      0.000      -2.535      -2.389\n",
       "==============================================================================\n",
       "Omnibus:                       53.404   Durbin-Watson:                   1.840\n",
       "Prob(Omnibus):                  0.000   Jarque-Bera (JB):               54.123\n",
       "Skew:                          -0.170   Prob(JB):                     1.77e-12\n",
       "Kurtosis:                       2.976   Cond. No.                         648.\n",
       "==============================================================================\n",
       "\n",
       "Warnings:\n",
       "[1] Standard Errors assume that the covariance matrix of the errors is correctly specified.\n",
       "\"\"\""
      ]
     },
     "execution_count": 156,
     "metadata": {},
     "output_type": "execute_result"
    }
   ],
   "source": [
    "result = sm.ols(formula=\"AoA_mean ~ onset + word_length + Class + CobLog\", data=df_monosyllabic).fit()\n",
    "result.summary()"
   ]
  },
  {
   "cell_type": "code",
   "execution_count": 39,
   "metadata": {},
   "outputs": [
    {
     "data": {
      "text/plain": [
       "0.4291568084572337"
      ]
     },
     "execution_count": 39,
     "metadata": {},
     "output_type": "execute_result"
    }
   ],
   "source": [
    "result.rsquared"
   ]
  },
  {
   "cell_type": "code",
   "execution_count": 42,
   "metadata": {},
   "outputs": [
    {
     "name": "stderr",
     "output_type": "stream",
     "text": [
      "100%|██████████| 100/100 [00:16<00:00,  6.83it/s]\n"
     ]
    }
   ],
   "source": [
    "### Shuffling\n",
    "shuffled_rsquares = []\n",
    "true_rsquare = result.rsquared\n",
    "\n",
    "NUM_SHUFFLES = 100\n",
    "\n",
    "for shuffle in tqdm(range(NUM_SHUFFLES)):\n",
    "    new_df = df_monosyllabic.copy()\n",
    "    new_df['shuffled_onset'] = np.random.permutation(new_df['onset'])\n",
    "    new_result = sm.ols(formula=\"AoA_mean ~ shuffled_onset + word_length + Class + CobLog\", data=new_df).fit()\n",
    "    shuffled_rsquares.append(new_result.rsquared)"
   ]
  },
  {
   "cell_type": "code",
   "execution_count": 43,
   "metadata": {},
   "outputs": [
    {
     "name": "stdout",
     "output_type": "stream",
     "text": [
      "0.41730492238193106\n",
      "0.00044421464725661366\n"
     ]
    }
   ],
   "source": [
    "shuffled_rsquares_np = np.array(shuffled_rsquares)\n",
    "print(np.mean(shuffled_rsquares_np))\n",
    "print(np.std(shuffled_rsquares_np))"
   ]
  },
  {
   "cell_type": "code",
   "execution_count": 44,
   "metadata": {},
   "outputs": [
    {
     "data": {
      "text/plain": [
       "Text(0.5, 1.0, 'Analysis 1: real R^2 vs. random shuffles')"
      ]
     },
     "execution_count": 44,
     "metadata": {},
     "output_type": "execute_result"
    },
    {
     "data": {
      "image/png": "[encoded data removed]",
      "text/plain": [
       "<Figure size 432x288 with 1 Axes>"
      ]
     },
     "metadata": {
      "image/png": {
       "height": 277,
       "width": 370
      },
      "needs_background": "light"
     },
     "output_type": "display_data"
    }
   ],
   "source": [
    "plt.hist(shuffled_rsquares)\n",
    "plt.axvline(x=true_rsquare, linestyle=\"dotted\")\n",
    "plt.xlabel(\"Distribution of R^2 values\")\n",
    "plt.title(\"Analysis 1: real R^2 vs. random shuffles\")"
   ]
  },
  {
   "cell_type": "markdown",
   "metadata": {},
   "source": [
    "## Analysis 2: `AoA impact ~ onset`\n",
    "\n",
    "In our second analysis, we attempt to control for the rest of the word in a different way. We first identify all of the minimal sets in the lexicon differing only by the first sound, e.g., {hug, bug, ...}. For each set, we calculate the **mean AoA**. We then define the **AoA impact** of each onset phone differentiating the words in the set as the difference between the word beginning with that onset and the mean AoA, e.g.,:\n",
    "\n",
    "**Impact(h) = AOA(hug) - mean(AOA(hug, AOA(bug)...)**\n",
    "\n",
    "We repeat this for each minimal set, such that any given onset phone has a distribution of associated **AOA impact scores**. As above, we then regress impact against **onset phone**. "
   ]
  },
  {
   "cell_type": "markdown",
   "metadata": {},
   "source": [
    "### Get minimal pairs"
   ]
  },
  {
   "cell_type": "code",
   "execution_count": 125,
   "metadata": {},
   "outputs": [
    {
     "name": "stderr",
     "output_type": "stream",
     "text": [
      "/Users/seantrott/anaconda3/lib/python3.7/site-packages/ipykernel_launcher.py:1: SettingWithCopyWarning: \n",
      "A value is trying to be set on a copy of a slice from a DataFrame.\n",
      "Try using .loc[row_indexer,col_indexer] = value instead\n",
      "\n",
      "See the caveats in the documentation: http://pandas.pydata.org/pandas-docs/stable/indexing.html#indexing-view-versus-copy\n",
      "  \"\"\"Entry point for launching an IPython kernel.\n"
     ]
    }
   ],
   "source": [
    "df_monosyllabic['coda'] = df_monosyllabic['PhonDISC'].apply(lambda x: x[1:])"
   ]
  },
  {
   "cell_type": "code",
   "execution_count": 126,
   "metadata": {},
   "outputs": [
    {
     "data": {
      "text/html": [
       "<div>\n",
       "<style scoped>\n",
       "    .dataframe tbody tr th:only-of-type {\n",
       "        vertical-align: middle;\n",
       "    }\n",
       "\n",
       "    .dataframe tbody tr th {\n",
       "        vertical-align: top;\n",
       "    }\n",
       "\n",
       "    .dataframe thead th {\n",
       "        text-align: right;\n",
       "    }\n",
       "</style>\n",
       "<table border=\"1\" class=\"dataframe\">\n",
       "  <thead>\n",
       "    <tr style=\"text-align: right;\">\n",
       "      <th></th>\n",
       "      <th>coda</th>\n",
       "      <th>set_mean</th>\n",
       "    </tr>\n",
       "  </thead>\n",
       "  <tbody>\n",
       "    <tr>\n",
       "      <th>0</th>\n",
       "      <td></td>\n",
       "      <td>5.105000</td>\n",
       "    </tr>\n",
       "    <tr>\n",
       "      <th>1</th>\n",
       "      <td>#</td>\n",
       "      <td>4.475000</td>\n",
       "    </tr>\n",
       "    <tr>\n",
       "      <th>2</th>\n",
       "      <td>#D@R</td>\n",
       "      <td>6.366667</td>\n",
       "    </tr>\n",
       "    <tr>\n",
       "      <th>3</th>\n",
       "      <td>#DIN</td>\n",
       "      <td>12.670000</td>\n",
       "    </tr>\n",
       "    <tr>\n",
       "      <th>4</th>\n",
       "      <td>#J</td>\n",
       "      <td>10.770000</td>\n",
       "    </tr>\n",
       "  </tbody>\n",
       "</table>\n",
       "</div>"
      ],
      "text/plain": [
       "   coda   set_mean\n",
       "0         5.105000\n",
       "1     #   4.475000\n",
       "2  #D@R   6.366667\n",
       "3  #DIN  12.670000\n",
       "4    #J  10.770000"
      ]
     },
     "execution_count": 126,
     "metadata": {},
     "output_type": "execute_result"
    }
   ],
   "source": [
    "df_coda_means = df_monosyllabic.groupby('coda', as_index=False).mean()[['coda', 'AoA_mean']]\n",
    "df_coda_means['set_mean'] = df_coda_means['AoA_mean']\n",
    "df_coda_means = df_coda_means[['coda', 'set_mean']]\n",
    "df_coda_means.head(5)"
   ]
  },
  {
   "cell_type": "code",
   "execution_count": 127,
   "metadata": {},
   "outputs": [
    {
     "data": {
      "text/plain": [
       "11130"
      ]
     },
     "execution_count": 127,
     "metadata": {},
     "output_type": "execute_result"
    }
   ],
   "source": [
    "df_joined = pd.merge(df_coda_means, df_monosyllabic, on = \"coda\")\n",
    "len(df_joined)"
   ]
  },
  {
   "cell_type": "code",
   "execution_count": 131,
   "metadata": {},
   "outputs": [],
   "source": [
    "df_set_sizes = df_monosyllabic.groupby('coda', as_index=False).size()\n",
    "df_joined['set_size'] = df_joined['coda'].apply(lambda x: df_set_sizes[x])"
   ]
  },
  {
   "cell_type": "code",
   "execution_count": 132,
   "metadata": {},
   "outputs": [
    {
     "data": {
      "text/plain": [
       "3750"
      ]
     },
     "execution_count": 132,
     "metadata": {},
     "output_type": "execute_result"
    }
   ],
   "source": [
    "df_joined = df_joined[df_joined['set_size']>1]\n",
    "len(df_joined)"
   ]
  },
  {
   "cell_type": "code",
   "execution_count": 133,
   "metadata": {},
   "outputs": [],
   "source": [
    "df_joined['aoa_impact'] = df_joined['AoA_mean'] - df_joined['set_mean']"
   ]
  },
  {
   "cell_type": "code",
   "execution_count": 134,
   "metadata": {},
   "outputs": [],
   "source": [
    "df_joined.to_csv(\"data/processed/aoa_impacts.csv\")"
   ]
  },
  {
   "cell_type": "markdown",
   "metadata": {},
   "source": [
    "### Characterization"
   ]
  },
  {
   "cell_type": "code",
   "execution_count": 135,
   "metadata": {},
   "outputs": [],
   "source": [
    "df_joined = pd.read_csv(\"data/processed/aoa_impacts.csv\") "
   ]
  },
  {
   "cell_type": "code",
   "execution_count": 136,
   "metadata": {},
   "outputs": [
    {
     "data": {
      "text/plain": [
       "3750"
      ]
     },
     "execution_count": 136,
     "metadata": {},
     "output_type": "execute_result"
    }
   ],
   "source": [
    "len(df_joined)"
   ]
  },
  {
   "cell_type": "code",
   "execution_count": 137,
   "metadata": {},
   "outputs": [
    {
     "data": {
      "text/plain": [
       "Text(0, 0.5, 'Count')"
      ]
     },
     "execution_count": 137,
     "metadata": {},
     "output_type": "execute_result"
    },
    {
     "data": {
      "image/png": "[encoded data removed]",
      "text/plain": [
       "<Figure size 432x288 with 1 Axes>"
      ]
     },
     "metadata": {
      "image/png": {
       "height": 277,
       "width": 397
      },
      "needs_background": "light"
     },
     "output_type": "display_data"
    }
   ],
   "source": [
    "plt.hist(df_joined['aoa_impact'])\n",
    "plt.title(\"Distribution of AoA impact scores\")\n",
    "plt.xlabel(\"AoA impact score\")\n",
    "plt.ylabel(\"Count\")"
   ]
  },
  {
   "cell_type": "code",
   "execution_count": 138,
   "metadata": {},
   "outputs": [
    {
     "name": "stdout",
     "output_type": "stream",
     "text": [
      "Skew: 0.3815187434207911\n",
      "Mean: -2.1079434494216304e-17\n",
      "SD: 2.4975293712193714\n",
      "Median: -0.16999999999999993\n"
     ]
    }
   ],
   "source": [
    "print(\"Skew: {s}\".format(s=ss.stats.skew(df_joined['aoa_impact'])))\n",
    "print(\"Mean: {m}\".format(m=np.mean(df_joined['aoa_impact'])))\n",
    "print(\"SD: {sd}\".format(sd=np.std(df_joined['aoa_impact'])))\n",
    "print(\"Median: {sd}\".format(sd=np.median(df_joined['aoa_impact'])))"
   ]
  },
  {
   "cell_type": "markdown",
   "metadata": {},
   "source": [
    "### Characterization\n",
    "\n",
    "Now, we do a similar analysis as before, but predicting the **impact** on AoA."
   ]
  },
  {
   "cell_type": "code",
   "execution_count": 146,
   "metadata": {},
   "outputs": [
    {
     "data": {
      "text/html": [
       "<div>\n",
       "<style scoped>\n",
       "    .dataframe tbody tr th:only-of-type {\n",
       "        vertical-align: middle;\n",
       "    }\n",
       "\n",
       "    .dataframe tbody tr th {\n",
       "        vertical-align: top;\n",
       "    }\n",
       "\n",
       "    .dataframe thead th {\n",
       "        text-align: right;\n",
       "    }\n",
       "</style>\n",
       "<table border=\"1\" class=\"dataframe\">\n",
       "  <thead>\n",
       "    <tr style=\"text-align: right;\">\n",
       "      <th></th>\n",
       "      <th>Unnamed: 0</th>\n",
       "      <th>coda</th>\n",
       "      <th>set_mean</th>\n",
       "      <th>Word</th>\n",
       "      <th>CobLog</th>\n",
       "      <th>CompCnt</th>\n",
       "      <th>PhonDISC</th>\n",
       "      <th>Class</th>\n",
       "      <th>SylCnt</th>\n",
       "      <th>OccurTotal</th>\n",
       "      <th>OccurNum</th>\n",
       "      <th>Freq_pm</th>\n",
       "      <th>Rating.Mean</th>\n",
       "      <th>Rating.SD</th>\n",
       "      <th>Dunno</th>\n",
       "      <th>AoA_mean</th>\n",
       "      <th>onset</th>\n",
       "      <th>word_length</th>\n",
       "      <th>aoa_impact</th>\n",
       "      <th>set_size</th>\n",
       "    </tr>\n",
       "  </thead>\n",
       "  <tbody>\n",
       "    <tr>\n",
       "      <th>0</th>\n",
       "      <td>0</td>\n",
       "      <td>NaN</td>\n",
       "      <td>5.105</td>\n",
       "      <td>a</td>\n",
       "      <td>4.36</td>\n",
       "      <td>1</td>\n",
       "      <td>1</td>\n",
       "      <td>ART</td>\n",
       "      <td>1</td>\n",
       "      <td>22.0</td>\n",
       "      <td>22.0</td>\n",
       "      <td>20415.27</td>\n",
       "      <td>2.89</td>\n",
       "      <td>1.21</td>\n",
       "      <td>1.0</td>\n",
       "      <td>2.89</td>\n",
       "      <td>1</td>\n",
       "      <td>1</td>\n",
       "      <td>-2.215</td>\n",
       "      <td>4</td>\n",
       "    </tr>\n",
       "    <tr>\n",
       "      <th>1</th>\n",
       "      <td>1</td>\n",
       "      <td>NaN</td>\n",
       "      <td>5.105</td>\n",
       "      <td>awe</td>\n",
       "      <td>0.90</td>\n",
       "      <td>1</td>\n",
       "      <td>$</td>\n",
       "      <td>N</td>\n",
       "      <td>1</td>\n",
       "      <td>18.0</td>\n",
       "      <td>18.0</td>\n",
       "      <td>2.63</td>\n",
       "      <td>9.06</td>\n",
       "      <td>3.87</td>\n",
       "      <td>1.0</td>\n",
       "      <td>9.06</td>\n",
       "      <td>$</td>\n",
       "      <td>1</td>\n",
       "      <td>3.955</td>\n",
       "      <td>4</td>\n",
       "    </tr>\n",
       "    <tr>\n",
       "      <th>2</th>\n",
       "      <td>2</td>\n",
       "      <td>NaN</td>\n",
       "      <td>5.105</td>\n",
       "      <td>eye</td>\n",
       "      <td>2.72</td>\n",
       "      <td>1</td>\n",
       "      <td>2</td>\n",
       "      <td>N</td>\n",
       "      <td>1</td>\n",
       "      <td>20.0</td>\n",
       "      <td>20.0</td>\n",
       "      <td>111.78</td>\n",
       "      <td>3.75</td>\n",
       "      <td>1.71</td>\n",
       "      <td>1.0</td>\n",
       "      <td>3.75</td>\n",
       "      <td>2</td>\n",
       "      <td>1</td>\n",
       "      <td>-1.355</td>\n",
       "      <td>4</td>\n",
       "    </tr>\n",
       "    <tr>\n",
       "      <th>3</th>\n",
       "      <td>3</td>\n",
       "      <td>NaN</td>\n",
       "      <td>5.105</td>\n",
       "      <td>oh</td>\n",
       "      <td>2.66</td>\n",
       "      <td>0</td>\n",
       "      <td>5</td>\n",
       "      <td>I</td>\n",
       "      <td>1</td>\n",
       "      <td>20.0</td>\n",
       "      <td>20.0</td>\n",
       "      <td>3289.82</td>\n",
       "      <td>4.72</td>\n",
       "      <td>1.85</td>\n",
       "      <td>1.0</td>\n",
       "      <td>4.72</td>\n",
       "      <td>5</td>\n",
       "      <td>1</td>\n",
       "      <td>-0.385</td>\n",
       "      <td>4</td>\n",
       "    </tr>\n",
       "    <tr>\n",
       "      <th>4</th>\n",
       "      <td>4</td>\n",
       "      <td>#</td>\n",
       "      <td>4.475</td>\n",
       "      <td>ma</td>\n",
       "      <td>0.78</td>\n",
       "      <td>1</td>\n",
       "      <td>m#</td>\n",
       "      <td>N</td>\n",
       "      <td>1</td>\n",
       "      <td>20.0</td>\n",
       "      <td>20.0</td>\n",
       "      <td>185.80</td>\n",
       "      <td>4.35</td>\n",
       "      <td>2.74</td>\n",
       "      <td>1.0</td>\n",
       "      <td>4.35</td>\n",
       "      <td>m</td>\n",
       "      <td>2</td>\n",
       "      <td>-0.125</td>\n",
       "      <td>2</td>\n",
       "    </tr>\n",
       "  </tbody>\n",
       "</table>\n",
       "</div>"
      ],
      "text/plain": [
       "   Unnamed: 0 coda  set_mean Word  CobLog  CompCnt PhonDISC Class  SylCnt  \\\n",
       "0           0  NaN     5.105    a    4.36        1        1   ART       1   \n",
       "1           1  NaN     5.105  awe    0.90        1        $     N       1   \n",
       "2           2  NaN     5.105  eye    2.72        1        2     N       1   \n",
       "3           3  NaN     5.105   oh    2.66        0        5     I       1   \n",
       "4           4    #     4.475   ma    0.78        1       m#     N       1   \n",
       "\n",
       "   OccurTotal  OccurNum   Freq_pm  Rating.Mean  Rating.SD  Dunno  AoA_mean  \\\n",
       "0        22.0      22.0  20415.27         2.89       1.21    1.0      2.89   \n",
       "1        18.0      18.0      2.63         9.06       3.87    1.0      9.06   \n",
       "2        20.0      20.0    111.78         3.75       1.71    1.0      3.75   \n",
       "3        20.0      20.0   3289.82         4.72       1.85    1.0      4.72   \n",
       "4        20.0      20.0    185.80         4.35       2.74    1.0      4.35   \n",
       "\n",
       "  onset  word_length  aoa_impact  set_size  \n",
       "0     1            1      -2.215         4  \n",
       "1     $            1       3.955         4  \n",
       "2     2            1      -1.355         4  \n",
       "3     5            1      -0.385         4  \n",
       "4     m            2      -0.125         2  "
      ]
     },
     "execution_count": 146,
     "metadata": {},
     "output_type": "execute_result"
    }
   ],
   "source": [
    "df_joined.head(5)"
   ]
  },
  {
   "cell_type": "code",
   "execution_count": 151,
   "metadata": {
    "scrolled": false
   },
   "outputs": [
    {
     "data": {
      "text/html": [
       "<table class=\"simpletable\">\n",
       "<caption>OLS Regression Results</caption>\n",
       "<tr>\n",
       "  <th>Dep. Variable:</th>       <td>aoa_impact</td>    <th>  R-squared:         </th> <td>   0.021</td> \n",
       "</tr>\n",
       "<tr>\n",
       "  <th>Model:</th>                   <td>OLS</td>       <th>  Adj. R-squared:    </th> <td>   0.010</td> \n",
       "</tr>\n",
       "<tr>\n",
       "  <th>Method:</th>             <td>Least Squares</td>  <th>  F-statistic:       </th> <td>   1.938</td> \n",
       "</tr>\n",
       "<tr>\n",
       "  <th>Date:</th>             <td>Sat, 18 Jan 2020</td> <th>  Prob (F-statistic):</th> <td>0.000287</td> \n",
       "</tr>\n",
       "<tr>\n",
       "  <th>Time:</th>                 <td>15:45:16</td>     <th>  Log-Likelihood:    </th> <td> -8712.7</td> \n",
       "</tr>\n",
       "<tr>\n",
       "  <th>No. Observations:</th>      <td>  3750</td>      <th>  AIC:               </th> <td>1.751e+04</td>\n",
       "</tr>\n",
       "<tr>\n",
       "  <th>Df Residuals:</th>          <td>  3707</td>      <th>  BIC:               </th> <td>1.778e+04</td>\n",
       "</tr>\n",
       "<tr>\n",
       "  <th>Df Model:</th>              <td>    42</td>      <th>                     </th>     <td> </td>    \n",
       "</tr>\n",
       "<tr>\n",
       "  <th>Covariance Type:</th>      <td>nonrobust</td>    <th>                     </th>     <td> </td>    \n",
       "</tr>\n",
       "</table>\n",
       "<table class=\"simpletable\">\n",
       "<tr>\n",
       "       <td></td>          <th>coef</th>     <th>std err</th>      <th>t</th>      <th>P>|t|</th>  <th>[0.025</th>    <th>0.975]</th>  \n",
       "</tr>\n",
       "<tr>\n",
       "  <th>Intercept</th>   <td>    0.3222</td> <td>    0.730</td> <td>    0.441</td> <td> 0.659</td> <td>   -1.110</td> <td>    1.754</td>\n",
       "</tr>\n",
       "<tr>\n",
       "  <th>onset[T.$]</th>  <td>    0.3996</td> <td>    0.885</td> <td>    0.451</td> <td> 0.652</td> <td>   -1.336</td> <td>    2.136</td>\n",
       "</tr>\n",
       "<tr>\n",
       "  <th>onset[T.1]</th>  <td>   -0.1456</td> <td>    0.904</td> <td>   -0.161</td> <td> 0.872</td> <td>   -1.919</td> <td>    1.628</td>\n",
       "</tr>\n",
       "<tr>\n",
       "  <th>onset[T.2]</th>  <td>   -0.9087</td> <td>    0.942</td> <td>   -0.965</td> <td> 0.335</td> <td>   -2.755</td> <td>    0.938</td>\n",
       "</tr>\n",
       "<tr>\n",
       "  <th>onset[T.3]</th>  <td>    1.9996</td> <td>    1.018</td> <td>    1.964</td> <td> 0.050</td> <td>    0.003</td> <td>    3.996</td>\n",
       "</tr>\n",
       "<tr>\n",
       "  <th>onset[T.4]</th>  <td>   -1.2998</td> <td>    1.592</td> <td>   -0.816</td> <td> 0.414</td> <td>   -4.422</td> <td>    1.822</td>\n",
       "</tr>\n",
       "<tr>\n",
       "  <th>onset[T.5]</th>  <td>    1.2852</td> <td>    0.877</td> <td>    1.466</td> <td> 0.143</td> <td>   -0.434</td> <td>    3.005</td>\n",
       "</tr>\n",
       "<tr>\n",
       "  <th>onset[T.6]</th>  <td>   -1.5310</td> <td>    1.308</td> <td>   -1.170</td> <td> 0.242</td> <td>   -4.096</td> <td>    1.034</td>\n",
       "</tr>\n",
       "<tr>\n",
       "  <th>onset[T.7]</th>  <td>   -1.8805</td> <td>    1.888</td> <td>   -0.996</td> <td> 0.319</td> <td>   -5.581</td> <td>    1.820</td>\n",
       "</tr>\n",
       "<tr>\n",
       "  <th>onset[T.8]</th>  <td>   -3.3923</td> <td>    1.888</td> <td>   -1.797</td> <td> 0.072</td> <td>   -7.093</td> <td>    0.308</td>\n",
       "</tr>\n",
       "<tr>\n",
       "  <th>onset[T.@]</th>  <td>    0.1944</td> <td>    0.835</td> <td>    0.233</td> <td> 0.816</td> <td>   -1.443</td> <td>    1.832</td>\n",
       "</tr>\n",
       "<tr>\n",
       "  <th>onset[T.D]</th>  <td>   -0.9979</td> <td>    0.978</td> <td>   -1.020</td> <td> 0.308</td> <td>   -2.916</td> <td>    0.920</td>\n",
       "</tr>\n",
       "<tr>\n",
       "  <th>onset[T.E]</th>  <td>   -0.8756</td> <td>    0.916</td> <td>   -0.956</td> <td> 0.339</td> <td>   -2.671</td> <td>    0.920</td>\n",
       "</tr>\n",
       "<tr>\n",
       "  <th>onset[T.I]</th>  <td>   -0.5521</td> <td>    0.864</td> <td>   -0.639</td> <td> 0.523</td> <td>   -2.246</td> <td>    1.141</td>\n",
       "</tr>\n",
       "<tr>\n",
       "  <th>onset[T.J]</th>  <td>   -0.2294</td> <td>    0.747</td> <td>   -0.307</td> <td> 0.759</td> <td>   -1.695</td> <td>    1.236</td>\n",
       "</tr>\n",
       "<tr>\n",
       "  <th>onset[T.Q]</th>  <td>   -1.9919</td> <td>    0.975</td> <td>   -2.043</td> <td> 0.041</td> <td>   -3.904</td> <td>   -0.080</td>\n",
       "</tr>\n",
       "<tr>\n",
       "  <th>onset[T.S]</th>  <td>   -0.3628</td> <td>    0.736</td> <td>   -0.493</td> <td> 0.622</td> <td>   -1.805</td> <td>    1.080</td>\n",
       "</tr>\n",
       "<tr>\n",
       "  <th>onset[T.T]</th>  <td>   -0.0129</td> <td>    0.773</td> <td>   -0.017</td> <td> 0.987</td> <td>   -1.528</td> <td>    1.503</td>\n",
       "</tr>\n",
       "<tr>\n",
       "  <th>onset[T.V]</th>  <td>   -1.2456</td> <td>    1.047</td> <td>   -1.190</td> <td> 0.234</td> <td>   -3.298</td> <td>    0.806</td>\n",
       "</tr>\n",
       "<tr>\n",
       "  <th>onset[T._]</th>  <td>   -0.0424</td> <td>    0.746</td> <td>   -0.057</td> <td> 0.955</td> <td>   -1.506</td> <td>    1.421</td>\n",
       "</tr>\n",
       "<tr>\n",
       "  <th>onset[T.b]</th>  <td>   -0.6382</td> <td>    0.707</td> <td>   -0.903</td> <td> 0.366</td> <td>   -2.023</td> <td>    0.747</td>\n",
       "</tr>\n",
       "<tr>\n",
       "  <th>onset[T.d]</th>  <td>   -0.1361</td> <td>    0.713</td> <td>   -0.191</td> <td> 0.849</td> <td>   -1.534</td> <td>    1.262</td>\n",
       "</tr>\n",
       "<tr>\n",
       "  <th>onset[T.f]</th>  <td>   -0.4308</td> <td>    0.710</td> <td>   -0.607</td> <td> 0.544</td> <td>   -1.823</td> <td>    0.961</td>\n",
       "</tr>\n",
       "<tr>\n",
       "  <th>onset[T.g]</th>  <td>    0.0240</td> <td>    0.717</td> <td>    0.034</td> <td> 0.973</td> <td>   -1.381</td> <td>    1.429</td>\n",
       "</tr>\n",
       "<tr>\n",
       "  <th>onset[T.h]</th>  <td>   -0.6865</td> <td>    0.717</td> <td>   -0.957</td> <td> 0.339</td> <td>   -2.093</td> <td>    0.720</td>\n",
       "</tr>\n",
       "<tr>\n",
       "  <th>onset[T.i]</th>  <td>   -0.0005</td> <td>    0.957</td> <td>   -0.000</td> <td> 1.000</td> <td>   -1.877</td> <td>    1.876</td>\n",
       "</tr>\n",
       "<tr>\n",
       "  <th>onset[T.j]</th>  <td>   -0.0107</td> <td>    0.810</td> <td>   -0.013</td> <td> 0.989</td> <td>   -1.600</td> <td>    1.578</td>\n",
       "</tr>\n",
       "<tr>\n",
       "  <th>onset[T.k]</th>  <td>   -0.2970</td> <td>    0.707</td> <td>   -0.420</td> <td> 0.674</td> <td>   -1.683</td> <td>    1.089</td>\n",
       "</tr>\n",
       "<tr>\n",
       "  <th>onset[T.l]</th>  <td>   -0.0899</td> <td>    0.717</td> <td>   -0.125</td> <td> 0.900</td> <td>   -1.495</td> <td>    1.315</td>\n",
       "</tr>\n",
       "<tr>\n",
       "  <th>onset[T.m]</th>  <td>   -0.5177</td> <td>    0.713</td> <td>   -0.726</td> <td> 0.468</td> <td>   -1.915</td> <td>    0.880</td>\n",
       "</tr>\n",
       "<tr>\n",
       "  <th>onset[T.n]</th>  <td>   -0.1810</td> <td>    0.733</td> <td>   -0.247</td> <td> 0.805</td> <td>   -1.619</td> <td>    1.257</td>\n",
       "</tr>\n",
       "<tr>\n",
       "  <th>onset[T.p]</th>  <td>   -0.3020</td> <td>    0.707</td> <td>   -0.427</td> <td> 0.669</td> <td>   -1.689</td> <td>    1.085</td>\n",
       "</tr>\n",
       "<tr>\n",
       "  <th>onset[T.r]</th>  <td>   -0.0098</td> <td>    0.713</td> <td>   -0.014</td> <td> 0.989</td> <td>   -1.407</td> <td>    1.388</td>\n",
       "</tr>\n",
       "<tr>\n",
       "  <th>onset[T.s]</th>  <td>   -0.4124</td> <td>    0.709</td> <td>   -0.582</td> <td> 0.561</td> <td>   -1.802</td> <td>    0.977</td>\n",
       "</tr>\n",
       "<tr>\n",
       "  <th>onset[T.t]</th>  <td>   -0.3476</td> <td>    0.712</td> <td>   -0.488</td> <td> 0.625</td> <td>   -1.743</td> <td>    1.047</td>\n",
       "</tr>\n",
       "<tr>\n",
       "  <th>onset[T.u]</th>  <td>    0.6498</td> <td>    2.579</td> <td>    0.252</td> <td> 0.801</td> <td>   -4.407</td> <td>    5.707</td>\n",
       "</tr>\n",
       "<tr>\n",
       "  <th>onset[T.v]</th>  <td>    0.7038</td> <td>    0.756</td> <td>    0.931</td> <td> 0.352</td> <td>   -0.778</td> <td>    2.186</td>\n",
       "</tr>\n",
       "<tr>\n",
       "  <th>onset[T.w]</th>  <td>   -0.3071</td> <td>    0.723</td> <td>   -0.425</td> <td> 0.671</td> <td>   -1.726</td> <td>    1.111</td>\n",
       "</tr>\n",
       "<tr>\n",
       "  <th>onset[T.z]</th>  <td>    1.5198</td> <td>    0.962</td> <td>    1.580</td> <td> 0.114</td> <td>   -0.367</td> <td>    3.406</td>\n",
       "</tr>\n",
       "<tr>\n",
       "  <th>onset[T.{]</th>  <td>    0.4358</td> <td>    0.830</td> <td>    0.525</td> <td> 0.600</td> <td>   -1.192</td> <td>    2.063</td>\n",
       "</tr>\n",
       "<tr>\n",
       "  <th>set_mean</th>    <td>   -0.0110</td> <td>    0.024</td> <td>   -0.464</td> <td> 0.643</td> <td>   -0.058</td> <td>    0.036</td>\n",
       "</tr>\n",
       "<tr>\n",
       "  <th>word_length</th> <td>    0.0140</td> <td>    0.051</td> <td>    0.276</td> <td> 0.783</td> <td>   -0.085</td> <td>    0.113</td>\n",
       "</tr>\n",
       "<tr>\n",
       "  <th>set_size</th>    <td>   -0.0007</td> <td>    0.014</td> <td>   -0.053</td> <td> 0.957</td> <td>   -0.028</td> <td>    0.026</td>\n",
       "</tr>\n",
       "</table>\n",
       "<table class=\"simpletable\">\n",
       "<tr>\n",
       "  <th>Omnibus:</th>       <td>90.545</td> <th>  Durbin-Watson:     </th> <td>   2.433</td>\n",
       "</tr>\n",
       "<tr>\n",
       "  <th>Prob(Omnibus):</th> <td> 0.000</td> <th>  Jarque-Bera (JB):  </th> <td>  96.596</td>\n",
       "</tr>\n",
       "<tr>\n",
       "  <th>Skew:</th>          <td> 0.387</td> <th>  Prob(JB):          </th> <td>1.06e-21</td>\n",
       "</tr>\n",
       "<tr>\n",
       "  <th>Kurtosis:</th>      <td> 3.140</td> <th>  Cond. No.          </th> <td>1.22e+03</td>\n",
       "</tr>\n",
       "</table><br/><br/>Warnings:<br/>[1] Standard Errors assume that the covariance matrix of the errors is correctly specified.<br/>[2] The condition number is large, 1.22e+03. This might indicate that there are<br/>strong multicollinearity or other numerical problems."
      ],
      "text/plain": [
       "<class 'statsmodels.iolib.summary.Summary'>\n",
       "\"\"\"\n",
       "                            OLS Regression Results                            \n",
       "==============================================================================\n",
       "Dep. Variable:             aoa_impact   R-squared:                       0.021\n",
       "Model:                            OLS   Adj. R-squared:                  0.010\n",
       "Method:                 Least Squares   F-statistic:                     1.938\n",
       "Date:                Sat, 18 Jan 2020   Prob (F-statistic):           0.000287\n",
       "Time:                        15:45:16   Log-Likelihood:                -8712.7\n",
       "No. Observations:                3750   AIC:                         1.751e+04\n",
       "Df Residuals:                    3707   BIC:                         1.778e+04\n",
       "Df Model:                          42                                         \n",
       "Covariance Type:            nonrobust                                         \n",
       "===============================================================================\n",
       "                  coef    std err          t      P>|t|      [0.025      0.975]\n",
       "-------------------------------------------------------------------------------\n",
       "Intercept       0.3222      0.730      0.441      0.659      -1.110       1.754\n",
       "onset[T.$]      0.3996      0.885      0.451      0.652      -1.336       2.136\n",
       "onset[T.1]     -0.1456      0.904     -0.161      0.872      -1.919       1.628\n",
       "onset[T.2]     -0.9087      0.942     -0.965      0.335      -2.755       0.938\n",
       "onset[T.3]      1.9996      1.018      1.964      0.050       0.003       3.996\n",
       "onset[T.4]     -1.2998      1.592     -0.816      0.414      -4.422       1.822\n",
       "onset[T.5]      1.2852      0.877      1.466      0.143      -0.434       3.005\n",
       "onset[T.6]     -1.5310      1.308     -1.170      0.242      -4.096       1.034\n",
       "onset[T.7]     -1.8805      1.888     -0.996      0.319      -5.581       1.820\n",
       "onset[T.8]     -3.3923      1.888     -1.797      0.072      -7.093       0.308\n",
       "onset[T.@]      0.1944      0.835      0.233      0.816      -1.443       1.832\n",
       "onset[T.D]     -0.9979      0.978     -1.020      0.308      -2.916       0.920\n",
       "onset[T.E]     -0.8756      0.916     -0.956      0.339      -2.671       0.920\n",
       "onset[T.I]     -0.5521      0.864     -0.639      0.523      -2.246       1.141\n",
       "onset[T.J]     -0.2294      0.747     -0.307      0.759      -1.695       1.236\n",
       "onset[T.Q]     -1.9919      0.975     -2.043      0.041      -3.904      -0.080\n",
       "onset[T.S]     -0.3628      0.736     -0.493      0.622      -1.805       1.080\n",
       "onset[T.T]     -0.0129      0.773     -0.017      0.987      -1.528       1.503\n",
       "onset[T.V]     -1.2456      1.047     -1.190      0.234      -3.298       0.806\n",
       "onset[T._]     -0.0424      0.746     -0.057      0.955      -1.506       1.421\n",
       "onset[T.b]     -0.6382      0.707     -0.903      0.366      -2.023       0.747\n",
       "onset[T.d]     -0.1361      0.713     -0.191      0.849      -1.534       1.262\n",
       "onset[T.f]     -0.4308      0.710     -0.607      0.544      -1.823       0.961\n",
       "onset[T.g]      0.0240      0.717      0.034      0.973      -1.381       1.429\n",
       "onset[T.h]     -0.6865      0.717     -0.957      0.339      -2.093       0.720\n",
       "onset[T.i]     -0.0005      0.957     -0.000      1.000      -1.877       1.876\n",
       "onset[T.j]     -0.0107      0.810     -0.013      0.989      -1.600       1.578\n",
       "onset[T.k]     -0.2970      0.707     -0.420      0.674      -1.683       1.089\n",
       "onset[T.l]     -0.0899      0.717     -0.125      0.900      -1.495       1.315\n",
       "onset[T.m]     -0.5177      0.713     -0.726      0.468      -1.915       0.880\n",
       "onset[T.n]     -0.1810      0.733     -0.247      0.805      -1.619       1.257\n",
       "onset[T.p]     -0.3020      0.707     -0.427      0.669      -1.689       1.085\n",
       "onset[T.r]     -0.0098      0.713     -0.014      0.989      -1.407       1.388\n",
       "onset[T.s]     -0.4124      0.709     -0.582      0.561      -1.802       0.977\n",
       "onset[T.t]     -0.3476      0.712     -0.488      0.625      -1.743       1.047\n",
       "onset[T.u]      0.6498      2.579      0.252      0.801      -4.407       5.707\n",
       "onset[T.v]      0.7038      0.756      0.931      0.352      -0.778       2.186\n",
       "onset[T.w]     -0.3071      0.723     -0.425      0.671      -1.726       1.111\n",
       "onset[T.z]      1.5198      0.962      1.580      0.114      -0.367       3.406\n",
       "onset[T.{]      0.4358      0.830      0.525      0.600      -1.192       2.063\n",
       "set_mean       -0.0110      0.024     -0.464      0.643      -0.058       0.036\n",
       "word_length     0.0140      0.051      0.276      0.783      -0.085       0.113\n",
       "set_size       -0.0007      0.014     -0.053      0.957      -0.028       0.026\n",
       "==============================================================================\n",
       "Omnibus:                       90.545   Durbin-Watson:                   2.433\n",
       "Prob(Omnibus):                  0.000   Jarque-Bera (JB):               96.596\n",
       "Skew:                           0.387   Prob(JB):                     1.06e-21\n",
       "Kurtosis:                       3.140   Cond. No.                     1.22e+03\n",
       "==============================================================================\n",
       "\n",
       "Warnings:\n",
       "[1] Standard Errors assume that the covariance matrix of the errors is correctly specified.\n",
       "[2] The condition number is large, 1.22e+03. This might indicate that there are\n",
       "strong multicollinearity or other numerical problems.\n",
       "\"\"\""
      ]
     },
     "execution_count": 151,
     "metadata": {},
     "output_type": "execute_result"
    }
   ],
   "source": [
    "result = sm.ols(formula=\"aoa_impact ~ onset + set_mean + word_length + set_size\", data=df_joined).fit()\n",
    "result.summary()"
   ]
  },
  {
   "cell_type": "code",
   "execution_count": 148,
   "metadata": {},
   "outputs": [
    {
     "name": "stderr",
     "output_type": "stream",
     "text": [
      "100%|██████████| 100/100 [00:03<00:00, 29.05it/s]\n"
     ]
    }
   ],
   "source": [
    "### Shuffling\n",
    "shuffled_rsquares = []\n",
    "true_rsquare = result.rsquared\n",
    "\n",
    "NUM_SHUFFLES = 100\n",
    "\n",
    "for shuffle in tqdm(range(NUM_SHUFFLES)):\n",
    "    new_df = df_joined.copy()\n",
    "    new_df['shuffled_onset'] = np.random.permutation(new_df['onset'])\n",
    "    new_result = sm.ols(formula=\"aoa_impact ~ shuffled_onset + set_mean + word_length + set_size\", data=new_df).fit()\n",
    "    shuffled_rsquares.append(new_result.rsquared)"
   ]
  },
  {
   "cell_type": "code",
   "execution_count": 149,
   "metadata": {},
   "outputs": [
    {
     "name": "stdout",
     "output_type": "stream",
     "text": [
      "0.010299962959787332\n",
      "0.002589662951319239\n"
     ]
    }
   ],
   "source": [
    "shuffled_rsquares_np = np.array(shuffled_rsquares)\n",
    "print(np.mean(shuffled_rsquares_np))\n",
    "print(np.std(shuffled_rsquares_np))"
   ]
  },
  {
   "cell_type": "code",
   "execution_count": 150,
   "metadata": {},
   "outputs": [
    {
     "data": {
      "text/plain": [
       "Text(0.5, 1.0, 'Analysis 2: real R^2 vs. random shuffles')"
      ]
     },
     "execution_count": 150,
     "metadata": {},
     "output_type": "execute_result"
    },
    {
     "data": {
      "image/png": "[encoded data removed]",
      "text/plain": [
       "<Figure size 432x288 with 1 Axes>"
      ]
     },
     "metadata": {
      "image/png": {
       "height": 277,
       "width": 370
      },
      "needs_background": "light"
     },
     "output_type": "display_data"
    }
   ],
   "source": [
    "plt.hist(shuffled_rsquares)\n",
    "plt.axvline(x=true_rsquare, linestyle=\"dotted\")\n",
    "plt.xlabel(\"Distribution of R^2 values\")\n",
    "plt.title(\"Analysis 2: real R^2 vs. random shuffles\")"
   ]
  },
  {
   "cell_type": "code",
   "execution_count": null,
   "metadata": {},
   "outputs": [],
   "source": []
  }
 ],
 "metadata": {
  "kernelspec": {
   "display_name": "Python 3",
   "language": "python",
   "name": "python3"
  },
  "language_info": {
   "codemirror_mode": {
    "name": "ipython",
    "version": 3
   },
   "file_extension": ".py",
   "mimetype": "text/x-python",
   "name": "python",
   "nbconvert_exporter": "python",
   "pygments_lexer": "ipython3",
   "version": "3.7.1"
  }
 },
 "nbformat": 4,
 "nbformat_minor": 2
}
