{
 "cells": [
  {
   "cell_type": "markdown",
   "metadata": {},
   "source": [
    "# Systematic impacts of word onsets on word concreteness\n",
    "\n",
    "### Sean Trott, Arturs Semenuks, Benjamin Bergen\n",
    "\n",
    "Do the sounds in a word impact its meaning? \n",
    "\n",
    "In [another notebook](https://github.com/seantrott/concreteness/blob/master/phonetic_onset_concreteness.ipynb), I showed that the first phoneme in a word *can* have predictable effects on its concreteness. \n",
    "\n",
    "Here, I repeat this analysis, but with the larger set of [Brysbaert norms](http://crr.ugent.be/archives/1330)."
   ]
  },
  {
   "cell_type": "markdown",
   "metadata": {},
   "source": [
    "## Load and Merge Data"
   ]
  },
  {
   "cell_type": "code",
   "execution_count": 1,
   "metadata": {},
   "outputs": [],
   "source": [
    "# Plotting\n",
    "import matplotlib.pyplot as plt\n",
    "import seaborn as sn\n",
    "\n",
    "# Operations\n",
    "import numpy as np\n",
    "import pandas as pd \n",
    "import statsmodels.formula.api as sm\n",
    "from tqdm import tqdm\n",
    "import scipy.stats as ss\n",
    "\n",
    "# Custom imports\n",
    "from nlp_utilities.compling import CorpusUtilities\n",
    "from src.utils import get_concreteness_for_word\n"
   ]
  },
  {
   "cell_type": "code",
   "execution_count": 2,
   "metadata": {},
   "outputs": [
    {
     "name": "stdout",
     "output_type": "stream",
     "text": [
      "Number of words left in dataset: 39954\n",
      "Number of words left in dataset: 39954\n",
      "Number of words in CELEX: 46133\n",
      "Number of words in both Brysbaert and CELEX: 24379\n"
     ]
    }
   ],
   "source": [
    "# Set global variables\n",
    "DATA_PATH = \"data/raw/brysbaert_norms.csv\"\n",
    "CHARACTER_INDEX\t= 0\n",
    "# Get data\n",
    "df = pd.read_csv(DATA_PATH)\n",
    "df['Word'] = df['Word'].str.lower()\n",
    "df['Concreteness'] = df['Conc.M']\n",
    "print(\"Number of words left in dataset: {num}\".format(num=len(df)))\n",
    "\n",
    "# Drop duplicates\n",
    "df = df.drop_duplicates(subset=\"Word\")\n",
    "print(\"Number of words left in dataset: {num}\".format(num=len(df)))\n",
    "\n",
    "# Load celex\n",
    "df_celex = pd.read_csv(\"data/raw/celex_all.csv\", sep = \"\\\\\")\n",
    "df_celex = df_celex.drop_duplicates(subset='Word')\n",
    "print(\"Number of words in CELEX: {num}\".format(num=len(df_celex)))\n",
    "\n",
    "# Merge together to get phonetic representations\n",
    "df_merged = df_celex.merge(df, on=\"Word\")\n",
    "print(\"Number of words in both Brysbaert and CELEX: {num}\".format(num=len(df_merged)))"
   ]
  },
  {
   "cell_type": "code",
   "execution_count": 3,
   "metadata": {},
   "outputs": [
    {
     "name": "stdout",
     "output_type": "stream",
     "text": [
      "Number of words left: 24059\n"
     ]
    }
   ],
   "source": [
    "# Drop duplicate phonetic representations (homophones)\n",
    "df_merged = df_merged.drop_duplicates(subset = 'PhonDISC')\n",
    "print(\"Number of words left: {num}\".format(num=len(df_merged)))"
   ]
  },
  {
   "cell_type": "code",
   "execution_count": 4,
   "metadata": {},
   "outputs": [
    {
     "data": {
      "text/html": [
       "<div>\n",
       "<style scoped>\n",
       "    .dataframe tbody tr th:only-of-type {\n",
       "        vertical-align: middle;\n",
       "    }\n",
       "\n",
       "    .dataframe tbody tr th {\n",
       "        vertical-align: top;\n",
       "    }\n",
       "\n",
       "    .dataframe thead th {\n",
       "        text-align: right;\n",
       "    }\n",
       "</style>\n",
       "<table border=\"1\" class=\"dataframe\">\n",
       "  <thead>\n",
       "    <tr style=\"text-align: right;\">\n",
       "      <th></th>\n",
       "      <th>Word</th>\n",
       "      <th>CobLog</th>\n",
       "      <th>CompCnt</th>\n",
       "      <th>PhonDISC</th>\n",
       "      <th>Class</th>\n",
       "      <th>SylCnt</th>\n",
       "      <th>Bigram</th>\n",
       "      <th>Conc.M</th>\n",
       "      <th>Conc.SD</th>\n",
       "      <th>Unknown</th>\n",
       "      <th>Total</th>\n",
       "      <th>Percent_known</th>\n",
       "      <th>SUBTLEX</th>\n",
       "      <th>Dom_Pos</th>\n",
       "      <th>Concreteness</th>\n",
       "    </tr>\n",
       "  </thead>\n",
       "  <tbody>\n",
       "    <tr>\n",
       "      <th>0</th>\n",
       "      <td>a</td>\n",
       "      <td>4.36</td>\n",
       "      <td>1</td>\n",
       "      <td>1</td>\n",
       "      <td>ART</td>\n",
       "      <td>1</td>\n",
       "      <td>0</td>\n",
       "      <td>1.46</td>\n",
       "      <td>1.14</td>\n",
       "      <td>2</td>\n",
       "      <td>30</td>\n",
       "      <td>0.93</td>\n",
       "      <td>1041179</td>\n",
       "      <td>Article</td>\n",
       "      <td>1.46</td>\n",
       "    </tr>\n",
       "    <tr>\n",
       "      <th>1</th>\n",
       "      <td>aback</td>\n",
       "      <td>0.48</td>\n",
       "      <td>2</td>\n",
       "      <td>@b{k</td>\n",
       "      <td>ADV</td>\n",
       "      <td>2</td>\n",
       "      <td>0</td>\n",
       "      <td>1.65</td>\n",
       "      <td>1.07</td>\n",
       "      <td>4</td>\n",
       "      <td>27</td>\n",
       "      <td>0.85</td>\n",
       "      <td>15</td>\n",
       "      <td>Adverb</td>\n",
       "      <td>1.65</td>\n",
       "    </tr>\n",
       "    <tr>\n",
       "      <th>2</th>\n",
       "      <td>abacus</td>\n",
       "      <td>0.00</td>\n",
       "      <td>0</td>\n",
       "      <td>{b@k@s</td>\n",
       "      <td>N</td>\n",
       "      <td>3</td>\n",
       "      <td>0</td>\n",
       "      <td>4.52</td>\n",
       "      <td>1.12</td>\n",
       "      <td>2</td>\n",
       "      <td>29</td>\n",
       "      <td>0.93</td>\n",
       "      <td>12</td>\n",
       "      <td>Noun</td>\n",
       "      <td>4.52</td>\n",
       "    </tr>\n",
       "    <tr>\n",
       "      <th>3</th>\n",
       "      <td>abandon</td>\n",
       "      <td>0.30</td>\n",
       "      <td>1</td>\n",
       "      <td>@b{nd@n</td>\n",
       "      <td>N</td>\n",
       "      <td>3</td>\n",
       "      <td>0</td>\n",
       "      <td>2.54</td>\n",
       "      <td>1.45</td>\n",
       "      <td>1</td>\n",
       "      <td>27</td>\n",
       "      <td>0.96</td>\n",
       "      <td>413</td>\n",
       "      <td>Verb</td>\n",
       "      <td>2.54</td>\n",
       "    </tr>\n",
       "    <tr>\n",
       "      <th>4</th>\n",
       "      <td>abandoned</td>\n",
       "      <td>0.00</td>\n",
       "      <td>1</td>\n",
       "      <td>@b{nd@nd</td>\n",
       "      <td>A</td>\n",
       "      <td>3</td>\n",
       "      <td>0</td>\n",
       "      <td>2.52</td>\n",
       "      <td>1.27</td>\n",
       "      <td>0</td>\n",
       "      <td>29</td>\n",
       "      <td>1.00</td>\n",
       "      <td>678</td>\n",
       "      <td>Verb</td>\n",
       "      <td>2.52</td>\n",
       "    </tr>\n",
       "  </tbody>\n",
       "</table>\n",
       "</div>"
      ],
      "text/plain": [
       "        Word  CobLog  CompCnt  PhonDISC Class  SylCnt  Bigram  Conc.M  \\\n",
       "0          a    4.36        1         1   ART       1       0    1.46   \n",
       "1      aback    0.48        2      @b{k   ADV       2       0    1.65   \n",
       "2     abacus    0.00        0    {b@k@s     N       3       0    4.52   \n",
       "3    abandon    0.30        1   @b{nd@n     N       3       0    2.54   \n",
       "4  abandoned    0.00        1  @b{nd@nd     A       3       0    2.52   \n",
       "\n",
       "   Conc.SD  Unknown  Total  Percent_known  SUBTLEX  Dom_Pos  Concreteness  \n",
       "0     1.14        2     30           0.93  1041179  Article          1.46  \n",
       "1     1.07        4     27           0.85       15   Adverb          1.65  \n",
       "2     1.12        2     29           0.93       12     Noun          4.52  \n",
       "3     1.45        1     27           0.96      413     Verb          2.54  \n",
       "4     1.27        0     29           1.00      678     Verb          2.52  "
      ]
     },
     "execution_count": 4,
     "metadata": {},
     "output_type": "execute_result"
    }
   ],
   "source": [
    "df_merged.head(5)"
   ]
  },
  {
   "cell_type": "markdown",
   "metadata": {},
   "source": [
    "## Analysis 1: Concreteness ~ Onset phone"
   ]
  },
  {
   "cell_type": "code",
   "execution_count": 5,
   "metadata": {},
   "outputs": [],
   "source": [
    "df_merged = df_merged[df_merged['CompCnt']<=1]\n",
    "print(\"Number of words left: {num}\".format(num=len(df_merged)))"
   ]
  },
  {
   "cell_type": "code",
   "execution_count": 6,
   "metadata": {},
   "outputs": [],
   "source": [
    "df_merged['onset'] = df_merged['PhonDISC'].apply(lambda x: x[0])\n",
    "df_merged['word_length'] = len(df_merged['PhonDISC'])"
   ]
  },
  {
   "cell_type": "code",
   "execution_count": 34,
   "metadata": {},
   "outputs": [
    {
     "data": {
      "text/html": [
       "<table class=\"simpletable\">\n",
       "<caption>OLS Regression Results</caption>\n",
       "<tr>\n",
       "  <th>Dep. Variable:</th>      <td>Concreteness</td>   <th>  R-squared:         </th> <td>   0.279</td> \n",
       "</tr>\n",
       "<tr>\n",
       "  <th>Model:</th>                   <td>OLS</td>       <th>  Adj. R-squared:    </th> <td>   0.275</td> \n",
       "</tr>\n",
       "<tr>\n",
       "  <th>Method:</th>             <td>Least Squares</td>  <th>  F-statistic:       </th> <td>   72.98</td> \n",
       "</tr>\n",
       "<tr>\n",
       "  <th>Date:</th>             <td>Thu, 25 Apr 2019</td> <th>  Prob (F-statistic):</th>  <td>  0.00</td>  \n",
       "</tr>\n",
       "<tr>\n",
       "  <th>Time:</th>                 <td>10:11:16</td>     <th>  Log-Likelihood:    </th> <td> -12376.</td> \n",
       "</tr>\n",
       "<tr>\n",
       "  <th>No. Observations:</th>      <td>  9658</td>      <th>  AIC:               </th> <td>2.486e+04</td>\n",
       "</tr>\n",
       "<tr>\n",
       "  <th>Df Residuals:</th>          <td>  9606</td>      <th>  BIC:               </th> <td>2.523e+04</td>\n",
       "</tr>\n",
       "<tr>\n",
       "  <th>Df Model:</th>              <td>    51</td>      <th>                     </th>     <td> </td>    \n",
       "</tr>\n",
       "<tr>\n",
       "  <th>Covariance Type:</th>      <td>nonrobust</td>    <th>                     </th>     <td> </td>    \n",
       "</tr>\n",
       "</table>\n",
       "<table class=\"simpletable\">\n",
       "<tr>\n",
       "        <td></td>           <th>coef</th>     <th>std err</th>      <th>t</th>      <th>P>|t|</th>  <th>[0.025</th>    <th>0.975]</th>  \n",
       "</tr>\n",
       "<tr>\n",
       "  <th>Intercept</th>     <td> 2.846e-08</td> <td> 1.49e-09</td> <td>   19.151</td> <td> 0.000</td> <td> 2.55e-08</td> <td> 3.14e-08</td>\n",
       "</tr>\n",
       "<tr>\n",
       "  <th>onset[T.$]</th>    <td>   -0.2490</td> <td>    0.173</td> <td>   -1.440</td> <td> 0.150</td> <td>   -0.588</td> <td>    0.090</td>\n",
       "</tr>\n",
       "<tr>\n",
       "  <th>onset[T.1]</th>    <td>    0.0524</td> <td>    0.204</td> <td>    0.257</td> <td> 0.797</td> <td>   -0.347</td> <td>    0.451</td>\n",
       "</tr>\n",
       "<tr>\n",
       "  <th>onset[T.2]</th>    <td>    0.0263</td> <td>    0.214</td> <td>    0.123</td> <td> 0.902</td> <td>   -0.394</td> <td>    0.446</td>\n",
       "</tr>\n",
       "<tr>\n",
       "  <th>onset[T.3]</th>    <td>   -0.4594</td> <td>    0.297</td> <td>   -1.548</td> <td> 0.122</td> <td>   -1.041</td> <td>    0.123</td>\n",
       "</tr>\n",
       "<tr>\n",
       "  <th>onset[T.4]</th>    <td>    0.8633</td> <td>    0.414</td> <td>    2.085</td> <td> 0.037</td> <td>    0.052</td> <td>    1.675</td>\n",
       "</tr>\n",
       "<tr>\n",
       "  <th>onset[T.5]</th>    <td>   -0.2168</td> <td>    0.177</td> <td>   -1.228</td> <td> 0.219</td> <td>   -0.563</td> <td>    0.129</td>\n",
       "</tr>\n",
       "<tr>\n",
       "  <th>onset[T.6]</th>    <td>   -0.5353</td> <td>    0.217</td> <td>   -2.471</td> <td> 0.013</td> <td>   -0.960</td> <td>   -0.111</td>\n",
       "</tr>\n",
       "<tr>\n",
       "  <th>onset[T.7]</th>    <td>   -0.4912</td> <td>    0.523</td> <td>   -0.940</td> <td> 0.347</td> <td>   -1.516</td> <td>    0.534</td>\n",
       "</tr>\n",
       "<tr>\n",
       "  <th>onset[T.8]</th>    <td>   -0.2192</td> <td>    0.414</td> <td>   -0.530</td> <td> 0.596</td> <td>   -1.031</td> <td>    0.592</td>\n",
       "</tr>\n",
       "<tr>\n",
       "  <th>onset[T.@]</th>    <td>   -0.5317</td> <td>    0.147</td> <td>   -3.613</td> <td> 0.000</td> <td>   -0.820</td> <td>   -0.243</td>\n",
       "</tr>\n",
       "<tr>\n",
       "  <th>onset[T.D]</th>    <td>   -0.5587</td> <td>    0.272</td> <td>   -2.057</td> <td> 0.040</td> <td>   -1.091</td> <td>   -0.026</td>\n",
       "</tr>\n",
       "<tr>\n",
       "  <th>onset[T.E]</th>    <td>   -0.3872</td> <td>    0.157</td> <td>   -2.470</td> <td> 0.014</td> <td>   -0.695</td> <td>   -0.080</td>\n",
       "</tr>\n",
       "<tr>\n",
       "  <th>onset[T.I]</th>    <td>   -0.5866</td> <td>    0.143</td> <td>   -4.107</td> <td> 0.000</td> <td>   -0.867</td> <td>   -0.307</td>\n",
       "</tr>\n",
       "<tr>\n",
       "  <th>onset[T.J]</th>    <td>    0.2846</td> <td>    0.164</td> <td>    1.737</td> <td> 0.082</td> <td>   -0.037</td> <td>    0.606</td>\n",
       "</tr>\n",
       "<tr>\n",
       "  <th>onset[T.Q]</th>    <td>   -0.2201</td> <td>    0.173</td> <td>   -1.275</td> <td> 0.202</td> <td>   -0.558</td> <td>    0.118</td>\n",
       "</tr>\n",
       "<tr>\n",
       "  <th>onset[T.S]</th>    <td>    0.2222</td> <td>    0.155</td> <td>    1.429</td> <td> 0.153</td> <td>   -0.083</td> <td>    0.527</td>\n",
       "</tr>\n",
       "<tr>\n",
       "  <th>onset[T.T]</th>    <td>   -0.1930</td> <td>    0.171</td> <td>   -1.131</td> <td> 0.258</td> <td>   -0.528</td> <td>    0.141</td>\n",
       "</tr>\n",
       "<tr>\n",
       "  <th>onset[T.U]</th>    <td>   -1.4165</td> <td>    0.637</td> <td>   -2.225</td> <td> 0.026</td> <td>   -2.665</td> <td>   -0.168</td>\n",
       "</tr>\n",
       "<tr>\n",
       "  <th>onset[T.V]</th>    <td>   -0.3431</td> <td>    0.175</td> <td>   -1.965</td> <td> 0.049</td> <td>   -0.685</td> <td>   -0.001</td>\n",
       "</tr>\n",
       "<tr>\n",
       "  <th>onset[T.Z]</th>    <td>   -1.0536</td> <td>    0.633</td> <td>   -1.665</td> <td> 0.096</td> <td>   -2.294</td> <td>    0.187</td>\n",
       "</tr>\n",
       "<tr>\n",
       "  <th>onset[T._]</th>    <td>    0.0320</td> <td>    0.155</td> <td>    0.207</td> <td> 0.836</td> <td>   -0.271</td> <td>    0.335</td>\n",
       "</tr>\n",
       "<tr>\n",
       "  <th>onset[T.b]</th>    <td>    0.1284</td> <td>    0.141</td> <td>    0.909</td> <td> 0.364</td> <td>   -0.149</td> <td>    0.405</td>\n",
       "</tr>\n",
       "<tr>\n",
       "  <th>onset[T.d]</th>    <td>   -0.3170</td> <td>    0.141</td> <td>   -2.241</td> <td> 0.025</td> <td>   -0.594</td> <td>   -0.040</td>\n",
       "</tr>\n",
       "<tr>\n",
       "  <th>onset[T.f]</th>    <td>   -0.2104</td> <td>    0.142</td> <td>   -1.477</td> <td> 0.140</td> <td>   -0.490</td> <td>    0.069</td>\n",
       "</tr>\n",
       "<tr>\n",
       "  <th>onset[T.g]</th>    <td>    0.0338</td> <td>    0.145</td> <td>    0.233</td> <td> 0.816</td> <td>   -0.251</td> <td>    0.319</td>\n",
       "</tr>\n",
       "<tr>\n",
       "  <th>onset[T.h]</th>    <td>   -0.0833</td> <td>    0.144</td> <td>   -0.577</td> <td> 0.564</td> <td>   -0.367</td> <td>    0.200</td>\n",
       "</tr>\n",
       "<tr>\n",
       "  <th>onset[T.i]</th>    <td>   -0.4029</td> <td>    0.231</td> <td>   -1.743</td> <td> 0.081</td> <td>   -0.856</td> <td>    0.050</td>\n",
       "</tr>\n",
       "<tr>\n",
       "  <th>onset[T.j]</th>    <td>   -0.1576</td> <td>    0.174</td> <td>   -0.906</td> <td> 0.365</td> <td>   -0.498</td> <td>    0.183</td>\n",
       "</tr>\n",
       "<tr>\n",
       "  <th>onset[T.k]</th>    <td>   -0.0346</td> <td>    0.139</td> <td>   -0.248</td> <td> 0.804</td> <td>   -0.308</td> <td>    0.239</td>\n",
       "</tr>\n",
       "<tr>\n",
       "  <th>onset[T.l]</th>    <td>   -0.0205</td> <td>    0.145</td> <td>   -0.141</td> <td> 0.888</td> <td>   -0.305</td> <td>    0.264</td>\n",
       "</tr>\n",
       "<tr>\n",
       "  <th>onset[T.m]</th>    <td>   -0.1019</td> <td>    0.142</td> <td>   -0.718</td> <td> 0.473</td> <td>   -0.380</td> <td>    0.176</td>\n",
       "</tr>\n",
       "<tr>\n",
       "  <th>onset[T.n]</th>    <td>   -0.2272</td> <td>    0.150</td> <td>   -1.512</td> <td> 0.130</td> <td>   -0.522</td> <td>    0.067</td>\n",
       "</tr>\n",
       "<tr>\n",
       "  <th>onset[T.p]</th>    <td>   -0.1278</td> <td>    0.140</td> <td>   -0.912</td> <td> 0.362</td> <td>   -0.402</td> <td>    0.147</td>\n",
       "</tr>\n",
       "<tr>\n",
       "  <th>onset[T.q]</th>    <td>    0.0355</td> <td>    0.635</td> <td>    0.056</td> <td> 0.955</td> <td>   -1.208</td> <td>    1.279</td>\n",
       "</tr>\n",
       "<tr>\n",
       "  <th>onset[T.r]</th>    <td>   -0.3150</td> <td>    0.142</td> <td>   -2.221</td> <td> 0.026</td> <td>   -0.593</td> <td>   -0.037</td>\n",
       "</tr>\n",
       "<tr>\n",
       "  <th>onset[T.s]</th>    <td>   -0.0181</td> <td>    0.139</td> <td>   -0.130</td> <td> 0.896</td> <td>   -0.290</td> <td>    0.254</td>\n",
       "</tr>\n",
       "<tr>\n",
       "  <th>onset[T.t]</th>    <td>    0.0154</td> <td>    0.142</td> <td>    0.108</td> <td> 0.914</td> <td>   -0.264</td> <td>    0.295</td>\n",
       "</tr>\n",
       "<tr>\n",
       "  <th>onset[T.u]</th>    <td>    0.2322</td> <td>    0.885</td> <td>    0.262</td> <td> 0.793</td> <td>   -1.502</td> <td>    1.966</td>\n",
       "</tr>\n",
       "<tr>\n",
       "  <th>onset[T.v]</th>    <td>   -0.1669</td> <td>    0.152</td> <td>   -1.098</td> <td> 0.272</td> <td>   -0.465</td> <td>    0.131</td>\n",
       "</tr>\n",
       "<tr>\n",
       "  <th>onset[T.w]</th>    <td>   -0.0508</td> <td>    0.149</td> <td>   -0.341</td> <td> 0.733</td> <td>   -0.343</td> <td>    0.242</td>\n",
       "</tr>\n",
       "<tr>\n",
       "  <th>onset[T.z]</th>    <td>   -0.4021</td> <td>    0.219</td> <td>   -1.833</td> <td> 0.067</td> <td>   -0.832</td> <td>    0.028</td>\n",
       "</tr>\n",
       "<tr>\n",
       "  <th>onset[T.{]</th>    <td>   -0.2924</td> <td>    0.150</td> <td>   -1.952</td> <td> 0.051</td> <td>   -0.586</td> <td>    0.001</td>\n",
       "</tr>\n",
       "<tr>\n",
       "  <th>Class[T.ADV]</th>  <td>   -0.3056</td> <td>    0.093</td> <td>   -3.302</td> <td> 0.001</td> <td>   -0.487</td> <td>   -0.124</td>\n",
       "</tr>\n",
       "<tr>\n",
       "  <th>Class[T.ART]</th>  <td>   -1.2286</td> <td>    0.625</td> <td>   -1.965</td> <td> 0.049</td> <td>   -2.454</td> <td>   -0.003</td>\n",
       "</tr>\n",
       "<tr>\n",
       "  <th>Class[T.C]</th>    <td>   -0.6789</td> <td>    0.245</td> <td>   -2.766</td> <td> 0.006</td> <td>   -1.160</td> <td>   -0.198</td>\n",
       "</tr>\n",
       "<tr>\n",
       "  <th>Class[T.I]</th>    <td>   -0.0300</td> <td>    0.147</td> <td>   -0.204</td> <td> 0.839</td> <td>   -0.319</td> <td>    0.259</td>\n",
       "</tr>\n",
       "<tr>\n",
       "  <th>Class[T.N]</th>    <td>    1.1126</td> <td>    0.026</td> <td>   42.691</td> <td> 0.000</td> <td>    1.062</td> <td>    1.164</td>\n",
       "</tr>\n",
       "<tr>\n",
       "  <th>Class[T.PREP]</th> <td>   -0.5308</td> <td>    0.170</td> <td>   -3.113</td> <td> 0.002</td> <td>   -0.865</td> <td>   -0.197</td>\n",
       "</tr>\n",
       "<tr>\n",
       "  <th>Class[T.PRON]</th> <td>    0.0775</td> <td>    0.161</td> <td>    0.482</td> <td> 0.630</td> <td>   -0.238</td> <td>    0.393</td>\n",
       "</tr>\n",
       "<tr>\n",
       "  <th>Class[T.V]</th>    <td>    0.2656</td> <td>    0.035</td> <td>    7.661</td> <td> 0.000</td> <td>    0.198</td> <td>    0.334</td>\n",
       "</tr>\n",
       "<tr>\n",
       "  <th>word_length</th>   <td>    0.0003</td> <td> 1.44e-05</td> <td>   19.150</td> <td> 0.000</td> <td>    0.000</td> <td>    0.000</td>\n",
       "</tr>\n",
       "<tr>\n",
       "  <th>CobLog</th>        <td>    0.0390</td> <td>    0.013</td> <td>    2.928</td> <td> 0.003</td> <td>    0.013</td> <td>    0.065</td>\n",
       "</tr>\n",
       "</table>\n",
       "<table class=\"simpletable\">\n",
       "<tr>\n",
       "  <th>Omnibus:</th>       <td>464.478</td> <th>  Durbin-Watson:     </th> <td>   1.693</td>\n",
       "</tr>\n",
       "<tr>\n",
       "  <th>Prob(Omnibus):</th> <td> 0.000</td>  <th>  Jarque-Bera (JB):  </th> <td> 287.264</td>\n",
       "</tr>\n",
       "<tr>\n",
       "  <th>Skew:</th>          <td>-0.290</td>  <th>  Prob(JB):          </th> <td>4.18e-63</td>\n",
       "</tr>\n",
       "<tr>\n",
       "  <th>Kurtosis:</th>      <td> 2.386</td>  <th>  Cond. No.          </th> <td>2.85e+18</td>\n",
       "</tr>\n",
       "</table><br/><br/>Warnings:<br/>[1] Standard Errors assume that the covariance matrix of the errors is correctly specified.<br/>[2] The smallest eigenvalue is 1.11e-25. This might indicate that there are<br/>strong multicollinearity problems or that the design matrix is singular."
      ],
      "text/plain": [
       "<class 'statsmodels.iolib.summary.Summary'>\n",
       "\"\"\"\n",
       "                            OLS Regression Results                            \n",
       "==============================================================================\n",
       "Dep. Variable:           Concreteness   R-squared:                       0.279\n",
       "Model:                            OLS   Adj. R-squared:                  0.275\n",
       "Method:                 Least Squares   F-statistic:                     72.98\n",
       "Date:                Thu, 25 Apr 2019   Prob (F-statistic):               0.00\n",
       "Time:                        10:11:16   Log-Likelihood:                -12376.\n",
       "No. Observations:                9658   AIC:                         2.486e+04\n",
       "Df Residuals:                    9606   BIC:                         2.523e+04\n",
       "Df Model:                          51                                         \n",
       "Covariance Type:            nonrobust                                         \n",
       "=================================================================================\n",
       "                    coef    std err          t      P>|t|      [0.025      0.975]\n",
       "---------------------------------------------------------------------------------\n",
       "Intercept      2.846e-08   1.49e-09     19.151      0.000    2.55e-08    3.14e-08\n",
       "onset[T.$]       -0.2490      0.173     -1.440      0.150      -0.588       0.090\n",
       "onset[T.1]        0.0524      0.204      0.257      0.797      -0.347       0.451\n",
       "onset[T.2]        0.0263      0.214      0.123      0.902      -0.394       0.446\n",
       "onset[T.3]       -0.4594      0.297     -1.548      0.122      -1.041       0.123\n",
       "onset[T.4]        0.8633      0.414      2.085      0.037       0.052       1.675\n",
       "onset[T.5]       -0.2168      0.177     -1.228      0.219      -0.563       0.129\n",
       "onset[T.6]       -0.5353      0.217     -2.471      0.013      -0.960      -0.111\n",
       "onset[T.7]       -0.4912      0.523     -0.940      0.347      -1.516       0.534\n",
       "onset[T.8]       -0.2192      0.414     -0.530      0.596      -1.031       0.592\n",
       "onset[T.@]       -0.5317      0.147     -3.613      0.000      -0.820      -0.243\n",
       "onset[T.D]       -0.5587      0.272     -2.057      0.040      -1.091      -0.026\n",
       "onset[T.E]       -0.3872      0.157     -2.470      0.014      -0.695      -0.080\n",
       "onset[T.I]       -0.5866      0.143     -4.107      0.000      -0.867      -0.307\n",
       "onset[T.J]        0.2846      0.164      1.737      0.082      -0.037       0.606\n",
       "onset[T.Q]       -0.2201      0.173     -1.275      0.202      -0.558       0.118\n",
       "onset[T.S]        0.2222      0.155      1.429      0.153      -0.083       0.527\n",
       "onset[T.T]       -0.1930      0.171     -1.131      0.258      -0.528       0.141\n",
       "onset[T.U]       -1.4165      0.637     -2.225      0.026      -2.665      -0.168\n",
       "onset[T.V]       -0.3431      0.175     -1.965      0.049      -0.685      -0.001\n",
       "onset[T.Z]       -1.0536      0.633     -1.665      0.096      -2.294       0.187\n",
       "onset[T._]        0.0320      0.155      0.207      0.836      -0.271       0.335\n",
       "onset[T.b]        0.1284      0.141      0.909      0.364      -0.149       0.405\n",
       "onset[T.d]       -0.3170      0.141     -2.241      0.025      -0.594      -0.040\n",
       "onset[T.f]       -0.2104      0.142     -1.477      0.140      -0.490       0.069\n",
       "onset[T.g]        0.0338      0.145      0.233      0.816      -0.251       0.319\n",
       "onset[T.h]       -0.0833      0.144     -0.577      0.564      -0.367       0.200\n",
       "onset[T.i]       -0.4029      0.231     -1.743      0.081      -0.856       0.050\n",
       "onset[T.j]       -0.1576      0.174     -0.906      0.365      -0.498       0.183\n",
       "onset[T.k]       -0.0346      0.139     -0.248      0.804      -0.308       0.239\n",
       "onset[T.l]       -0.0205      0.145     -0.141      0.888      -0.305       0.264\n",
       "onset[T.m]       -0.1019      0.142     -0.718      0.473      -0.380       0.176\n",
       "onset[T.n]       -0.2272      0.150     -1.512      0.130      -0.522       0.067\n",
       "onset[T.p]       -0.1278      0.140     -0.912      0.362      -0.402       0.147\n",
       "onset[T.q]        0.0355      0.635      0.056      0.955      -1.208       1.279\n",
       "onset[T.r]       -0.3150      0.142     -2.221      0.026      -0.593      -0.037\n",
       "onset[T.s]       -0.0181      0.139     -0.130      0.896      -0.290       0.254\n",
       "onset[T.t]        0.0154      0.142      0.108      0.914      -0.264       0.295\n",
       "onset[T.u]        0.2322      0.885      0.262      0.793      -1.502       1.966\n",
       "onset[T.v]       -0.1669      0.152     -1.098      0.272      -0.465       0.131\n",
       "onset[T.w]       -0.0508      0.149     -0.341      0.733      -0.343       0.242\n",
       "onset[T.z]       -0.4021      0.219     -1.833      0.067      -0.832       0.028\n",
       "onset[T.{]       -0.2924      0.150     -1.952      0.051      -0.586       0.001\n",
       "Class[T.ADV]     -0.3056      0.093     -3.302      0.001      -0.487      -0.124\n",
       "Class[T.ART]     -1.2286      0.625     -1.965      0.049      -2.454      -0.003\n",
       "Class[T.C]       -0.6789      0.245     -2.766      0.006      -1.160      -0.198\n",
       "Class[T.I]       -0.0300      0.147     -0.204      0.839      -0.319       0.259\n",
       "Class[T.N]        1.1126      0.026     42.691      0.000       1.062       1.164\n",
       "Class[T.PREP]    -0.5308      0.170     -3.113      0.002      -0.865      -0.197\n",
       "Class[T.PRON]     0.0775      0.161      0.482      0.630      -0.238       0.393\n",
       "Class[T.V]        0.2656      0.035      7.661      0.000       0.198       0.334\n",
       "word_length       0.0003   1.44e-05     19.150      0.000       0.000       0.000\n",
       "CobLog            0.0390      0.013      2.928      0.003       0.013       0.065\n",
       "==============================================================================\n",
       "Omnibus:                      464.478   Durbin-Watson:                   1.693\n",
       "Prob(Omnibus):                  0.000   Jarque-Bera (JB):              287.264\n",
       "Skew:                          -0.290   Prob(JB):                     4.18e-63\n",
       "Kurtosis:                       2.386   Cond. No.                     2.85e+18\n",
       "==============================================================================\n",
       "\n",
       "Warnings:\n",
       "[1] Standard Errors assume that the covariance matrix of the errors is correctly specified.\n",
       "[2] The smallest eigenvalue is 1.11e-25. This might indicate that there are\n",
       "strong multicollinearity problems or that the design matrix is singular.\n",
       "\"\"\""
      ]
     },
     "execution_count": 34,
     "metadata": {},
     "output_type": "execute_result"
    }
   ],
   "source": [
    "result = sm.ols(formula=\"Concreteness ~ onset + word_length + Class + CobLog\", data=df_merged).fit()\n",
    "result.summary()"
   ]
  },
  {
   "cell_type": "code",
   "execution_count": 8,
   "metadata": {},
   "outputs": [
    {
     "data": {
      "text/plain": [
       "0.27927111032901053"
      ]
     },
     "execution_count": 8,
     "metadata": {},
     "output_type": "execute_result"
    }
   ],
   "source": [
    "result.rsquared"
   ]
  },
  {
   "cell_type": "code",
   "execution_count": 9,
   "metadata": {},
   "outputs": [
    {
     "name": "stderr",
     "output_type": "stream",
     "text": [
      "100%|██████████| 50/50 [00:06<00:00,  7.49it/s]\n"
     ]
    }
   ],
   "source": [
    "### Shuffling\n",
    "shuffled_rsquares = []\n",
    "true_rsquare = result.rsquared\n",
    "\n",
    "NUM_SHUFFLES = 50\n",
    "\n",
    "for shuffle in tqdm(range(NUM_SHUFFLES)):\n",
    "    new_df = df_merged.copy()\n",
    "    new_df['shuffled_onset'] = np.random.permutation(new_df['onset'])\n",
    "    new_result = sm.ols(formula=\"Concreteness ~ shuffled_onset + word_length + Class + CobLog\", data=new_df).fit()\n",
    "    shuffled_rsquares.append(new_result.rsquared)"
   ]
  },
  {
   "cell_type": "code",
   "execution_count": 10,
   "metadata": {},
   "outputs": [
    {
     "name": "stdout",
     "output_type": "stream",
     "text": [
      "0.2501408096350839\n",
      "0.0006759905422061107\n"
     ]
    }
   ],
   "source": [
    "shuffled_rsquares_np = np.array(shuffled_rsquares)\n",
    "print(np.mean(shuffled_rsquares_np))\n",
    "print(np.std(shuffled_rsquares_np))"
   ]
  },
  {
   "cell_type": "code",
   "execution_count": 11,
   "metadata": {},
   "outputs": [
    {
     "data": {
      "text/plain": [
       "Text(0.5, 1.0, 'Real R^2 vs. distribution from random permutations')"
      ]
     },
     "execution_count": 11,
     "metadata": {},
     "output_type": "execute_result"
    },
    {
     "data": {
      "image/png": "[encoded data removed]",
      "text/plain": [
       "<Figure size 432x288 with 1 Axes>"
      ]
     },
     "metadata": {
      "needs_background": "light"
     },
     "output_type": "display_data"
    }
   ],
   "source": [
    "plt.hist(shuffled_rsquares)\n",
    "plt.axvline(x=true_rsquare, linestyle=\"dotted\")\n",
    "plt.xlabel(\"Distribution of R^2 values\")\n",
    "plt.title(\"Real R^2 vs. distribution from random permutations\")"
   ]
  },
  {
   "cell_type": "markdown",
   "metadata": {},
   "source": [
    "### Discussion and exploration\n",
    "\n",
    "Based on these results, it seems like:\n",
    "\n",
    "First, there is more structure in mappings between phonetic onsets and word concreteness than one would expect by chance, even controlling for grammatical class, word length, and word frequency.\n",
    "\n",
    "Certain onsets exhibit particularly strong effects, such as: \n",
    "- **/@/** (the onset in *abandon* or *abide*) has a consistently *negative* impact on concreteness.\n",
    "- **/I/** (the onset in *elastic*) has a consistently *negative* impact on concreteness.\n",
    "- **/D/** (the onset in *they*) has a *negative* impact on concreteness.\n",
    "- **/z/** (the onset in *zeal* or *zero*) has a marginally *negative* impact on concreteness."
   ]
  },
  {
   "cell_type": "code",
   "execution_count": null,
   "metadata": {},
   "outputs": [],
   "source": []
  },
  {
   "cell_type": "markdown",
   "metadata": {},
   "source": [
    "## Analysis 2: Concreteness impact ~ onset"
   ]
  },
  {
   "cell_type": "code",
   "execution_count": 12,
   "metadata": {},
   "outputs": [
    {
     "name": "stderr",
     "output_type": "stream",
     "text": [
      "  0%|          | 4/9659 [00:00<04:26, 36.29it/s]"
     ]
    },
    {
     "name": "stdout",
     "output_type": "stream",
     "text": [
      "Getting minimal sets...\n"
     ]
    },
    {
     "name": "stderr",
     "output_type": "stream",
     "text": [
      "100%|██████████| 9659/9659 [21:48<00:00,  7.38it/s]  "
     ]
    },
    {
     "name": "stdout",
     "output_type": "stream",
     "text": [
      "Number of minimal sets: 962\n"
     ]
    },
    {
     "name": "stderr",
     "output_type": "stream",
     "text": [
      "\n"
     ]
    }
   ],
   "source": [
    "# Get minimal sets\n",
    "print(\"Getting minimal sets...\")\n",
    "minimal_sets = CorpusUtilities.get_minimal_orthographic_sets(df_merged['PhonDISC'], index=CHARACTER_INDEX)\n",
    "print(\"Number of minimal sets: {num}\".format(num=len(minimal_sets)))"
   ]
  },
  {
   "cell_type": "code",
   "execution_count": 15,
   "metadata": {},
   "outputs": [
    {
     "name": "stdout",
     "output_type": "stream",
     "text": [
      "Mean set length: 3.3887733887733886\n",
      "SD set length: 2.4050792477032\n",
      "Min set length: 2\n",
      "Max set length: 17\n",
      "Total words: 3260\n"
     ]
    }
   ],
   "source": [
    "lengths = np.array([len(s) for s in minimal_sets])\n",
    "mean_length = np.mean(lengths)\n",
    "print(\"Mean set length: {m}\".format(m=mean_length))\n",
    "print(\"SD set length: {m}\".format(m=np.std(lengths)))\n",
    "print(\"Min set length: {m}\".format(m=min(lengths)))\n",
    "print(\"Max set length: {m}\".format(m=max(lengths)))\n",
    "print(\"Total words: {m}\".format(m=sum(lengths)))"
   ]
  },
  {
   "cell_type": "code",
   "execution_count": 16,
   "metadata": {},
   "outputs": [
    {
     "name": "stdout",
     "output_type": "stream",
     "text": [
      "2.389647230192411\n"
     ]
    },
    {
     "data": {
      "text/plain": [
       "(array([701.,  74.,  91.,  26.,  33.,   8.,  18.,   5.,   4.,   2.]),\n",
       " array([ 2. ,  3.5,  5. ,  6.5,  8. ,  9.5, 11. , 12.5, 14. , 15.5, 17. ]),\n",
       " <a list of 10 Patch objects>)"
      ]
     },
     "execution_count": 16,
     "metadata": {},
     "output_type": "execute_result"
    },
    {
     "data": {
      "image/png": "[encoded data removed]",
      "text/plain": [
       "<Figure size 432x288 with 1 Axes>"
      ]
     },
     "metadata": {
      "needs_background": "light"
     },
     "output_type": "display_data"
    }
   ],
   "source": [
    "print(ss.skew(lengths))\n",
    "plt.hist(lengths)"
   ]
  },
  {
   "cell_type": "code",
   "execution_count": 17,
   "metadata": {},
   "outputs": [
    {
     "name": "stderr",
     "output_type": "stream",
     "text": [
      "100%|██████████| 962/962 [00:07<00:00, 137.00it/s]\n"
     ]
    }
   ],
   "source": [
    "# Calculate onset impact\n",
    "onset_to_impact = []\n",
    "for set_index, ms in tqdm(list(enumerate(minimal_sets))):\n",
    "    letters = [w[CHARACTER_INDEX] for w in ms]\n",
    "    by_word_cnc = get_concreteness_for_word(ms, df_merged, column='PhonDISC')\n",
    "    mean_cnc = np.mean(by_word_cnc)\n",
    "    set_size = len(ms)\n",
    "    for index, onset in enumerate(letters):\n",
    "        to_add = [onset, by_word_cnc[index] - mean_cnc, mean_cnc, ms[index], set_index, set_size, len(ms[index])]\n",
    "        onset_to_impact.append(to_add)\n",
    "\n",
    "COLUMNS = ['onset', 'concreteness_impact', 'set_mean', 'original_word', 'set_index', 'set_size', 'word_length']\n",
    "final_df = pd.DataFrame(onset_to_impact, columns=COLUMNS)\n"
   ]
  },
  {
   "cell_type": "code",
   "execution_count": 20,
   "metadata": {},
   "outputs": [],
   "source": [
    "final_df.to_csv(\"data/processed/brysbaert_concreteness_impacts.csv\")"
   ]
  },
  {
   "cell_type": "markdown",
   "metadata": {},
   "source": [
    "### Characterization"
   ]
  },
  {
   "cell_type": "code",
   "execution_count": 77,
   "metadata": {},
   "outputs": [],
   "source": [
    "df_final = pd.read_csv(\"data/processed/brysbaert_concreteness_impacts.csv\")"
   ]
  },
  {
   "cell_type": "code",
   "execution_count": 78,
   "metadata": {},
   "outputs": [
    {
     "data": {
      "text/plain": [
       "Text(0, 0.5, 'Count')"
      ]
     },
     "execution_count": 78,
     "metadata": {},
     "output_type": "execute_result"
    },
    {
     "data": {
      "image/png": "[encoded data removed]",
      "text/plain": [
       "<Figure size 432x288 with 1 Axes>"
      ]
     },
     "metadata": {
      "needs_background": "light"
     },
     "output_type": "display_data"
    }
   ],
   "source": [
    "df_final.hist(column='concreteness_impact')\n",
    "plt.title(\"Distribution of concreteness impacts\")\n",
    "plt.xlabel(\"Concreteness impact score\")\n",
    "plt.ylabel(\"Count\")"
   ]
  },
  {
   "cell_type": "code",
   "execution_count": 79,
   "metadata": {},
   "outputs": [
    {
     "name": "stdout",
     "output_type": "stream",
     "text": [
      "Skew: -0.2973130249611024\n",
      "Mean: 3.1876342056722287e-17\n",
      "SD: 0.7886488449959396\n"
     ]
    }
   ],
   "source": [
    "print(\"Skew: {s}\".format(s=ss.stats.skew(df_final['concreteness_impact'])))\n",
    "print(\"Mean: {m}\".format(m=np.mean(df_final['concreteness_impact'])))\n",
    "print(\"SD: {sd}\".format(sd=np.std(df_final['concreteness_impact'])))"
   ]
  },
  {
   "cell_type": "markdown",
   "metadata": {},
   "source": [
    "### Characterization"
   ]
  },
  {
   "cell_type": "code",
   "execution_count": 80,
   "metadata": {},
   "outputs": [
    {
     "data": {
      "text/html": [
       "<table class=\"simpletable\">\n",
       "<caption>OLS Regression Results</caption>\n",
       "<tr>\n",
       "  <th>Dep. Variable:</th>    <td>concreteness_impact</td> <th>  R-squared:         </th> <td>   0.043</td>\n",
       "</tr>\n",
       "<tr>\n",
       "  <th>Model:</th>                    <td>OLS</td>         <th>  Adj. R-squared:    </th> <td>   0.031</td>\n",
       "</tr>\n",
       "<tr>\n",
       "  <th>Method:</th>              <td>Least Squares</td>    <th>  F-statistic:       </th> <td>   3.444</td>\n",
       "</tr>\n",
       "<tr>\n",
       "  <th>Date:</th>              <td>Thu, 25 Apr 2019</td>   <th>  Prob (F-statistic):</th> <td>7.76e-13</td>\n",
       "</tr>\n",
       "<tr>\n",
       "  <th>Time:</th>                  <td>10:23:50</td>       <th>  Log-Likelihood:    </th> <td> -3780.0</td>\n",
       "</tr>\n",
       "<tr>\n",
       "  <th>No. Observations:</th>       <td>  3260</td>        <th>  AIC:               </th> <td>   7646.</td>\n",
       "</tr>\n",
       "<tr>\n",
       "  <th>Df Residuals:</th>           <td>  3217</td>        <th>  BIC:               </th> <td>   7908.</td>\n",
       "</tr>\n",
       "<tr>\n",
       "  <th>Df Model:</th>               <td>    42</td>        <th>                     </th>     <td> </td>   \n",
       "</tr>\n",
       "<tr>\n",
       "  <th>Covariance Type:</th>       <td>nonrobust</td>      <th>                     </th>     <td> </td>   \n",
       "</tr>\n",
       "</table>\n",
       "<table class=\"simpletable\">\n",
       "<tr>\n",
       "       <td></td>          <th>coef</th>     <th>std err</th>      <th>t</th>      <th>P>|t|</th>  <th>[0.025</th>    <th>0.975]</th>  \n",
       "</tr>\n",
       "<tr>\n",
       "  <th>Intercept</th>   <td>    0.2973</td> <td>    0.294</td> <td>    1.010</td> <td> 0.313</td> <td>   -0.280</td> <td>    0.874</td>\n",
       "</tr>\n",
       "<tr>\n",
       "  <th>onset[T.$]</th>  <td>   -0.2779</td> <td>    0.336</td> <td>   -0.826</td> <td> 0.409</td> <td>   -0.938</td> <td>    0.382</td>\n",
       "</tr>\n",
       "<tr>\n",
       "  <th>onset[T.1]</th>  <td>   -0.1991</td> <td>    0.354</td> <td>   -0.562</td> <td> 0.574</td> <td>   -0.894</td> <td>    0.496</td>\n",
       "</tr>\n",
       "<tr>\n",
       "  <th>onset[T.2]</th>  <td>    0.2501</td> <td>    0.369</td> <td>    0.679</td> <td> 0.497</td> <td>   -0.473</td> <td>    0.973</td>\n",
       "</tr>\n",
       "<tr>\n",
       "  <th>onset[T.3]</th>  <td>   -0.6107</td> <td>    0.388</td> <td>   -1.572</td> <td> 0.116</td> <td>   -1.372</td> <td>    0.151</td>\n",
       "</tr>\n",
       "<tr>\n",
       "  <th>onset[T.4]</th>  <td>    0.1436</td> <td>    0.526</td> <td>    0.273</td> <td> 0.785</td> <td>   -0.887</td> <td>    1.175</td>\n",
       "</tr>\n",
       "<tr>\n",
       "  <th>onset[T.5]</th>  <td>   -0.0780</td> <td>    0.325</td> <td>   -0.240</td> <td> 0.810</td> <td>   -0.715</td> <td>    0.559</td>\n",
       "</tr>\n",
       "<tr>\n",
       "  <th>onset[T.6]</th>  <td>   -0.2524</td> <td>    0.476</td> <td>   -0.531</td> <td> 0.596</td> <td>   -1.185</td> <td>    0.680</td>\n",
       "</tr>\n",
       "<tr>\n",
       "  <th>onset[T.7]</th>  <td>    0.2257</td> <td>    0.614</td> <td>    0.368</td> <td> 0.713</td> <td>   -0.978</td> <td>    1.430</td>\n",
       "</tr>\n",
       "<tr>\n",
       "  <th>onset[T.8]</th>  <td>   -0.0906</td> <td>    0.614</td> <td>   -0.148</td> <td> 0.883</td> <td>   -1.295</td> <td>    1.113</td>\n",
       "</tr>\n",
       "<tr>\n",
       "  <th>onset[T.@]</th>  <td>   -0.8110</td> <td>    0.316</td> <td>   -2.563</td> <td> 0.010</td> <td>   -1.431</td> <td>   -0.191</td>\n",
       "</tr>\n",
       "<tr>\n",
       "  <th>onset[T.D]</th>  <td>   -1.6326</td> <td>    0.337</td> <td>   -4.842</td> <td> 0.000</td> <td>   -2.294</td> <td>   -0.971</td>\n",
       "</tr>\n",
       "<tr>\n",
       "  <th>onset[T.E]</th>  <td>   -0.2092</td> <td>    0.361</td> <td>   -0.579</td> <td> 0.563</td> <td>   -0.918</td> <td>    0.499</td>\n",
       "</tr>\n",
       "<tr>\n",
       "  <th>onset[T.I]</th>  <td>   -0.5775</td> <td>    0.322</td> <td>   -1.795</td> <td> 0.073</td> <td>   -1.208</td> <td>    0.053</td>\n",
       "</tr>\n",
       "<tr>\n",
       "  <th>onset[T.J]</th>  <td>   -0.0559</td> <td>    0.292</td> <td>   -0.191</td> <td> 0.848</td> <td>   -0.629</td> <td>    0.517</td>\n",
       "</tr>\n",
       "<tr>\n",
       "  <th>onset[T.Q]</th>  <td>   -0.0919</td> <td>    0.369</td> <td>   -0.249</td> <td> 0.803</td> <td>   -0.815</td> <td>    0.631</td>\n",
       "</tr>\n",
       "<tr>\n",
       "  <th>onset[T.S]</th>  <td>    0.0008</td> <td>    0.287</td> <td>    0.003</td> <td> 0.998</td> <td>   -0.562</td> <td>    0.564</td>\n",
       "</tr>\n",
       "<tr>\n",
       "  <th>onset[T.T]</th>  <td>   -0.3034</td> <td>    0.301</td> <td>   -1.009</td> <td> 0.313</td> <td>   -0.893</td> <td>    0.286</td>\n",
       "</tr>\n",
       "<tr>\n",
       "  <th>onset[T.V]</th>  <td>   -0.0962</td> <td>    0.378</td> <td>   -0.254</td> <td> 0.799</td> <td>   -0.837</td> <td>    0.645</td>\n",
       "</tr>\n",
       "<tr>\n",
       "  <th>onset[T._]</th>  <td>   -0.1213</td> <td>    0.291</td> <td>   -0.416</td> <td> 0.677</td> <td>   -0.692</td> <td>    0.450</td>\n",
       "</tr>\n",
       "<tr>\n",
       "  <th>onset[T.b]</th>  <td>   -0.0348</td> <td>    0.280</td> <td>   -0.124</td> <td> 0.901</td> <td>   -0.583</td> <td>    0.514</td>\n",
       "</tr>\n",
       "<tr>\n",
       "  <th>onset[T.d]</th>  <td>   -0.2060</td> <td>    0.282</td> <td>   -0.731</td> <td> 0.465</td> <td>   -0.759</td> <td>    0.347</td>\n",
       "</tr>\n",
       "<tr>\n",
       "  <th>onset[T.f]</th>  <td>   -0.2433</td> <td>    0.281</td> <td>   -0.865</td> <td> 0.387</td> <td>   -0.794</td> <td>    0.308</td>\n",
       "</tr>\n",
       "<tr>\n",
       "  <th>onset[T.g]</th>  <td>   -0.1276</td> <td>    0.283</td> <td>   -0.451</td> <td> 0.652</td> <td>   -0.682</td> <td>    0.427</td>\n",
       "</tr>\n",
       "<tr>\n",
       "  <th>onset[T.h]</th>  <td>   -0.2108</td> <td>    0.282</td> <td>   -0.746</td> <td> 0.455</td> <td>   -0.765</td> <td>    0.343</td>\n",
       "</tr>\n",
       "<tr>\n",
       "  <th>onset[T.i]</th>  <td>   -0.3373</td> <td>    0.355</td> <td>   -0.951</td> <td> 0.342</td> <td>   -1.032</td> <td>    0.358</td>\n",
       "</tr>\n",
       "<tr>\n",
       "  <th>onset[T.j]</th>  <td>   -0.3356</td> <td>    0.307</td> <td>   -1.092</td> <td> 0.275</td> <td>   -0.938</td> <td>    0.267</td>\n",
       "</tr>\n",
       "<tr>\n",
       "  <th>onset[T.k]</th>  <td>    0.0015</td> <td>    0.280</td> <td>    0.005</td> <td> 0.996</td> <td>   -0.548</td> <td>    0.551</td>\n",
       "</tr>\n",
       "<tr>\n",
       "  <th>onset[T.l]</th>  <td>   -0.2123</td> <td>    0.283</td> <td>   -0.751</td> <td> 0.453</td> <td>   -0.766</td> <td>    0.342</td>\n",
       "</tr>\n",
       "<tr>\n",
       "  <th>onset[T.m]</th>  <td>   -0.1974</td> <td>    0.282</td> <td>   -0.700</td> <td> 0.484</td> <td>   -0.750</td> <td>    0.355</td>\n",
       "</tr>\n",
       "<tr>\n",
       "  <th>onset[T.n]</th>  <td>   -0.3320</td> <td>    0.288</td> <td>   -1.155</td> <td> 0.248</td> <td>   -0.896</td> <td>    0.232</td>\n",
       "</tr>\n",
       "<tr>\n",
       "  <th>onset[T.p]</th>  <td>   -0.0655</td> <td>    0.280</td> <td>   -0.233</td> <td> 0.815</td> <td>   -0.615</td> <td>    0.484</td>\n",
       "</tr>\n",
       "<tr>\n",
       "  <th>onset[T.r]</th>  <td>   -0.1661</td> <td>    0.282</td> <td>   -0.590</td> <td> 0.555</td> <td>   -0.718</td> <td>    0.386</td>\n",
       "</tr>\n",
       "<tr>\n",
       "  <th>onset[T.s]</th>  <td>   -0.0926</td> <td>    0.281</td> <td>   -0.330</td> <td> 0.741</td> <td>   -0.643</td> <td>    0.458</td>\n",
       "</tr>\n",
       "<tr>\n",
       "  <th>onset[T.t]</th>  <td>   -0.0644</td> <td>    0.282</td> <td>   -0.229</td> <td> 0.819</td> <td>   -0.617</td> <td>    0.488</td>\n",
       "</tr>\n",
       "<tr>\n",
       "  <th>onset[T.u]</th>  <td>    0.6871</td> <td>    0.824</td> <td>    0.834</td> <td> 0.404</td> <td>   -0.928</td> <td>    2.302</td>\n",
       "</tr>\n",
       "<tr>\n",
       "  <th>onset[T.v]</th>  <td>   -0.2680</td> <td>    0.297</td> <td>   -0.903</td> <td> 0.367</td> <td>   -0.850</td> <td>    0.314</td>\n",
       "</tr>\n",
       "<tr>\n",
       "  <th>onset[T.w]</th>  <td>   -0.3149</td> <td>    0.284</td> <td>   -1.110</td> <td> 0.267</td> <td>   -0.871</td> <td>    0.241</td>\n",
       "</tr>\n",
       "<tr>\n",
       "  <th>onset[T.z]</th>  <td>   -0.7104</td> <td>    0.363</td> <td>   -1.959</td> <td> 0.050</td> <td>   -1.421</td> <td>    0.001</td>\n",
       "</tr>\n",
       "<tr>\n",
       "  <th>onset[T.{]</th>  <td>   -0.1195</td> <td>    0.319</td> <td>   -0.374</td> <td> 0.708</td> <td>   -0.745</td> <td>    0.506</td>\n",
       "</tr>\n",
       "<tr>\n",
       "  <th>set_mean</th>    <td>   -0.0332</td> <td>    0.024</td> <td>   -1.373</td> <td> 0.170</td> <td>   -0.081</td> <td>    0.014</td>\n",
       "</tr>\n",
       "<tr>\n",
       "  <th>set_size</th>    <td>    0.0027</td> <td>    0.005</td> <td>    0.555</td> <td> 0.579</td> <td>   -0.007</td> <td>    0.012</td>\n",
       "</tr>\n",
       "<tr>\n",
       "  <th>word_length</th> <td>   -0.0082</td> <td>    0.016</td> <td>   -0.502</td> <td> 0.615</td> <td>   -0.040</td> <td>    0.024</td>\n",
       "</tr>\n",
       "</table>\n",
       "<table class=\"simpletable\">\n",
       "<tr>\n",
       "  <th>Omnibus:</th>       <td>52.878</td> <th>  Durbin-Watson:     </th> <td>   2.516</td>\n",
       "</tr>\n",
       "<tr>\n",
       "  <th>Prob(Omnibus):</th> <td> 0.000</td> <th>  Jarque-Bera (JB):  </th> <td>  50.620</td>\n",
       "</tr>\n",
       "<tr>\n",
       "  <th>Skew:</th>          <td>-0.271</td> <th>  Prob(JB):          </th> <td>1.02e-11</td>\n",
       "</tr>\n",
       "<tr>\n",
       "  <th>Kurtosis:</th>      <td> 2.720</td> <th>  Cond. No.          </th> <td>1.01e+03</td>\n",
       "</tr>\n",
       "</table><br/><br/>Warnings:<br/>[1] Standard Errors assume that the covariance matrix of the errors is correctly specified.<br/>[2] The condition number is large, 1.01e+03. This might indicate that there are<br/>strong multicollinearity or other numerical problems."
      ],
      "text/plain": [
       "<class 'statsmodels.iolib.summary.Summary'>\n",
       "\"\"\"\n",
       "                             OLS Regression Results                            \n",
       "===============================================================================\n",
       "Dep. Variable:     concreteness_impact   R-squared:                       0.043\n",
       "Model:                             OLS   Adj. R-squared:                  0.031\n",
       "Method:                  Least Squares   F-statistic:                     3.444\n",
       "Date:                 Thu, 25 Apr 2019   Prob (F-statistic):           7.76e-13\n",
       "Time:                         10:23:50   Log-Likelihood:                -3780.0\n",
       "No. Observations:                 3260   AIC:                             7646.\n",
       "Df Residuals:                     3217   BIC:                             7908.\n",
       "Df Model:                           42                                         \n",
       "Covariance Type:             nonrobust                                         \n",
       "===============================================================================\n",
       "                  coef    std err          t      P>|t|      [0.025      0.975]\n",
       "-------------------------------------------------------------------------------\n",
       "Intercept       0.2973      0.294      1.010      0.313      -0.280       0.874\n",
       "onset[T.$]     -0.2779      0.336     -0.826      0.409      -0.938       0.382\n",
       "onset[T.1]     -0.1991      0.354     -0.562      0.574      -0.894       0.496\n",
       "onset[T.2]      0.2501      0.369      0.679      0.497      -0.473       0.973\n",
       "onset[T.3]     -0.6107      0.388     -1.572      0.116      -1.372       0.151\n",
       "onset[T.4]      0.1436      0.526      0.273      0.785      -0.887       1.175\n",
       "onset[T.5]     -0.0780      0.325     -0.240      0.810      -0.715       0.559\n",
       "onset[T.6]     -0.2524      0.476     -0.531      0.596      -1.185       0.680\n",
       "onset[T.7]      0.2257      0.614      0.368      0.713      -0.978       1.430\n",
       "onset[T.8]     -0.0906      0.614     -0.148      0.883      -1.295       1.113\n",
       "onset[T.@]     -0.8110      0.316     -2.563      0.010      -1.431      -0.191\n",
       "onset[T.D]     -1.6326      0.337     -4.842      0.000      -2.294      -0.971\n",
       "onset[T.E]     -0.2092      0.361     -0.579      0.563      -0.918       0.499\n",
       "onset[T.I]     -0.5775      0.322     -1.795      0.073      -1.208       0.053\n",
       "onset[T.J]     -0.0559      0.292     -0.191      0.848      -0.629       0.517\n",
       "onset[T.Q]     -0.0919      0.369     -0.249      0.803      -0.815       0.631\n",
       "onset[T.S]      0.0008      0.287      0.003      0.998      -0.562       0.564\n",
       "onset[T.T]     -0.3034      0.301     -1.009      0.313      -0.893       0.286\n",
       "onset[T.V]     -0.0962      0.378     -0.254      0.799      -0.837       0.645\n",
       "onset[T._]     -0.1213      0.291     -0.416      0.677      -0.692       0.450\n",
       "onset[T.b]     -0.0348      0.280     -0.124      0.901      -0.583       0.514\n",
       "onset[T.d]     -0.2060      0.282     -0.731      0.465      -0.759       0.347\n",
       "onset[T.f]     -0.2433      0.281     -0.865      0.387      -0.794       0.308\n",
       "onset[T.g]     -0.1276      0.283     -0.451      0.652      -0.682       0.427\n",
       "onset[T.h]     -0.2108      0.282     -0.746      0.455      -0.765       0.343\n",
       "onset[T.i]     -0.3373      0.355     -0.951      0.342      -1.032       0.358\n",
       "onset[T.j]     -0.3356      0.307     -1.092      0.275      -0.938       0.267\n",
       "onset[T.k]      0.0015      0.280      0.005      0.996      -0.548       0.551\n",
       "onset[T.l]     -0.2123      0.283     -0.751      0.453      -0.766       0.342\n",
       "onset[T.m]     -0.1974      0.282     -0.700      0.484      -0.750       0.355\n",
       "onset[T.n]     -0.3320      0.288     -1.155      0.248      -0.896       0.232\n",
       "onset[T.p]     -0.0655      0.280     -0.233      0.815      -0.615       0.484\n",
       "onset[T.r]     -0.1661      0.282     -0.590      0.555      -0.718       0.386\n",
       "onset[T.s]     -0.0926      0.281     -0.330      0.741      -0.643       0.458\n",
       "onset[T.t]     -0.0644      0.282     -0.229      0.819      -0.617       0.488\n",
       "onset[T.u]      0.6871      0.824      0.834      0.404      -0.928       2.302\n",
       "onset[T.v]     -0.2680      0.297     -0.903      0.367      -0.850       0.314\n",
       "onset[T.w]     -0.3149      0.284     -1.110      0.267      -0.871       0.241\n",
       "onset[T.z]     -0.7104      0.363     -1.959      0.050      -1.421       0.001\n",
       "onset[T.{]     -0.1195      0.319     -0.374      0.708      -0.745       0.506\n",
       "set_mean       -0.0332      0.024     -1.373      0.170      -0.081       0.014\n",
       "set_size        0.0027      0.005      0.555      0.579      -0.007       0.012\n",
       "word_length    -0.0082      0.016     -0.502      0.615      -0.040       0.024\n",
       "==============================================================================\n",
       "Omnibus:                       52.878   Durbin-Watson:                   2.516\n",
       "Prob(Omnibus):                  0.000   Jarque-Bera (JB):               50.620\n",
       "Skew:                          -0.271   Prob(JB):                     1.02e-11\n",
       "Kurtosis:                       2.720   Cond. No.                     1.01e+03\n",
       "==============================================================================\n",
       "\n",
       "Warnings:\n",
       "[1] Standard Errors assume that the covariance matrix of the errors is correctly specified.\n",
       "[2] The condition number is large, 1.01e+03. This might indicate that there are\n",
       "strong multicollinearity or other numerical problems.\n",
       "\"\"\""
      ]
     },
     "execution_count": 80,
     "metadata": {},
     "output_type": "execute_result"
    }
   ],
   "source": [
    "result = sm.ols(formula=\"concreteness_impact ~ onset + set_mean + set_size + word_length\", data=df_final).fit()\n",
    "result.summary()"
   ]
  },
  {
   "cell_type": "code",
   "execution_count": 81,
   "metadata": {},
   "outputs": [
    {
     "name": "stderr",
     "output_type": "stream",
     "text": [
      "100%|██████████| 100/100 [00:03<00:00, 26.57it/s]\n"
     ]
    }
   ],
   "source": [
    "### Shuffling\n",
    "shuffled_rsquares = []\n",
    "true_rsquare = result.rsquared\n",
    "\n",
    "NUM_SHUFFLES = 100\n",
    "\n",
    "for shuffle in tqdm(range(NUM_SHUFFLES)):\n",
    "    new_df = df_final.copy()\n",
    "    new_df['shuffled_onset'] = np.random.permutation(new_df['onset'])\n",
    "    new_result = sm.ols(formula=\"concreteness_impact ~ shuffled_onset + set_mean + set_size + word_length\", data=new_df).fit()\n",
    "    shuffled_rsquares.append(new_result.rsquared)"
   ]
  },
  {
   "cell_type": "code",
   "execution_count": 82,
   "metadata": {},
   "outputs": [
    {
     "name": "stdout",
     "output_type": "stream",
     "text": [
      "0.011805944228417636\n",
      "0.002719922738907331\n"
     ]
    }
   ],
   "source": [
    "shuffled_rsquares_np = np.array(shuffled_rsquares)\n",
    "print(np.mean(shuffled_rsquares_np))\n",
    "print(np.std(shuffled_rsquares_np))"
   ]
  },
  {
   "cell_type": "code",
   "execution_count": 83,
   "metadata": {},
   "outputs": [
    {
     "data": {
      "text/plain": [
       "Text(0.5, 1.0, 'Concreteness impact: Real R^2 vs. random shuffles')"
      ]
     },
     "execution_count": 83,
     "metadata": {},
     "output_type": "execute_result"
    },
    {
     "data": {
      "image/png": "[encoded data removed]",
      "text/plain": [
       "<Figure size 432x288 with 1 Axes>"
      ]
     },
     "metadata": {
      "needs_background": "light"
     },
     "output_type": "display_data"
    }
   ],
   "source": [
    "plt.hist(shuffled_rsquares)\n",
    "plt.axvline(x=true_rsquare, linestyle=\"dotted\")\n",
    "plt.xlabel(\"Distribution of R^2 values\")\n",
    "plt.title(\"Concreteness impact: Real R^2 vs. random shuffles\")"
   ]
  },
  {
   "cell_type": "markdown",
   "metadata": {},
   "source": [
    "## Discussion and exploration\n",
    "\n",
    "Based on these results, it seems like:\n",
    "\n",
    "First, there is more structure in mappings between phonetic onsets and word concreteness than one would expect by chance, one we control for characteristics about the rest of the word.\n",
    "\n",
    "Certain onsets exhibit particularly strong effects, such as: \n",
    "- **/D/** (the onset in *they*) has a consistently *negative* impact on concreteness.\n",
    "- **/@/** (the onset in *abandon* or *abide*) has a consistently *negative* impact on concreteness.\n",
    "- **/z/** (the onset in *zeal* or *zero*) has a marginally *negative* impact on concreteness.\n",
    "\n",
    "Other onsets show trends, but not strongly significant trends."
   ]
  },
  {
   "cell_type": "code",
   "execution_count": null,
   "metadata": {},
   "outputs": [],
   "source": []
  }
 ],
 "metadata": {
  "kernelspec": {
   "display_name": "Python 3",
   "language": "python",
   "name": "python3"
  },
  "language_info": {
   "codemirror_mode": {
    "name": "ipython",
    "version": 3
   },
   "file_extension": ".py",
   "mimetype": "text/x-python",
   "name": "python",
   "nbconvert_exporter": "python",
   "pygments_lexer": "ipython3",
   "version": "3.7.1"
  }
 },
 "nbformat": 4,
 "nbformat_minor": 2
}
