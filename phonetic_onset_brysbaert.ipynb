{
 "cells": [
  {
   "cell_type": "markdown",
   "metadata": {},
   "source": [
    "# Do onset phones predict the concreteness of English words?\n",
    "\n",
    "### Sean Trott, Arturs Semenuks, Benjamin Bergen\n",
    "\n",
    "Do the sounds in a word impact its meaning? Although the basic unit of meaning in language is typically taken to be the morpheme, there is some evidence for form-meaning systematicity at the sub-morphemic level, as in phonaesthemes (Bergen, 2004) and iconicity (Dingemanse et al, 2015; Blasi et al, 2016). Additionally, formal properties of words, such as their length, are known to predict dimensions of meaning such as *concreteness* (Reilly & Kean, 2007; Reilly et al, 2017). \n",
    "\n",
    "To date, however, there is no work that we know of correlating individual *phones* with variables such as concreteness.\n",
    "\n",
    "Here, we ask whether the *onset* phone of a word predicts its concreteness, using the set of [Brysbaert norms](http://crr.ugent.be/archives/1330).\n",
    "\n",
    "(Depends on [NLP Utilities package](https://github.com/seantrott/nlp_utilities))."
   ]
  },
  {
   "cell_type": "markdown",
   "metadata": {},
   "source": [
    "## Load and Merge Data"
   ]
  },
  {
   "cell_type": "code",
   "execution_count": 1,
   "metadata": {},
   "outputs": [],
   "source": [
    "# Plotting\n",
    "import matplotlib.pyplot as plt\n",
    "import seaborn as sn\n",
    "\n",
    "# Operations\n",
    "import numpy as np\n",
    "import pandas as pd \n",
    "import statsmodels.formula.api as sm\n",
    "from tqdm import tqdm\n",
    "import scipy.stats as ss\n",
    "\n",
    "# Custom imports\n",
    "from nlp_utilities.compling import CorpusUtilities\n",
    "from src.utils import get_concreteness_for_word\n"
   ]
  },
  {
   "cell_type": "code",
   "execution_count": 2,
   "metadata": {},
   "outputs": [],
   "source": [
    "%matplotlib inline\n",
    "%config InlineBackend.figure_format = 'retina'  # makes figs nicer!"
   ]
  },
  {
   "cell_type": "code",
   "execution_count": 3,
   "metadata": {},
   "outputs": [
    {
     "name": "stdout",
     "output_type": "stream",
     "text": [
      "Number of words left in dataset: 39954\n",
      "Number of words left in dataset: 39954\n",
      "Number of words in CELEX: 46133\n",
      "Number of words in both Brysbaert and CELEX: 24379\n"
     ]
    }
   ],
   "source": [
    "# Set global variables\n",
    "DATA_PATH = \"data/raw/brysbaert_norms.csv\"\n",
    "CHARACTER_INDEX\t= 0\n",
    "# Get data\n",
    "df = pd.read_csv(DATA_PATH)\n",
    "df['Word'] = df['Word'].str.lower()\n",
    "df['Concreteness'] = df['Conc.M']\n",
    "print(\"Number of words left in dataset: {num}\".format(num=len(df)))\n",
    "\n",
    "# Drop duplicates\n",
    "df = df.drop_duplicates(subset=\"Word\")\n",
    "print(\"Number of words left in dataset: {num}\".format(num=len(df)))\n",
    "\n",
    "# Load celex\n",
    "df_celex = pd.read_csv(\"data/raw/celex_all.csv\", sep = \"\\\\\")\n",
    "df_celex = df_celex.drop_duplicates(subset='Word')\n",
    "print(\"Number of words in CELEX: {num}\".format(num=len(df_celex)))\n",
    "\n",
    "# Merge together to get phonetic representations\n",
    "df_merged = df_celex.merge(df, on=\"Word\")\n",
    "print(\"Number of words in both Brysbaert and CELEX: {num}\".format(num=len(df_merged)))"
   ]
  },
  {
   "cell_type": "code",
   "execution_count": 4,
   "metadata": {},
   "outputs": [
    {
     "name": "stdout",
     "output_type": "stream",
     "text": [
      "Number of words left: 24059\n"
     ]
    }
   ],
   "source": [
    "# Drop duplicate phonetic representations (homophones)\n",
    "df_merged = df_merged.drop_duplicates(subset = 'PhonDISC')\n",
    "print(\"Number of words left: {num}\".format(num=len(df_merged)))"
   ]
  },
  {
   "cell_type": "code",
   "execution_count": 5,
   "metadata": {},
   "outputs": [
    {
     "data": {
      "text/html": [
       "<div>\n",
       "<style scoped>\n",
       "    .dataframe tbody tr th:only-of-type {\n",
       "        vertical-align: middle;\n",
       "    }\n",
       "\n",
       "    .dataframe tbody tr th {\n",
       "        vertical-align: top;\n",
       "    }\n",
       "\n",
       "    .dataframe thead th {\n",
       "        text-align: right;\n",
       "    }\n",
       "</style>\n",
       "<table border=\"1\" class=\"dataframe\">\n",
       "  <thead>\n",
       "    <tr style=\"text-align: right;\">\n",
       "      <th></th>\n",
       "      <th>Word</th>\n",
       "      <th>CobLog</th>\n",
       "      <th>CompCnt</th>\n",
       "      <th>PhonDISC</th>\n",
       "      <th>Class</th>\n",
       "      <th>SylCnt</th>\n",
       "      <th>Bigram</th>\n",
       "      <th>Conc.M</th>\n",
       "      <th>Conc.SD</th>\n",
       "      <th>Unknown</th>\n",
       "      <th>Total</th>\n",
       "      <th>Percent_known</th>\n",
       "      <th>SUBTLEX</th>\n",
       "      <th>Dom_Pos</th>\n",
       "      <th>Concreteness</th>\n",
       "    </tr>\n",
       "  </thead>\n",
       "  <tbody>\n",
       "    <tr>\n",
       "      <th>0</th>\n",
       "      <td>a</td>\n",
       "      <td>4.36</td>\n",
       "      <td>1</td>\n",
       "      <td>1</td>\n",
       "      <td>ART</td>\n",
       "      <td>1</td>\n",
       "      <td>0</td>\n",
       "      <td>1.46</td>\n",
       "      <td>1.14</td>\n",
       "      <td>2</td>\n",
       "      <td>30</td>\n",
       "      <td>0.93</td>\n",
       "      <td>1041179</td>\n",
       "      <td>Article</td>\n",
       "      <td>1.46</td>\n",
       "    </tr>\n",
       "    <tr>\n",
       "      <th>1</th>\n",
       "      <td>aback</td>\n",
       "      <td>0.48</td>\n",
       "      <td>2</td>\n",
       "      <td>@b{k</td>\n",
       "      <td>ADV</td>\n",
       "      <td>2</td>\n",
       "      <td>0</td>\n",
       "      <td>1.65</td>\n",
       "      <td>1.07</td>\n",
       "      <td>4</td>\n",
       "      <td>27</td>\n",
       "      <td>0.85</td>\n",
       "      <td>15</td>\n",
       "      <td>Adverb</td>\n",
       "      <td>1.65</td>\n",
       "    </tr>\n",
       "    <tr>\n",
       "      <th>2</th>\n",
       "      <td>abacus</td>\n",
       "      <td>0.00</td>\n",
       "      <td>0</td>\n",
       "      <td>{b@k@s</td>\n",
       "      <td>N</td>\n",
       "      <td>3</td>\n",
       "      <td>0</td>\n",
       "      <td>4.52</td>\n",
       "      <td>1.12</td>\n",
       "      <td>2</td>\n",
       "      <td>29</td>\n",
       "      <td>0.93</td>\n",
       "      <td>12</td>\n",
       "      <td>Noun</td>\n",
       "      <td>4.52</td>\n",
       "    </tr>\n",
       "    <tr>\n",
       "      <th>3</th>\n",
       "      <td>abandon</td>\n",
       "      <td>0.30</td>\n",
       "      <td>1</td>\n",
       "      <td>@b{nd@n</td>\n",
       "      <td>N</td>\n",
       "      <td>3</td>\n",
       "      <td>0</td>\n",
       "      <td>2.54</td>\n",
       "      <td>1.45</td>\n",
       "      <td>1</td>\n",
       "      <td>27</td>\n",
       "      <td>0.96</td>\n",
       "      <td>413</td>\n",
       "      <td>Verb</td>\n",
       "      <td>2.54</td>\n",
       "    </tr>\n",
       "    <tr>\n",
       "      <th>4</th>\n",
       "      <td>abandoned</td>\n",
       "      <td>0.00</td>\n",
       "      <td>1</td>\n",
       "      <td>@b{nd@nd</td>\n",
       "      <td>A</td>\n",
       "      <td>3</td>\n",
       "      <td>0</td>\n",
       "      <td>2.52</td>\n",
       "      <td>1.27</td>\n",
       "      <td>0</td>\n",
       "      <td>29</td>\n",
       "      <td>1.00</td>\n",
       "      <td>678</td>\n",
       "      <td>Verb</td>\n",
       "      <td>2.52</td>\n",
       "    </tr>\n",
       "  </tbody>\n",
       "</table>\n",
       "</div>"
      ],
      "text/plain": [
       "        Word  CobLog  CompCnt  PhonDISC Class  SylCnt  Bigram  Conc.M  \\\n",
       "0          a    4.36        1         1   ART       1       0    1.46   \n",
       "1      aback    0.48        2      @b{k   ADV       2       0    1.65   \n",
       "2     abacus    0.00        0    {b@k@s     N       3       0    4.52   \n",
       "3    abandon    0.30        1   @b{nd@n     N       3       0    2.54   \n",
       "4  abandoned    0.00        1  @b{nd@nd     A       3       0    2.52   \n",
       "\n",
       "   Conc.SD  Unknown  Total  Percent_known  SUBTLEX  Dom_Pos  Concreteness  \n",
       "0     1.14        2     30           0.93  1041179  Article          1.46  \n",
       "1     1.07        4     27           0.85       15   Adverb          1.65  \n",
       "2     1.12        2     29           0.93       12     Noun          4.52  \n",
       "3     1.45        1     27           0.96      413     Verb          2.54  \n",
       "4     1.27        0     29           1.00      678     Verb          2.52  "
      ]
     },
     "execution_count": 5,
     "metadata": {},
     "output_type": "execute_result"
    }
   ],
   "source": [
    "df_merged.head(5)"
   ]
  },
  {
   "cell_type": "markdown",
   "metadata": {},
   "source": [
    "## Analysis 1: Concreteness ~ Onset phone\n",
    "\n",
    "First, we analyze **concreteness ~ onset_phone** for monosyllabic words only, adding as covariates several other variables known to predict concreteness:\n",
    "\n",
    "- Word length (number of phones)\n",
    "- Grammatical class  \n",
    "- Word frequency  \n",
    "\n",
    "We then compare the R^2 of a model with the real **onset_phone** labels to the distribution of R^2 values obtained by shuffling **onset_phone**, but keeping the other covariates stable."
   ]
  },
  {
   "cell_type": "code",
   "execution_count": 6,
   "metadata": {},
   "outputs": [
    {
     "name": "stdout",
     "output_type": "stream",
     "text": [
      "Number of words left: 9659\n"
     ]
    }
   ],
   "source": [
    "df_merged = df_merged[df_merged['CompCnt']<=1]\n",
    "print(\"Number of words left: {num}\".format(num=len(df_merged)))"
   ]
  },
  {
   "cell_type": "code",
   "execution_count": 7,
   "metadata": {},
   "outputs": [],
   "source": [
    "df_merged['onset'] = df_merged['PhonDISC'].apply(lambda x: x[0])\n",
    "\n",
    "# FIXED: Get actual length, not length of column\n",
    "df_merged['word_length'] = df_merged['PhonDISC'].apply(lambda x: len(x))"
   ]
  },
  {
   "cell_type": "code",
   "execution_count": 8,
   "metadata": {
    "scrolled": true
   },
   "outputs": [
    {
     "data": {
      "text/html": [
       "<table class=\"simpletable\">\n",
       "<caption>OLS Regression Results</caption>\n",
       "<tr>\n",
       "  <th>Dep. Variable:</th>      <td>Concreteness</td>   <th>  R-squared:         </th> <td>   0.309</td> \n",
       "</tr>\n",
       "<tr>\n",
       "  <th>Model:</th>                   <td>OLS</td>       <th>  Adj. R-squared:    </th> <td>   0.306</td> \n",
       "</tr>\n",
       "<tr>\n",
       "  <th>Method:</th>             <td>Least Squares</td>  <th>  F-statistic:       </th> <td>   82.72</td> \n",
       "</tr>\n",
       "<tr>\n",
       "  <th>Date:</th>             <td>Sat, 18 Jan 2020</td> <th>  Prob (F-statistic):</th>  <td>  0.00</td>  \n",
       "</tr>\n",
       "<tr>\n",
       "  <th>Time:</th>                 <td>15:20:11</td>     <th>  Log-Likelihood:    </th> <td> -12171.</td> \n",
       "</tr>\n",
       "<tr>\n",
       "  <th>No. Observations:</th>      <td>  9658</td>      <th>  AIC:               </th> <td>2.445e+04</td>\n",
       "</tr>\n",
       "<tr>\n",
       "  <th>Df Residuals:</th>          <td>  9605</td>      <th>  BIC:               </th> <td>2.483e+04</td>\n",
       "</tr>\n",
       "<tr>\n",
       "  <th>Df Model:</th>              <td>    52</td>      <th>                     </th>     <td> </td>    \n",
       "</tr>\n",
       "<tr>\n",
       "  <th>Covariance Type:</th>      <td>nonrobust</td>    <th>                     </th>     <td> </td>    \n",
       "</tr>\n",
       "</table>\n",
       "<table class=\"simpletable\">\n",
       "<tr>\n",
       "        <td></td>           <th>coef</th>     <th>std err</th>      <th>t</th>      <th>P>|t|</th>  <th>[0.025</th>    <th>0.975]</th>  \n",
       "</tr>\n",
       "<tr>\n",
       "  <th>Intercept</th>     <td>    3.2953</td> <td>    0.139</td> <td>   23.656</td> <td> 0.000</td> <td>    3.022</td> <td>    3.568</td>\n",
       "</tr>\n",
       "<tr>\n",
       "  <th>onset[T.$]</th>    <td>   -0.2436</td> <td>    0.169</td> <td>   -1.439</td> <td> 0.150</td> <td>   -0.575</td> <td>    0.088</td>\n",
       "</tr>\n",
       "<tr>\n",
       "  <th>onset[T.1]</th>    <td>   -0.0482</td> <td>    0.199</td> <td>   -0.242</td> <td> 0.809</td> <td>   -0.439</td> <td>    0.343</td>\n",
       "</tr>\n",
       "<tr>\n",
       "  <th>onset[T.2]</th>    <td>   -0.0047</td> <td>    0.210</td> <td>   -0.023</td> <td> 0.982</td> <td>   -0.416</td> <td>    0.407</td>\n",
       "</tr>\n",
       "<tr>\n",
       "  <th>onset[T.3]</th>    <td>   -0.6328</td> <td>    0.291</td> <td>   -2.177</td> <td> 0.030</td> <td>   -1.203</td> <td>   -0.063</td>\n",
       "</tr>\n",
       "<tr>\n",
       "  <th>onset[T.4]</th>    <td>    0.7401</td> <td>    0.405</td> <td>    1.826</td> <td> 0.068</td> <td>   -0.055</td> <td>    1.535</td>\n",
       "</tr>\n",
       "<tr>\n",
       "  <th>onset[T.5]</th>    <td>   -0.2654</td> <td>    0.173</td> <td>   -1.535</td> <td> 0.125</td> <td>   -0.604</td> <td>    0.073</td>\n",
       "</tr>\n",
       "<tr>\n",
       "  <th>onset[T.6]</th>    <td>   -0.5377</td> <td>    0.212</td> <td>   -2.535</td> <td> 0.011</td> <td>   -0.953</td> <td>   -0.122</td>\n",
       "</tr>\n",
       "<tr>\n",
       "  <th>onset[T.7]</th>    <td>   -0.7174</td> <td>    0.512</td> <td>   -1.402</td> <td> 0.161</td> <td>   -1.721</td> <td>    0.286</td>\n",
       "</tr>\n",
       "<tr>\n",
       "  <th>onset[T.8]</th>    <td>   -0.3402</td> <td>    0.405</td> <td>   -0.839</td> <td> 0.401</td> <td>   -1.135</td> <td>    0.454</td>\n",
       "</tr>\n",
       "<tr>\n",
       "  <th>onset[T.@]</th>    <td>   -0.4632</td> <td>    0.144</td> <td>   -3.214</td> <td> 0.001</td> <td>   -0.746</td> <td>   -0.181</td>\n",
       "</tr>\n",
       "<tr>\n",
       "  <th>onset[T.D]</th>    <td>   -0.6662</td> <td>    0.266</td> <td>   -2.504</td> <td> 0.012</td> <td>   -1.188</td> <td>   -0.145</td>\n",
       "</tr>\n",
       "<tr>\n",
       "  <th>onset[T.E]</th>    <td>   -0.2748</td> <td>    0.154</td> <td>   -1.790</td> <td> 0.074</td> <td>   -0.576</td> <td>    0.026</td>\n",
       "</tr>\n",
       "<tr>\n",
       "  <th>onset[T.I]</th>    <td>   -0.4141</td> <td>    0.140</td> <td>   -2.956</td> <td> 0.003</td> <td>   -0.689</td> <td>   -0.140</td>\n",
       "</tr>\n",
       "<tr>\n",
       "  <th>onset[T.J]</th>    <td>    0.2087</td> <td>    0.160</td> <td>    1.301</td> <td> 0.193</td> <td>   -0.106</td> <td>    0.523</td>\n",
       "</tr>\n",
       "<tr>\n",
       "  <th>onset[T.Q]</th>    <td>   -0.1631</td> <td>    0.169</td> <td>   -0.965</td> <td> 0.334</td> <td>   -0.494</td> <td>    0.168</td>\n",
       "</tr>\n",
       "<tr>\n",
       "  <th>onset[T.S]</th>    <td>    0.1475</td> <td>    0.152</td> <td>    0.969</td> <td> 0.333</td> <td>   -0.151</td> <td>    0.446</td>\n",
       "</tr>\n",
       "<tr>\n",
       "  <th>onset[T.T]</th>    <td>   -0.2294</td> <td>    0.167</td> <td>   -1.373</td> <td> 0.170</td> <td>   -0.557</td> <td>    0.098</td>\n",
       "</tr>\n",
       "<tr>\n",
       "  <th>onset[T.U]</th>    <td>   -1.6097</td> <td>    0.623</td> <td>   -2.582</td> <td> 0.010</td> <td>   -2.832</td> <td>   -0.388</td>\n",
       "</tr>\n",
       "<tr>\n",
       "  <th>onset[T.V]</th>    <td>   -0.2331</td> <td>    0.171</td> <td>   -1.363</td> <td> 0.173</td> <td>   -0.568</td> <td>    0.102</td>\n",
       "</tr>\n",
       "<tr>\n",
       "  <th>onset[T.Z]</th>    <td>   -1.0364</td> <td>    0.620</td> <td>   -1.673</td> <td> 0.094</td> <td>   -2.251</td> <td>    0.178</td>\n",
       "</tr>\n",
       "<tr>\n",
       "  <th>onset[T._]</th>    <td>    0.0087</td> <td>    0.151</td> <td>    0.057</td> <td> 0.954</td> <td>   -0.288</td> <td>    0.305</td>\n",
       "</tr>\n",
       "<tr>\n",
       "  <th>onset[T.b]</th>    <td>    0.1044</td> <td>    0.138</td> <td>    0.755</td> <td> 0.450</td> <td>   -0.167</td> <td>    0.376</td>\n",
       "</tr>\n",
       "<tr>\n",
       "  <th>onset[T.d]</th>    <td>   -0.2568</td> <td>    0.139</td> <td>   -1.854</td> <td> 0.064</td> <td>   -0.528</td> <td>    0.015</td>\n",
       "</tr>\n",
       "<tr>\n",
       "  <th>onset[T.f]</th>    <td>   -0.2099</td> <td>    0.139</td> <td>   -1.505</td> <td> 0.132</td> <td>   -0.483</td> <td>    0.063</td>\n",
       "</tr>\n",
       "<tr>\n",
       "  <th>onset[T.g]</th>    <td>   -0.0091</td> <td>    0.142</td> <td>   -0.064</td> <td> 0.949</td> <td>   -0.288</td> <td>    0.270</td>\n",
       "</tr>\n",
       "<tr>\n",
       "  <th>onset[T.h]</th>    <td>   -0.0737</td> <td>    0.141</td> <td>   -0.521</td> <td> 0.602</td> <td>   -0.351</td> <td>    0.204</td>\n",
       "</tr>\n",
       "<tr>\n",
       "  <th>onset[T.i]</th>    <td>   -0.4863</td> <td>    0.226</td> <td>   -2.149</td> <td> 0.032</td> <td>   -0.930</td> <td>   -0.043</td>\n",
       "</tr>\n",
       "<tr>\n",
       "  <th>onset[T.j]</th>    <td>   -0.1594</td> <td>    0.170</td> <td>   -0.936</td> <td> 0.349</td> <td>   -0.493</td> <td>    0.174</td>\n",
       "</tr>\n",
       "<tr>\n",
       "  <th>onset[T.k]</th>    <td>    0.0513</td> <td>    0.137</td> <td>    0.376</td> <td> 0.707</td> <td>   -0.216</td> <td>    0.319</td>\n",
       "</tr>\n",
       "<tr>\n",
       "  <th>onset[T.l]</th>    <td>   -0.0488</td> <td>    0.142</td> <td>   -0.343</td> <td> 0.732</td> <td>   -0.328</td> <td>    0.230</td>\n",
       "</tr>\n",
       "<tr>\n",
       "  <th>onset[T.m]</th>    <td>   -0.0462</td> <td>    0.139</td> <td>   -0.333</td> <td> 0.739</td> <td>   -0.319</td> <td>    0.226</td>\n",
       "</tr>\n",
       "<tr>\n",
       "  <th>onset[T.n]</th>    <td>   -0.2411</td> <td>    0.147</td> <td>   -1.640</td> <td> 0.101</td> <td>   -0.529</td> <td>    0.047</td>\n",
       "</tr>\n",
       "<tr>\n",
       "  <th>onset[T.p]</th>    <td>   -0.0575</td> <td>    0.137</td> <td>   -0.419</td> <td> 0.675</td> <td>   -0.326</td> <td>    0.211</td>\n",
       "</tr>\n",
       "<tr>\n",
       "  <th>onset[T.q]</th>    <td>    0.1073</td> <td>    0.621</td> <td>    0.173</td> <td> 0.863</td> <td>   -1.111</td> <td>    1.325</td>\n",
       "</tr>\n",
       "<tr>\n",
       "  <th>onset[T.r]</th>    <td>   -0.2853</td> <td>    0.139</td> <td>   -2.055</td> <td> 0.040</td> <td>   -0.557</td> <td>   -0.013</td>\n",
       "</tr>\n",
       "<tr>\n",
       "  <th>onset[T.s]</th>    <td>    0.0158</td> <td>    0.136</td> <td>    0.116</td> <td> 0.908</td> <td>   -0.251</td> <td>    0.282</td>\n",
       "</tr>\n",
       "<tr>\n",
       "  <th>onset[T.t]</th>    <td>    0.0281</td> <td>    0.139</td> <td>    0.202</td> <td> 0.840</td> <td>   -0.245</td> <td>    0.301</td>\n",
       "</tr>\n",
       "<tr>\n",
       "  <th>onset[T.u]</th>    <td>   -0.1096</td> <td>    0.866</td> <td>   -0.127</td> <td> 0.899</td> <td>   -1.807</td> <td>    1.588</td>\n",
       "</tr>\n",
       "<tr>\n",
       "  <th>onset[T.v]</th>    <td>   -0.1296</td> <td>    0.149</td> <td>   -0.871</td> <td> 0.384</td> <td>   -0.421</td> <td>    0.162</td>\n",
       "</tr>\n",
       "<tr>\n",
       "  <th>onset[T.w]</th>    <td>   -0.1326</td> <td>    0.146</td> <td>   -0.908</td> <td> 0.364</td> <td>   -0.419</td> <td>    0.154</td>\n",
       "</tr>\n",
       "<tr>\n",
       "  <th>onset[T.z]</th>    <td>   -0.4546</td> <td>    0.215</td> <td>   -2.117</td> <td> 0.034</td> <td>   -0.876</td> <td>   -0.034</td>\n",
       "</tr>\n",
       "<tr>\n",
       "  <th>onset[T.{]</th>    <td>   -0.1841</td> <td>    0.147</td> <td>   -1.254</td> <td> 0.210</td> <td>   -0.472</td> <td>    0.104</td>\n",
       "</tr>\n",
       "<tr>\n",
       "  <th>Class[T.ADV]</th>  <td>   -0.4133</td> <td>    0.091</td> <td>   -4.555</td> <td> 0.000</td> <td>   -0.591</td> <td>   -0.235</td>\n",
       "</tr>\n",
       "<tr>\n",
       "  <th>Class[T.ART]</th>  <td>   -1.4763</td> <td>    0.612</td> <td>   -2.411</td> <td> 0.016</td> <td>   -2.676</td> <td>   -0.276</td>\n",
       "</tr>\n",
       "<tr>\n",
       "  <th>Class[T.C]</th>    <td>   -0.7521</td> <td>    0.240</td> <td>   -3.130</td> <td> 0.002</td> <td>   -1.223</td> <td>   -0.281</td>\n",
       "</tr>\n",
       "<tr>\n",
       "  <th>Class[T.I]</th>    <td>   -0.2259</td> <td>    0.145</td> <td>   -1.561</td> <td> 0.119</td> <td>   -0.509</td> <td>    0.058</td>\n",
       "</tr>\n",
       "<tr>\n",
       "  <th>Class[T.N]</th>    <td>    1.0141</td> <td>    0.026</td> <td>   39.053</td> <td> 0.000</td> <td>    0.963</td> <td>    1.065</td>\n",
       "</tr>\n",
       "<tr>\n",
       "  <th>Class[T.PREP]</th> <td>   -0.6089</td> <td>    0.167</td> <td>   -3.647</td> <td> 0.000</td> <td>   -0.936</td> <td>   -0.282</td>\n",
       "</tr>\n",
       "<tr>\n",
       "  <th>Class[T.PRON]</th> <td>   -0.0719</td> <td>    0.157</td> <td>   -0.456</td> <td> 0.648</td> <td>   -0.381</td> <td>    0.237</td>\n",
       "</tr>\n",
       "<tr>\n",
       "  <th>Class[T.V]</th>    <td>    0.1901</td> <td>    0.034</td> <td>    5.568</td> <td> 0.000</td> <td>    0.123</td> <td>    0.257</td>\n",
       "</tr>\n",
       "<tr>\n",
       "  <th>word_length</th>   <td>   -0.0999</td> <td>    0.005</td> <td>  -20.436</td> <td> 0.000</td> <td>   -0.109</td> <td>   -0.090</td>\n",
       "</tr>\n",
       "<tr>\n",
       "  <th>CobLog</th>        <td>   -0.0236</td> <td>    0.013</td> <td>   -1.766</td> <td> 0.077</td> <td>   -0.050</td> <td>    0.003</td>\n",
       "</tr>\n",
       "</table>\n",
       "<table class=\"simpletable\">\n",
       "<tr>\n",
       "  <th>Omnibus:</th>       <td>362.075</td> <th>  Durbin-Watson:     </th> <td>   1.752</td>\n",
       "</tr>\n",
       "<tr>\n",
       "  <th>Prob(Omnibus):</th> <td> 0.000</td>  <th>  Jarque-Bera (JB):  </th> <td> 249.371</td>\n",
       "</tr>\n",
       "<tr>\n",
       "  <th>Skew:</th>          <td>-0.283</td>  <th>  Prob(JB):          </th> <td>7.07e-55</td>\n",
       "</tr>\n",
       "<tr>\n",
       "  <th>Kurtosis:</th>      <td> 2.452</td>  <th>  Cond. No.          </th> <td>    654.</td>\n",
       "</tr>\n",
       "</table><br/><br/>Warnings:<br/>[1] Standard Errors assume that the covariance matrix of the errors is correctly specified."
      ],
      "text/plain": [
       "<class 'statsmodels.iolib.summary.Summary'>\n",
       "\"\"\"\n",
       "                            OLS Regression Results                            \n",
       "==============================================================================\n",
       "Dep. Variable:           Concreteness   R-squared:                       0.309\n",
       "Model:                            OLS   Adj. R-squared:                  0.306\n",
       "Method:                 Least Squares   F-statistic:                     82.72\n",
       "Date:                Sat, 18 Jan 2020   Prob (F-statistic):               0.00\n",
       "Time:                        15:20:11   Log-Likelihood:                -12171.\n",
       "No. Observations:                9658   AIC:                         2.445e+04\n",
       "Df Residuals:                    9605   BIC:                         2.483e+04\n",
       "Df Model:                          52                                         \n",
       "Covariance Type:            nonrobust                                         \n",
       "=================================================================================\n",
       "                    coef    std err          t      P>|t|      [0.025      0.975]\n",
       "---------------------------------------------------------------------------------\n",
       "Intercept         3.2953      0.139     23.656      0.000       3.022       3.568\n",
       "onset[T.$]       -0.2436      0.169     -1.439      0.150      -0.575       0.088\n",
       "onset[T.1]       -0.0482      0.199     -0.242      0.809      -0.439       0.343\n",
       "onset[T.2]       -0.0047      0.210     -0.023      0.982      -0.416       0.407\n",
       "onset[T.3]       -0.6328      0.291     -2.177      0.030      -1.203      -0.063\n",
       "onset[T.4]        0.7401      0.405      1.826      0.068      -0.055       1.535\n",
       "onset[T.5]       -0.2654      0.173     -1.535      0.125      -0.604       0.073\n",
       "onset[T.6]       -0.5377      0.212     -2.535      0.011      -0.953      -0.122\n",
       "onset[T.7]       -0.7174      0.512     -1.402      0.161      -1.721       0.286\n",
       "onset[T.8]       -0.3402      0.405     -0.839      0.401      -1.135       0.454\n",
       "onset[T.@]       -0.4632      0.144     -3.214      0.001      -0.746      -0.181\n",
       "onset[T.D]       -0.6662      0.266     -2.504      0.012      -1.188      -0.145\n",
       "onset[T.E]       -0.2748      0.154     -1.790      0.074      -0.576       0.026\n",
       "onset[T.I]       -0.4141      0.140     -2.956      0.003      -0.689      -0.140\n",
       "onset[T.J]        0.2087      0.160      1.301      0.193      -0.106       0.523\n",
       "onset[T.Q]       -0.1631      0.169     -0.965      0.334      -0.494       0.168\n",
       "onset[T.S]        0.1475      0.152      0.969      0.333      -0.151       0.446\n",
       "onset[T.T]       -0.2294      0.167     -1.373      0.170      -0.557       0.098\n",
       "onset[T.U]       -1.6097      0.623     -2.582      0.010      -2.832      -0.388\n",
       "onset[T.V]       -0.2331      0.171     -1.363      0.173      -0.568       0.102\n",
       "onset[T.Z]       -1.0364      0.620     -1.673      0.094      -2.251       0.178\n",
       "onset[T._]        0.0087      0.151      0.057      0.954      -0.288       0.305\n",
       "onset[T.b]        0.1044      0.138      0.755      0.450      -0.167       0.376\n",
       "onset[T.d]       -0.2568      0.139     -1.854      0.064      -0.528       0.015\n",
       "onset[T.f]       -0.2099      0.139     -1.505      0.132      -0.483       0.063\n",
       "onset[T.g]       -0.0091      0.142     -0.064      0.949      -0.288       0.270\n",
       "onset[T.h]       -0.0737      0.141     -0.521      0.602      -0.351       0.204\n",
       "onset[T.i]       -0.4863      0.226     -2.149      0.032      -0.930      -0.043\n",
       "onset[T.j]       -0.1594      0.170     -0.936      0.349      -0.493       0.174\n",
       "onset[T.k]        0.0513      0.137      0.376      0.707      -0.216       0.319\n",
       "onset[T.l]       -0.0488      0.142     -0.343      0.732      -0.328       0.230\n",
       "onset[T.m]       -0.0462      0.139     -0.333      0.739      -0.319       0.226\n",
       "onset[T.n]       -0.2411      0.147     -1.640      0.101      -0.529       0.047\n",
       "onset[T.p]       -0.0575      0.137     -0.419      0.675      -0.326       0.211\n",
       "onset[T.q]        0.1073      0.621      0.173      0.863      -1.111       1.325\n",
       "onset[T.r]       -0.2853      0.139     -2.055      0.040      -0.557      -0.013\n",
       "onset[T.s]        0.0158      0.136      0.116      0.908      -0.251       0.282\n",
       "onset[T.t]        0.0281      0.139      0.202      0.840      -0.245       0.301\n",
       "onset[T.u]       -0.1096      0.866     -0.127      0.899      -1.807       1.588\n",
       "onset[T.v]       -0.1296      0.149     -0.871      0.384      -0.421       0.162\n",
       "onset[T.w]       -0.1326      0.146     -0.908      0.364      -0.419       0.154\n",
       "onset[T.z]       -0.4546      0.215     -2.117      0.034      -0.876      -0.034\n",
       "onset[T.{]       -0.1841      0.147     -1.254      0.210      -0.472       0.104\n",
       "Class[T.ADV]     -0.4133      0.091     -4.555      0.000      -0.591      -0.235\n",
       "Class[T.ART]     -1.4763      0.612     -2.411      0.016      -2.676      -0.276\n",
       "Class[T.C]       -0.7521      0.240     -3.130      0.002      -1.223      -0.281\n",
       "Class[T.I]       -0.2259      0.145     -1.561      0.119      -0.509       0.058\n",
       "Class[T.N]        1.0141      0.026     39.053      0.000       0.963       1.065\n",
       "Class[T.PREP]    -0.6089      0.167     -3.647      0.000      -0.936      -0.282\n",
       "Class[T.PRON]    -0.0719      0.157     -0.456      0.648      -0.381       0.237\n",
       "Class[T.V]        0.1901      0.034      5.568      0.000       0.123       0.257\n",
       "word_length      -0.0999      0.005    -20.436      0.000      -0.109      -0.090\n",
       "CobLog           -0.0236      0.013     -1.766      0.077      -0.050       0.003\n",
       "==============================================================================\n",
       "Omnibus:                      362.075   Durbin-Watson:                   1.752\n",
       "Prob(Omnibus):                  0.000   Jarque-Bera (JB):              249.371\n",
       "Skew:                          -0.283   Prob(JB):                     7.07e-55\n",
       "Kurtosis:                       2.452   Cond. No.                         654.\n",
       "==============================================================================\n",
       "\n",
       "Warnings:\n",
       "[1] Standard Errors assume that the covariance matrix of the errors is correctly specified.\n",
       "\"\"\""
      ]
     },
     "execution_count": 8,
     "metadata": {},
     "output_type": "execute_result"
    }
   ],
   "source": [
    "result = sm.ols(formula=\"Concreteness ~ onset + word_length + Class + CobLog\", data=df_merged).fit()\n",
    "result.summary()"
   ]
  },
  {
   "cell_type": "code",
   "execution_count": 9,
   "metadata": {},
   "outputs": [
    {
     "data": {
      "text/plain": [
       "0.30930198193501646"
      ]
     },
     "execution_count": 9,
     "metadata": {},
     "output_type": "execute_result"
    }
   ],
   "source": [
    "result.rsquared"
   ]
  },
  {
   "cell_type": "code",
   "execution_count": 11,
   "metadata": {},
   "outputs": [
    {
     "name": "stderr",
     "output_type": "stream",
     "text": [
      "100%|██████████| 100/100 [00:13<00:00,  5.99it/s]\n"
     ]
    }
   ],
   "source": [
    "### Shuffling\n",
    "shuffled_rsquares = []\n",
    "true_rsquare = result.rsquared\n",
    "\n",
    "NUM_SHUFFLES = 100\n",
    "\n",
    "for shuffle in tqdm(range(NUM_SHUFFLES)):\n",
    "    new_df = df_merged.copy()\n",
    "    new_df['shuffled_onset'] = np.random.permutation(new_df['onset'])\n",
    "    new_result = sm.ols(formula=\"Concreteness ~ shuffled_onset + word_length + Class + CobLog\", data=new_df).fit()\n",
    "    shuffled_rsquares.append(new_result.rsquared)"
   ]
  },
  {
   "cell_type": "code",
   "execution_count": 12,
   "metadata": {},
   "outputs": [
    {
     "name": "stdout",
     "output_type": "stream",
     "text": [
      "0.28830335379135846\n",
      "0.0007009963777654497\n"
     ]
    }
   ],
   "source": [
    "shuffled_rsquares_np = np.array(shuffled_rsquares)\n",
    "print(np.mean(shuffled_rsquares_np))\n",
    "print(np.std(shuffled_rsquares_np))"
   ]
  },
  {
   "cell_type": "code",
   "execution_count": 13,
   "metadata": {},
   "outputs": [
    {
     "data": {
      "text/plain": [
       "Text(0.5, 1.0, 'Analysis 1: real R^2 vs. random shuffles')"
      ]
     },
     "execution_count": 13,
     "metadata": {},
     "output_type": "execute_result"
    },
    {
     "data": {
      "image/png": "[encoded data removed]",
      "text/plain": [
       "<Figure size 432x288 with 1 Axes>"
      ]
     },
     "metadata": {
      "image/png": {
       "height": 277,
       "width": 377
      },
      "needs_background": "light"
     },
     "output_type": "display_data"
    }
   ],
   "source": [
    "plt.hist(shuffled_rsquares)\n",
    "plt.axvline(x=true_rsquare, linestyle=\"dotted\")\n",
    "plt.xlabel(\"Distribution of R^2 values\")\n",
    "plt.title(\"Analysis 1: real R^2 vs. random shuffles\")"
   ]
  },
  {
   "cell_type": "markdown",
   "metadata": {},
   "source": [
    "### Discussion and exploration\n",
    "\n",
    "Based on these results, it seems like:\n",
    "\n",
    "First, there is more structure in mappings between phonetic onsets and word concreteness than one would expect by chance, even controlling for grammatical class, word length, and word frequency.\n",
    "\n",
    "Certain onsets exhibit particularly strong effects, such as: \n",
    "- **/@/** (the onset in *abandon* or *abide*) has a consistently *negative* impact on concreteness.\n",
    "- **/I/** (the onset in *elastic*) has a consistently *negative* impact on concreteness.\n",
    "- **/D/** (the onset in *they*) has a *negative* impact on concreteness.\n",
    "- **/z/** (the onset in *zeal* or *zero*) has a marginally *negative* impact on concreteness."
   ]
  },
  {
   "cell_type": "markdown",
   "metadata": {},
   "source": [
    "### Supplementary analysis (1b): omitting /D/\n",
    "\n",
    "Here, we ask whether the onset **/D/** is responsible for the variance that onset phones explain, since that covaries with function words (the, that, then, etc.). Controlling for grammatical class *should* take care of some of that variance, but this is another, more direct way to ask how much /D/ is responsible for the result above.\n",
    "\n",
    "From the result, we see that the reduced dataset (omitting words beginning with /D/) still exhibits more structure in the relationship between onset phone and concreteness than randomly shuffled data."
   ]
  },
  {
   "cell_type": "code",
   "execution_count": 14,
   "metadata": {},
   "outputs": [
    {
     "name": "stdout",
     "output_type": "stream",
     "text": [
      "Number of words left: 9643\n"
     ]
    }
   ],
   "source": [
    "df_merged_no_th = df_merged[df_merged['onset']!=\"D\"]\n",
    "print(\"Number of words left: {num}\".format(num=len(df_merged_no_th)))"
   ]
  },
  {
   "cell_type": "code",
   "execution_count": 15,
   "metadata": {},
   "outputs": [
    {
     "data": {
      "text/html": [
       "<table class=\"simpletable\">\n",
       "<caption>OLS Regression Results</caption>\n",
       "<tr>\n",
       "  <th>Dep. Variable:</th>      <td>Concreteness</td>   <th>  R-squared:         </th> <td>   0.307</td> \n",
       "</tr>\n",
       "<tr>\n",
       "  <th>Model:</th>                   <td>OLS</td>       <th>  Adj. R-squared:    </th> <td>   0.304</td> \n",
       "</tr>\n",
       "<tr>\n",
       "  <th>Method:</th>             <td>Least Squares</td>  <th>  F-statistic:       </th> <td>   83.44</td> \n",
       "</tr>\n",
       "<tr>\n",
       "  <th>Date:</th>             <td>Sat, 18 Jan 2020</td> <th>  Prob (F-statistic):</th>  <td>  0.00</td>  \n",
       "</tr>\n",
       "<tr>\n",
       "  <th>Time:</th>                 <td>15:21:44</td>     <th>  Log-Likelihood:    </th> <td> -12155.</td> \n",
       "</tr>\n",
       "<tr>\n",
       "  <th>No. Observations:</th>      <td>  9642</td>      <th>  AIC:               </th> <td>2.441e+04</td>\n",
       "</tr>\n",
       "<tr>\n",
       "  <th>Df Residuals:</th>          <td>  9590</td>      <th>  BIC:               </th> <td>2.479e+04</td>\n",
       "</tr>\n",
       "<tr>\n",
       "  <th>Df Model:</th>              <td>    51</td>      <th>                     </th>     <td> </td>    \n",
       "</tr>\n",
       "<tr>\n",
       "  <th>Covariance Type:</th>      <td>nonrobust</td>    <th>                     </th>     <td> </td>    \n",
       "</tr>\n",
       "</table>\n",
       "<table class=\"simpletable\">\n",
       "<tr>\n",
       "        <td></td>           <th>coef</th>     <th>std err</th>      <th>t</th>      <th>P>|t|</th>  <th>[0.025</th>    <th>0.975]</th>  \n",
       "</tr>\n",
       "<tr>\n",
       "  <th>Intercept</th>     <td>    3.2963</td> <td>    0.139</td> <td>   23.650</td> <td> 0.000</td> <td>    3.023</td> <td>    3.569</td>\n",
       "</tr>\n",
       "<tr>\n",
       "  <th>onset[T.$]</th>    <td>   -0.2442</td> <td>    0.169</td> <td>   -1.442</td> <td> 0.149</td> <td>   -0.576</td> <td>    0.088</td>\n",
       "</tr>\n",
       "<tr>\n",
       "  <th>onset[T.1]</th>    <td>   -0.0483</td> <td>    0.199</td> <td>   -0.242</td> <td> 0.809</td> <td>   -0.439</td> <td>    0.343</td>\n",
       "</tr>\n",
       "<tr>\n",
       "  <th>onset[T.2]</th>    <td>   -0.0057</td> <td>    0.210</td> <td>   -0.027</td> <td> 0.978</td> <td>   -0.417</td> <td>    0.406</td>\n",
       "</tr>\n",
       "<tr>\n",
       "  <th>onset[T.3]</th>    <td>   -0.6330</td> <td>    0.291</td> <td>   -2.176</td> <td> 0.030</td> <td>   -1.203</td> <td>   -0.063</td>\n",
       "</tr>\n",
       "<tr>\n",
       "  <th>onset[T.4]</th>    <td>    0.7399</td> <td>    0.406</td> <td>    1.824</td> <td> 0.068</td> <td>   -0.055</td> <td>    1.535</td>\n",
       "</tr>\n",
       "<tr>\n",
       "  <th>onset[T.5]</th>    <td>   -0.2655</td> <td>    0.173</td> <td>   -1.535</td> <td> 0.125</td> <td>   -0.605</td> <td>    0.074</td>\n",
       "</tr>\n",
       "<tr>\n",
       "  <th>onset[T.6]</th>    <td>   -0.5377</td> <td>    0.212</td> <td>   -2.534</td> <td> 0.011</td> <td>   -0.954</td> <td>   -0.122</td>\n",
       "</tr>\n",
       "<tr>\n",
       "  <th>onset[T.7]</th>    <td>   -0.7176</td> <td>    0.512</td> <td>   -1.401</td> <td> 0.161</td> <td>   -1.722</td> <td>    0.286</td>\n",
       "</tr>\n",
       "<tr>\n",
       "  <th>onset[T.8]</th>    <td>   -0.3403</td> <td>    0.406</td> <td>   -0.839</td> <td> 0.401</td> <td>   -1.135</td> <td>    0.455</td>\n",
       "</tr>\n",
       "<tr>\n",
       "  <th>onset[T.@]</th>    <td>   -0.4642</td> <td>    0.144</td> <td>   -3.220</td> <td> 0.001</td> <td>   -0.747</td> <td>   -0.182</td>\n",
       "</tr>\n",
       "<tr>\n",
       "  <th>onset[T.E]</th>    <td>   -0.2747</td> <td>    0.154</td> <td>   -1.788</td> <td> 0.074</td> <td>   -0.576</td> <td>    0.026</td>\n",
       "</tr>\n",
       "<tr>\n",
       "  <th>onset[T.I]</th>    <td>   -0.4137</td> <td>    0.140</td> <td>   -2.952</td> <td> 0.003</td> <td>   -0.688</td> <td>   -0.139</td>\n",
       "</tr>\n",
       "<tr>\n",
       "  <th>onset[T.J]</th>    <td>    0.2086</td> <td>    0.161</td> <td>    1.299</td> <td> 0.194</td> <td>   -0.106</td> <td>    0.523</td>\n",
       "</tr>\n",
       "<tr>\n",
       "  <th>onset[T.Q]</th>    <td>   -0.1649</td> <td>    0.169</td> <td>   -0.976</td> <td> 0.329</td> <td>   -0.496</td> <td>    0.166</td>\n",
       "</tr>\n",
       "<tr>\n",
       "  <th>onset[T.S]</th>    <td>    0.1480</td> <td>    0.152</td> <td>    0.971</td> <td> 0.331</td> <td>   -0.151</td> <td>    0.447</td>\n",
       "</tr>\n",
       "<tr>\n",
       "  <th>onset[T.T]</th>    <td>   -0.2301</td> <td>    0.167</td> <td>   -1.377</td> <td> 0.169</td> <td>   -0.558</td> <td>    0.097</td>\n",
       "</tr>\n",
       "<tr>\n",
       "  <th>onset[T.U]</th>    <td>   -1.6098</td> <td>    0.624</td> <td>   -2.581</td> <td> 0.010</td> <td>   -2.832</td> <td>   -0.387</td>\n",
       "</tr>\n",
       "<tr>\n",
       "  <th>onset[T.V]</th>    <td>   -0.2318</td> <td>    0.171</td> <td>   -1.355</td> <td> 0.175</td> <td>   -0.567</td> <td>    0.104</td>\n",
       "</tr>\n",
       "<tr>\n",
       "  <th>onset[T.Z]</th>    <td>   -1.0365</td> <td>    0.620</td> <td>   -1.672</td> <td> 0.095</td> <td>   -2.252</td> <td>    0.179</td>\n",
       "</tr>\n",
       "<tr>\n",
       "  <th>onset[T._]</th>    <td>    0.0086</td> <td>    0.151</td> <td>    0.057</td> <td> 0.955</td> <td>   -0.288</td> <td>    0.305</td>\n",
       "</tr>\n",
       "<tr>\n",
       "  <th>onset[T.b]</th>    <td>    0.1041</td> <td>    0.138</td> <td>    0.752</td> <td> 0.452</td> <td>   -0.167</td> <td>    0.375</td>\n",
       "</tr>\n",
       "<tr>\n",
       "  <th>onset[T.d]</th>    <td>   -0.2569</td> <td>    0.139</td> <td>   -1.854</td> <td> 0.064</td> <td>   -0.529</td> <td>    0.015</td>\n",
       "</tr>\n",
       "<tr>\n",
       "  <th>onset[T.f]</th>    <td>   -0.2100</td> <td>    0.139</td> <td>   -1.505</td> <td> 0.132</td> <td>   -0.483</td> <td>    0.063</td>\n",
       "</tr>\n",
       "<tr>\n",
       "  <th>onset[T.g]</th>    <td>   -0.0092</td> <td>    0.142</td> <td>   -0.065</td> <td> 0.948</td> <td>   -0.288</td> <td>    0.270</td>\n",
       "</tr>\n",
       "<tr>\n",
       "  <th>onset[T.h]</th>    <td>   -0.0719</td> <td>    0.142</td> <td>   -0.508</td> <td> 0.611</td> <td>   -0.349</td> <td>    0.205</td>\n",
       "</tr>\n",
       "<tr>\n",
       "  <th>onset[T.i]</th>    <td>   -0.4839</td> <td>    0.226</td> <td>   -2.137</td> <td> 0.033</td> <td>   -0.928</td> <td>   -0.040</td>\n",
       "</tr>\n",
       "<tr>\n",
       "  <th>onset[T.j]</th>    <td>   -0.1578</td> <td>    0.170</td> <td>   -0.926</td> <td> 0.354</td> <td>   -0.492</td> <td>    0.176</td>\n",
       "</tr>\n",
       "<tr>\n",
       "  <th>onset[T.k]</th>    <td>    0.0513</td> <td>    0.137</td> <td>    0.376</td> <td> 0.707</td> <td>   -0.217</td> <td>    0.319</td>\n",
       "</tr>\n",
       "<tr>\n",
       "  <th>onset[T.l]</th>    <td>   -0.0489</td> <td>    0.142</td> <td>   -0.343</td> <td> 0.731</td> <td>   -0.328</td> <td>    0.230</td>\n",
       "</tr>\n",
       "<tr>\n",
       "  <th>onset[T.m]</th>    <td>   -0.0456</td> <td>    0.139</td> <td>   -0.328</td> <td> 0.743</td> <td>   -0.318</td> <td>    0.227</td>\n",
       "</tr>\n",
       "<tr>\n",
       "  <th>onset[T.n]</th>    <td>   -0.2427</td> <td>    0.147</td> <td>   -1.650</td> <td> 0.099</td> <td>   -0.531</td> <td>    0.046</td>\n",
       "</tr>\n",
       "<tr>\n",
       "  <th>onset[T.p]</th>    <td>   -0.0576</td> <td>    0.137</td> <td>   -0.420</td> <td> 0.675</td> <td>   -0.327</td> <td>    0.211</td>\n",
       "</tr>\n",
       "<tr>\n",
       "  <th>onset[T.q]</th>    <td>    0.0942</td> <td>    0.622</td> <td>    0.152</td> <td> 0.880</td> <td>   -1.124</td> <td>    1.313</td>\n",
       "</tr>\n",
       "<tr>\n",
       "  <th>onset[T.r]</th>    <td>   -0.2854</td> <td>    0.139</td> <td>   -2.055</td> <td> 0.040</td> <td>   -0.558</td> <td>   -0.013</td>\n",
       "</tr>\n",
       "<tr>\n",
       "  <th>onset[T.s]</th>    <td>    0.0157</td> <td>    0.136</td> <td>    0.115</td> <td> 0.908</td> <td>   -0.251</td> <td>    0.282</td>\n",
       "</tr>\n",
       "<tr>\n",
       "  <th>onset[T.t]</th>    <td>    0.0279</td> <td>    0.139</td> <td>    0.200</td> <td> 0.841</td> <td>   -0.245</td> <td>    0.301</td>\n",
       "</tr>\n",
       "<tr>\n",
       "  <th>onset[T.u]</th>    <td>   -0.1101</td> <td>    0.867</td> <td>   -0.127</td> <td> 0.899</td> <td>   -1.809</td> <td>    1.589</td>\n",
       "</tr>\n",
       "<tr>\n",
       "  <th>onset[T.v]</th>    <td>   -0.1296</td> <td>    0.149</td> <td>   -0.871</td> <td> 0.384</td> <td>   -0.421</td> <td>    0.162</td>\n",
       "</tr>\n",
       "<tr>\n",
       "  <th>onset[T.w]</th>    <td>   -0.1330</td> <td>    0.146</td> <td>   -0.910</td> <td> 0.363</td> <td>   -0.419</td> <td>    0.154</td>\n",
       "</tr>\n",
       "<tr>\n",
       "  <th>onset[T.z]</th>    <td>   -0.4548</td> <td>    0.215</td> <td>   -2.117</td> <td> 0.034</td> <td>   -0.876</td> <td>   -0.034</td>\n",
       "</tr>\n",
       "<tr>\n",
       "  <th>onset[T.{]</th>    <td>   -0.1838</td> <td>    0.147</td> <td>   -1.252</td> <td> 0.211</td> <td>   -0.472</td> <td>    0.104</td>\n",
       "</tr>\n",
       "<tr>\n",
       "  <th>Class[T.ADV]</th>  <td>   -0.3875</td> <td>    0.092</td> <td>   -4.197</td> <td> 0.000</td> <td>   -0.568</td> <td>   -0.206</td>\n",
       "</tr>\n",
       "<tr>\n",
       "  <th>Class[T.ART]</th>  <td>   -1.4761</td> <td>    0.613</td> <td>   -2.410</td> <td> 0.016</td> <td>   -2.677</td> <td>   -0.275</td>\n",
       "</tr>\n",
       "<tr>\n",
       "  <th>Class[T.C]</th>    <td>   -0.7665</td> <td>    0.249</td> <td>   -3.074</td> <td> 0.002</td> <td>   -1.255</td> <td>   -0.278</td>\n",
       "</tr>\n",
       "<tr>\n",
       "  <th>Class[T.I]</th>    <td>   -0.2267</td> <td>    0.145</td> <td>   -1.566</td> <td> 0.117</td> <td>   -0.510</td> <td>    0.057</td>\n",
       "</tr>\n",
       "<tr>\n",
       "  <th>Class[T.N]</th>    <td>    1.0139</td> <td>    0.026</td> <td>   39.028</td> <td> 0.000</td> <td>    0.963</td> <td>    1.065</td>\n",
       "</tr>\n",
       "<tr>\n",
       "  <th>Class[T.PREP]</th> <td>   -0.6087</td> <td>    0.167</td> <td>   -3.645</td> <td> 0.000</td> <td>   -0.936</td> <td>   -0.281</td>\n",
       "</tr>\n",
       "<tr>\n",
       "  <th>Class[T.PRON]</th> <td>   -0.1527</td> <td>    0.168</td> <td>   -0.910</td> <td> 0.363</td> <td>   -0.481</td> <td>    0.176</td>\n",
       "</tr>\n",
       "<tr>\n",
       "  <th>Class[T.V]</th>    <td>    0.1901</td> <td>    0.034</td> <td>    5.564</td> <td> 0.000</td> <td>    0.123</td> <td>    0.257</td>\n",
       "</tr>\n",
       "<tr>\n",
       "  <th>word_length</th>   <td>   -0.1000</td> <td>    0.005</td> <td>  -20.445</td> <td> 0.000</td> <td>   -0.110</td> <td>   -0.090</td>\n",
       "</tr>\n",
       "<tr>\n",
       "  <th>CobLog</th>        <td>   -0.0239</td> <td>    0.013</td> <td>   -1.777</td> <td> 0.076</td> <td>   -0.050</td> <td>    0.002</td>\n",
       "</tr>\n",
       "</table>\n",
       "<table class=\"simpletable\">\n",
       "<tr>\n",
       "  <th>Omnibus:</th>       <td>363.985</td> <th>  Durbin-Watson:     </th> <td>   1.751</td>\n",
       "</tr>\n",
       "<tr>\n",
       "  <th>Prob(Omnibus):</th> <td> 0.000</td>  <th>  Jarque-Bera (JB):  </th> <td> 249.981</td>\n",
       "</tr>\n",
       "<tr>\n",
       "  <th>Skew:</th>          <td>-0.283</td>  <th>  Prob(JB):          </th> <td>5.22e-55</td>\n",
       "</tr>\n",
       "<tr>\n",
       "  <th>Kurtosis:</th>      <td> 2.451</td>  <th>  Cond. No.          </th> <td>    649.</td>\n",
       "</tr>\n",
       "</table><br/><br/>Warnings:<br/>[1] Standard Errors assume that the covariance matrix of the errors is correctly specified."
      ],
      "text/plain": [
       "<class 'statsmodels.iolib.summary.Summary'>\n",
       "\"\"\"\n",
       "                            OLS Regression Results                            \n",
       "==============================================================================\n",
       "Dep. Variable:           Concreteness   R-squared:                       0.307\n",
       "Model:                            OLS   Adj. R-squared:                  0.304\n",
       "Method:                 Least Squares   F-statistic:                     83.44\n",
       "Date:                Sat, 18 Jan 2020   Prob (F-statistic):               0.00\n",
       "Time:                        15:21:44   Log-Likelihood:                -12155.\n",
       "No. Observations:                9642   AIC:                         2.441e+04\n",
       "Df Residuals:                    9590   BIC:                         2.479e+04\n",
       "Df Model:                          51                                         \n",
       "Covariance Type:            nonrobust                                         \n",
       "=================================================================================\n",
       "                    coef    std err          t      P>|t|      [0.025      0.975]\n",
       "---------------------------------------------------------------------------------\n",
       "Intercept         3.2963      0.139     23.650      0.000       3.023       3.569\n",
       "onset[T.$]       -0.2442      0.169     -1.442      0.149      -0.576       0.088\n",
       "onset[T.1]       -0.0483      0.199     -0.242      0.809      -0.439       0.343\n",
       "onset[T.2]       -0.0057      0.210     -0.027      0.978      -0.417       0.406\n",
       "onset[T.3]       -0.6330      0.291     -2.176      0.030      -1.203      -0.063\n",
       "onset[T.4]        0.7399      0.406      1.824      0.068      -0.055       1.535\n",
       "onset[T.5]       -0.2655      0.173     -1.535      0.125      -0.605       0.074\n",
       "onset[T.6]       -0.5377      0.212     -2.534      0.011      -0.954      -0.122\n",
       "onset[T.7]       -0.7176      0.512     -1.401      0.161      -1.722       0.286\n",
       "onset[T.8]       -0.3403      0.406     -0.839      0.401      -1.135       0.455\n",
       "onset[T.@]       -0.4642      0.144     -3.220      0.001      -0.747      -0.182\n",
       "onset[T.E]       -0.2747      0.154     -1.788      0.074      -0.576       0.026\n",
       "onset[T.I]       -0.4137      0.140     -2.952      0.003      -0.688      -0.139\n",
       "onset[T.J]        0.2086      0.161      1.299      0.194      -0.106       0.523\n",
       "onset[T.Q]       -0.1649      0.169     -0.976      0.329      -0.496       0.166\n",
       "onset[T.S]        0.1480      0.152      0.971      0.331      -0.151       0.447\n",
       "onset[T.T]       -0.2301      0.167     -1.377      0.169      -0.558       0.097\n",
       "onset[T.U]       -1.6098      0.624     -2.581      0.010      -2.832      -0.387\n",
       "onset[T.V]       -0.2318      0.171     -1.355      0.175      -0.567       0.104\n",
       "onset[T.Z]       -1.0365      0.620     -1.672      0.095      -2.252       0.179\n",
       "onset[T._]        0.0086      0.151      0.057      0.955      -0.288       0.305\n",
       "onset[T.b]        0.1041      0.138      0.752      0.452      -0.167       0.375\n",
       "onset[T.d]       -0.2569      0.139     -1.854      0.064      -0.529       0.015\n",
       "onset[T.f]       -0.2100      0.139     -1.505      0.132      -0.483       0.063\n",
       "onset[T.g]       -0.0092      0.142     -0.065      0.948      -0.288       0.270\n",
       "onset[T.h]       -0.0719      0.142     -0.508      0.611      -0.349       0.205\n",
       "onset[T.i]       -0.4839      0.226     -2.137      0.033      -0.928      -0.040\n",
       "onset[T.j]       -0.1578      0.170     -0.926      0.354      -0.492       0.176\n",
       "onset[T.k]        0.0513      0.137      0.376      0.707      -0.217       0.319\n",
       "onset[T.l]       -0.0489      0.142     -0.343      0.731      -0.328       0.230\n",
       "onset[T.m]       -0.0456      0.139     -0.328      0.743      -0.318       0.227\n",
       "onset[T.n]       -0.2427      0.147     -1.650      0.099      -0.531       0.046\n",
       "onset[T.p]       -0.0576      0.137     -0.420      0.675      -0.327       0.211\n",
       "onset[T.q]        0.0942      0.622      0.152      0.880      -1.124       1.313\n",
       "onset[T.r]       -0.2854      0.139     -2.055      0.040      -0.558      -0.013\n",
       "onset[T.s]        0.0157      0.136      0.115      0.908      -0.251       0.282\n",
       "onset[T.t]        0.0279      0.139      0.200      0.841      -0.245       0.301\n",
       "onset[T.u]       -0.1101      0.867     -0.127      0.899      -1.809       1.589\n",
       "onset[T.v]       -0.1296      0.149     -0.871      0.384      -0.421       0.162\n",
       "onset[T.w]       -0.1330      0.146     -0.910      0.363      -0.419       0.154\n",
       "onset[T.z]       -0.4548      0.215     -2.117      0.034      -0.876      -0.034\n",
       "onset[T.{]       -0.1838      0.147     -1.252      0.211      -0.472       0.104\n",
       "Class[T.ADV]     -0.3875      0.092     -4.197      0.000      -0.568      -0.206\n",
       "Class[T.ART]     -1.4761      0.613     -2.410      0.016      -2.677      -0.275\n",
       "Class[T.C]       -0.7665      0.249     -3.074      0.002      -1.255      -0.278\n",
       "Class[T.I]       -0.2267      0.145     -1.566      0.117      -0.510       0.057\n",
       "Class[T.N]        1.0139      0.026     39.028      0.000       0.963       1.065\n",
       "Class[T.PREP]    -0.6087      0.167     -3.645      0.000      -0.936      -0.281\n",
       "Class[T.PRON]    -0.1527      0.168     -0.910      0.363      -0.481       0.176\n",
       "Class[T.V]        0.1901      0.034      5.564      0.000       0.123       0.257\n",
       "word_length      -0.1000      0.005    -20.445      0.000      -0.110      -0.090\n",
       "CobLog           -0.0239      0.013     -1.777      0.076      -0.050       0.002\n",
       "==============================================================================\n",
       "Omnibus:                      363.985   Durbin-Watson:                   1.751\n",
       "Prob(Omnibus):                  0.000   Jarque-Bera (JB):              249.981\n",
       "Skew:                          -0.283   Prob(JB):                     5.22e-55\n",
       "Kurtosis:                       2.451   Cond. No.                         649.\n",
       "==============================================================================\n",
       "\n",
       "Warnings:\n",
       "[1] Standard Errors assume that the covariance matrix of the errors is correctly specified.\n",
       "\"\"\""
      ]
     },
     "execution_count": 15,
     "metadata": {},
     "output_type": "execute_result"
    }
   ],
   "source": [
    "result = sm.ols(formula=\"Concreteness ~ onset + word_length + Class + CobLog\", data=df_merged_no_th).fit()\n",
    "result.summary()"
   ]
  },
  {
   "cell_type": "code",
   "execution_count": 16,
   "metadata": {},
   "outputs": [
    {
     "name": "stderr",
     "output_type": "stream",
     "text": [
      "100%|██████████| 100/100 [00:12<00:00,  9.04it/s]\n"
     ]
    }
   ],
   "source": [
    "### Shuffling\n",
    "shuffled_rsquares = []\n",
    "true_rsquare = result.rsquared\n",
    "\n",
    "NUM_SHUFFLES = 100\n",
    "\n",
    "for shuffle in tqdm(range(NUM_SHUFFLES)):\n",
    "    new_df = df_merged_no_th.copy()\n",
    "    new_df['shuffled_onset'] = np.random.permutation(new_df['onset'])\n",
    "    new_result = sm.ols(formula=\"Concreteness ~ shuffled_onset + word_length + Class + CobLog\", data=new_df).fit()\n",
    "    shuffled_rsquares.append(new_result.rsquared)"
   ]
  },
  {
   "cell_type": "code",
   "execution_count": 17,
   "metadata": {},
   "outputs": [
    {
     "name": "stdout",
     "output_type": "stream",
     "text": [
      "0.2864870936464511\n",
      "0.0006135023575607945\n"
     ]
    }
   ],
   "source": [
    "shuffled_rsquares_np = np.array(shuffled_rsquares)\n",
    "print(np.mean(shuffled_rsquares_np))\n",
    "print(np.std(shuffled_rsquares_np))"
   ]
  },
  {
   "cell_type": "code",
   "execution_count": 18,
   "metadata": {},
   "outputs": [
    {
     "data": {
      "text/plain": [
       "Text(0.5, 1.0, 'Supplementary analysis 1b: real R^2 vs. random shuffles')"
      ]
     },
     "execution_count": 18,
     "metadata": {},
     "output_type": "execute_result"
    },
    {
     "data": {
      "image/png": "[encoded data removed]",
      "text/plain": [
       "<Figure size 432x288 with 1 Axes>"
      ]
     },
     "metadata": {
      "image/png": {
       "height": 277,
       "width": 374
      },
      "needs_background": "light"
     },
     "output_type": "display_data"
    }
   ],
   "source": [
    "plt.hist(shuffled_rsquares)\n",
    "plt.axvline(x=true_rsquare, linestyle=\"dotted\")\n",
    "plt.xlabel(\"Distribution of R^2 values\")\n",
    "plt.title(\"Supplementary analysis 1b: real R^2 vs. random shuffles\")"
   ]
  },
  {
   "cell_type": "markdown",
   "metadata": {},
   "source": [
    "## Analysis 2: Concreteness impact ~ onset\n",
    "\n",
    "In our second analysis, we attempt to control for the rest of the word in a different way. We first identify all of the minimal sets in the lexicon differing only by the first sound, e.g., {hug, bug, ...}. For each set, we calculate the **mean concreteness**. We then define the **concreteness impact** of each onset phone differentiating the words in the set as the difference between the word beginning with that onset and the mean concreteness, e.g.,:\n",
    "\n",
    "**Impact(h) = C(hug) - mean(C(hug, C(bug)...)**\n",
    "\n",
    "We repeat this for each minimal set, such that any given onset phone has a distribution of associated **concreteness impact scores**. As above, we then regress impact against **onset phone**. "
   ]
  },
  {
   "cell_type": "markdown",
   "metadata": {},
   "source": [
    "### Get minimal pairs"
   ]
  },
  {
   "cell_type": "code",
   "execution_count": 19,
   "metadata": {},
   "outputs": [],
   "source": [
    "df_merged['coda'] = df_merged['PhonDISC'].apply(lambda x: x[1:])"
   ]
  },
  {
   "cell_type": "code",
   "execution_count": 23,
   "metadata": {},
   "outputs": [
    {
     "data": {
      "text/html": [
       "<div>\n",
       "<style scoped>\n",
       "    .dataframe tbody tr th:only-of-type {\n",
       "        vertical-align: middle;\n",
       "    }\n",
       "\n",
       "    .dataframe tbody tr th {\n",
       "        vertical-align: top;\n",
       "    }\n",
       "\n",
       "    .dataframe thead th {\n",
       "        text-align: right;\n",
       "    }\n",
       "</style>\n",
       "<table border=\"1\" class=\"dataframe\">\n",
       "  <thead>\n",
       "    <tr style=\"text-align: right;\">\n",
       "      <th></th>\n",
       "      <th>coda</th>\n",
       "      <th>set_mean</th>\n",
       "    </tr>\n",
       "  </thead>\n",
       "  <tbody>\n",
       "    <tr>\n",
       "      <th>0</th>\n",
       "      <td></td>\n",
       "      <td>2.432500</td>\n",
       "    </tr>\n",
       "    <tr>\n",
       "      <th>1</th>\n",
       "      <td>#</td>\n",
       "      <td>3.590000</td>\n",
       "    </tr>\n",
       "    <tr>\n",
       "      <th>2</th>\n",
       "      <td>#D@R</td>\n",
       "      <td>3.256667</td>\n",
       "    </tr>\n",
       "    <tr>\n",
       "      <th>3</th>\n",
       "      <td>#J</td>\n",
       "      <td>3.690000</td>\n",
       "    </tr>\n",
       "    <tr>\n",
       "      <th>4</th>\n",
       "      <td>#R</td>\n",
       "      <td>4.064286</td>\n",
       "    </tr>\n",
       "  </tbody>\n",
       "</table>\n",
       "</div>"
      ],
      "text/plain": [
       "   coda  set_mean\n",
       "0        2.432500\n",
       "1     #  3.590000\n",
       "2  #D@R  3.256667\n",
       "3    #J  3.690000\n",
       "4    #R  4.064286"
      ]
     },
     "execution_count": 23,
     "metadata": {},
     "output_type": "execute_result"
    }
   ],
   "source": [
    "df_coda_means = df_merged.groupby('coda', as_index=False).mean()[['coda', 'Concreteness']]\n",
    "df_coda_means['set_mean'] = df_coda_means['Concreteness']\n",
    "df_coda_means = df_coda_means[['coda', 'set_mean']]\n",
    "df_coda_means.head(5)"
   ]
  },
  {
   "cell_type": "code",
   "execution_count": 50,
   "metadata": {},
   "outputs": [],
   "source": [
    "df_set_sizes = df_merged.groupby('coda', as_index=False).size()"
   ]
  },
  {
   "cell_type": "code",
   "execution_count": 25,
   "metadata": {},
   "outputs": [
    {
     "data": {
      "text/plain": [
       "9659"
      ]
     },
     "execution_count": 25,
     "metadata": {},
     "output_type": "execute_result"
    }
   ],
   "source": [
    "df_joined = pd.merge(df_coda_means, df_merged, on = \"coda\")\n",
    "len(df_joined)"
   ]
  },
  {
   "cell_type": "code",
   "execution_count": 51,
   "metadata": {},
   "outputs": [],
   "source": [
    "df_joined['set_size'] = df_joined['coda'].apply(lambda x: df_set_sizes[x])"
   ]
  },
  {
   "cell_type": "code",
   "execution_count": 73,
   "metadata": {},
   "outputs": [
    {
     "data": {
      "text/plain": [
       "3260"
      ]
     },
     "execution_count": 73,
     "metadata": {},
     "output_type": "execute_result"
    }
   ],
   "source": [
    "df_joined = df_joined[df_joined['set_size']>1]\n",
    "len(df_joined)"
   ]
  },
  {
   "cell_type": "code",
   "execution_count": 74,
   "metadata": {},
   "outputs": [],
   "source": [
    "df_joined['concreteness_impact'] = df_joined['Concreteness'] - df_joined['set_mean']"
   ]
  },
  {
   "cell_type": "code",
   "execution_count": 75,
   "metadata": {},
   "outputs": [],
   "source": [
    "df_joined.to_csv(\"data/processed/brysbaert_concreteness_impacts.csv\")"
   ]
  },
  {
   "cell_type": "markdown",
   "metadata": {},
   "source": [
    "### Characterization"
   ]
  },
  {
   "cell_type": "code",
   "execution_count": 76,
   "metadata": {},
   "outputs": [],
   "source": [
    "df_final = pd.read_csv(\"data/processed/brysbaert_concreteness_impacts.csv\")"
   ]
  },
  {
   "cell_type": "code",
   "execution_count": 77,
   "metadata": {},
   "outputs": [
    {
     "data": {
      "text/plain": [
       "3260"
      ]
     },
     "execution_count": 77,
     "metadata": {},
     "output_type": "execute_result"
    }
   ],
   "source": [
    "len(df_final)"
   ]
  },
  {
   "cell_type": "code",
   "execution_count": 78,
   "metadata": {},
   "outputs": [
    {
     "data": {
      "text/plain": [
       "Text(0, 0.5, 'Count')"
      ]
     },
     "execution_count": 78,
     "metadata": {},
     "output_type": "execute_result"
    },
    {
     "data": {
      "image/png": "[encoded data removed]",
      "text/plain": [
       "<Figure size 432x288 with 1 Axes>"
      ]
     },
     "metadata": {
      "image/png": {
       "height": 277,
       "width": 390
      },
      "needs_background": "light"
     },
     "output_type": "display_data"
    }
   ],
   "source": [
    "plt.hist(df_final['concreteness_impact'])\n",
    "plt.title(\"Distribution of concreteness impact scores\")\n",
    "plt.xlabel(\"Concreteness impact score\")\n",
    "plt.ylabel(\"Count\")"
   ]
  },
  {
   "cell_type": "code",
   "execution_count": 79,
   "metadata": {},
   "outputs": [
    {
     "name": "stdout",
     "output_type": "stream",
     "text": [
      "Skew: -0.29731302496110246\n",
      "Mean: 1.975243418044757e-18\n",
      "SD: 0.7886488449959401\n"
     ]
    }
   ],
   "source": [
    "print(\"Skew: {s}\".format(s=ss.stats.skew(df_final['concreteness_impact'])))\n",
    "print(\"Mean: {m}\".format(m=np.mean(df_final['concreteness_impact'])))\n",
    "print(\"SD: {sd}\".format(sd=np.std(df_final['concreteness_impact'])))"
   ]
  },
  {
   "cell_type": "markdown",
   "metadata": {},
   "source": [
    "### Characterization\n",
    "\n",
    "Now, we do a similar analysis as before, but predicting the **impact** on concreteness."
   ]
  },
  {
   "cell_type": "code",
   "execution_count": 80,
   "metadata": {},
   "outputs": [
    {
     "data": {
      "text/html": [
       "<table class=\"simpletable\">\n",
       "<caption>OLS Regression Results</caption>\n",
       "<tr>\n",
       "  <th>Dep. Variable:</th>    <td>concreteness_impact</td> <th>  R-squared:         </th> <td>   0.043</td>\n",
       "</tr>\n",
       "<tr>\n",
       "  <th>Model:</th>                    <td>OLS</td>         <th>  Adj. R-squared:    </th> <td>   0.031</td>\n",
       "</tr>\n",
       "<tr>\n",
       "  <th>Method:</th>              <td>Least Squares</td>    <th>  F-statistic:       </th> <td>   3.444</td>\n",
       "</tr>\n",
       "<tr>\n",
       "  <th>Date:</th>              <td>Sat, 18 Jan 2020</td>   <th>  Prob (F-statistic):</th> <td>7.76e-13</td>\n",
       "</tr>\n",
       "<tr>\n",
       "  <th>Time:</th>                  <td>15:36:04</td>       <th>  Log-Likelihood:    </th> <td> -3780.0</td>\n",
       "</tr>\n",
       "<tr>\n",
       "  <th>No. Observations:</th>       <td>  3260</td>        <th>  AIC:               </th> <td>   7646.</td>\n",
       "</tr>\n",
       "<tr>\n",
       "  <th>Df Residuals:</th>           <td>  3217</td>        <th>  BIC:               </th> <td>   7908.</td>\n",
       "</tr>\n",
       "<tr>\n",
       "  <th>Df Model:</th>               <td>    42</td>        <th>                     </th>     <td> </td>   \n",
       "</tr>\n",
       "<tr>\n",
       "  <th>Covariance Type:</th>       <td>nonrobust</td>      <th>                     </th>     <td> </td>   \n",
       "</tr>\n",
       "</table>\n",
       "<table class=\"simpletable\">\n",
       "<tr>\n",
       "       <td></td>          <th>coef</th>     <th>std err</th>      <th>t</th>      <th>P>|t|</th>  <th>[0.025</th>    <th>0.975]</th>  \n",
       "</tr>\n",
       "<tr>\n",
       "  <th>Intercept</th>   <td>    0.2973</td> <td>    0.294</td> <td>    1.010</td> <td> 0.313</td> <td>   -0.280</td> <td>    0.874</td>\n",
       "</tr>\n",
       "<tr>\n",
       "  <th>onset[T.$]</th>  <td>   -0.2779</td> <td>    0.336</td> <td>   -0.826</td> <td> 0.409</td> <td>   -0.938</td> <td>    0.382</td>\n",
       "</tr>\n",
       "<tr>\n",
       "  <th>onset[T.1]</th>  <td>   -0.1991</td> <td>    0.354</td> <td>   -0.562</td> <td> 0.574</td> <td>   -0.894</td> <td>    0.496</td>\n",
       "</tr>\n",
       "<tr>\n",
       "  <th>onset[T.2]</th>  <td>    0.2501</td> <td>    0.369</td> <td>    0.679</td> <td> 0.497</td> <td>   -0.473</td> <td>    0.973</td>\n",
       "</tr>\n",
       "<tr>\n",
       "  <th>onset[T.3]</th>  <td>   -0.6107</td> <td>    0.388</td> <td>   -1.572</td> <td> 0.116</td> <td>   -1.372</td> <td>    0.151</td>\n",
       "</tr>\n",
       "<tr>\n",
       "  <th>onset[T.4]</th>  <td>    0.1436</td> <td>    0.526</td> <td>    0.273</td> <td> 0.785</td> <td>   -0.887</td> <td>    1.175</td>\n",
       "</tr>\n",
       "<tr>\n",
       "  <th>onset[T.5]</th>  <td>   -0.0780</td> <td>    0.325</td> <td>   -0.240</td> <td> 0.810</td> <td>   -0.715</td> <td>    0.559</td>\n",
       "</tr>\n",
       "<tr>\n",
       "  <th>onset[T.6]</th>  <td>   -0.2524</td> <td>    0.476</td> <td>   -0.531</td> <td> 0.596</td> <td>   -1.185</td> <td>    0.680</td>\n",
       "</tr>\n",
       "<tr>\n",
       "  <th>onset[T.7]</th>  <td>    0.2257</td> <td>    0.614</td> <td>    0.368</td> <td> 0.713</td> <td>   -0.978</td> <td>    1.430</td>\n",
       "</tr>\n",
       "<tr>\n",
       "  <th>onset[T.8]</th>  <td>   -0.0906</td> <td>    0.614</td> <td>   -0.148</td> <td> 0.883</td> <td>   -1.295</td> <td>    1.113</td>\n",
       "</tr>\n",
       "<tr>\n",
       "  <th>onset[T.@]</th>  <td>   -0.8110</td> <td>    0.316</td> <td>   -2.563</td> <td> 0.010</td> <td>   -1.431</td> <td>   -0.191</td>\n",
       "</tr>\n",
       "<tr>\n",
       "  <th>onset[T.D]</th>  <td>   -1.6326</td> <td>    0.337</td> <td>   -4.842</td> <td> 0.000</td> <td>   -2.294</td> <td>   -0.971</td>\n",
       "</tr>\n",
       "<tr>\n",
       "  <th>onset[T.E]</th>  <td>   -0.2092</td> <td>    0.361</td> <td>   -0.579</td> <td> 0.563</td> <td>   -0.918</td> <td>    0.499</td>\n",
       "</tr>\n",
       "<tr>\n",
       "  <th>onset[T.I]</th>  <td>   -0.5775</td> <td>    0.322</td> <td>   -1.795</td> <td> 0.073</td> <td>   -1.208</td> <td>    0.053</td>\n",
       "</tr>\n",
       "<tr>\n",
       "  <th>onset[T.J]</th>  <td>   -0.0559</td> <td>    0.292</td> <td>   -0.191</td> <td> 0.848</td> <td>   -0.629</td> <td>    0.517</td>\n",
       "</tr>\n",
       "<tr>\n",
       "  <th>onset[T.Q]</th>  <td>   -0.0919</td> <td>    0.369</td> <td>   -0.249</td> <td> 0.803</td> <td>   -0.815</td> <td>    0.631</td>\n",
       "</tr>\n",
       "<tr>\n",
       "  <th>onset[T.S]</th>  <td>    0.0008</td> <td>    0.287</td> <td>    0.003</td> <td> 0.998</td> <td>   -0.562</td> <td>    0.564</td>\n",
       "</tr>\n",
       "<tr>\n",
       "  <th>onset[T.T]</th>  <td>   -0.3034</td> <td>    0.301</td> <td>   -1.009</td> <td> 0.313</td> <td>   -0.893</td> <td>    0.286</td>\n",
       "</tr>\n",
       "<tr>\n",
       "  <th>onset[T.V]</th>  <td>   -0.0962</td> <td>    0.378</td> <td>   -0.254</td> <td> 0.799</td> <td>   -0.837</td> <td>    0.645</td>\n",
       "</tr>\n",
       "<tr>\n",
       "  <th>onset[T._]</th>  <td>   -0.1213</td> <td>    0.291</td> <td>   -0.416</td> <td> 0.677</td> <td>   -0.692</td> <td>    0.450</td>\n",
       "</tr>\n",
       "<tr>\n",
       "  <th>onset[T.b]</th>  <td>   -0.0348</td> <td>    0.280</td> <td>   -0.124</td> <td> 0.901</td> <td>   -0.583</td> <td>    0.514</td>\n",
       "</tr>\n",
       "<tr>\n",
       "  <th>onset[T.d]</th>  <td>   -0.2060</td> <td>    0.282</td> <td>   -0.731</td> <td> 0.465</td> <td>   -0.759</td> <td>    0.347</td>\n",
       "</tr>\n",
       "<tr>\n",
       "  <th>onset[T.f]</th>  <td>   -0.2433</td> <td>    0.281</td> <td>   -0.865</td> <td> 0.387</td> <td>   -0.794</td> <td>    0.308</td>\n",
       "</tr>\n",
       "<tr>\n",
       "  <th>onset[T.g]</th>  <td>   -0.1276</td> <td>    0.283</td> <td>   -0.451</td> <td> 0.652</td> <td>   -0.682</td> <td>    0.427</td>\n",
       "</tr>\n",
       "<tr>\n",
       "  <th>onset[T.h]</th>  <td>   -0.2108</td> <td>    0.282</td> <td>   -0.746</td> <td> 0.455</td> <td>   -0.765</td> <td>    0.343</td>\n",
       "</tr>\n",
       "<tr>\n",
       "  <th>onset[T.i]</th>  <td>   -0.3373</td> <td>    0.355</td> <td>   -0.951</td> <td> 0.342</td> <td>   -1.032</td> <td>    0.358</td>\n",
       "</tr>\n",
       "<tr>\n",
       "  <th>onset[T.j]</th>  <td>   -0.3356</td> <td>    0.307</td> <td>   -1.092</td> <td> 0.275</td> <td>   -0.938</td> <td>    0.267</td>\n",
       "</tr>\n",
       "<tr>\n",
       "  <th>onset[T.k]</th>  <td>    0.0015</td> <td>    0.280</td> <td>    0.005</td> <td> 0.996</td> <td>   -0.548</td> <td>    0.551</td>\n",
       "</tr>\n",
       "<tr>\n",
       "  <th>onset[T.l]</th>  <td>   -0.2123</td> <td>    0.283</td> <td>   -0.751</td> <td> 0.453</td> <td>   -0.766</td> <td>    0.342</td>\n",
       "</tr>\n",
       "<tr>\n",
       "  <th>onset[T.m]</th>  <td>   -0.1974</td> <td>    0.282</td> <td>   -0.700</td> <td> 0.484</td> <td>   -0.750</td> <td>    0.355</td>\n",
       "</tr>\n",
       "<tr>\n",
       "  <th>onset[T.n]</th>  <td>   -0.3320</td> <td>    0.288</td> <td>   -1.155</td> <td> 0.248</td> <td>   -0.896</td> <td>    0.232</td>\n",
       "</tr>\n",
       "<tr>\n",
       "  <th>onset[T.p]</th>  <td>   -0.0655</td> <td>    0.280</td> <td>   -0.233</td> <td> 0.815</td> <td>   -0.615</td> <td>    0.484</td>\n",
       "</tr>\n",
       "<tr>\n",
       "  <th>onset[T.r]</th>  <td>   -0.1661</td> <td>    0.282</td> <td>   -0.590</td> <td> 0.555</td> <td>   -0.718</td> <td>    0.386</td>\n",
       "</tr>\n",
       "<tr>\n",
       "  <th>onset[T.s]</th>  <td>   -0.0926</td> <td>    0.281</td> <td>   -0.330</td> <td> 0.741</td> <td>   -0.643</td> <td>    0.458</td>\n",
       "</tr>\n",
       "<tr>\n",
       "  <th>onset[T.t]</th>  <td>   -0.0644</td> <td>    0.282</td> <td>   -0.229</td> <td> 0.819</td> <td>   -0.617</td> <td>    0.488</td>\n",
       "</tr>\n",
       "<tr>\n",
       "  <th>onset[T.u]</th>  <td>    0.6871</td> <td>    0.824</td> <td>    0.834</td> <td> 0.404</td> <td>   -0.928</td> <td>    2.302</td>\n",
       "</tr>\n",
       "<tr>\n",
       "  <th>onset[T.v]</th>  <td>   -0.2680</td> <td>    0.297</td> <td>   -0.903</td> <td> 0.367</td> <td>   -0.850</td> <td>    0.314</td>\n",
       "</tr>\n",
       "<tr>\n",
       "  <th>onset[T.w]</th>  <td>   -0.3149</td> <td>    0.284</td> <td>   -1.110</td> <td> 0.267</td> <td>   -0.871</td> <td>    0.241</td>\n",
       "</tr>\n",
       "<tr>\n",
       "  <th>onset[T.z]</th>  <td>   -0.7104</td> <td>    0.363</td> <td>   -1.959</td> <td> 0.050</td> <td>   -1.421</td> <td>    0.001</td>\n",
       "</tr>\n",
       "<tr>\n",
       "  <th>onset[T.{]</th>  <td>   -0.1195</td> <td>    0.319</td> <td>   -0.374</td> <td> 0.708</td> <td>   -0.745</td> <td>    0.506</td>\n",
       "</tr>\n",
       "<tr>\n",
       "  <th>set_mean</th>    <td>   -0.0332</td> <td>    0.024</td> <td>   -1.373</td> <td> 0.170</td> <td>   -0.081</td> <td>    0.014</td>\n",
       "</tr>\n",
       "<tr>\n",
       "  <th>word_length</th> <td>   -0.0082</td> <td>    0.016</td> <td>   -0.502</td> <td> 0.615</td> <td>   -0.040</td> <td>    0.024</td>\n",
       "</tr>\n",
       "<tr>\n",
       "  <th>set_size</th>    <td>    0.0027</td> <td>    0.005</td> <td>    0.555</td> <td> 0.579</td> <td>   -0.007</td> <td>    0.012</td>\n",
       "</tr>\n",
       "</table>\n",
       "<table class=\"simpletable\">\n",
       "<tr>\n",
       "  <th>Omnibus:</th>       <td>52.878</td> <th>  Durbin-Watson:     </th> <td>   2.486</td>\n",
       "</tr>\n",
       "<tr>\n",
       "  <th>Prob(Omnibus):</th> <td> 0.000</td> <th>  Jarque-Bera (JB):  </th> <td>  50.620</td>\n",
       "</tr>\n",
       "<tr>\n",
       "  <th>Skew:</th>          <td>-0.271</td> <th>  Prob(JB):          </th> <td>1.02e-11</td>\n",
       "</tr>\n",
       "<tr>\n",
       "  <th>Kurtosis:</th>      <td> 2.720</td> <th>  Cond. No.          </th> <td>1.01e+03</td>\n",
       "</tr>\n",
       "</table><br/><br/>Warnings:<br/>[1] Standard Errors assume that the covariance matrix of the errors is correctly specified.<br/>[2] The condition number is large, 1.01e+03. This might indicate that there are<br/>strong multicollinearity or other numerical problems."
      ],
      "text/plain": [
       "<class 'statsmodels.iolib.summary.Summary'>\n",
       "\"\"\"\n",
       "                             OLS Regression Results                            \n",
       "===============================================================================\n",
       "Dep. Variable:     concreteness_impact   R-squared:                       0.043\n",
       "Model:                             OLS   Adj. R-squared:                  0.031\n",
       "Method:                  Least Squares   F-statistic:                     3.444\n",
       "Date:                 Sat, 18 Jan 2020   Prob (F-statistic):           7.76e-13\n",
       "Time:                         15:36:04   Log-Likelihood:                -3780.0\n",
       "No. Observations:                 3260   AIC:                             7646.\n",
       "Df Residuals:                     3217   BIC:                             7908.\n",
       "Df Model:                           42                                         \n",
       "Covariance Type:             nonrobust                                         \n",
       "===============================================================================\n",
       "                  coef    std err          t      P>|t|      [0.025      0.975]\n",
       "-------------------------------------------------------------------------------\n",
       "Intercept       0.2973      0.294      1.010      0.313      -0.280       0.874\n",
       "onset[T.$]     -0.2779      0.336     -0.826      0.409      -0.938       0.382\n",
       "onset[T.1]     -0.1991      0.354     -0.562      0.574      -0.894       0.496\n",
       "onset[T.2]      0.2501      0.369      0.679      0.497      -0.473       0.973\n",
       "onset[T.3]     -0.6107      0.388     -1.572      0.116      -1.372       0.151\n",
       "onset[T.4]      0.1436      0.526      0.273      0.785      -0.887       1.175\n",
       "onset[T.5]     -0.0780      0.325     -0.240      0.810      -0.715       0.559\n",
       "onset[T.6]     -0.2524      0.476     -0.531      0.596      -1.185       0.680\n",
       "onset[T.7]      0.2257      0.614      0.368      0.713      -0.978       1.430\n",
       "onset[T.8]     -0.0906      0.614     -0.148      0.883      -1.295       1.113\n",
       "onset[T.@]     -0.8110      0.316     -2.563      0.010      -1.431      -0.191\n",
       "onset[T.D]     -1.6326      0.337     -4.842      0.000      -2.294      -0.971\n",
       "onset[T.E]     -0.2092      0.361     -0.579      0.563      -0.918       0.499\n",
       "onset[T.I]     -0.5775      0.322     -1.795      0.073      -1.208       0.053\n",
       "onset[T.J]     -0.0559      0.292     -0.191      0.848      -0.629       0.517\n",
       "onset[T.Q]     -0.0919      0.369     -0.249      0.803      -0.815       0.631\n",
       "onset[T.S]      0.0008      0.287      0.003      0.998      -0.562       0.564\n",
       "onset[T.T]     -0.3034      0.301     -1.009      0.313      -0.893       0.286\n",
       "onset[T.V]     -0.0962      0.378     -0.254      0.799      -0.837       0.645\n",
       "onset[T._]     -0.1213      0.291     -0.416      0.677      -0.692       0.450\n",
       "onset[T.b]     -0.0348      0.280     -0.124      0.901      -0.583       0.514\n",
       "onset[T.d]     -0.2060      0.282     -0.731      0.465      -0.759       0.347\n",
       "onset[T.f]     -0.2433      0.281     -0.865      0.387      -0.794       0.308\n",
       "onset[T.g]     -0.1276      0.283     -0.451      0.652      -0.682       0.427\n",
       "onset[T.h]     -0.2108      0.282     -0.746      0.455      -0.765       0.343\n",
       "onset[T.i]     -0.3373      0.355     -0.951      0.342      -1.032       0.358\n",
       "onset[T.j]     -0.3356      0.307     -1.092      0.275      -0.938       0.267\n",
       "onset[T.k]      0.0015      0.280      0.005      0.996      -0.548       0.551\n",
       "onset[T.l]     -0.2123      0.283     -0.751      0.453      -0.766       0.342\n",
       "onset[T.m]     -0.1974      0.282     -0.700      0.484      -0.750       0.355\n",
       "onset[T.n]     -0.3320      0.288     -1.155      0.248      -0.896       0.232\n",
       "onset[T.p]     -0.0655      0.280     -0.233      0.815      -0.615       0.484\n",
       "onset[T.r]     -0.1661      0.282     -0.590      0.555      -0.718       0.386\n",
       "onset[T.s]     -0.0926      0.281     -0.330      0.741      -0.643       0.458\n",
       "onset[T.t]     -0.0644      0.282     -0.229      0.819      -0.617       0.488\n",
       "onset[T.u]      0.6871      0.824      0.834      0.404      -0.928       2.302\n",
       "onset[T.v]     -0.2680      0.297     -0.903      0.367      -0.850       0.314\n",
       "onset[T.w]     -0.3149      0.284     -1.110      0.267      -0.871       0.241\n",
       "onset[T.z]     -0.7104      0.363     -1.959      0.050      -1.421       0.001\n",
       "onset[T.{]     -0.1195      0.319     -0.374      0.708      -0.745       0.506\n",
       "set_mean       -0.0332      0.024     -1.373      0.170      -0.081       0.014\n",
       "word_length    -0.0082      0.016     -0.502      0.615      -0.040       0.024\n",
       "set_size        0.0027      0.005      0.555      0.579      -0.007       0.012\n",
       "==============================================================================\n",
       "Omnibus:                       52.878   Durbin-Watson:                   2.486\n",
       "Prob(Omnibus):                  0.000   Jarque-Bera (JB):               50.620\n",
       "Skew:                          -0.271   Prob(JB):                     1.02e-11\n",
       "Kurtosis:                       2.720   Cond. No.                     1.01e+03\n",
       "==============================================================================\n",
       "\n",
       "Warnings:\n",
       "[1] Standard Errors assume that the covariance matrix of the errors is correctly specified.\n",
       "[2] The condition number is large, 1.01e+03. This might indicate that there are\n",
       "strong multicollinearity or other numerical problems.\n",
       "\"\"\""
      ]
     },
     "execution_count": 80,
     "metadata": {},
     "output_type": "execute_result"
    }
   ],
   "source": [
    "result = sm.ols(formula=\"concreteness_impact ~ onset + set_mean + word_length + set_size\", data=df_final).fit()\n",
    "result.summary()"
   ]
  },
  {
   "cell_type": "code",
   "execution_count": 81,
   "metadata": {},
   "outputs": [
    {
     "name": "stderr",
     "output_type": "stream",
     "text": [
      "100%|██████████| 100/100 [00:04<00:00, 23.32it/s]\n"
     ]
    }
   ],
   "source": [
    "### Shuffling\n",
    "shuffled_rsquares = []\n",
    "true_rsquare = result.rsquared\n",
    "\n",
    "NUM_SHUFFLES = 100\n",
    "\n",
    "for shuffle in tqdm(range(NUM_SHUFFLES)):\n",
    "    new_df = df_final.copy()\n",
    "    new_df['shuffled_onset'] = np.random.permutation(new_df['onset'])\n",
    "    new_result = sm.ols(formula=\"concreteness_impact ~ shuffled_onset + set_mean + word_length + set_size\", data=new_df).fit()\n",
    "    shuffled_rsquares.append(new_result.rsquared)"
   ]
  },
  {
   "cell_type": "code",
   "execution_count": 82,
   "metadata": {},
   "outputs": [
    {
     "name": "stdout",
     "output_type": "stream",
     "text": [
      "0.012082447227766106\n",
      "0.0027755696077780925\n"
     ]
    }
   ],
   "source": [
    "shuffled_rsquares_np = np.array(shuffled_rsquares)\n",
    "print(np.mean(shuffled_rsquares_np))\n",
    "print(np.std(shuffled_rsquares_np))"
   ]
  },
  {
   "cell_type": "code",
   "execution_count": 83,
   "metadata": {},
   "outputs": [
    {
     "data": {
      "text/plain": [
       "Text(0.5, 1.0, 'Analysis 2: real R^2 vs. random shuffles')"
      ]
     },
     "execution_count": 83,
     "metadata": {},
     "output_type": "execute_result"
    },
    {
     "data": {
      "image/png": "[encoded data removed]",
      "text/plain": [
       "<Figure size 432x288 with 1 Axes>"
      ]
     },
     "metadata": {
      "image/png": {
       "height": 277,
       "width": 380
      },
      "needs_background": "light"
     },
     "output_type": "display_data"
    }
   ],
   "source": [
    "plt.hist(shuffled_rsquares)\n",
    "plt.axvline(x=true_rsquare, linestyle=\"dotted\")\n",
    "plt.xlabel(\"Distribution of R^2 values\")\n",
    "plt.title(\"Analysis 2: real R^2 vs. random shuffles\")"
   ]
  },
  {
   "cell_type": "markdown",
   "metadata": {},
   "source": [
    "## Discussion and exploration\n",
    "\n",
    "Based on these results, it seems like:\n",
    "\n",
    "First, there is more structure in mappings between phonetic onsets and word concreteness than one would expect by chance, one we control for characteristics about the rest of the word.\n",
    "\n",
    "Second, certain onsets exhibit particularly strong effects, such as: \n",
    "- **/D/** (the onset in *they*) has a consistently *negative* impact on concreteness.\n",
    "- **/@/** (the onset in *abandon* or *abide*) has a consistently *negative* impact on concreteness.\n",
    "- **/z/** (the onset in *zeal* or *zero*) has a *negative* impact on concreteness.\n",
    "\n",
    "Other onsets show trends, but not strongly significant trends."
   ]
  },
  {
   "cell_type": "markdown",
   "metadata": {},
   "source": [
    "### Supplementary analysis (2b): omitting /D/\n",
    "\n",
    "As above, we ask whether the onset **/D/** is responsible for the variance that onset phones explain, since that covaries with function words (the, that, then, etc.). \n",
    "\n",
    "Again, we see that the real dataset exhibits more structured relationships between *onset* and *concreteness impact* than the shuffled dataset, suggesting that this relationship is not due solely to the impact of cues like /D/ that covary with grammatical class."
   ]
  },
  {
   "cell_type": "code",
   "execution_count": 84,
   "metadata": {},
   "outputs": [
    {
     "name": "stdout",
     "output_type": "stream",
     "text": [
      "Number of words left: 3244\n"
     ]
    }
   ],
   "source": [
    "df_final_no_th = df_final[df_final['onset']!=\"D\"]\n",
    "print(\"Number of words left: {num}\".format(num=len(df_final_no_th)))"
   ]
  },
  {
   "cell_type": "code",
   "execution_count": 85,
   "metadata": {},
   "outputs": [
    {
     "data": {
      "text/html": [
       "<table class=\"simpletable\">\n",
       "<caption>OLS Regression Results</caption>\n",
       "<tr>\n",
       "  <th>Dep. Variable:</th>    <td>concreteness_impact</td> <th>  R-squared:         </th> <td>   0.027</td>\n",
       "</tr>\n",
       "<tr>\n",
       "  <th>Model:</th>                    <td>OLS</td>         <th>  Adj. R-squared:    </th> <td>   0.014</td>\n",
       "</tr>\n",
       "<tr>\n",
       "  <th>Method:</th>              <td>Least Squares</td>    <th>  F-statistic:       </th> <td>   2.156</td>\n",
       "</tr>\n",
       "<tr>\n",
       "  <th>Date:</th>              <td>Sat, 18 Jan 2020</td>   <th>  Prob (F-statistic):</th> <td>3.04e-05</td>\n",
       "</tr>\n",
       "<tr>\n",
       "  <th>Time:</th>                  <td>15:36:28</td>       <th>  Log-Likelihood:    </th> <td> -3759.8</td>\n",
       "</tr>\n",
       "<tr>\n",
       "  <th>No. Observations:</th>       <td>  3244</td>        <th>  AIC:               </th> <td>   7604.</td>\n",
       "</tr>\n",
       "<tr>\n",
       "  <th>Df Residuals:</th>           <td>  3202</td>        <th>  BIC:               </th> <td>   7859.</td>\n",
       "</tr>\n",
       "<tr>\n",
       "  <th>Df Model:</th>               <td>    41</td>        <th>                     </th>     <td> </td>   \n",
       "</tr>\n",
       "<tr>\n",
       "  <th>Covariance Type:</th>       <td>nonrobust</td>      <th>                     </th>     <td> </td>   \n",
       "</tr>\n",
       "</table>\n",
       "<table class=\"simpletable\">\n",
       "<tr>\n",
       "       <td></td>          <th>coef</th>     <th>std err</th>      <th>t</th>      <th>P>|t|</th>  <th>[0.025</th>    <th>0.975]</th>  \n",
       "</tr>\n",
       "<tr>\n",
       "  <th>Intercept</th>   <td>    0.2703</td> <td>    0.294</td> <td>    0.919</td> <td> 0.358</td> <td>   -0.307</td> <td>    0.847</td>\n",
       "</tr>\n",
       "<tr>\n",
       "  <th>onset[T.$]</th>  <td>   -0.2794</td> <td>    0.336</td> <td>   -0.831</td> <td> 0.406</td> <td>   -0.939</td> <td>    0.380</td>\n",
       "</tr>\n",
       "<tr>\n",
       "  <th>onset[T.1]</th>  <td>   -0.1996</td> <td>    0.354</td> <td>   -0.563</td> <td> 0.573</td> <td>   -0.894</td> <td>    0.495</td>\n",
       "</tr>\n",
       "<tr>\n",
       "  <th>onset[T.2]</th>  <td>    0.2476</td> <td>    0.368</td> <td>    0.672</td> <td> 0.502</td> <td>   -0.475</td> <td>    0.970</td>\n",
       "</tr>\n",
       "<tr>\n",
       "  <th>onset[T.3]</th>  <td>   -0.6099</td> <td>    0.388</td> <td>   -1.571</td> <td> 0.116</td> <td>   -1.371</td> <td>    0.151</td>\n",
       "</tr>\n",
       "<tr>\n",
       "  <th>onset[T.4]</th>  <td>    0.1419</td> <td>    0.525</td> <td>    0.270</td> <td> 0.787</td> <td>   -0.888</td> <td>    1.172</td>\n",
       "</tr>\n",
       "<tr>\n",
       "  <th>onset[T.5]</th>  <td>   -0.0771</td> <td>    0.325</td> <td>   -0.237</td> <td> 0.812</td> <td>   -0.714</td> <td>    0.560</td>\n",
       "</tr>\n",
       "<tr>\n",
       "  <th>onset[T.6]</th>  <td>   -0.2528</td> <td>    0.475</td> <td>   -0.532</td> <td> 0.595</td> <td>   -1.185</td> <td>    0.679</td>\n",
       "</tr>\n",
       "<tr>\n",
       "  <th>onset[T.7]</th>  <td>    0.2279</td> <td>    0.614</td> <td>    0.371</td> <td> 0.710</td> <td>   -0.975</td> <td>    1.431</td>\n",
       "</tr>\n",
       "<tr>\n",
       "  <th>onset[T.8]</th>  <td>   -0.0902</td> <td>    0.614</td> <td>   -0.147</td> <td> 0.883</td> <td>   -1.293</td> <td>    1.113</td>\n",
       "</tr>\n",
       "<tr>\n",
       "  <th>onset[T.@]</th>  <td>   -0.8126</td> <td>    0.316</td> <td>   -2.570</td> <td> 0.010</td> <td>   -1.433</td> <td>   -0.193</td>\n",
       "</tr>\n",
       "<tr>\n",
       "  <th>onset[T.E]</th>  <td>   -0.2098</td> <td>    0.361</td> <td>   -0.581</td> <td> 0.561</td> <td>   -0.918</td> <td>    0.498</td>\n",
       "</tr>\n",
       "<tr>\n",
       "  <th>onset[T.I]</th>  <td>   -0.5792</td> <td>    0.321</td> <td>   -1.802</td> <td> 0.072</td> <td>   -1.210</td> <td>    0.051</td>\n",
       "</tr>\n",
       "<tr>\n",
       "  <th>onset[T.J]</th>  <td>   -0.0623</td> <td>    0.292</td> <td>   -0.213</td> <td> 0.831</td> <td>   -0.635</td> <td>    0.511</td>\n",
       "</tr>\n",
       "<tr>\n",
       "  <th>onset[T.Q]</th>  <td>   -0.0913</td> <td>    0.369</td> <td>   -0.248</td> <td> 0.804</td> <td>   -0.814</td> <td>    0.631</td>\n",
       "</tr>\n",
       "<tr>\n",
       "  <th>onset[T.S]</th>  <td>   -0.0056</td> <td>    0.287</td> <td>   -0.019</td> <td> 0.984</td> <td>   -0.568</td> <td>    0.557</td>\n",
       "</tr>\n",
       "<tr>\n",
       "  <th>onset[T.T]</th>  <td>   -0.3087</td> <td>    0.300</td> <td>   -1.028</td> <td> 0.304</td> <td>   -0.898</td> <td>    0.280</td>\n",
       "</tr>\n",
       "<tr>\n",
       "  <th>onset[T.V]</th>  <td>   -0.0996</td> <td>    0.378</td> <td>   -0.264</td> <td> 0.792</td> <td>   -0.840</td> <td>    0.641</td>\n",
       "</tr>\n",
       "<tr>\n",
       "  <th>onset[T._]</th>  <td>   -0.1274</td> <td>    0.291</td> <td>   -0.437</td> <td> 0.662</td> <td>   -0.698</td> <td>    0.443</td>\n",
       "</tr>\n",
       "<tr>\n",
       "  <th>onset[T.b]</th>  <td>   -0.0403</td> <td>    0.280</td> <td>   -0.144</td> <td> 0.885</td> <td>   -0.589</td> <td>    0.508</td>\n",
       "</tr>\n",
       "<tr>\n",
       "  <th>onset[T.d]</th>  <td>   -0.2115</td> <td>    0.282</td> <td>   -0.751</td> <td> 0.453</td> <td>   -0.764</td> <td>    0.341</td>\n",
       "</tr>\n",
       "<tr>\n",
       "  <th>onset[T.f]</th>  <td>   -0.2486</td> <td>    0.281</td> <td>   -0.885</td> <td> 0.376</td> <td>   -0.799</td> <td>    0.302</td>\n",
       "</tr>\n",
       "<tr>\n",
       "  <th>onset[T.g]</th>  <td>   -0.1325</td> <td>    0.283</td> <td>   -0.469</td> <td> 0.639</td> <td>   -0.687</td> <td>    0.422</td>\n",
       "</tr>\n",
       "<tr>\n",
       "  <th>onset[T.h]</th>  <td>   -0.2165</td> <td>    0.282</td> <td>   -0.767</td> <td> 0.443</td> <td>   -0.770</td> <td>    0.337</td>\n",
       "</tr>\n",
       "<tr>\n",
       "  <th>onset[T.i]</th>  <td>   -0.3370</td> <td>    0.354</td> <td>   -0.951</td> <td> 0.342</td> <td>   -1.032</td> <td>    0.358</td>\n",
       "</tr>\n",
       "<tr>\n",
       "  <th>onset[T.j]</th>  <td>   -0.3419</td> <td>    0.307</td> <td>   -1.113</td> <td> 0.266</td> <td>   -0.944</td> <td>    0.260</td>\n",
       "</tr>\n",
       "<tr>\n",
       "  <th>onset[T.k]</th>  <td>   -0.0045</td> <td>    0.280</td> <td>   -0.016</td> <td> 0.987</td> <td>   -0.554</td> <td>    0.545</td>\n",
       "</tr>\n",
       "<tr>\n",
       "  <th>onset[T.l]</th>  <td>   -0.2179</td> <td>    0.282</td> <td>   -0.771</td> <td> 0.440</td> <td>   -0.772</td> <td>    0.336</td>\n",
       "</tr>\n",
       "<tr>\n",
       "  <th>onset[T.m]</th>  <td>   -0.2037</td> <td>    0.282</td> <td>   -0.723</td> <td> 0.470</td> <td>   -0.756</td> <td>    0.349</td>\n",
       "</tr>\n",
       "<tr>\n",
       "  <th>onset[T.n]</th>  <td>   -0.3383</td> <td>    0.287</td> <td>   -1.177</td> <td> 0.239</td> <td>   -0.902</td> <td>    0.225</td>\n",
       "</tr>\n",
       "<tr>\n",
       "  <th>onset[T.p]</th>  <td>   -0.0711</td> <td>    0.280</td> <td>   -0.254</td> <td> 0.800</td> <td>   -0.621</td> <td>    0.478</td>\n",
       "</tr>\n",
       "<tr>\n",
       "  <th>onset[T.r]</th>  <td>   -0.1713</td> <td>    0.281</td> <td>   -0.609</td> <td> 0.543</td> <td>   -0.723</td> <td>    0.381</td>\n",
       "</tr>\n",
       "<tr>\n",
       "  <th>onset[T.s]</th>  <td>   -0.0979</td> <td>    0.280</td> <td>   -0.349</td> <td> 0.727</td> <td>   -0.648</td> <td>    0.452</td>\n",
       "</tr>\n",
       "<tr>\n",
       "  <th>onset[T.t]</th>  <td>   -0.0703</td> <td>    0.281</td> <td>   -0.250</td> <td> 0.803</td> <td>   -0.622</td> <td>    0.482</td>\n",
       "</tr>\n",
       "<tr>\n",
       "  <th>onset[T.u]</th>  <td>    0.6902</td> <td>    0.823</td> <td>    0.838</td> <td> 0.402</td> <td>   -0.924</td> <td>    2.305</td>\n",
       "</tr>\n",
       "<tr>\n",
       "  <th>onset[T.v]</th>  <td>   -0.2739</td> <td>    0.297</td> <td>   -0.923</td> <td> 0.356</td> <td>   -0.856</td> <td>    0.308</td>\n",
       "</tr>\n",
       "<tr>\n",
       "  <th>onset[T.w]</th>  <td>   -0.3204</td> <td>    0.283</td> <td>   -1.130</td> <td> 0.258</td> <td>   -0.876</td> <td>    0.235</td>\n",
       "</tr>\n",
       "<tr>\n",
       "  <th>onset[T.z]</th>  <td>   -0.7180</td> <td>    0.362</td> <td>   -1.981</td> <td> 0.048</td> <td>   -1.428</td> <td>   -0.007</td>\n",
       "</tr>\n",
       "<tr>\n",
       "  <th>onset[T.{]</th>  <td>   -0.1219</td> <td>    0.319</td> <td>   -0.382</td> <td> 0.702</td> <td>   -0.747</td> <td>    0.503</td>\n",
       "</tr>\n",
       "<tr>\n",
       "  <th>set_mean</th>    <td>   -0.0285</td> <td>    0.024</td> <td>   -1.178</td> <td> 0.239</td> <td>   -0.076</td> <td>    0.019</td>\n",
       "</tr>\n",
       "<tr>\n",
       "  <th>word_length</th> <td>   -0.0054</td> <td>    0.016</td> <td>   -0.330</td> <td> 0.742</td> <td>   -0.038</td> <td>    0.027</td>\n",
       "</tr>\n",
       "<tr>\n",
       "  <th>set_size</th>    <td>    0.0036</td> <td>    0.005</td> <td>    0.735</td> <td> 0.463</td> <td>   -0.006</td> <td>    0.013</td>\n",
       "</tr>\n",
       "</table>\n",
       "<table class=\"simpletable\">\n",
       "<tr>\n",
       "  <th>Omnibus:</th>       <td>54.199</td> <th>  Durbin-Watson:     </th> <td>   2.482</td>\n",
       "</tr>\n",
       "<tr>\n",
       "  <th>Prob(Omnibus):</th> <td> 0.000</td> <th>  Jarque-Bera (JB):  </th> <td>  51.954</td>\n",
       "</tr>\n",
       "<tr>\n",
       "  <th>Skew:</th>          <td>-0.276</td> <th>  Prob(JB):          </th> <td>5.23e-12</td>\n",
       "</tr>\n",
       "<tr>\n",
       "  <th>Kurtosis:</th>      <td> 2.718</td> <th>  Cond. No.          </th> <td>    990.</td>\n",
       "</tr>\n",
       "</table><br/><br/>Warnings:<br/>[1] Standard Errors assume that the covariance matrix of the errors is correctly specified."
      ],
      "text/plain": [
       "<class 'statsmodels.iolib.summary.Summary'>\n",
       "\"\"\"\n",
       "                             OLS Regression Results                            \n",
       "===============================================================================\n",
       "Dep. Variable:     concreteness_impact   R-squared:                       0.027\n",
       "Model:                             OLS   Adj. R-squared:                  0.014\n",
       "Method:                  Least Squares   F-statistic:                     2.156\n",
       "Date:                 Sat, 18 Jan 2020   Prob (F-statistic):           3.04e-05\n",
       "Time:                         15:36:28   Log-Likelihood:                -3759.8\n",
       "No. Observations:                 3244   AIC:                             7604.\n",
       "Df Residuals:                     3202   BIC:                             7859.\n",
       "Df Model:                           41                                         \n",
       "Covariance Type:             nonrobust                                         \n",
       "===============================================================================\n",
       "                  coef    std err          t      P>|t|      [0.025      0.975]\n",
       "-------------------------------------------------------------------------------\n",
       "Intercept       0.2703      0.294      0.919      0.358      -0.307       0.847\n",
       "onset[T.$]     -0.2794      0.336     -0.831      0.406      -0.939       0.380\n",
       "onset[T.1]     -0.1996      0.354     -0.563      0.573      -0.894       0.495\n",
       "onset[T.2]      0.2476      0.368      0.672      0.502      -0.475       0.970\n",
       "onset[T.3]     -0.6099      0.388     -1.571      0.116      -1.371       0.151\n",
       "onset[T.4]      0.1419      0.525      0.270      0.787      -0.888       1.172\n",
       "onset[T.5]     -0.0771      0.325     -0.237      0.812      -0.714       0.560\n",
       "onset[T.6]     -0.2528      0.475     -0.532      0.595      -1.185       0.679\n",
       "onset[T.7]      0.2279      0.614      0.371      0.710      -0.975       1.431\n",
       "onset[T.8]     -0.0902      0.614     -0.147      0.883      -1.293       1.113\n",
       "onset[T.@]     -0.8126      0.316     -2.570      0.010      -1.433      -0.193\n",
       "onset[T.E]     -0.2098      0.361     -0.581      0.561      -0.918       0.498\n",
       "onset[T.I]     -0.5792      0.321     -1.802      0.072      -1.210       0.051\n",
       "onset[T.J]     -0.0623      0.292     -0.213      0.831      -0.635       0.511\n",
       "onset[T.Q]     -0.0913      0.369     -0.248      0.804      -0.814       0.631\n",
       "onset[T.S]     -0.0056      0.287     -0.019      0.984      -0.568       0.557\n",
       "onset[T.T]     -0.3087      0.300     -1.028      0.304      -0.898       0.280\n",
       "onset[T.V]     -0.0996      0.378     -0.264      0.792      -0.840       0.641\n",
       "onset[T._]     -0.1274      0.291     -0.437      0.662      -0.698       0.443\n",
       "onset[T.b]     -0.0403      0.280     -0.144      0.885      -0.589       0.508\n",
       "onset[T.d]     -0.2115      0.282     -0.751      0.453      -0.764       0.341\n",
       "onset[T.f]     -0.2486      0.281     -0.885      0.376      -0.799       0.302\n",
       "onset[T.g]     -0.1325      0.283     -0.469      0.639      -0.687       0.422\n",
       "onset[T.h]     -0.2165      0.282     -0.767      0.443      -0.770       0.337\n",
       "onset[T.i]     -0.3370      0.354     -0.951      0.342      -1.032       0.358\n",
       "onset[T.j]     -0.3419      0.307     -1.113      0.266      -0.944       0.260\n",
       "onset[T.k]     -0.0045      0.280     -0.016      0.987      -0.554       0.545\n",
       "onset[T.l]     -0.2179      0.282     -0.771      0.440      -0.772       0.336\n",
       "onset[T.m]     -0.2037      0.282     -0.723      0.470      -0.756       0.349\n",
       "onset[T.n]     -0.3383      0.287     -1.177      0.239      -0.902       0.225\n",
       "onset[T.p]     -0.0711      0.280     -0.254      0.800      -0.621       0.478\n",
       "onset[T.r]     -0.1713      0.281     -0.609      0.543      -0.723       0.381\n",
       "onset[T.s]     -0.0979      0.280     -0.349      0.727      -0.648       0.452\n",
       "onset[T.t]     -0.0703      0.281     -0.250      0.803      -0.622       0.482\n",
       "onset[T.u]      0.6902      0.823      0.838      0.402      -0.924       2.305\n",
       "onset[T.v]     -0.2739      0.297     -0.923      0.356      -0.856       0.308\n",
       "onset[T.w]     -0.3204      0.283     -1.130      0.258      -0.876       0.235\n",
       "onset[T.z]     -0.7180      0.362     -1.981      0.048      -1.428      -0.007\n",
       "onset[T.{]     -0.1219      0.319     -0.382      0.702      -0.747       0.503\n",
       "set_mean       -0.0285      0.024     -1.178      0.239      -0.076       0.019\n",
       "word_length    -0.0054      0.016     -0.330      0.742      -0.038       0.027\n",
       "set_size        0.0036      0.005      0.735      0.463      -0.006       0.013\n",
       "==============================================================================\n",
       "Omnibus:                       54.199   Durbin-Watson:                   2.482\n",
       "Prob(Omnibus):                  0.000   Jarque-Bera (JB):               51.954\n",
       "Skew:                          -0.276   Prob(JB):                     5.23e-12\n",
       "Kurtosis:                       2.718   Cond. No.                         990.\n",
       "==============================================================================\n",
       "\n",
       "Warnings:\n",
       "[1] Standard Errors assume that the covariance matrix of the errors is correctly specified.\n",
       "\"\"\""
      ]
     },
     "execution_count": 85,
     "metadata": {},
     "output_type": "execute_result"
    }
   ],
   "source": [
    "result = sm.ols(formula=\"concreteness_impact ~ onset + set_mean + word_length + set_size\", data=df_final_no_th).fit()\n",
    "result.summary()"
   ]
  },
  {
   "cell_type": "code",
   "execution_count": 86,
   "metadata": {},
   "outputs": [
    {
     "name": "stderr",
     "output_type": "stream",
     "text": [
      "100%|██████████| 100/100 [00:03<00:00, 31.70it/s]\n"
     ]
    }
   ],
   "source": [
    "### Shuffling\n",
    "shuffled_rsquares = []\n",
    "true_rsquare = result.rsquared\n",
    "\n",
    "NUM_SHUFFLES = 100\n",
    "\n",
    "for shuffle in tqdm(range(NUM_SHUFFLES)):\n",
    "    new_df = df_final_no_th.copy()\n",
    "    new_df['shuffled_onset'] = np.random.permutation(new_df['onset'])\n",
    "    new_result = sm.ols(formula=\"concreteness_impact ~ shuffled_onset + set_mean + word_length\", data=new_df).fit()\n",
    "    shuffled_rsquares.append(new_result.rsquared)"
   ]
  },
  {
   "cell_type": "code",
   "execution_count": 87,
   "metadata": {},
   "outputs": [
    {
     "name": "stdout",
     "output_type": "stream",
     "text": [
      "0.011908908757308576\n",
      "0.002443628254466989\n"
     ]
    }
   ],
   "source": [
    "shuffled_rsquares_np = np.array(shuffled_rsquares)\n",
    "print(np.mean(shuffled_rsquares_np))\n",
    "print(np.std(shuffled_rsquares_np))"
   ]
  },
  {
   "cell_type": "code",
   "execution_count": 88,
   "metadata": {},
   "outputs": [
    {
     "data": {
      "text/plain": [
       "Text(0.5, 1.0, 'Supplementary analysis 2b: real R^2 vs. random shuffles')"
      ]
     },
     "execution_count": 88,
     "metadata": {},
     "output_type": "execute_result"
    },
    {
     "data": {
      "image/png": "[encoded data removed]",
      "text/plain": [
       "<Figure size 432x288 with 1 Axes>"
      ]
     },
     "metadata": {
      "image/png": {
       "height": 277,
       "width": 390
      },
      "needs_background": "light"
     },
     "output_type": "display_data"
    }
   ],
   "source": [
    "plt.hist(shuffled_rsquares)\n",
    "plt.axvline(x=true_rsquare, linestyle=\"dotted\")\n",
    "plt.xlabel(\"Distribution of R^2 values\")\n",
    "plt.title(\"Supplementary analysis 2b: real R^2 vs. random shuffles\")"
   ]
  },
  {
   "cell_type": "code",
   "execution_count": null,
   "metadata": {},
   "outputs": [],
   "source": []
  }
 ],
 "metadata": {
  "kernelspec": {
   "display_name": "Python 3",
   "language": "python",
   "name": "python3"
  },
  "language_info": {
   "codemirror_mode": {
    "name": "ipython",
    "version": 3
   },
   "file_extension": ".py",
   "mimetype": "text/x-python",
   "name": "python",
   "nbconvert_exporter": "python",
   "pygments_lexer": "ipython3",
   "version": "3.7.1"
  }
 },
 "nbformat": 4,
 "nbformat_minor": 2
}
